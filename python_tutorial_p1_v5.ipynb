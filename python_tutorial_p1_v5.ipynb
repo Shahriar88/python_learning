{
  "cells": [
    {
      "cell_type": "markdown",
      "metadata": {
        "id": "view-in-github",
        "colab_type": "text"
      },
      "source": [
        "<a href=\"https://colab.research.google.com/github/Shahriar88/python_learning/blob/main/python_tutorial_p1_v5.ipynb\" target=\"_parent\"><img src=\"https://colab.research.google.com/assets/colab-badge.svg\" alt=\"Open In Colab\"/></a>"
      ]
    },
    {
      "cell_type": "raw",
      "id": "b3a29485-9a93-4269-9a82-d389aea485a9",
      "metadata": {
        "id": "b3a29485-9a93-4269-9a82-d389aea485a9"
      },
      "source": [
        "https://www.youtube.com/watch?v=rfscVS0vtbw&list=PL9jZRDZXEdTEuaFtn07Hfza8pbdlYW-hG&index=29&ab_channel=freeCodeCamp.org\n",
        "https://docs.python.org/3/py-modindex.html"
      ]
    },
    {
      "cell_type": "markdown",
      "id": "62106b03-89f8-4f81-a5d5-184caa5567b0",
      "metadata": {
        "id": "62106b03-89f8-4f81-a5d5-184caa5567b0"
      },
      "source": [
        "# 📘 Python Tutorial – Part 1\n",
        "\n",
        "## ✅ Topics Covered\n",
        "- **Basic Python syntax and usage**\n",
        "- **Using NumPy for numerical operations**\n",
        "- **Array creation and manipulation**\n",
        "- **Random number generation**\n",
        "- **Writing custom functions**\n",
        "- **Function decorators (for execution time measurement)**\n",
        "- **Thread-based parallelism with `ThreadPoolExecutor`**\n",
        "- **Splitting workloads into chunks for parallel computation**\n",
        "- **Vectorization vs threading performance comparison**\n",
        "- **Acceleration with Numba JIT**:\n",
        "  - `@njit` → compile Python to native machine code for speed\n",
        "  - `prange` → parallelize loops across multiple CPU cores\n",
        "- **Saving variables efficiently** (`pickle`, `joblib`, `np.save`)\n",
        "\n",
        "## 🛠️ Implemented Functions\n",
        "- **`make_data()`** → Create random dataset with `[x, y, m, b, eqn]`\n",
        "- **`compute_eqn_block()`** → Compute equations on blocks of rows\n",
        "- **`fill_eqn_threaded()`** → Parallel update of equation column\n",
        "- **`fill_eqn_numba()`** → Numba-accelerated, parallelized computation\n",
        "- **`timeit_decorator()`** → Measure execution time of functions\n",
        "\n",
        "## ⚡ Key Concepts Practiced\n",
        "- **Difference between threads and cores in Python execution**\n",
        "- **When threading can help** (CPU-bound vs IO-bound workloads)\n",
        "- **Numba JIT compilation** to speed up heavy numerical loops\n",
        "- **Using `prange` to exploit multiple cores automatically**\n",
        "- **Verifying parallel computation correctness**\n",
        "- **Profiling performance of threaded vs vectorized vs JIT-compiled code**\n",
        "- **Efficient ways to persist Python variables**\n",
        "\n",
        "## 📂 Files\n",
        "- **`python_tutorial_P1_V1.ipynb`** → Jupyter Notebook export  \n",
        "- **`python_tutorial_P1_V1.html`** → HTML export of tutorial session\n"
      ]
    },
    {
      "cell_type": "markdown",
      "id": "b7650dd8-f26f-4dc6-953f-8774c10bfb46",
      "metadata": {
        "id": "b7650dd8-f26f-4dc6-953f-8774c10bfb46"
      },
      "source": [
        "### print(f'abc {var}')"
      ]
    },
    {
      "cell_type": "code",
      "execution_count": null,
      "id": "8ac14469-160c-49f3-b88d-3be6226584a2",
      "metadata": {
        "id": "8ac14469-160c-49f3-b88d-3be6226584a2",
        "outputId": "fb5dbcfe-1ecf-455f-a85c-9b1d36f0af5f",
        "colab": {
          "base_uri": "https://localhost:8080/"
        }
      },
      "outputs": [
        {
          "output_type": "stream",
          "name": "stdout",
          "text": [
            "Here is a new line \n",
            "2nd line\n",
            "\n",
            "The addition is 7 -> non-standard\n",
            "\n",
            "The addition is 7 -> standard way\n"
          ]
        }
      ],
      "source": [
        "a=2\n",
        "b=5\n",
        "print('Here is a new line \\n2nd line')\n",
        "print('\\nThe addition is',a+b, '-> non-standard')\n",
        "print(f'\\nThe addition is {a+b} -> standard way')"
      ]
    },
    {
      "cell_type": "code",
      "execution_count": null,
      "id": "1aa2ea28-002c-4cd3-966c-e6a91ffad3de",
      "metadata": {
        "id": "1aa2ea28-002c-4cd3-966c-e6a91ffad3de",
        "outputId": "971feb46-d072-467d-fb75-9f9c9399b19e",
        "colab": {
          "base_uri": "https://localhost:8080/"
        }
      },
      "outputs": [
        {
          "output_type": "stream",
          "name": "stdout",
          "text": [
            "His name is Mamun\n",
            "quotation : \"\n",
            "Index of m: 6\n",
            "Index of m: 12\n",
            "His name is Shah\n",
            "0\n",
            "1\n"
          ]
        }
      ],
      "source": [
        "name = 'Mamun'\n",
        "friend = 'His name is '+ name\n",
        "print(friend)\n",
        "print('quotation : \\\"')\n",
        "\n",
        "index = friend.index('m')\n",
        "print(f'Index of m: {index}')\n",
        "\n",
        "index = friend.index('Mamun')\n",
        "print(f'Index of m: {index}')\n",
        "\n",
        "new_friend = friend.replace('Mamun', 'Shah')\n",
        "print(new_friend)\n",
        "print(4%2)\n",
        "print(11%2)"
      ]
    },
    {
      "cell_type": "code",
      "execution_count": null,
      "id": "93dbe5de-f07a-426d-a738-db56c44660a9",
      "metadata": {
        "id": "93dbe5de-f07a-426d-a738-db56c44660a9",
        "outputId": "145c6d87-ce71-425f-8c2b-4a22270b9546",
        "colab": {
          "base_uri": "https://localhost:8080/"
        }
      },
      "outputs": [
        {
          "output_type": "stream",
          "name": "stdout",
          "text": [
            "['__add__', '__class__', '__contains__', '__delattr__', '__dir__', '__doc__', '__eq__', '__format__', '__ge__', '__getattribute__', '__getitem__', '__getnewargs__', '__getstate__', '__gt__', '__hash__', '__init__', '__init_subclass__', '__iter__', '__le__', '__len__', '__lt__', '__mod__', '__mul__', '__ne__', '__new__', '__reduce__', '__reduce_ex__', '__repr__', '__rmod__', '__rmul__', '__setattr__', '__sizeof__', '__str__', '__subclasshook__', 'capitalize', 'casefold', 'center', 'count', 'encode', 'endswith', 'expandtabs', 'find', 'format', 'format_map', 'index', 'isalnum', 'isalpha', 'isascii', 'isdecimal', 'isdigit', 'isidentifier', 'islower', 'isnumeric', 'isprintable', 'isspace', 'istitle', 'isupper', 'join', 'ljust', 'lower', 'lstrip', 'maketrans', 'partition', 'removeprefix', 'removesuffix', 'replace', 'rfind', 'rindex', 'rjust', 'rpartition', 'rsplit', 'rstrip', 'split', 'splitlines', 'startswith', 'strip', 'swapcase', 'title', 'translate', 'upper', 'zfill']\n"
          ]
        }
      ],
      "source": [
        "print(dir(friend))"
      ]
    },
    {
      "cell_type": "code",
      "execution_count": null,
      "id": "7fcdaa00-8974-45de-8e25-6ad41062a4dd",
      "metadata": {
        "id": "7fcdaa00-8974-45de-8e25-6ad41062a4dd",
        "outputId": "b002e0e2-01cf-49e5-dea9-9db466f340e8",
        "colab": {
          "base_uri": "https://localhost:8080/"
        }
      },
      "outputs": [
        {
          "output_type": "stream",
          "name": "stdout",
          "text": [
            "ceil 3.7: 4\n",
            "floor 3.7: 3\n",
            "sqrt 0.36: 0.6\n",
            "\n",
            "16\n",
            "16\n",
            "1.3195079107728942\n",
            "1.3195079107728942\n",
            "3\n",
            "3\n",
            "3\n"
          ]
        }
      ],
      "source": [
        "from math import ceil, floor, sqrt\n",
        "print(f'ceil 3.7: {ceil(3.7)}')\n",
        "print(f'floor 3.7: {floor(3.7)}')\n",
        "print(f'sqrt 0.36: {sqrt(0.36)}\\n')\n",
        "\n",
        "print(2**4)\n",
        "print(pow(2,4))\n",
        "\n",
        "print(2**0.4)\n",
        "print(pow(2,0.4))\n",
        "\n",
        "\n",
        "print(int(3.4))\n",
        "print(int(3.5))\n",
        "print(int(3.99))"
      ]
    },
    {
      "cell_type": "code",
      "execution_count": null,
      "id": "ed95f7f1-cd49-4b94-9c1a-c4c69e6b3613",
      "metadata": {
        "id": "ed95f7f1-cd49-4b94-9c1a-c4c69e6b3613",
        "outputId": "9b4a909c-696b-45b1-ead9-983edb9718f8",
        "colab": {
          "base_uri": "https://localhost:8080/"
        }
      },
      "outputs": [
        {
          "output_type": "stream",
          "name": "stdout",
          "text": [
            "Input Number5\n",
            "Your number 5\n",
            "Input Name8\n",
            "Your Name 8\n"
          ]
        }
      ],
      "source": [
        "number = input('Input Number')\n",
        "print(f'Your number {number}')\n",
        "\n",
        "name = input('Input Name')\n",
        "print(f'Your Name {name}')"
      ]
    },
    {
      "cell_type": "markdown",
      "id": "36168f5f-6352-4610-91e2-8e15c2350dfc",
      "metadata": {
        "id": "36168f5f-6352-4610-91e2-8e15c2350dfc"
      },
      "source": [
        "### List []"
      ]
    },
    {
      "cell_type": "code",
      "execution_count": null,
      "id": "796213b4-544a-47b9-849e-dceabb143070",
      "metadata": {
        "id": "796213b4-544a-47b9-849e-dceabb143070",
        "outputId": "0aad7826-0f62-457e-c5b0-9f5a676c053f",
        "colab": {
          "base_uri": "https://localhost:8080/"
        }
      },
      "outputs": [
        {
          "output_type": "stream",
          "name": "stdout",
          "text": [
            "Second Element: 1\n",
            "\n",
            "\n",
            "data: [0, 1, 2, 3, 4, 5]\n",
            "\n",
            "\n",
            "Last Element: 5\n",
            "\n",
            "\n",
            "Data from index3(included) onward: [3, 4, 5]\n",
            "Data up to index3 (excluded): [0, 1, 2]\n",
            "Data index1 to index4(excluded) : [1, 2, 3]\n",
            "\n",
            "list1: ['a', 'b', 'c', 'x', 'y', 'z']\n",
            "\n"
          ]
        }
      ],
      "source": [
        "data = [0,1,2,3,4]\n",
        "print(f'Second Element: {data[1]}')\n",
        "print('\\n')\n",
        "\n",
        "data.append(5)\n",
        "print(f'data: {data}')\n",
        "\n",
        "print('\\n')\n",
        "print(f'Last Element: {data[-1]}')\n",
        "\n",
        "\n",
        "print('\\n')\n",
        "print(f'Data from index3(included) onward: {data[3:]}')\n",
        "print(f'Data up to index3 (excluded): {data[:3]}')\n",
        "print(f'Data index1 to index4(excluded) : {data[1:4]}')\n",
        "\n",
        "\n",
        "list1 = ['a','b','c']\n",
        "list2 = ['x','y','z']\n",
        "list1.extend(list2)\n",
        "print(f'\\nlist1: {list1}\\n')\n"
      ]
    },
    {
      "cell_type": "code",
      "execution_count": null,
      "id": "5e511dc5-88b9-418e-b779-5dd5951ceaec",
      "metadata": {
        "id": "5e511dc5-88b9-418e-b779-5dd5951ceaec",
        "outputId": "df58606f-7251-4c85-947a-27d2fe9e095b",
        "colab": {
          "base_uri": "https://localhost:8080/"
        }
      },
      "outputs": [
        {
          "output_type": "execute_result",
          "data": {
            "text/plain": [
              "5"
            ]
          },
          "metadata": {},
          "execution_count": 64
        }
      ],
      "source": [
        "numbers = [\n",
        "    [1,2,3], # row 0\n",
        "    [4,5,6], #row 1\n",
        "    [7,8,9]\n",
        "]\n",
        "\n",
        "numbers[1][1] # numbers row, col"
      ]
    },
    {
      "cell_type": "code",
      "execution_count": null,
      "id": "8ff57a5e-9ce4-425d-be20-c4f594c58e84",
      "metadata": {
        "id": "8ff57a5e-9ce4-425d-be20-c4f594c58e84",
        "outputId": "9f5b217a-8b5c-4081-cf50-02bd1ca75f0b",
        "colab": {
          "base_uri": "https://localhost:8080/"
        }
      },
      "outputs": [
        {
          "output_type": "stream",
          "name": "stdout",
          "text": [
            "['__add__', '__class__', '__class_getitem__', '__contains__', '__delattr__', '__delitem__', '__dir__', '__doc__', '__eq__', '__format__', '__ge__', '__getattribute__', '__getitem__', '__getstate__', '__gt__', '__hash__', '__iadd__', '__imul__', '__init__', '__init_subclass__', '__iter__', '__le__', '__len__', '__lt__', '__mul__', '__ne__', '__new__', '__reduce__', '__reduce_ex__', '__repr__', '__reversed__', '__rmul__', '__setattr__', '__setitem__', '__sizeof__', '__str__', '__subclasshook__', 'append', 'clear', 'copy', 'count', 'extend', 'index', 'insert', 'pop', 'remove', 'reverse', 'sort']\n"
          ]
        }
      ],
      "source": [
        "print(dir(list1))"
      ]
    },
    {
      "cell_type": "markdown",
      "id": "6a8f3d16-ce0c-4dcf-94e0-e6dc84095bbb",
      "metadata": {
        "id": "6a8f3d16-ce0c-4dcf-94e0-e6dc84095bbb"
      },
      "source": [
        "### Tuple () : (fixed, doesn't support item assignment, you can't change values)"
      ]
    },
    {
      "cell_type": "code",
      "execution_count": null,
      "id": "1422a591-a925-4051-8242-e843ffd690ac",
      "metadata": {
        "id": "1422a591-a925-4051-8242-e843ffd690ac",
        "outputId": "9c910b70-201c-4e52-fd42-3c0e1be91445",
        "colab": {
          "base_uri": "https://localhost:8080/"
        }
      },
      "outputs": [
        {
          "output_type": "stream",
          "name": "stdout",
          "text": [
            "(3, 4)\n"
          ]
        }
      ],
      "source": [
        "d = (3,4)\n",
        "print(d)\n"
      ]
    },
    {
      "cell_type": "markdown",
      "id": "8a22b4bb-6236-41cb-ab52-7c4e8c529e4f",
      "metadata": {
        "id": "8a22b4bb-6236-41cb-ab52-7c4e8c529e4f"
      },
      "source": [
        "### Dictionary : {key : val}"
      ]
    },
    {
      "cell_type": "code",
      "execution_count": null,
      "id": "e8cc707d-d687-4be3-9fd2-3302ec53c062",
      "metadata": {
        "id": "e8cc707d-d687-4be3-9fd2-3302ec53c062",
        "outputId": "f41b4b3b-59ac-4165-bcab-b1bffd9b5315",
        "colab": {
          "base_uri": "https://localhost:8080/"
        }
      },
      "outputs": [
        {
          "output_type": "stream",
          "name": "stdout",
          "text": [
            "{'fish': 30, 'meat': 50}\n"
          ]
        },
        {
          "output_type": "execute_result",
          "data": {
            "text/plain": [
              "['clear',\n",
              " 'copy',\n",
              " 'fromkeys',\n",
              " 'get',\n",
              " 'items',\n",
              " 'keys',\n",
              " 'pop',\n",
              " 'popitem',\n",
              " 'setdefault',\n",
              " 'update',\n",
              " 'values']"
            ]
          },
          "metadata": {},
          "execution_count": 67
        }
      ],
      "source": [
        "price = {'fish' : 30, 'meat' : 50}\n",
        "print(price)\n",
        "dir(price)[-11:] # Last 11 valid attributes and methods"
      ]
    },
    {
      "cell_type": "code",
      "execution_count": null,
      "id": "45c7b274-5483-440e-921a-076b68c4242b",
      "metadata": {
        "id": "45c7b274-5483-440e-921a-076b68c4242b",
        "outputId": "c75dad3c-f848-4c3f-ada2-d84c2910864c",
        "colab": {
          "base_uri": "https://localhost:8080/"
        }
      },
      "outputs": [
        {
          "output_type": "stream",
          "name": "stdout",
          "text": [
            "keys: dict_keys(['fish', 'meat'])\n",
            "values: dict_values([30, 50])\n",
            "items: dict_items([('fish', 30), ('meat', 50)])\n"
          ]
        }
      ],
      "source": [
        "print(f'keys: {price.keys()}')\n",
        "print(f'values: {price.values()}')\n",
        "print(f'items: {price.items()}')"
      ]
    },
    {
      "cell_type": "code",
      "execution_count": null,
      "id": "0e457840-ac10-4dc3-b010-0a7e7af270c9",
      "metadata": {
        "id": "0e457840-ac10-4dc3-b010-0a7e7af270c9",
        "outputId": "64dda1ee-000c-4113-a02b-18772f43adbb",
        "colab": {
          "base_uri": "https://localhost:8080/"
        }
      },
      "outputs": [
        {
          "output_type": "stream",
          "name": "stdout",
          "text": [
            "fish: 30\n",
            "meat: 50\n",
            "laptop: default\n",
            "tv: None\n"
          ]
        }
      ],
      "source": [
        "fish = price['fish']\n",
        "print(f'fish: {fish}')\n",
        "\n",
        "meat = price.get('meat', 'default')\n",
        "print(f'meat: {meat}')\n",
        "\n",
        "laptop = price.get('laptop', 'default')\n",
        "print(f'laptop: {laptop}')\n",
        "\n",
        "tv = price.get('tv')\n",
        "print(f'tv: {tv}')\n"
      ]
    },
    {
      "cell_type": "markdown",
      "id": "0c337d9d-4464-4a7d-bfaf-aabd8be15f70",
      "metadata": {
        "id": "0c337d9d-4464-4a7d-bfaf-aabd8be15f70"
      },
      "source": [
        "### try: do it,\n",
        "### except Exception as e:- dont and print"
      ]
    },
    {
      "cell_type": "code",
      "execution_count": null,
      "id": "bf9eeffc-71bb-47e1-b982-28cc53cd243b",
      "metadata": {
        "id": "bf9eeffc-71bb-47e1-b982-28cc53cd243b",
        "outputId": "b9094b01-c9cb-420f-adb2-a740ba4d9c19",
        "colab": {
          "base_uri": "https://localhost:8080/"
        }
      },
      "outputs": [
        {
          "output_type": "stream",
          "name": "stdout",
          "text": [
            "4\n",
            "name 'temp0' is not defined\n"
          ]
        }
      ],
      "source": [
        "try:\n",
        "    f = 4\n",
        "    print(f)\n",
        "except:\n",
        "    print('error')\n",
        "\n",
        "\n",
        "try:\n",
        "    temp0 = temp0+1\n",
        "    print(temp0)\n",
        "except Exception as e:\n",
        "    print(e)"
      ]
    },
    {
      "cell_type": "code",
      "execution_count": null,
      "id": "e4b3c1c1-3da2-404b-aefa-8e099ea9c5a8",
      "metadata": {
        "id": "e4b3c1c1-3da2-404b-aefa-8e099ea9c5a8",
        "outputId": "f6835e4d-6349-40d8-c34c-7322f60deedd",
        "colab": {
          "base_uri": "https://localhost:8080/"
        }
      },
      "outputs": [
        {
          "output_type": "stream",
          "name": "stdout",
          "text": [
            "Enter a number: 8\n",
            "Result: 1.25\n",
            "Division successful.\n",
            "Execution complete.\n"
          ]
        }
      ],
      "source": [
        "try:\n",
        "    num = int(input(\"Enter a number: \"))\n",
        "    result = 10 / num\n",
        "    print(f\"Result: {result}\")\n",
        "except ValueError:\n",
        "    print(\"Invalid input: Please enter a whole number.\")\n",
        "except ZeroDivisionError:\n",
        "    print(\"Error: Cannot divide by zero.\")\n",
        "except Exception as e:\n",
        "    print(f\"An unexpected error occurred: {e}\")\n",
        "else:\n",
        "    print(\"Division successful.\")\n",
        "finally:\n",
        "    print(\"Execution complete.\")"
      ]
    },
    {
      "cell_type": "markdown",
      "id": "ece77972-7326-4eff-b30b-1af48084cbf6",
      "metadata": {
        "id": "ece77972-7326-4eff-b30b-1af48084cbf6"
      },
      "source": [
        "### Open Close File"
      ]
    },
    {
      "cell_type": "code",
      "execution_count": null,
      "id": "55b05247-8e8a-4216-be4e-49819aaf0627",
      "metadata": {
        "id": "55b05247-8e8a-4216-be4e-49819aaf0627"
      },
      "outputs": [],
      "source": [
        "new_file = open('new_file.txt', 'a')\n",
        "new_file.write ('This is python writing - Line 0')\n",
        "new_file.write ('\\nThis is python writing - Line 1')\n",
        "new_file.write ('\\nThis is python writing - Line 2')\n",
        "new_file.write ('\\nThis is python writing - Line 3')\n",
        "new_file.write ('\\nThis is python writing - Line 4')\n",
        "new_file.write ('\\nThis is python writing - Line 4')\n",
        "new_file.close()"
      ]
    },
    {
      "cell_type": "code",
      "execution_count": null,
      "id": "fa52e37c-357b-46e8-8c50-1c1be76d4aee",
      "metadata": {
        "id": "fa52e37c-357b-46e8-8c50-1c1be76d4aee",
        "outputId": "464e08b7-7d2d-495f-91f1-bbe75ebb97ba",
        "colab": {
          "base_uri": "https://localhost:8080/"
        }
      },
      "outputs": [
        {
          "output_type": "stream",
          "name": "stdout",
          "text": [
            "['buffer', 'close', 'closed', 'detach', 'encoding', 'errors', 'fileno', 'flush', 'isatty', 'line_buffering', 'mode', 'name', 'newlines', 'read', 'readable', 'readline', 'readlines', 'reconfigure', 'seek', 'seekable', 'tell', 'truncate', 'writable', 'write', 'write_through', 'writelines']\n"
          ]
        }
      ],
      "source": [
        "new_file = open('new_file.txt', 'r')\n",
        "\n",
        "options = dir(new_file)\n",
        "print(options[-26:])\n",
        "new_file.close()\n"
      ]
    },
    {
      "cell_type": "code",
      "execution_count": null,
      "id": "56a47e24-bda6-4976-ae9f-9ccf17db1836",
      "metadata": {
        "id": "56a47e24-bda6-4976-ae9f-9ccf17db1836",
        "outputId": "ab3c919e-7667-4345-afae-a195883e91da",
        "colab": {
          "base_uri": "https://localhost:8080/"
        }
      },
      "outputs": [
        {
          "output_type": "stream",
          "name": "stdout",
          "text": [
            "This is python writing - Line 0\n",
            "This is python writing - Line 1\n",
            "This is python writing - Line 2\n",
            "This is python writing - Line 3\n",
            "This is python writing - Line 4\n",
            "This is python writing - Line 4This is python writing - Line 0\n",
            "This is python writing - Line 1\n",
            "This is python writing - Line 2\n",
            "This is python writing - Line 3\n",
            "This is python writing - Line 4\n",
            "This is python writing - Line 4\n"
          ]
        }
      ],
      "source": [
        "# Read entire file as a single string\n",
        "with open('new_file.txt', 'r') as f:\n",
        "    data = f.read()\n",
        "\n",
        "print(data)"
      ]
    },
    {
      "cell_type": "code",
      "execution_count": null,
      "id": "d67ef230-1fce-4215-8ef5-4b641eb66dd6",
      "metadata": {
        "id": "d67ef230-1fce-4215-8ef5-4b641eb66dd6",
        "outputId": "ea3602a5-fed9-413a-a9ee-91482dbbfe5b",
        "colab": {
          "base_uri": "https://localhost:8080/"
        }
      },
      "outputs": [
        {
          "output_type": "stream",
          "name": "stdout",
          "text": [
            "['This is python writing - Line 0\\n', 'This is python writing - Line 1\\n', 'This is python writing - Line 2\\n', 'This is python writing - Line 3\\n', 'This is python writing - Line 4\\n', 'This is python writing - Line 4This is python writing - Line 0\\n', 'This is python writing - Line 1\\n', 'This is python writing - Line 2\\n', 'This is python writing - Line 3\\n', 'This is python writing - Line 4\\n', 'This is python writing - Line 4']\n"
          ]
        }
      ],
      "source": [
        "# Read file into a list of lines\n",
        "with open('new_file.txt', 'r') as f:\n",
        "    data = f.readlines()\n",
        "print(data)   # [\"first line\\n\", \"second line\\n\", ...]"
      ]
    },
    {
      "cell_type": "markdown",
      "id": "69d5db29-9eb7-4d26-b010-af99ef76a038",
      "metadata": {
        "id": "69d5db29-9eb7-4d26-b010-af99ef76a038"
      },
      "source": [
        "### numpy"
      ]
    },
    {
      "cell_type": "code",
      "execution_count": null,
      "id": "ed29aeac-e401-4418-8a3b-48765b20eef5",
      "metadata": {
        "id": "ed29aeac-e401-4418-8a3b-48765b20eef5",
        "outputId": "a81d16ba-2f4c-4525-866e-993f5e2a14d5",
        "colab": {
          "base_uri": "https://localhost:8080/"
        }
      },
      "outputs": [
        {
          "output_type": "stream",
          "name": "stdout",
          "text": [
            "1. Creating Arrays\n",
            "a: [1 2 3]\n",
            "b:\n",
            " [[1 2]\n",
            " [3 4]]\n",
            "zeros:\n",
            " [[0. 0. 0.]\n",
            " [0. 0. 0.]]\n",
            "ones:\n",
            " [[1. 1. 1.]\n",
            " [1. 1. 1.]\n",
            " [1. 1. 1.]]\n",
            "identity:\n",
            " [[1. 0. 0. 0.]\n",
            " [0. 1. 0. 0.]\n",
            " [0. 0. 1. 0.]\n",
            " [0. 0. 0. 1.]]\n",
            "arange: [0 2 4 6 8]\n",
            "linspace: [0.   0.25 0.5  0.75 1.  ]\n"
          ]
        }
      ],
      "source": [
        "# NumPy Tutorial 🚀\n",
        "import numpy as np\n",
        "\n",
        "# -------------------------------\n",
        "# 1. Creating Arrays\n",
        "# -------------------------------\n",
        "print(\"1. Creating Arrays\")\n",
        "a = np.array([1, 2, 3])                # from Python list\n",
        "b = np.array([[1, 2], [3, 4]])         # 2D array\n",
        "c = np.zeros((2, 3))                    # 2x3 of zeros\n",
        "d = np.ones((3, 3))                     # 3x3 of ones\n",
        "e = np.eye(4)                           # 4x4 identity matrix\n",
        "f = np.arange(0, 10, 2)                 # range: 0 to 10 step 2\n",
        "g = np.linspace(0, 1, 5)                # 5 points evenly spaced between 0 and 1\n",
        "\n",
        "print(\"a:\", a)\n",
        "print(\"b:\\n\", b)\n",
        "print(\"zeros:\\n\", c)\n",
        "print(\"ones:\\n\", d)\n",
        "print(\"identity:\\n\", e)\n",
        "print(\"arange:\", f)\n",
        "print(\"linspace:\", g)"
      ]
    },
    {
      "cell_type": "code",
      "execution_count": null,
      "id": "fa252b30-6edd-4d46-b6b6-71cbb69023b1",
      "metadata": {
        "id": "fa252b30-6edd-4d46-b6b6-71cbb69023b1",
        "outputId": "6439dec0-247f-4d9e-e635-9271c9e6e0b4",
        "colab": {
          "base_uri": "https://localhost:8080/"
        }
      },
      "outputs": [
        {
          "output_type": "stream",
          "name": "stdout",
          "text": [
            "\n",
            "2. Array Properties\n",
            "Shape of b: (2, 2)\n",
            "Data type of b: int64\n",
            "Number of elements in b: 4\n",
            "\n",
            "3. Indexing and Slicing\n",
            "b[0, 1] = 2\n",
            "Row 0 of b: [1 2]\n",
            "Column 1 of b: [2 4]\n"
          ]
        }
      ],
      "source": [
        "# -------------------------------\n",
        "# 2. Array Properties\n",
        "# -------------------------------\n",
        "print(\"\\n2. Array Properties\")\n",
        "print(\"Shape of b:\", b.shape)\n",
        "print(\"Data type of b:\", b.dtype)\n",
        "print(\"Number of elements in b:\", b.size)\n",
        "\n",
        "# -------------------------------\n",
        "# 3. Indexing and Slicing\n",
        "# -------------------------------\n",
        "print(\"\\n3. Indexing and Slicing\")\n",
        "print(\"b[0, 1] =\", b[0, 1])            # element at row 0, col 1\n",
        "print(\"Row 0 of b:\", b[0, :])\n",
        "print(\"Column 1 of b:\", b[:, 1])"
      ]
    },
    {
      "cell_type": "code",
      "execution_count": null,
      "id": "a678b033-f3a7-4b69-a95a-f9b78a194572",
      "metadata": {
        "id": "a678b033-f3a7-4b69-a95a-f9b78a194572",
        "outputId": "66ea3bc2-828f-4cf2-c055-392a37c3d2f8",
        "colab": {
          "base_uri": "https://localhost:8080/"
        }
      },
      "outputs": [
        {
          "output_type": "stream",
          "name": "stdout",
          "text": [
            "\n",
            "4. Math Operations\n",
            "x + y = [11 22 33]\n",
            "x - y = [ -9 -18 -27]\n",
            "x * y = [10 40 90]\n",
            "x / y = [0.1 0.1 0.1]\n",
            "x ** 2 = [1 4 9]\n",
            "np.sqrt(x): [1.         1.41421356 1.73205081]\n",
            "\n",
            "5. Matrix Operations\n",
            "m1 + m2:\n",
            " [[ 6  8]\n",
            " [10 12]]\n",
            "m1 dot m2:\n",
            " [[19 22]\n",
            " [43 50]]\n",
            "Transpose of m1:\n",
            " [[1 3]\n",
            " [2 4]]\n",
            "Inverse of m1:\n",
            " [[-2.   1. ]\n",
            " [ 1.5 -0.5]]\n"
          ]
        }
      ],
      "source": [
        "# -------------------------------\n",
        "# 4. Math Operations\n",
        "# -------------------------------\n",
        "print(\"\\n4. Math Operations\")\n",
        "x = np.array([1, 2, 3])\n",
        "y = np.array([10, 20, 30])\n",
        "print(\"x + y =\", x + y)\n",
        "print(\"x - y =\", x - y)\n",
        "print(\"x * y =\", x * y)                # elementwise multiply\n",
        "print(\"x / y =\", x / y)\n",
        "print(\"x ** 2 =\", x ** 2)\n",
        "print(\"np.sqrt(x):\", np.sqrt(x))\n",
        "\n",
        "# -------------------------------\n",
        "# 5. Matrix Operations\n",
        "# -------------------------------\n",
        "print(\"\\n5. Matrix Operations\")\n",
        "m1 = np.array([[1, 2], [3, 4]])\n",
        "m2 = np.array([[5, 6], [7, 8]])\n",
        "print(\"m1 + m2:\\n\", m1 + m2)\n",
        "print(\"m1 dot m2:\\n\", np.dot(m1, m2))  # matrix multiplication\n",
        "print(\"Transpose of m1:\\n\", m1.T)\n",
        "print(\"Inverse of m1:\\n\", np.linalg.inv(m1))"
      ]
    },
    {
      "cell_type": "code",
      "execution_count": null,
      "id": "05e429ef-ff8a-4217-b434-58b40c143e36",
      "metadata": {
        "id": "05e429ef-ff8a-4217-b434-58b40c143e36",
        "outputId": "04021d81-4758-451d-a4d1-9ca1cc4a0493",
        "colab": {
          "base_uri": "https://localhost:8080/"
        }
      },
      "outputs": [
        {
          "output_type": "stream",
          "name": "stdout",
          "text": [
            "\n",
            "6. Statistics\n",
            "Mean: 3.5\n",
            "Sum over columns: [5 7 9]\n",
            "Max over rows: [3 6]\n",
            "\n",
            "7. Random Numbers\n",
            "Random float [0,1): 0.35515081328196163\n",
            "Random 2x2:\n",
            " [[0.70738333 0.41840715]\n",
            " [0.87007949 0.21539596]]\n",
            "Random integers 0-9: [[3 8 6]\n",
            " [5 0 2]\n",
            " [4 8 8]]\n"
          ]
        }
      ],
      "source": [
        "# -------------------------------\n",
        "# 6. Statistics\n",
        "# -------------------------------\n",
        "print(\"\\n6. Statistics\")\n",
        "stats = np.array([[1, 2, 3], [4, 5, 6]])\n",
        "print(\"Mean:\", np.mean(stats))\n",
        "print(\"Sum over columns:\", np.sum(stats, axis=0))\n",
        "print(\"Max over rows:\", np.max(stats, axis=1))\n",
        "\n",
        "# -------------------------------\n",
        "# 7. Random Numbers\n",
        "# -------------------------------\n",
        "print(\"\\n7. Random Numbers\")\n",
        "print(\"Random float [0,1):\", np.random.rand())\n",
        "print(\"Random 2x2:\\n\", np.random.rand(2, 2))\n",
        "print(\"Random integers 0-9:\", np.random.randint(0, 10, (3, 3)))\n",
        "\n"
      ]
    },
    {
      "cell_type": "code",
      "execution_count": null,
      "id": "1c89e2af-ba94-473e-8743-b607c4011477",
      "metadata": {
        "id": "1c89e2af-ba94-473e-8743-b607c4011477",
        "outputId": "f0aaaacf-e576-46a1-cd41-a3b3a50549d2",
        "colab": {
          "base_uri": "https://localhost:8080/"
        }
      },
      "outputs": [
        {
          "output_type": "stream",
          "name": "stdout",
          "text": [
            "\n",
            "8. Reshaping and Flattening\n",
            "Original: [ 0  1  2  3  4  5  6  7  8  9 10 11]\n",
            "Reshaped 3x4:\n",
            " [[ 0  1  2  3]\n",
            " [ 4  5  6  7]\n",
            " [ 8  9 10 11]]\n",
            "Flattened: [ 0  1  2  3  4  5  6  7  8  9 10 11]\n",
            "\n",
            "9. Boolean Masking\n",
            "Mask: [False False  True  True  True]\n",
            "Values > 25: [30 40 50]\n",
            "\n",
            "10. Broadcasting\n",
            "mat:\n",
            " [[1. 1. 1.]\n",
            " [1. 1. 1.]\n",
            " [1. 1. 1.]]\n",
            "vec: [1 2 3]\n",
            "mat + vec:\n",
            " [[2. 3. 4.]\n",
            " [2. 3. 4.]\n",
            " [2. 3. 4.]]\n"
          ]
        }
      ],
      "source": [
        "# -------------------------------\n",
        "# 8. Reshaping and Flattening\n",
        "# -------------------------------\n",
        "print(\"\\n8. Reshaping and Flattening\")\n",
        "arr = np.arange(12)                     # 0..11\n",
        "print(\"Original:\", arr)\n",
        "reshaped = arr.reshape(3, 4)            # reshape to 3x4\n",
        "print(\"Reshaped 3x4:\\n\", reshaped)\n",
        "print(\"Flattened:\", reshaped.flatten())\n",
        "\n",
        "# -------------------------------\n",
        "# 9. Boolean Masking\n",
        "# -------------------------------\n",
        "print(\"\\n9. Boolean Masking\")\n",
        "data = np.array([10, 20, 30, 40, 50])\n",
        "mask = data > 25\n",
        "print(\"Mask:\", mask)\n",
        "print(\"Values > 25:\", data[mask])\n",
        "\n",
        "# -------------------------------\n",
        "# 10. Broadcasting\n",
        "# -------------------------------\n",
        "print(\"\\n10. Broadcasting\")\n",
        "mat = np.ones((3, 3))\n",
        "vec = np.array([1, 2, 3])\n",
        "print(\"mat:\\n\", mat)\n",
        "print(\"vec:\", vec)\n",
        "print(\"mat + vec:\\n\", mat + vec)        # vec added to each row\n"
      ]
    },
    {
      "cell_type": "markdown",
      "id": "235bbc68-b471-41fd-a88d-536cfcef2fd3",
      "metadata": {
        "id": "235bbc68-b471-41fd-a88d-536cfcef2fd3"
      },
      "source": [
        "### pandas"
      ]
    },
    {
      "cell_type": "code",
      "execution_count": null,
      "id": "9f336d73-6844-4d57-aad1-09b4212c766c",
      "metadata": {
        "id": "9f336d73-6844-4d57-aad1-09b4212c766c",
        "outputId": "e60949f0-99e5-4913-816e-78e1ea278373",
        "colab": {
          "base_uri": "https://localhost:8080/"
        }
      },
      "outputs": [
        {
          "output_type": "stream",
          "name": "stdout",
          "text": [
            "1. Creating Series\n",
            "a    10\n",
            "b    20\n",
            "c    30\n",
            "d    40\n",
            "dtype: int64\n",
            "Access element by label: 20\n",
            "Access element by index: 30\n",
            "\n",
            "2. Creating DataFrames\n",
            "      Name  Age     City\n",
            "0    Alice   25      NYC\n",
            "1      Bob   30       LA\n",
            "2  Charlie   35  Chicago\n",
            "3    David   40  Houston\n",
            "\n",
            "7. Basic Statistics\n",
            "Mean age: 32.5\n",
            "Summary:\n",
            "              Age\n",
            "count   4.000000\n",
            "mean   32.500000\n",
            "std     6.454972\n",
            "min    25.000000\n",
            "25%    28.750000\n",
            "50%    32.500000\n",
            "75%    36.250000\n",
            "max    40.000000\n",
            "\n",
            "8. Sorting\n",
            "Sort by Age:\n",
            "       Name  Age     City\n",
            "3    David   40  Houston\n",
            "2  Charlie   35  Chicago\n",
            "1      Bob   30       LA\n",
            "0    Alice   25      NYC\n",
            "\n",
            "9. GroupBy\n",
            "  Department  Salary  Experience\n",
            "0         IT   60000           2\n",
            "1         IT   65000           3\n",
            "2         HR   50000           5\n",
            "3         HR   52000           7\n",
            "4    Finance   70000          10\n",
            "Mean salary by department:\n",
            " Department\n",
            "Finance    70000.0\n",
            "HR         51000.0\n",
            "IT         62500.0\n",
            "Name: Salary, dtype: float64\n",
            "\n",
            "10. Merging / Joining\n",
            "      Name     Dept  Salary\n",
            "0    Alice       IT   60000\n",
            "1      Bob       HR   50000\n",
            "2  Charlie  Finance   70000\n",
            "\n",
            "11. Handling Missing Data\n",
            "Original:\n",
            "      A    B\n",
            "0  1.0  5.0\n",
            "1  2.0  NaN\n",
            "2  NaN  NaN\n",
            "3  4.0  8.0\n",
            "Drop rows with NaN:\n",
            "      A    B\n",
            "0  1.0  5.0\n",
            "3  4.0  8.0\n",
            "Fill NaN with 0:\n",
            "      A    B\n",
            "0  1.0  5.0\n",
            "1  2.0  0.0\n",
            "2  0.0  0.0\n",
            "3  4.0  8.0\n",
            "Fill NaN with column mean:\n",
            "           A    B\n",
            "0  1.000000  5.0\n",
            "1  2.000000  6.5\n",
            "2  2.333333  6.5\n",
            "3  4.000000  8.0\n",
            "\n",
            "12. Reading / Writing CSV\n",
            "Use df.to_csv(...) to write and pd.read_csv(...) to read\n"
          ]
        }
      ],
      "source": [
        "# Pandas Tutorial 📊\n",
        "# conda install -c conda-forge pandas\n",
        "\n",
        "import pandas as pd\n",
        "import numpy as np\n",
        "\n",
        "# -------------------------------\n",
        "# 1. Creating Series\n",
        "# -------------------------------\n",
        "print(\"1. Creating Series\")\n",
        "s = pd.Series([10, 20, 30, 40], index=[\"a\", \"b\", \"c\", \"d\"])\n",
        "print(s)\n",
        "print(\"Access element by label:\", s[\"b\"])\n",
        "print(\"Access element by index:\", s.iloc[2])\n",
        "\n",
        "# -------------------------------\n",
        "# 2. Creating DataFrames\n",
        "# -------------------------------\n",
        "print(\"\\n2. Creating DataFrames\")\n",
        "data = {\n",
        "    \"Name\": [\"Alice\", \"Bob\", \"Charlie\", \"David\"],\n",
        "    \"Age\": [25, 30, 35, 40],\n",
        "    \"City\": [\"NYC\", \"LA\", \"Chicago\", \"Houston\"]\n",
        "}\n",
        "df = pd.DataFrame(data)\n",
        "print(df)\n",
        "\n",
        "# -------------------------------\n",
        "# 7. Basic Statistics\n",
        "# -------------------------------\n",
        "print(\"\\n7. Basic Statistics\")\n",
        "print(\"Mean age:\", df[\"Age\"].mean())\n",
        "print(\"Summary:\\n\", df.describe())\n",
        "\n",
        "# -------------------------------\n",
        "# 8. Sorting\n",
        "# -------------------------------\n",
        "print(\"\\n8. Sorting\")\n",
        "print(\"Sort by Age:\\n\", df.sort_values(\"Age\", ascending=False))\n",
        "\n",
        "# -------------------------------\n",
        "# 9. GroupBy\n",
        "# -------------------------------\n",
        "print(\"\\n9. GroupBy\")\n",
        "df2 = pd.DataFrame({\n",
        "    \"Department\": [\"IT\", \"IT\", \"HR\", \"HR\", \"Finance\"],\n",
        "    \"Salary\": [60000, 65000, 50000, 52000, 70000],\n",
        "    \"Experience\": [2, 3, 5, 7, 10]\n",
        "})\n",
        "print(df2)\n",
        "print(\"Mean salary by department:\\n\", df2.groupby(\"Department\")[\"Salary\"].mean())\n",
        "\n",
        "# -------------------------------\n",
        "# 10. Merging / Joining\n",
        "# -------------------------------\n",
        "print(\"\\n10. Merging / Joining\")\n",
        "employees = pd.DataFrame({\n",
        "    \"Name\": [\"Alice\", \"Bob\", \"Charlie\"],\n",
        "    \"Dept\": [\"IT\", \"HR\", \"Finance\"]\n",
        "})\n",
        "salaries = pd.DataFrame({\n",
        "    \"Dept\": [\"IT\", \"HR\", \"Finance\"],\n",
        "    \"Salary\": [60000, 50000, 70000]\n",
        "})\n",
        "merged = pd.merge(employees, salaries, on=\"Dept\", how=\"left\")\n",
        "print(merged)\n",
        "\n",
        "# -------------------------------\n",
        "# 11. Handling Missing Data\n",
        "# -------------------------------\n",
        "print(\"\\n11. Handling Missing Data\")\n",
        "df3 = pd.DataFrame({\n",
        "    \"A\": [1, 2, np.nan, 4],\n",
        "    \"B\": [5, np.nan, np.nan, 8]\n",
        "})\n",
        "print(\"Original:\\n\", df3)\n",
        "print(\"Drop rows with NaN:\\n\", df3.dropna())\n",
        "print(\"Fill NaN with 0:\\n\", df3.fillna(0))\n",
        "print(\"Fill NaN with column mean:\\n\", df3.fillna(df3.mean(numeric_only=True)))\n",
        "\n",
        "# -------------------------------\n",
        "# 12. Reading / Writing CSV\n",
        "# -------------------------------\n",
        "print(\"\\n12. Reading / Writing CSV\")\n",
        "# df.to_csv(\"example.csv\", index=False)  # save\n",
        "# loaded = pd.read_csv(\"example.csv\")    # load\n",
        "# print(loaded)\n",
        "print(\"Use df.to_csv(...) to write and pd.read_csv(...) to read\")\n"
      ]
    },
    {
      "cell_type": "code",
      "execution_count": null,
      "id": "8f41d9b3-35f2-4245-89c8-5f8ed857cdab",
      "metadata": {
        "id": "8f41d9b3-35f2-4245-89c8-5f8ed857cdab",
        "outputId": "6947956c-6395-49e1-b872-0198b445092b",
        "colab": {
          "base_uri": "https://localhost:8080/"
        }
      },
      "outputs": [
        {
          "output_type": "stream",
          "name": "stdout",
          "text": [
            "\n",
            "3. Inspecting Data\n",
            "Head:\n",
            "     Name  Age City\n",
            "0  Alice   25  NYC\n",
            "1    Bob   30   LA\n",
            "Shape: (4, 3)\n",
            "Columns: Index(['Name', 'Age', 'City'], dtype='object')\n",
            "Info:\n",
            "<class 'pandas.core.frame.DataFrame'>\n",
            "RangeIndex: 4 entries, 0 to 3\n",
            "Data columns (total 3 columns):\n",
            " #   Column  Non-Null Count  Dtype \n",
            "---  ------  --------------  ----- \n",
            " 0   Name    4 non-null      object\n",
            " 1   Age     4 non-null      int64 \n",
            " 2   City    4 non-null      object\n",
            "dtypes: int64(1), object(2)\n",
            "memory usage: 228.0+ bytes\n",
            "None\n",
            "\n",
            "4. Selecting Data\n",
            "Single column:\n",
            " 0      Alice\n",
            "1        Bob\n",
            "2    Charlie\n",
            "3      David\n",
            "Name: Name, dtype: object\n",
            "Multiple columns:\n",
            "       Name     City\n",
            "0    Alice      NYC\n",
            "1      Bob       LA\n",
            "2  Charlie  Chicago\n",
            "3    David  Houston\n",
            "Row by label:\n",
            " Name    Bob\n",
            "Age      30\n",
            "City     LA\n",
            "Name: 1, dtype: object\n",
            "Row by position:\n",
            " Name    Charlie\n",
            "Age          35\n",
            "City    Chicago\n",
            "Name: 2, dtype: object\n"
          ]
        }
      ],
      "source": [
        "# -------------------------------\n",
        "# 3. Inspecting Data\n",
        "# -------------------------------\n",
        "print(\"\\n3. Inspecting Data\")\n",
        "print(\"Head:\\n\", df.head(2))\n",
        "print(\"Shape:\", df.shape)\n",
        "print(\"Columns:\", df.columns)\n",
        "print(\"Info:\")\n",
        "print(df.info())\n",
        "\n",
        "# -------------------------------\n",
        "# 4. Selecting Data\n",
        "# -------------------------------\n",
        "print(\"\\n4. Selecting Data\")\n",
        "print(\"Single column:\\n\", df[\"Name\"])\n",
        "print(\"Multiple columns:\\n\", df[[\"Name\", \"City\"]])\n",
        "print(\"Row by label:\\n\", df.loc[1])\n",
        "print(\"Row by position:\\n\", df.iloc[2])"
      ]
    },
    {
      "cell_type": "code",
      "execution_count": null,
      "id": "70a00539-8436-41f1-856f-4d243d4d390f",
      "metadata": {
        "id": "70a00539-8436-41f1-856f-4d243d4d390f",
        "outputId": "28b70dc5-6743-4b2a-8e93-7750a39f9d7d",
        "colab": {
          "base_uri": "https://localhost:8080/"
        }
      },
      "outputs": [
        {
          "output_type": "stream",
          "name": "stdout",
          "text": [
            "\n",
            "5. Filtering Rows\n",
            "Age > 30:\n",
            "       Name  Age     City\n",
            "2  Charlie   35  Chicago\n",
            "3    David   40  Houston\n",
            "City == LA:\n",
            "   Name  Age City\n",
            "1  Bob   30   LA\n",
            "\n",
            "6. Adding / Modifying Columns\n",
            "      Name  Age     City  Age in 5 years  Senior\n",
            "0    Alice   25      NYC              30   False\n",
            "1      Bob   30       LA              35   False\n",
            "2  Charlie   35  Chicago              40   False\n",
            "3    David   40  Houston              45    True\n"
          ]
        }
      ],
      "source": [
        "# -------------------------------\n",
        "# 5. Filtering Rows\n",
        "# -------------------------------\n",
        "print(\"\\n5. Filtering Rows\")\n",
        "print(\"Age > 30:\\n\", df[df[\"Age\"] > 30])\n",
        "print(\"City == LA:\\n\", df[df[\"City\"] == \"LA\"])\n",
        "\n",
        "# -------------------------------\n",
        "# 6. Adding / Modifying Columns\n",
        "# -------------------------------\n",
        "print(\"\\n6. Adding / Modifying Columns\")\n",
        "df[\"Age in 5 years\"] = df[\"Age\"] + 5\n",
        "df[\"Senior\"] = df[\"Age\"] > 35\n",
        "print(df)"
      ]
    },
    {
      "cell_type": "markdown",
      "id": "ce88531e-54d4-4403-ad74-35202aa3d876",
      "metadata": {
        "id": "ce88531e-54d4-4403-ad74-35202aa3d876"
      },
      "source": [
        "### function"
      ]
    },
    {
      "cell_type": "code",
      "execution_count": null,
      "id": "c4c70afa-a503-4ac3-83b9-f06341b7bee7",
      "metadata": {
        "id": "c4c70afa-a503-4ac3-83b9-f06341b7bee7",
        "outputId": "fa4507d9-4214-492a-829c-26f51b90fa85",
        "colab": {
          "base_uri": "https://localhost:8080/"
        }
      },
      "outputs": [
        {
          "output_type": "stream",
          "name": "stdout",
          "text": [
            "Hello, world!\n",
            "Hello, Alice!\n",
            "Hello, Bob!\n"
          ]
        }
      ],
      "source": [
        "# Python Functions Tutorial ⚡\n",
        "\n",
        "# -------------------------------\n",
        "# 1. Basic Function\n",
        "# -------------------------------\n",
        "def greet():\n",
        "    print(\"Hello, world!\")\n",
        "\n",
        "greet()\n",
        "\n",
        "# -------------------------------\n",
        "# 2. Function with Parameters\n",
        "# -------------------------------\n",
        "def greet_person(name):\n",
        "    print(f\"Hello, {name}!\")\n",
        "\n",
        "greet_person(\"Alice\")\n",
        "greet_person(\"Bob\")"
      ]
    },
    {
      "cell_type": "code",
      "execution_count": null,
      "id": "43447e36-d807-400d-837a-c8c226e6980e",
      "metadata": {
        "id": "43447e36-d807-400d-837a-c8c226e6980e",
        "outputId": "310d17fb-444e-4054-9663-dd9e5a010121",
        "colab": {
          "base_uri": "https://localhost:8080/"
        }
      },
      "outputs": [
        {
          "output_type": "stream",
          "name": "stdout",
          "text": [
            "Square of 5: 25\n",
            "2 + 3 = 5\n",
            "power(3): 9\n",
            "power(3, 3): 27\n"
          ]
        }
      ],
      "source": [
        "# -------------------------------\n",
        "# 3. Function with Return Value\n",
        "# -------------------------------\n",
        "def square(x):\n",
        "    return x * x\n",
        "\n",
        "result = square(5)\n",
        "print(\"Square of 5:\", result)\n",
        "\n",
        "# -------------------------------\n",
        "# 4. Multiple Parameters\n",
        "# -------------------------------\n",
        "def add(a, b):\n",
        "    return a + b\n",
        "\n",
        "print(\"2 + 3 =\", add(2, 3))\n",
        "\n",
        "# -------------------------------\n",
        "# 5. Default Arguments\n",
        "# -------------------------------\n",
        "def power(base, exp=2):\n",
        "    return base ** exp\n",
        "\n",
        "print(\"power(3):\", power(3))      # uses default exp=2\n",
        "print(\"power(3, 3):\", power(3, 3))"
      ]
    },
    {
      "cell_type": "code",
      "execution_count": null,
      "id": "56885c1f-6726-4020-b5fb-d3872b055577",
      "metadata": {
        "id": "56885c1f-6726-4020-b5fb-d3872b055577",
        "outputId": "3cae2197-a309-4301-f105-7650c09d3fc1",
        "colab": {
          "base_uri": "https://localhost:8080/"
        }
      },
      "outputs": [
        {
          "output_type": "stream",
          "name": "stdout",
          "text": [
            "My name is Charlie, I'm 25, and I live in NYC.\n",
            "sum_all(1,2,3,4,5): 15\n",
            "name: David\n",
            "age: 30\n",
            "city: LA\n"
          ]
        }
      ],
      "source": [
        "# -------------------------------\n",
        "# 6. Keyword Arguments\n",
        "# -------------------------------\n",
        "def introduce(name, age, city):\n",
        "    print(f\"My name is {name}, I'm {age}, and I live in {city}.\")\n",
        "\n",
        "introduce(age=25, name=\"Charlie\", city=\"NYC\")\n",
        "\n",
        "# -------------------------------\n",
        "# 7. Variable Number of Arguments (*args)\n",
        "# -------------------------------\n",
        "def sum_all(*args):\n",
        "    return sum(args)\n",
        "\n",
        "print(\"sum_all(1,2,3,4,5):\", sum_all(1, 2, 3, 4, 5))\n",
        "\n",
        "# -------------------------------\n",
        "# 8. Variable Keyword Arguments (**kwargs)\n",
        "# -------------------------------\n",
        "def profile(**kwargs):\n",
        "    for key, value in kwargs.items():\n",
        "        print(f\"{key}: {value}\")\n",
        "\n",
        "profile(name=\"David\", age=30, city=\"LA\")"
      ]
    },
    {
      "cell_type": "code",
      "execution_count": null,
      "id": "b0a42304-e5dc-4023-8644-a3e2c538c0bd",
      "metadata": {
        "id": "b0a42304-e5dc-4023-8644-a3e2c538c0bd",
        "outputId": "830419da-86af-452b-df75-63dde345730d",
        "colab": {
          "base_uri": "https://localhost:8080/"
        }
      },
      "outputs": [
        {
          "output_type": "stream",
          "name": "stdout",
          "text": [
            "double(7): 14\n",
            "Squared: [1, 4, 9, 16, 25]\n",
            "Even: [2, 4]\n"
          ]
        }
      ],
      "source": [
        "# -------------------------------\n",
        "# 9. Lambda (Anonymous Functions)\n",
        "# -------------------------------\n",
        "double = lambda x: x * 2\n",
        "print(\"double(7):\", double(7))\n",
        "\n",
        "# Use with map/filter\n",
        "nums = [1, 2, 3, 4, 5]\n",
        "squared = list(map(lambda x: x**2, nums))\n",
        "even = list(filter(lambda x: x % 2 == 0, nums))\n",
        "\n",
        "print(\"Squared:\", squared)\n",
        "print(\"Even:\", even)"
      ]
    },
    {
      "cell_type": "code",
      "execution_count": null,
      "id": "5ebb7efe-5d33-4a0e-b4b8-0fe3f99ea7cc",
      "metadata": {
        "id": "5ebb7efe-5d33-4a0e-b4b8-0fe3f99ea7cc",
        "outputId": "dfa10b9c-e1f7-456a-e8db-b0819ab02709",
        "colab": {
          "base_uri": "https://localhost:8080/"
        }
      },
      "outputs": [
        {
          "output_type": "stream",
          "name": "stdout",
          "text": [
            "Inner function result: HELLO\n"
          ]
        }
      ],
      "source": [
        "# -------------------------------\n",
        "# 10. Functions Inside Functions\n",
        "# -------------------------------\n",
        "def outer_function(text):\n",
        "    def inner_function():\n",
        "        return text.upper()\n",
        "    return inner_function()\n",
        "\n",
        "print(\"Inner function result:\", outer_function(\"hello\"))"
      ]
    },
    {
      "cell_type": "code",
      "execution_count": null,
      "id": "81bd65da-e6eb-4e2d-b80d-3231b5f4ee05",
      "metadata": {
        "id": "81bd65da-e6eb-4e2d-b80d-3231b5f4ee05",
        "outputId": "c459b837-404c-43cf-df4f-123fb782c5fd",
        "colab": {
          "base_uri": "https://localhost:8080/"
        }
      },
      "outputs": [
        {
          "output_type": "stream",
          "name": "stdout",
          "text": [
            "apply(square, 6): 36\n",
            "Factorial of 5: 120\n",
            "divide(10,2): 5.0\n",
            "Help on divide:\n",
            "Help on function divide in module __main__:\n",
            "\n",
            "divide(a, b)\n",
            "    Divides two numbers.\n",
            "\n",
            "    Parameters:\n",
            "        a (int/float): numerator\n",
            "        b (int/float): denominator\n",
            "\n",
            "    Returns:\n",
            "        float: result of division\n",
            "\n"
          ]
        }
      ],
      "source": [
        "# -------------------------------\n",
        "# 11. Functions as Arguments\n",
        "# -------------------------------\n",
        "def apply(func, value):\n",
        "    return func(value)\n",
        "\n",
        "print(\"apply(square, 6):\", apply(square, 6))\n",
        "\n",
        "# -------------------------------\n",
        "# 12. Recursive Function\n",
        "# -------------------------------\n",
        "def factorial(n):\n",
        "    if n == 0 or n == 1:\n",
        "        return 1\n",
        "    return n * factorial(n - 1)\n",
        "\n",
        "print(\"Factorial of 5:\", factorial(5))\n",
        "\n",
        "# -------------------------------\n",
        "# 13. Docstrings\n",
        "# -------------------------------\n",
        "def divide(a, b):\n",
        "    \"\"\"\n",
        "    Divides two numbers.\n",
        "\n",
        "    Parameters:\n",
        "        a (int/float): numerator\n",
        "        b (int/float): denominator\n",
        "\n",
        "    Returns:\n",
        "        float: result of division\n",
        "    \"\"\"\n",
        "    return a / b\n",
        "\n",
        "print(\"divide(10,2):\", divide(10, 2))\n",
        "print(\"Help on divide:\")\n",
        "help(divide)\n"
      ]
    },
    {
      "cell_type": "markdown",
      "id": "c5fe9773-56bc-445e-8865-9f35c225b3c6",
      "metadata": {
        "id": "c5fe9773-56bc-445e-8865-9f35c225b3c6"
      },
      "source": [
        "#### Using *args (variable positional arguments)"
      ]
    },
    {
      "cell_type": "code",
      "execution_count": null,
      "id": "7869e7ab-b018-4068-8621-60b65d55a306",
      "metadata": {
        "id": "7869e7ab-b018-4068-8621-60b65d55a306",
        "outputId": "cdbf3fe6-efbd-437a-ee9f-3407a458ccb7",
        "colab": {
          "base_uri": "https://localhost:8080/"
        }
      },
      "outputs": [
        {
          "output_type": "stream",
          "name": "stdout",
          "text": [
            "args as tuple: (1, 2, 3)\n",
            "6\n",
            "args as tuple: (10, 20, 30, 40)\n",
            "100\n"
          ]
        }
      ],
      "source": [
        "def add_numbers(*args):\n",
        "    print(\"args as tuple:\", args)\n",
        "    return sum(args)\n",
        "\n",
        "print(add_numbers(1, 2, 3))\n",
        "print(add_numbers(10, 20, 30, 40))\n"
      ]
    },
    {
      "cell_type": "code",
      "execution_count": null,
      "id": "e07e9913-89d0-4981-a8e7-e1fc5d87558d",
      "metadata": {
        "id": "e07e9913-89d0-4981-a8e7-e1fc5d87558d"
      },
      "outputs": [],
      "source": [
        "#### Using **kwargs (variable keyword arguments)"
      ]
    },
    {
      "cell_type": "code",
      "execution_count": null,
      "id": "70b176c7-d449-4ea1-a330-66a2c11b4766",
      "metadata": {
        "id": "70b176c7-d449-4ea1-a330-66a2c11b4766",
        "outputId": "de7cf9fd-6a0d-47d2-c95b-bde1b2ecc722",
        "colab": {
          "base_uri": "https://localhost:8080/"
        }
      },
      "outputs": [
        {
          "output_type": "stream",
          "name": "stdout",
          "text": [
            "kwargs as dict: {'name': 'Alice', 'age': 25, 'city': 'NYC'}\n",
            "name: Alice\n",
            "age: 25\n",
            "city: NYC\n"
          ]
        }
      ],
      "source": [
        "def print_profile(**kwargs):\n",
        "    print(\"kwargs as dict:\", kwargs)\n",
        "    for key, value in kwargs.items():\n",
        "        print(f\"{key}: {value}\")\n",
        "\n",
        "print_profile(name=\"Alice\", age=25, city=\"NYC\")\n"
      ]
    },
    {
      "cell_type": "markdown",
      "id": "18eb209d-8841-4538-a791-376ecdcd7138",
      "metadata": {
        "id": "18eb209d-8841-4538-a791-376ecdcd7138"
      },
      "source": [
        "#### Combining *args and **kwargs"
      ]
    },
    {
      "cell_type": "code",
      "execution_count": null,
      "id": "5785829f-a0b6-469c-80e0-ec390983ee7b",
      "metadata": {
        "id": "5785829f-a0b6-469c-80e0-ec390983ee7b",
        "outputId": "80c8a5dc-ab16-4c99-d3e8-7bcbea3824e6",
        "colab": {
          "base_uri": "https://localhost:8080/"
        }
      },
      "outputs": [
        {
          "output_type": "stream",
          "name": "stdout",
          "text": [
            "args: (1, 2, 3)\n",
            "kwargs: {'name': 'Bob', 'age': 30}\n"
          ]
        }
      ],
      "source": [
        "def demo_func(*args, **kwargs):\n",
        "    print(\"args:\", args)\n",
        "    print(\"kwargs:\", kwargs)\n",
        "\n",
        "demo_func(1, 2, 3, name=\"Bob\", age=30)\n"
      ]
    },
    {
      "cell_type": "markdown",
      "id": "07916091-a5ec-4c50-ae19-5c1841c99658",
      "metadata": {
        "id": "07916091-a5ec-4c50-ae19-5c1841c99658"
      },
      "source": [
        "#### Forwarding Arguments"
      ]
    },
    {
      "cell_type": "code",
      "execution_count": null,
      "id": "dc487d86-ba1d-456e-b737-8bfb727f5e0f",
      "metadata": {
        "id": "dc487d86-ba1d-456e-b737-8bfb727f5e0f",
        "outputId": "564bdd9a-e064-443e-d09d-82ecddc8e16a",
        "colab": {
          "base_uri": "https://localhost:8080/"
        }
      },
      "outputs": [
        {
          "output_type": "stream",
          "name": "stdout",
          "text": [
            "Wrapper adds logging...\n",
            "Hello, Charlie!\n"
          ]
        }
      ],
      "source": [
        "def greet(greeting, name):\n",
        "    print(f\"{greeting}, {name}!\")\n",
        "\n",
        "def wrapper(*args, **kwargs):\n",
        "    print(\"Wrapper adds logging...\")\n",
        "    return greet(*args, **kwargs)\n",
        "\n",
        "wrapper(\"Hello\", name=\"Charlie\")\n"
      ]
    },
    {
      "cell_type": "markdown",
      "id": "f63f8eb5-8046-4abe-a431-d6017b805893",
      "metadata": {
        "id": "f63f8eb5-8046-4abe-a431-d6017b805893"
      },
      "source": [
        "#### Mixing with Normal Arguments"
      ]
    },
    {
      "cell_type": "code",
      "execution_count": null,
      "id": "d6b24a97-732a-4672-9e4a-c4cd9deea115",
      "metadata": {
        "id": "d6b24a97-732a-4672-9e4a-c4cd9deea115",
        "outputId": "5b4df0b5-3728-4afe-d721-447e2a255ece",
        "colab": {
          "base_uri": "https://localhost:8080/"
        }
      },
      "outputs": [
        {
          "output_type": "stream",
          "name": "stdout",
          "text": [
            "Item: Book, Qty: 2\n",
            "Extra positional: ('Express shipping', 'Gift wrap')\n",
            "Extra keyword: {'address': 'NYC', 'discount': 0.1}\n"
          ]
        }
      ],
      "source": [
        "def order(item, qty=1, *args, **kwargs):\n",
        "    print(f\"Item: {item}, Qty: {qty}\")\n",
        "    print(\"Extra positional:\", args)\n",
        "    print(\"Extra keyword:\", kwargs)\n",
        "\n",
        "order(\"Book\", 2, \"Express shipping\", \"Gift wrap\", address=\"NYC\", discount=0.1)\n"
      ]
    },
    {
      "cell_type": "markdown",
      "id": "be4c5f7b-8e5f-4309-9d8c-dd24d672f832",
      "metadata": {
        "id": "be4c5f7b-8e5f-4309-9d8c-dd24d672f832"
      },
      "source": [
        "#### Fixing arguments for math functions"
      ]
    },
    {
      "cell_type": "code",
      "execution_count": null,
      "id": "6e47f595-f1fd-4ea4-9411-396ccdbf4dab",
      "metadata": {
        "id": "6e47f595-f1fd-4ea4-9411-396ccdbf4dab",
        "outputId": "83ed2830-c8ce-4d78-f15b-103b2ad06c5d",
        "colab": {
          "base_uri": "https://localhost:8080/"
        }
      },
      "outputs": [
        {
          "output_type": "stream",
          "name": "stdout",
          "text": [
            "8\n",
            "_________________________\n",
            "25\n",
            "_________________________\n",
            "64\n",
            "_________________________\n",
            "10\n",
            "15\n",
            "_________________________\n",
            "3x Book with 10% discount and 7% tax\n",
            "1x Laptop with 10% discount and 7% tax\n"
          ]
        }
      ],
      "source": [
        "from functools import partial\n",
        "import math\n",
        "\n",
        "# Normal pow(base, exp)\n",
        "print(pow(2, 3))  # 8\n",
        "print('_'*25)\n",
        "\n",
        "# Create a \"square\" function by fixing exp=2\n",
        "square = partial(pow, exp=2)\n",
        "print(square(5))  # 25\n",
        "print('_'*25)\n",
        "\n",
        "# Cube function\n",
        "cube = partial(pow, exp=3)\n",
        "print(cube(4))    # 64\n",
        "print('_'*25)\n",
        "\n",
        "\n",
        "\n",
        "# Using with higher-order functions\n",
        "\n",
        "def multiply(x, y):\n",
        "    return x * y\n",
        "\n",
        "double = partial(multiply, 2)\n",
        "triple = partial(multiply, 3)\n",
        "\n",
        "print(double(5))  # 10\n",
        "print(triple(5))  # 15\n",
        "print('_'*25)\n",
        "\n",
        "# Simplifying function calls with many parameters\n",
        "\n",
        "def order(item, qty, discount, tax):\n",
        "    return f\"{qty}x {item} with {discount*100:.0f}% discount and {tax*100:.0f}% tax\"\n",
        "\n",
        "# Fix tax and discount\n",
        "order_with_tax = partial(order, discount=0.1, tax=0.07)\n",
        "\n",
        "print(order_with_tax(\"Book\", 3))\n",
        "print(order_with_tax(\"Laptop\", 1))\n",
        "\n",
        "\n"
      ]
    },
    {
      "cell_type": "markdown",
      "id": "e2f130cc-06ab-4d69-974f-c2c40acb3b03",
      "metadata": {
        "id": "e2f130cc-06ab-4d69-974f-c2c40acb3b03"
      },
      "source": [
        "#### Pre-configuring built-in functions"
      ]
    },
    {
      "cell_type": "code",
      "execution_count": null,
      "id": "f5d98ddb-3068-4427-bd99-08a6b9e425d4",
      "metadata": {
        "id": "f5d98ddb-3068-4427-bd99-08a6b9e425d4",
        "outputId": "28a53871-5c76-469d-9cd9-2e451937eab0",
        "colab": {
          "base_uri": "https://localhost:8080/"
        }
      },
      "outputs": [
        {
          "output_type": "stream",
          "name": "stdout",
          "text": [
            "Alice, Bob, Charlie\n"
          ]
        }
      ],
      "source": [
        "from functools import partial\n",
        "\n",
        "print_with_comma = partial(print, sep=\", \")\n",
        "print_with_comma(\"Alice\", \"Bob\", \"Charlie\")\n"
      ]
    },
    {
      "cell_type": "markdown",
      "id": "96f3764a-ff6a-4726-b109-1cd5818b80d0",
      "metadata": {
        "id": "96f3764a-ff6a-4726-b109-1cd5818b80d0"
      },
      "source": [
        "### class"
      ]
    },
    {
      "cell_type": "code",
      "execution_count": null,
      "id": "d6e20217-2072-4eef-b642-4b354379d337",
      "metadata": {
        "id": "d6e20217-2072-4eef-b642-4b354379d337",
        "outputId": "aa1dcf07-16a7-4be5-944b-b6665cd51d91",
        "colab": {
          "base_uri": "https://localhost:8080/"
        }
      },
      "outputs": [
        {
          "output_type": "stream",
          "name": "stdout",
          "text": [
            "Created a Person object: <__main__.Person object at 0x7dc60182f950>\n",
            "Name: Alice, Age: 25\n"
          ]
        }
      ],
      "source": [
        "# Python Classes Tutorial 🏗️\n",
        "\n",
        "# -------------------------------\n",
        "# 1. A Basic Class\n",
        "# -------------------------------\n",
        "class Person:\n",
        "    pass\n",
        "\n",
        "p1 = Person()\n",
        "print(\"Created a Person object:\", p1)\n",
        "\n",
        "# -------------------------------\n",
        "# 2. Adding Attributes\n",
        "# -------------------------------\n",
        "class Person:\n",
        "    def __init__(self, name, age):\n",
        "        self.name = name    # instance attribute\n",
        "        self.age = age\n",
        "\n",
        "p2 = Person(\"Alice\", 25)\n",
        "print(f\"Name: {p2.name}, Age: {p2.age}\")"
      ]
    },
    {
      "cell_type": "code",
      "execution_count": null,
      "id": "3761eaa2-067f-4bf6-b493-140a5261b41a",
      "metadata": {
        "id": "3761eaa2-067f-4bf6-b493-140a5261b41a",
        "outputId": "676e9ab4-82cb-49e6-9028-aee32a4fbb5a",
        "colab": {
          "base_uri": "https://localhost:8080/"
        }
      },
      "outputs": [
        {
          "output_type": "stream",
          "name": "stdout",
          "text": [
            "Hello, I'm Bob and I'm 30 years old.\n",
            "Fido - Canis familiaris\n",
            "Buddy - Canis familiaris\n"
          ]
        }
      ],
      "source": [
        "# -------------------------------\n",
        "# 3. Adding Methods\n",
        "# -------------------------------\n",
        "class Person:\n",
        "    def __init__(self, name, age):\n",
        "        self.name = name\n",
        "        self.age = age\n",
        "\n",
        "    def greet(self):\n",
        "        return f\"Hello, I'm {self.name} and I'm {self.age} years old.\"\n",
        "\n",
        "p3 = Person(\"Bob\", 30)\n",
        "print(p3.greet())\n",
        "\n",
        "# -------------------------------\n",
        "# 4. Class Attributes vs Instance Attributes\n",
        "# -------------------------------\n",
        "class Dog:\n",
        "    species = \"Canis familiaris\"   # class attribute\n",
        "\n",
        "    def __init__(self, name):\n",
        "        self.name = name          # instance attribute\n",
        "\n",
        "dog1 = Dog(\"Fido\")\n",
        "dog2 = Dog(\"Buddy\")\n",
        "\n",
        "print(dog1.name, \"-\", dog1.species)\n",
        "print(dog2.name, \"-\", dog2.species)"
      ]
    },
    {
      "cell_type": "code",
      "execution_count": null,
      "id": "76f96e48-05fe-4408-9fc0-bf77deba2250",
      "metadata": {
        "id": "76f96e48-05fe-4408-9fc0-bf77deba2250",
        "outputId": "ec2c2d70-4d93-40c9-9c81-6d86518b265d",
        "colab": {
          "base_uri": "https://localhost:8080/"
        }
      },
      "outputs": [
        {
          "output_type": "stream",
          "name": "stdout",
          "text": [
            "Book: Python Basics (250 pages)\n",
            "Length of book: 250\n"
          ]
        }
      ],
      "source": [
        "# -------------------------------\n",
        "# 5. Special Methods (__str__, __len__, etc.)\n",
        "# -------------------------------\n",
        "class Book:\n",
        "    def __init__(self, title, pages):\n",
        "        self.title = title\n",
        "        self.pages = pages\n",
        "\n",
        "    def __str__(self):\n",
        "        return f\"Book: {self.title} ({self.pages} pages)\"\n",
        "\n",
        "    def __len__(self):\n",
        "        return self.pages\n",
        "\n",
        "b1 = Book(\"Python Basics\", 250)\n",
        "print(str(b1))\n",
        "print(\"Length of book:\", len(b1))"
      ]
    },
    {
      "cell_type": "code",
      "execution_count": null,
      "id": "b2c943e6-d56a-4529-adb0-d39fd8f71995",
      "metadata": {
        "id": "b2c943e6-d56a-4529-adb0-d39fd8f71995",
        "outputId": "7d95aa7e-b181-49f8-cd25-b98e7be14064",
        "colab": {
          "base_uri": "https://localhost:8080/"
        }
      },
      "outputs": [
        {
          "output_type": "stream",
          "name": "stdout",
          "text": [
            "150\n",
            "120\n",
            "Balance: 120\n"
          ]
        }
      ],
      "source": [
        "# -------------------------------\n",
        "# 6. Encapsulation (Private variables)\n",
        "# -------------------------------\n",
        "class BankAccount:\n",
        "    def __init__(self, owner, balance=0):\n",
        "        self.owner = owner\n",
        "        self.__balance = balance   # private attribute (convention: __var)\n",
        "\n",
        "    def deposit(self, amount):\n",
        "        self.__balance += amount\n",
        "        return self.__balance\n",
        "\n",
        "    def withdraw(self, amount):\n",
        "        if amount <= self.__balance:\n",
        "            self.__balance -= amount\n",
        "            return self.__balance\n",
        "        else:\n",
        "            return \"Insufficient funds\"\n",
        "\n",
        "    def get_balance(self):\n",
        "        return self.__balance\n",
        "\n",
        "acct = BankAccount(\"Charlie\", 100)\n",
        "print(acct.deposit(50))\n",
        "print(acct.withdraw(30))\n",
        "print(\"Balance:\", acct.get_balance())"
      ]
    },
    {
      "cell_type": "code",
      "execution_count": null,
      "id": "988054ea-862a-4db0-b16d-231aa3e68032",
      "metadata": {
        "id": "988054ea-862a-4db0-b16d-231aa3e68032",
        "outputId": "0de6ac7e-d22c-4883-f923-2a31c44a01e3",
        "colab": {
          "base_uri": "https://localhost:8080/"
        }
      },
      "outputs": [
        {
          "output_type": "stream",
          "name": "stdout",
          "text": [
            "Fido says Woof!\n",
            "Whiskers says Meow!\n"
          ]
        }
      ],
      "source": [
        "# -------------------------------\n",
        "# 7. Inheritance\n",
        "# -------------------------------\n",
        "class Animal:\n",
        "    def __init__(self, name):\n",
        "        self.name = name\n",
        "\n",
        "    def speak(self):\n",
        "        return \"...\"\n",
        "\n",
        "class Dog(Animal):\n",
        "    def speak(self):\n",
        "        return \"Woof!\"\n",
        "\n",
        "class Cat(Animal):\n",
        "    def speak(self):\n",
        "        return \"Meow!\"\n",
        "\n",
        "animals = [Dog(\"Fido\"), Cat(\"Whiskers\")]\n",
        "for a in animals:\n",
        "    print(a.name, \"says\", a.speak())"
      ]
    },
    {
      "cell_type": "code",
      "execution_count": null,
      "id": "bb4d4e1e-c4c3-4103-a674-94967b36f52b",
      "metadata": {
        "id": "bb4d4e1e-c4c3-4103-a674-94967b36f52b",
        "outputId": "ab6bf956-b4d4-45ed-ab8a-2a997e528826",
        "colab": {
          "base_uri": "https://localhost:8080/"
        }
      },
      "outputs": [
        {
          "output_type": "stream",
          "name": "stdout",
          "text": [
            "I can fly! I can swim! Quack!\n"
          ]
        }
      ],
      "source": [
        "# -------------------------------\n",
        "# 8. Multiple Inheritance\n",
        "# -------------------------------\n",
        "class Flyer:\n",
        "    def fly(self):\n",
        "        return \"I can fly!\"\n",
        "\n",
        "class Swimmer:\n",
        "    def swim(self):\n",
        "        return \"I can swim!\"\n",
        "\n",
        "class Duck(Flyer, Swimmer):\n",
        "    def sound(self):\n",
        "        return \"Quack!\"\n",
        "\n",
        "d = Duck()\n",
        "print(d.fly(), d.swim(), d.sound())"
      ]
    },
    {
      "cell_type": "code",
      "execution_count": null,
      "id": "5629be9b-9a8d-4cb5-ab65-e868e0a9e94c",
      "metadata": {
        "id": "5629be9b-9a8d-4cb5-ab65-e868e0a9e94c",
        "outputId": "dc8e5f8f-7a11-4fa5-dacb-93e57785a048",
        "colab": {
          "base_uri": "https://localhost:8080/"
        }
      },
      "outputs": [
        {
          "output_type": "stream",
          "name": "stdout",
          "text": [
            "5\n",
            "This is MathUtils, providing math utilities.\n"
          ]
        }
      ],
      "source": [
        "# -------------------------------\n",
        "# 9. Class Methods and Static Methods\n",
        "# -------------------------------\n",
        "class MathUtils:\n",
        "    @staticmethod\n",
        "    def add(a, b):\n",
        "        return a + b\n",
        "\n",
        "    @classmethod\n",
        "    def description(cls):\n",
        "        return f\"This is {cls.__name__}, providing math utilities.\"\n",
        "\n",
        "print(MathUtils.add(2, 3))\n",
        "print(MathUtils.description())"
      ]
    },
    {
      "cell_type": "code",
      "execution_count": null,
      "id": "1bdac7de-397d-4804-a3b8-ffc4c992b73a",
      "metadata": {
        "id": "1bdac7de-397d-4804-a3b8-ffc4c992b73a",
        "outputId": "838e73bc-ffa1-4fc1-8f9f-c47caf3492a7",
        "colab": {
          "base_uri": "https://localhost:8080/"
        }
      },
      "outputs": [
        {
          "output_type": "stream",
          "name": "stdout",
          "text": [
            "Temp in Celsius: 25\n"
          ]
        }
      ],
      "source": [
        "# -------------------------------\n",
        "# 10. Properties (getter/setter)\n",
        "# -------------------------------\n",
        "class Celsius:\n",
        "    def __init__(self, temperature=0):\n",
        "        self._temperature = temperature\n",
        "\n",
        "    @property #getter\n",
        "    def temperature(self):\n",
        "        return self._temperature\n",
        "\n",
        "    @temperature.setter\n",
        "    def temperature(self, value):\n",
        "        if value < -273.15:\n",
        "            raise ValueError(\"Temperature below -273.15 is not possible\")\n",
        "        self._temperature = value\n",
        "\n",
        "c = Celsius()\n",
        "c.temperature = 25\n",
        "print(\"Temp in Celsius:\", c.temperature)\n",
        "# c.temperature = -300  # will raise ValueError"
      ]
    },
    {
      "cell_type": "code",
      "execution_count": null,
      "id": "37ebbdae-023c-4f17-9580-a6790937940e",
      "metadata": {
        "id": "37ebbdae-023c-4f17-9580-a6790937940e",
        "outputId": "ad415c93-e0d0-4b82-d8d0-d4307bda08f3",
        "colab": {
          "base_uri": "https://localhost:8080/"
        }
      },
      "outputs": [
        {
          "output_type": "execute_result",
          "data": {
            "text/plain": [
              "['_temperature', 'temperature']"
            ]
          },
          "metadata": {},
          "execution_count": 106
        }
      ],
      "source": [
        "dir(c)[-2:]"
      ]
    },
    {
      "cell_type": "markdown",
      "source": [
        "#### Update property of a class"
      ],
      "metadata": {
        "id": "AnVjUviXr3-t"
      },
      "id": "AnVjUviXr3-t"
    },
    {
      "cell_type": "code",
      "source": [
        "c = Celsius()\n",
        "def temperature_new(self, value):\n",
        "    if value < -100:\n",
        "        print(\"Temperature below -100 is too much cold\")\n",
        "    self._temperature = value"
      ],
      "metadata": {
        "id": "jFX1VXHeqBuc"
      },
      "id": "jFX1VXHeqBuc",
      "execution_count": null,
      "outputs": []
    },
    {
      "cell_type": "code",
      "source": [
        "Celsius.temperature = Celsius.temperature.setter(temperature_new)\n",
        "c.temperature = -101"
      ],
      "metadata": {
        "colab": {
          "base_uri": "https://localhost:8080/"
        },
        "id": "aJi1yO3SruAC",
        "outputId": "6fa4ee5b-93d9-40d6-abc2-083073d1df9b"
      },
      "id": "aJi1yO3SruAC",
      "execution_count": null,
      "outputs": [
        {
          "output_type": "stream",
          "name": "stdout",
          "text": [
            "Temperature below -100 is too much cold\n"
          ]
        }
      ]
    },
    {
      "cell_type": "markdown",
      "source": [
        "#### Update function of a class"
      ],
      "metadata": {
        "id": "_3PyNEO9sEGP"
      },
      "id": "_3PyNEO9sEGP"
    },
    {
      "cell_type": "code",
      "source": [
        "class Car:\n",
        "    def start(self):\n",
        "        print(\"Starting the car...\")\n",
        "\n",
        "# Create two instances\n",
        "car1 = Car()\n",
        "car2 = Car()\n",
        "\n",
        "# Original behavior\n",
        "car1.start()  # Output: Starting the car...\n",
        "car2.start()  # Output: Starting the car...\n",
        "\n",
        "# --- Define a new method (standalone function) ---\n",
        "def start_new(self):\n",
        "    print(\"Car starts silently with electric power ⚡\")\n",
        "\n",
        "# Replace the method *only* for car1 using __get__\n",
        "car1.start = start_new.__get__(car1, Car)\n",
        "\n",
        "# Test behavior again\n",
        "car1.start()  # Output: Car starts silently with electric power ⚡\n",
        "car2.start()  # Output: Starting the car...\n"
      ],
      "metadata": {
        "colab": {
          "base_uri": "https://localhost:8080/"
        },
        "id": "q1vGjbMGqKKP",
        "outputId": "24981b6c-7b4d-42db-be66-42eba76b1285"
      },
      "id": "q1vGjbMGqKKP",
      "execution_count": null,
      "outputs": [
        {
          "output_type": "stream",
          "name": "stdout",
          "text": [
            "Starting the car...\n",
            "Starting the car...\n",
            "Car starts silently with electric power ⚡\n",
            "Starting the car...\n"
          ]
        }
      ]
    },
    {
      "cell_type": "markdown",
      "id": "fbc7635c-ba9c-411a-b40a-3d5bf9db5f77",
      "metadata": {
        "id": "fbc7635c-ba9c-411a-b40a-3d5bf9db5f77"
      },
      "source": [
        "## Decorator"
      ]
    },
    {
      "cell_type": "markdown",
      "id": "116dd126-d140-44e0-b2b6-bd3e41dbda15",
      "metadata": {
        "id": "116dd126-d140-44e0-b2b6-bd3e41dbda15"
      },
      "source": [
        "#### Basic Decorator"
      ]
    },
    {
      "cell_type": "code",
      "execution_count": null,
      "id": "8fdd4532-403a-493b-871a-de0d3d84d00a",
      "metadata": {
        "id": "8fdd4532-403a-493b-871a-de0d3d84d00a",
        "outputId": "b2d473fb-cc5c-4c3a-beb7-a1ed4b3aa98b",
        "colab": {
          "base_uri": "https://localhost:8080/"
        }
      },
      "outputs": [
        {
          "output_type": "stream",
          "name": "stdout",
          "text": [
            "Before function runs\n",
            "Hello!\n",
            "After function runs\n"
          ]
        }
      ],
      "source": [
        "def my_decorator(func):\n",
        "    def wrapper():\n",
        "        print(\"Before function runs\")\n",
        "        func()\n",
        "        print(\"After function runs\")\n",
        "    return wrapper\n",
        "\n",
        "@my_decorator\n",
        "def say_hello():\n",
        "    print(\"Hello!\")\n",
        "\n",
        "say_hello()\n"
      ]
    },
    {
      "cell_type": "markdown",
      "id": "33055175-b28f-48c1-9b3e-9472c54190cc",
      "metadata": {
        "id": "33055175-b28f-48c1-9b3e-9472c54190cc"
      },
      "source": [
        "#### Decorator with Arguments"
      ]
    },
    {
      "cell_type": "code",
      "execution_count": null,
      "id": "7d20ba92-d0a4-432d-82fb-08f646a072a9",
      "metadata": {
        "id": "7d20ba92-d0a4-432d-82fb-08f646a072a9",
        "outputId": "219a5107-aa80-4a87-f8af-19fb190eff4e",
        "colab": {
          "base_uri": "https://localhost:8080/"
        }
      },
      "outputs": [
        {
          "output_type": "stream",
          "name": "stdout",
          "text": [
            "Hello, Alice!\n",
            "Hello, Alice!\n",
            "Hello, Alice!\n"
          ]
        }
      ],
      "source": [
        "def repeat(n):\n",
        "    def decorator(func):\n",
        "        def wrapper(*args, **kwargs):\n",
        "            for _ in range(n):\n",
        "                func(*args, **kwargs)\n",
        "        return wrapper\n",
        "    return decorator\n",
        "\n",
        "@repeat(3)\n",
        "def greet(name):\n",
        "    print(f\"Hello, {name}!\")\n",
        "\n",
        "greet(\"Alice\")\n"
      ]
    },
    {
      "cell_type": "markdown",
      "id": "bff41ff3-07e5-4e02-bb52-d9a77c0fa5e3",
      "metadata": {
        "id": "bff41ff3-07e5-4e02-bb52-d9a77c0fa5e3"
      },
      "source": [
        "#### Preserving Function Metadata (functools.wraps)"
      ]
    },
    {
      "cell_type": "code",
      "execution_count": null,
      "id": "6169fc26-eec3-4b68-ab1e-dcebcceda8de",
      "metadata": {
        "id": "6169fc26-eec3-4b68-ab1e-dcebcceda8de",
        "outputId": "5787d6ed-f46a-482f-d488-d4b5953e8d7d",
        "colab": {
          "base_uri": "https://localhost:8080/"
        }
      },
      "outputs": [
        {
          "output_type": "stream",
          "name": "stdout",
          "text": [
            "Calling add with args=(2, 3), kwargs={}\n",
            "5\n",
            "add\n",
            "Add two numbers\n"
          ]
        }
      ],
      "source": [
        "from functools import wraps\n",
        "\n",
        "def debug(func):\n",
        "    @wraps(func)\n",
        "    def wrapper(*args, **kwargs):\n",
        "        print(f\"Calling {func.__name__} with args={args}, kwargs={kwargs}\")\n",
        "        return func(*args, **kwargs)\n",
        "    return wrapper\n",
        "\n",
        "@debug\n",
        "def add(a, b):\n",
        "    \"\"\"Add two numbers\"\"\"\n",
        "    return a + b\n",
        "\n",
        "print(add(2, 3))\n",
        "print(add.__name__)    # preserved: \"add\"\n",
        "print(add.__doc__)     # preserved: \"Add two numbers\"\n"
      ]
    },
    {
      "cell_type": "markdown",
      "id": "eeaea1aa-f258-489a-8b99-956cc1859fbb",
      "metadata": {
        "id": "eeaea1aa-f258-489a-8b99-956cc1859fbb"
      },
      "source": [
        "#### Real-World Example: Timing a Function"
      ]
    },
    {
      "cell_type": "code",
      "execution_count": null,
      "id": "c0e79955-022d-403c-9463-07f2967214c0",
      "metadata": {
        "id": "c0e79955-022d-403c-9463-07f2967214c0",
        "outputId": "deb52fe6-0eda-4fa0-f774-1d7fe913a38c",
        "colab": {
          "base_uri": "https://localhost:8080/"
        }
      },
      "outputs": [
        {
          "output_type": "stream",
          "name": "stdout",
          "text": [
            "slow_function ran in 2.0002 seconds\n",
            "Done!\n"
          ]
        }
      ],
      "source": [
        "import time\n",
        "from functools import wraps\n",
        "\n",
        "def timer(func):\n",
        "    @wraps(func)\n",
        "    def wrapper(*args, **kwargs):\n",
        "        start = time.time()\n",
        "        result = func(*args, **kwargs)\n",
        "        end = time.time()\n",
        "        print(f\"{func.__name__} ran in {end - start:.4f} seconds\")\n",
        "        return result\n",
        "    return wrapper\n",
        "\n",
        "@timer\n",
        "def slow_function():\n",
        "    time.sleep(2)\n",
        "    return \"Done!\"\n",
        "\n",
        "print(slow_function())\n"
      ]
    },
    {
      "cell_type": "markdown",
      "id": "3a3ba771-2c0d-42d2-a237-e5ac80701a88",
      "metadata": {
        "id": "3a3ba771-2c0d-42d2-a237-e5ac80701a88"
      },
      "source": [
        "#### Real-World Example: Authentication Check"
      ]
    },
    {
      "cell_type": "code",
      "execution_count": null,
      "id": "69c77904-6065-45e0-9e06-178a1d789787",
      "metadata": {
        "id": "69c77904-6065-45e0-9e06-178a1d789787",
        "outputId": "abf918c1-55a6-47eb-e2ba-b1a099231f25",
        "colab": {
          "base_uri": "https://localhost:8080/"
        }
      },
      "outputs": [
        {
          "output_type": "stream",
          "name": "stdout",
          "text": [
            "Access denied!\n",
            "admin deleted Bob\n"
          ]
        }
      ],
      "source": [
        "def require_admin(func):\n",
        "    @wraps(func)\n",
        "    def wrapper(user, *args, **kwargs):\n",
        "        if user != \"admin\":\n",
        "            print(\"Access denied!\")\n",
        "            return None\n",
        "        return func(user, *args, **kwargs)\n",
        "    return wrapper\n",
        "\n",
        "@require_admin\n",
        "def delete_user(user, target):\n",
        "    print(f\"{user} deleted {target}\")\n",
        "\n",
        "delete_user(\"guest\", \"Alice\")   # Access denied\n",
        "delete_user(\"admin\", \"Bob\")     # Works\n"
      ]
    },
    {
      "cell_type": "markdown",
      "id": "73bb2dc3-f1c9-4c6e-a788-368d78cdf060",
      "metadata": {
        "id": "73bb2dc3-f1c9-4c6e-a788-368d78cdf060"
      },
      "source": [
        "#### Stacking Multiple Decorators"
      ]
    },
    {
      "cell_type": "code",
      "execution_count": null,
      "id": "f03745d6-f728-4f1a-96ef-5d0b050efdc6",
      "metadata": {
        "id": "f03745d6-f728-4f1a-96ef-5d0b050efdc6",
        "outputId": "534860ca-2af0-4fa0-f33e-4a0d71a5aed1",
        "colab": {
          "base_uri": "https://localhost:8080/"
        }
      },
      "outputs": [
        {
          "output_type": "stream",
          "name": "stdout",
          "text": [
            "<b><i>Hello</i></b>\n"
          ]
        }
      ],
      "source": [
        "def bold(func):\n",
        "    @wraps(func)\n",
        "    def wrapper():\n",
        "        return \"<b>\" + func() + \"</b>\"\n",
        "    return wrapper\n",
        "\n",
        "def italic(func):\n",
        "    @wraps(func)\n",
        "    def wrapper():\n",
        "        return \"<i>\" + func() + \"</i>\"\n",
        "    return wrapper\n",
        "\n",
        "@bold\n",
        "@italic\n",
        "def text():\n",
        "    return \"Hello\"\n",
        "\n",
        "print(text())   # <b><i>Hello</i></b>\n"
      ]
    },
    {
      "cell_type": "markdown",
      "id": "cb4dedfe-c624-4fcf-b71c-8a60058ff10f",
      "metadata": {
        "id": "cb4dedfe-c624-4fcf-b71c-8a60058ff10f"
      },
      "source": [
        "#### The Problem Without @wraps"
      ]
    },
    {
      "cell_type": "markdown",
      "id": "92408109-ab58-4af5-9038-59d4d8e4e8e7",
      "metadata": {
        "id": "92408109-ab58-4af5-9038-59d4d8e4e8e7"
      },
      "source": [
        "##### Example without @wraps"
      ]
    },
    {
      "cell_type": "code",
      "execution_count": null,
      "id": "830adb34-78bd-4a65-a92b-05ad7e473da3",
      "metadata": {
        "id": "830adb34-78bd-4a65-a92b-05ad7e473da3",
        "outputId": "5fdf8674-aa90-4a0a-f95b-546e6150c1ed",
        "colab": {
          "base_uri": "https://localhost:8080/"
        }
      },
      "outputs": [
        {
          "output_type": "stream",
          "name": "stdout",
          "text": [
            "Calling add with (2, 3)\n",
            "5\n",
            "wrapper\n",
            "None\n"
          ]
        }
      ],
      "source": [
        "def debug(func):\n",
        "    def wrapper(*args, **kwargs):\n",
        "        print(f\"Calling {func.__name__} with {args}\")\n",
        "        return func(*args, **kwargs)\n",
        "    return wrapper\n",
        "\n",
        "@debug\n",
        "def add(a, b):\n",
        "    \"\"\"Add two numbers\"\"\"\n",
        "    return a + b\n",
        "\n",
        "print(add(2, 3))\n",
        "print(add.__name__)   # OOPS\n",
        "print(add.__doc__)    # OOPS\n"
      ]
    },
    {
      "cell_type": "markdown",
      "id": "28624912-b8ca-449f-8372-8e54f010ec1a",
      "metadata": {
        "id": "28624912-b8ca-449f-8372-8e54f010ec1a"
      },
      "source": [
        "##### Example with @wraps"
      ]
    },
    {
      "cell_type": "code",
      "execution_count": null,
      "id": "934c2800-ad83-4380-b064-8630aae0922f",
      "metadata": {
        "id": "934c2800-ad83-4380-b064-8630aae0922f",
        "outputId": "c00354b5-67e3-48a3-ed94-b4ef8e0d81ad",
        "colab": {
          "base_uri": "https://localhost:8080/"
        }
      },
      "outputs": [
        {
          "output_type": "stream",
          "name": "stdout",
          "text": [
            "Calling add with (2, 3)\n",
            "5\n",
            "add\n",
            "Add two numbers\n"
          ]
        }
      ],
      "source": [
        "from functools import wraps\n",
        "\n",
        "def debug(func):\n",
        "    @wraps(func)\n",
        "    def wrapper(*args, **kwargs):\n",
        "        print(f\"Calling {func.__name__} with {args}\")\n",
        "        return func(*args, **kwargs)\n",
        "    return wrapper\n",
        "\n",
        "@debug\n",
        "def add(a, b):\n",
        "    \"\"\"Add two numbers\"\"\"\n",
        "    return a + b\n",
        "\n",
        "print(add(2, 3))\n",
        "print(add.__name__)   # ✅ \"add\"\n",
        "print(add.__doc__)    # ✅ \"Add two numbers\"\n"
      ]
    },
    {
      "cell_type": "markdown",
      "id": "7df00591-1e7f-4834-a2e9-a3c5237711d0",
      "metadata": {
        "id": "7df00591-1e7f-4834-a2e9-a3c5237711d0"
      },
      "source": [
        "#### Example: Same Decorator on Two Functions"
      ]
    },
    {
      "cell_type": "code",
      "execution_count": null,
      "id": "4a168987-6612-4dbb-9232-d0be2d60df6d",
      "metadata": {
        "id": "4a168987-6612-4dbb-9232-d0be2d60df6d",
        "outputId": "42bbef81-47f9-4600-ff62-25507f52bf10",
        "colab": {
          "base_uri": "https://localhost:8080/"
        }
      },
      "outputs": [
        {
          "output_type": "stream",
          "name": "stdout",
          "text": [
            "Calling add with args=(3, 4), kwargs={}\n",
            "add returned 7\n",
            "7\n",
            "Calling multiply with args=(3, 4), kwargs={}\n",
            "multiply returned 12\n",
            "12\n"
          ]
        }
      ],
      "source": [
        "from functools import wraps\n",
        "\n",
        "def debug(func):\n",
        "    @wraps(func)\n",
        "    def wrapper(*args, **kwargs):\n",
        "        print(f\"Calling {func.__name__} with args={args}, kwargs={kwargs}\")\n",
        "        result = func(*args, **kwargs)\n",
        "        print(f\"{func.__name__} returned {result}\")\n",
        "        return result\n",
        "    return wrapper\n",
        "\n",
        "@debug\n",
        "def add(a, b):\n",
        "    return a + b\n",
        "\n",
        "@debug\n",
        "def multiply(a, b):\n",
        "    return a * b\n",
        "\n",
        "print(add(3, 4))\n",
        "print(multiply(3, 4))\n"
      ]
    },
    {
      "cell_type": "markdown",
      "id": "da30e515-0d6f-4914-b34e-84b5b2ebcf2b",
      "metadata": {
        "id": "da30e515-0d6f-4914-b34e-84b5b2ebcf2b"
      },
      "source": [
        "#### Another Example: Timing Any Function"
      ]
    },
    {
      "cell_type": "code",
      "execution_count": null,
      "id": "07b376bb-da33-4efd-8f22-74cb221ecf1f",
      "metadata": {
        "id": "07b376bb-da33-4efd-8f22-74cb221ecf1f",
        "outputId": "9bf41582-d93a-4d78-fb07-e3764e26cdd3",
        "colab": {
          "base_uri": "https://localhost:8080/"
        }
      },
      "outputs": [
        {
          "output_type": "stream",
          "name": "stdout",
          "text": [
            "slow_square took 1.0002 seconds\n",
            "25\n",
            "slow_sum took 2.0393 seconds\n",
            "499999500000\n"
          ]
        }
      ],
      "source": [
        "import time\n",
        "from functools import wraps\n",
        "\n",
        "def timer(func):\n",
        "    @wraps(func)\n",
        "    def wrapper(*args, **kwargs):\n",
        "        start = time.time()\n",
        "        result = func(*args, **kwargs)\n",
        "        end = time.time()\n",
        "        print(f\"{func.__name__} took {end - start:.4f} seconds\")\n",
        "        return result\n",
        "    return wrapper\n",
        "\n",
        "@timer\n",
        "def slow_square(n):\n",
        "    time.sleep(1)\n",
        "    return n * n\n",
        "\n",
        "@timer\n",
        "def slow_sum(n):\n",
        "    time.sleep(2)\n",
        "    return sum(range(n))\n",
        "\n",
        "print(slow_square(5))\n",
        "print(slow_sum(1000000))\n"
      ]
    },
    {
      "cell_type": "markdown",
      "id": "b86dcc18-47c6-4f28-a45e-55cf98873bec",
      "metadata": {
        "id": "b86dcc18-47c6-4f28-a45e-55cf98873bec"
      },
      "source": [
        "### if elif else"
      ]
    },
    {
      "cell_type": "code",
      "execution_count": null,
      "id": "c51eba9a-43fd-4d0e-820f-362bed9b10e5",
      "metadata": {
        "id": "c51eba9a-43fd-4d0e-820f-362bed9b10e5",
        "outputId": "1c678d91-c905-46ae-90cd-a6429b6efdf5",
        "colab": {
          "base_uri": "https://localhost:8080/"
        }
      },
      "outputs": [
        {
          "output_type": "stream",
          "name": "stdout",
          "text": [
            "x is greater than 5\n",
            "_________________________\n",
            "x is odd\n",
            "_________________________\n",
            "Grade: B\n"
          ]
        }
      ],
      "source": [
        "x = 10\n",
        "\n",
        "if x > 5:\n",
        "    print(\"x is greater than 5\")\n",
        "print('_'*25)\n",
        "\n",
        "\n",
        "x = 3\n",
        "if x % 2 == 0:\n",
        "    print(\"x is even\")\n",
        "else:\n",
        "    print(\"x is odd\")\n",
        "print('_'*25)\n",
        "\n",
        "\n",
        "score = 85\n",
        "\n",
        "if score >= 90:\n",
        "    print(\"Grade: A\")\n",
        "elif score >= 80:\n",
        "    print(\"Grade: B\")\n",
        "elif score >= 70:\n",
        "    print(\"Grade: C\")\n",
        "else:\n",
        "    print(\"Grade: F\")\n",
        "\n"
      ]
    },
    {
      "cell_type": "markdown",
      "id": "3bc914c6-946f-45c2-9960-4ee2d49a5cd2",
      "metadata": {
        "id": "3bc914c6-946f-45c2-9960-4ee2d49a5cd2"
      },
      "source": [
        "##### Nested if"
      ]
    },
    {
      "cell_type": "code",
      "execution_count": null,
      "id": "a6d42bf0-15ec-4ff6-8e07-31e4af8088a5",
      "metadata": {
        "id": "a6d42bf0-15ec-4ff6-8e07-31e4af8088a5",
        "outputId": "6e26cbb3-1e49-46af-a889-336441ffc999",
        "colab": {
          "base_uri": "https://localhost:8080/"
        }
      },
      "outputs": [
        {
          "output_type": "stream",
          "name": "stdout",
          "text": [
            "x is positive and odd\n"
          ]
        }
      ],
      "source": [
        "x = 15\n",
        "\n",
        "if x > 0:\n",
        "    if x % 2 == 0:\n",
        "        print(\"x is positive and even\")\n",
        "    else:\n",
        "        print(\"x is positive and odd\")\n",
        "else:\n",
        "    print(\"x is not positive\")\n"
      ]
    },
    {
      "cell_type": "markdown",
      "id": "b41907b1-818b-4d84-a925-147ad12dc1b0",
      "metadata": {
        "id": "b41907b1-818b-4d84-a925-147ad12dc1b0"
      },
      "source": [
        "#### Multiple Conditions (and, or, not)"
      ]
    },
    {
      "cell_type": "code",
      "execution_count": null,
      "id": "f759bd19-5ab8-48af-9715-93ac9204fe98",
      "metadata": {
        "id": "f759bd19-5ab8-48af-9715-93ac9204fe98",
        "outputId": "6c33f8d9-38c6-46cb-e137-71b728713c6d",
        "colab": {
          "base_uri": "https://localhost:8080/"
        }
      },
      "outputs": [
        {
          "output_type": "stream",
          "name": "stdout",
          "text": [
            "Access granted\n"
          ]
        }
      ],
      "source": [
        "age = 20\n",
        "has_id = True\n",
        "\n",
        "if age >= 18 and has_id:\n",
        "    print(\"Access granted\")\n",
        "else:\n",
        "    print(\"Access denied\")\n"
      ]
    },
    {
      "cell_type": "markdown",
      "id": "113af08e-f5c2-4af0-b232-3cad3cf1f2aa",
      "metadata": {
        "id": "113af08e-f5c2-4af0-b232-3cad3cf1f2aa"
      },
      "source": [
        "#### Ternary Expression (one-line if/else)"
      ]
    },
    {
      "cell_type": "code",
      "execution_count": null,
      "id": "39e93aad-a06b-4fc5-9837-9038aa47b8d9",
      "metadata": {
        "id": "39e93aad-a06b-4fc5-9837-9038aa47b8d9",
        "outputId": "02a1af04-36bc-4a4a-9575-027c12867699",
        "colab": {
          "base_uri": "https://localhost:8080/"
        }
      },
      "outputs": [
        {
          "output_type": "stream",
          "name": "stdout",
          "text": [
            "Odd\n"
          ]
        }
      ],
      "source": [
        "x = 7\n",
        "result = \"Even\" if x % 2 == 0 else \"Odd\"\n",
        "print(result)\n"
      ]
    },
    {
      "cell_type": "markdown",
      "id": "56a39778-b8d0-4002-8927-dbe9bf7de26c",
      "metadata": {
        "id": "56a39778-b8d0-4002-8927-dbe9bf7de26c"
      },
      "source": [
        "##### Real Example: Login System"
      ]
    },
    {
      "cell_type": "code",
      "execution_count": null,
      "id": "854917c2-dd85-4bae-9298-c580b54ae452",
      "metadata": {
        "id": "854917c2-dd85-4bae-9298-c580b54ae452",
        "outputId": "26666aa1-865a-4547-f04e-1161320c2fc4",
        "colab": {
          "base_uri": "https://localhost:8080/"
        }
      },
      "outputs": [
        {
          "output_type": "stream",
          "name": "stdout",
          "text": [
            "Login successful ✅\n"
          ]
        }
      ],
      "source": [
        "\n",
        "username = \"admin\"\n",
        "password = \"1234\"\n",
        "\n",
        "if username == \"admin\" and password == \"1234\":\n",
        "    print(\"Login successful ✅\")\n",
        "elif username == \"admin\":\n",
        "    print(\"Wrong password ❌\")\n",
        "else:\n",
        "    print(\"Unknown user 🚫\")\n"
      ]
    },
    {
      "cell_type": "markdown",
      "id": "1c3dbb7e-bbf2-413e-b4f3-5a25ee7f023d",
      "metadata": {
        "id": "1c3dbb7e-bbf2-413e-b4f3-5a25ee7f023d"
      },
      "source": [
        "##### Real Example: Traffic Light"
      ]
    },
    {
      "cell_type": "code",
      "execution_count": null,
      "id": "7230b7cd-0f74-49c6-bdd6-85e3e817103b",
      "metadata": {
        "id": "7230b7cd-0f74-49c6-bdd6-85e3e817103b",
        "outputId": "db692dde-4127-4549-bd9b-caf7d9b8dd40",
        "colab": {
          "base_uri": "https://localhost:8080/"
        }
      },
      "outputs": [
        {
          "output_type": "stream",
          "name": "stdout",
          "text": [
            "Slow down ⚠️\n"
          ]
        }
      ],
      "source": [
        "light = \"yellow\"\n",
        "\n",
        "if light == \"green\":\n",
        "    print(\"Go 🚗\")\n",
        "elif light == \"yellow\":\n",
        "    print(\"Slow down ⚠️\")\n",
        "elif light == \"red\":\n",
        "    print(\"Stop 🛑\")\n",
        "else:\n",
        "    print(\"Invalid signal ❓\")\n"
      ]
    },
    {
      "cell_type": "markdown",
      "id": "4878ddca-3213-4a7e-91db-3a16e8ca2461",
      "metadata": {
        "id": "4878ddca-3213-4a7e-91db-3a16e8ca2461"
      },
      "source": [
        "### Operators ==, !=, <=, >=, <, >"
      ]
    },
    {
      "cell_type": "code",
      "execution_count": null,
      "id": "6c7ca367-af81-4895-888c-6e391963f70f",
      "metadata": {
        "id": "6c7ca367-af81-4895-888c-6e391963f70f",
        "outputId": "f17d971d-29a3-4acc-9e86-764ab00c693a",
        "colab": {
          "base_uri": "https://localhost:8080/"
        }
      },
      "outputs": [
        {
          "output_type": "stream",
          "name": "stdout",
          "text": [
            "False\n",
            "True\n",
            "True\n",
            "False\n",
            "True\n",
            "True\n"
          ]
        }
      ],
      "source": [
        "a, b = 5, 3\n",
        "\n",
        "print(a == b)   # False\n",
        "print(a != b)   # True\n",
        "\n",
        "\n",
        "\n",
        "print(5 > 3)    # True\n",
        "print(5 < 3)    # False\n",
        "print(5 >= 5)   # True\n",
        "print(3 <= 5)   # True\n",
        "\n"
      ]
    },
    {
      "cell_type": "code",
      "execution_count": null,
      "id": "75392e31-69e0-479e-9f07-c14bf6964a44",
      "metadata": {
        "id": "75392e31-69e0-479e-9f07-c14bf6964a44",
        "outputId": "178f657e-12c6-4547-c3a1-323ae7443f68",
        "colab": {
          "base_uri": "https://localhost:8080/"
        }
      },
      "outputs": [
        {
          "output_type": "stream",
          "name": "stdout",
          "text": [
            "Allowed ✅\n"
          ]
        }
      ],
      "source": [
        "age = 20\n",
        "has_id = True\n",
        "\n",
        "if age >= 18 and has_id:\n",
        "    print(\"Allowed ✅\")\n",
        "else:\n",
        "    print(\"Denied ❌\")\n"
      ]
    },
    {
      "cell_type": "code",
      "execution_count": null,
      "id": "72979e4c-8cd0-4e55-9768-7efe7d16c0c1",
      "metadata": {
        "id": "72979e4c-8cd0-4e55-9768-7efe7d16c0c1",
        "outputId": "5cc45b05-6605-45bc-89c0-aa2314cce0fa",
        "colab": {
          "base_uri": "https://localhost:8080/"
        }
      },
      "outputs": [
        {
          "output_type": "stream",
          "name": "stdout",
          "text": [
            "Weekend 🎉\n"
          ]
        }
      ],
      "source": [
        "day = \"Sunday\"\n",
        "\n",
        "if day == \"Saturday\" or day == \"Sunday\":\n",
        "    print(\"Weekend 🎉\")\n",
        "else:\n",
        "    print(\"Weekday 💼\")\n"
      ]
    },
    {
      "cell_type": "code",
      "execution_count": null,
      "id": "12a177a8-b30f-4609-93fe-ee878eb0888a",
      "metadata": {
        "id": "12a177a8-b30f-4609-93fe-ee878eb0888a",
        "outputId": "51aa05ae-5ac3-4c62-cf9d-04634e547c72",
        "colab": {
          "base_uri": "https://localhost:8080/"
        }
      },
      "outputs": [
        {
          "output_type": "stream",
          "name": "stdout",
          "text": [
            "Please log in 🔑\n"
          ]
        }
      ],
      "source": [
        "logged_in = False\n",
        "\n",
        "if not logged_in:\n",
        "    print(\"Please log in 🔑\")\n",
        "else:\n",
        "    print(\"Welcome back 👋\")\n"
      ]
    },
    {
      "cell_type": "code",
      "execution_count": null,
      "id": "bc1fcae5-33a1-4c60-b161-5cec4f47faff",
      "metadata": {
        "id": "bc1fcae5-33a1-4c60-b161-5cec4f47faff",
        "outputId": "d0a017d0-4afe-46b1-ab6b-d88e0e643ef4",
        "colab": {
          "base_uri": "https://localhost:8080/"
        }
      },
      "outputs": [
        {
          "output_type": "stream",
          "name": "stdout",
          "text": [
            "x is between 10 and 20\n",
            "x is either less than 5 or greater than 12\n",
            "x is 15 ✅\n"
          ]
        }
      ],
      "source": [
        "x = 15\n",
        "\n",
        "if x > 10 and x < 20:\n",
        "    print(\"x is between 10 and 20\")\n",
        "\n",
        "if x < 5 or x > 12:\n",
        "    print(\"x is either less than 5 or greater than 12\")\n",
        "\n",
        "if not (x == 15):\n",
        "    print(\"x is not 15\")\n",
        "else:\n",
        "    print(\"x is 15 ✅\")\n"
      ]
    },
    {
      "cell_type": "markdown",
      "id": "dd526a3c-2670-4af1-949b-613729ca5c85",
      "metadata": {
        "id": "dd526a3c-2670-4af1-949b-613729ca5c85"
      },
      "source": [
        "### for loop"
      ]
    },
    {
      "cell_type": "code",
      "execution_count": null,
      "id": "39bf0e99-ac50-4dd4-979a-1f886bec306c",
      "metadata": {
        "id": "39bf0e99-ac50-4dd4-979a-1f886bec306c",
        "outputId": "47079254-916f-49bd-dee0-5553b507afab",
        "colab": {
          "base_uri": "https://localhost:8080/"
        }
      },
      "outputs": [
        {
          "output_type": "stream",
          "name": "stdout",
          "text": [
            "apple\n",
            "banana\n",
            "cherry\n"
          ]
        }
      ],
      "source": [
        "fruits = [\"apple\", \"banana\", \"cherry\"]\n",
        "\n",
        "for fruit in fruits:\n",
        "    print(fruit)\n"
      ]
    },
    {
      "cell_type": "code",
      "execution_count": null,
      "id": "19630f3e-997e-4366-9eb9-3a790c71408f",
      "metadata": {
        "id": "19630f3e-997e-4366-9eb9-3a790c71408f",
        "outputId": "e6315101-00c7-4712-9414-91c31e8f1d37",
        "colab": {
          "base_uri": "https://localhost:8080/"
        }
      },
      "outputs": [
        {
          "output_type": "stream",
          "name": "stdout",
          "text": [
            "h\n",
            "e\n",
            "l\n",
            "l\n",
            "o\n"
          ]
        }
      ],
      "source": [
        "for letter in \"hello\":\n",
        "    print(letter)\n"
      ]
    },
    {
      "cell_type": "code",
      "execution_count": null,
      "id": "12fd4d86-eb85-4c45-b850-0566203dc3cc",
      "metadata": {
        "id": "12fd4d86-eb85-4c45-b850-0566203dc3cc",
        "outputId": "d109cdee-6086-45ef-fe4a-8f786b4e6b9f",
        "colab": {
          "base_uri": "https://localhost:8080/"
        }
      },
      "outputs": [
        {
          "output_type": "stream",
          "name": "stdout",
          "text": [
            "0\n",
            "1\n",
            "2\n",
            "3\n",
            "4\n",
            "2\n",
            "3\n",
            "4\n",
            "5\n",
            "0\n",
            "2\n",
            "4\n",
            "6\n",
            "8\n"
          ]
        }
      ],
      "source": [
        "for i in range(5):   # 0 to 4\n",
        "    print(i)\n",
        "\n",
        "for i in range(2, 6):   # 2 to 5\n",
        "    print(i)\n",
        "\n",
        "for i in range(0, 10, 2):   # step of 2\n",
        "    print(i)\n"
      ]
    },
    {
      "cell_type": "code",
      "execution_count": null,
      "id": "edb3596a-b330-47b0-9e55-0c70ee07d680",
      "metadata": {
        "id": "edb3596a-b330-47b0-9e55-0c70ee07d680",
        "outputId": "0041ba13-93fc-4f0f-d3e0-a03b52ce4bfa",
        "colab": {
          "base_uri": "https://localhost:8080/"
        }
      },
      "outputs": [
        {
          "output_type": "stream",
          "name": "stdout",
          "text": [
            "0 red\n",
            "1 green\n",
            "2 blue\n"
          ]
        }
      ],
      "source": [
        "# Looping with enumerate()\n",
        "colors = [\"red\", \"green\", \"blue\"]\n",
        "\n",
        "for index, color in enumerate(colors):\n",
        "    print(index, color)\n"
      ]
    },
    {
      "cell_type": "code",
      "execution_count": null,
      "id": "b25d85a5-cbde-49fb-b3a0-c6b5754dd542",
      "metadata": {
        "id": "b25d85a5-cbde-49fb-b3a0-c6b5754dd542",
        "outputId": "3bbc5105-f5f3-428a-d926-c1327c5a9bb9",
        "colab": {
          "base_uri": "https://localhost:8080/"
        }
      },
      "outputs": [
        {
          "output_type": "stream",
          "name": "stdout",
          "text": [
            "name : Alice\n",
            "age : 25\n",
            "city : NYC\n"
          ]
        }
      ],
      "source": [
        "# Looping over a dictionary\n",
        "\n",
        "person = {\"name\": \"Alice\", \"age\": 25, \"city\": \"NYC\"}\n",
        "\n",
        "for key, value in person.items():\n",
        "    print(key, \":\", value)\n"
      ]
    },
    {
      "cell_type": "code",
      "execution_count": null,
      "id": "3b623687-d6d7-41d9-bab7-6708fcd0aafa",
      "metadata": {
        "id": "3b623687-d6d7-41d9-bab7-6708fcd0aafa",
        "outputId": "41b88637-4c92-4de1-ef2d-266e66d940ff",
        "colab": {
          "base_uri": "https://localhost:8080/"
        }
      },
      "outputs": [
        {
          "output_type": "stream",
          "name": "stdout",
          "text": [
            "i=1, j=1\n",
            "i=1, j=2\n",
            "i=1, j=3\n",
            "i=2, j=1\n",
            "i=2, j=2\n",
            "i=2, j=3\n",
            "i=3, j=1\n",
            "i=3, j=2\n",
            "i=3, j=3\n"
          ]
        }
      ],
      "source": [
        "# Nested loops\n",
        "\n",
        "for i in range(1, 4):\n",
        "    for j in range(1, 4):\n",
        "        print(f\"i={i}, j={j}\")\n"
      ]
    },
    {
      "cell_type": "code",
      "execution_count": null,
      "id": "796ee1f4-90a9-464e-8db7-410dcbc65d5d",
      "metadata": {
        "id": "796ee1f4-90a9-464e-8db7-410dcbc65d5d",
        "outputId": "f7213672-aaf9-46d6-c2b2-c6e44d2b98b8",
        "colab": {
          "base_uri": "https://localhost:8080/"
        }
      },
      "outputs": [
        {
          "output_type": "stream",
          "name": "stdout",
          "text": [
            "1\n",
            "2\n",
            "4\n"
          ]
        }
      ],
      "source": [
        "# Using break and continue\n",
        "nums = [1, 2, 3, 4, 5]\n",
        "\n",
        "for n in nums:\n",
        "    if n == 3:\n",
        "        continue   # skip 3\n",
        "    if n == 5:\n",
        "        break      # stop at 5\n",
        "    print(n)\n"
      ]
    },
    {
      "cell_type": "code",
      "execution_count": null,
      "id": "fa4fa3b6-ea92-4827-bcb3-5269facde92b",
      "metadata": {
        "id": "fa4fa3b6-ea92-4827-bcb3-5269facde92b",
        "outputId": "1220980d-9152-4b4a-f25c-43a1aa238c55",
        "colab": {
          "base_uri": "https://localhost:8080/"
        }
      },
      "outputs": [
        {
          "output_type": "stream",
          "name": "stdout",
          "text": [
            "0\n",
            "1\n",
            "2\n",
            "3\n",
            "4\n",
            "Loop finished without break\n"
          ]
        }
      ],
      "source": [
        "# Loop with else\n",
        "for n in range(5):\n",
        "    print(n)\n",
        "else:\n",
        "    print(\"Loop finished without break\")\n",
        "# The else block runs only if the loop does not end with break"
      ]
    },
    {
      "cell_type": "markdown",
      "id": "e0e69cc6-f97d-4dac-a0f0-3f89f59deee6",
      "metadata": {
        "id": "e0e69cc6-f97d-4dac-a0f0-3f89f59deee6"
      },
      "source": [
        "##### List Comprehension (short for loop)"
      ]
    },
    {
      "cell_type": "code",
      "execution_count": null,
      "id": "2efb6892-3a47-4603-8fc0-7b3c7f1b0f64",
      "metadata": {
        "id": "2efb6892-3a47-4603-8fc0-7b3c7f1b0f64",
        "outputId": "6b7cd76b-f634-41fa-e393-41646ad872bb",
        "colab": {
          "base_uri": "https://localhost:8080/"
        }
      },
      "outputs": [
        {
          "output_type": "stream",
          "name": "stdout",
          "text": [
            "[0, 1, 4, 9, 16]\n",
            "_________________________\n",
            "[0, 2, 4, 6, 8]\n"
          ]
        }
      ],
      "source": [
        "squares = [x**2 for x in range(5)]\n",
        "print(squares)\n",
        "print('_'*25)\n",
        "\n",
        "evens = [x for x in range(10) if x % 2 == 0]\n",
        "print(evens)\n"
      ]
    },
    {
      "cell_type": "markdown",
      "id": "33b159e2-0f99-4c2f-93a4-99ae4aaeba85",
      "metadata": {
        "id": "33b159e2-0f99-4c2f-93a4-99ae4aaeba85"
      },
      "source": [
        "### while loop"
      ]
    },
    {
      "cell_type": "code",
      "execution_count": null,
      "id": "4ea1f4b3-7644-4134-aca9-5eab858963fe",
      "metadata": {
        "id": "4ea1f4b3-7644-4134-aca9-5eab858963fe"
      },
      "outputs": [],
      "source": [
        "# Infinite loop (⚠️ careful!)\n",
        "# while True:\n",
        "#     print(\"This runs forever!\")\n"
      ]
    },
    {
      "cell_type": "code",
      "execution_count": null,
      "id": "15df71e6-e8d8-4dc1-ad55-85dcbbad9036",
      "metadata": {
        "id": "15df71e6-e8d8-4dc1-ad55-85dcbbad9036",
        "outputId": "380d7d0d-f898-4840-f88c-030ed48cc4da",
        "colab": {
          "base_uri": "https://localhost:8080/"
        }
      },
      "outputs": [
        {
          "output_type": "stream",
          "name": "stdout",
          "text": [
            "1\n",
            "2\n",
            "3\n"
          ]
        }
      ],
      "source": [
        "x = 1\n",
        "while True:\n",
        "    print(x)\n",
        "    if x == 3:\n",
        "        break   # exit loop\n",
        "    x += 1\n"
      ]
    },
    {
      "cell_type": "code",
      "execution_count": null,
      "id": "dd451b90-1bfc-4c20-90db-e56b8b1584fb",
      "metadata": {
        "id": "dd451b90-1bfc-4c20-90db-e56b8b1584fb",
        "outputId": "8e11e1bc-7be5-44fe-b97a-7b0011399a49",
        "colab": {
          "base_uri": "https://localhost:8080/"
        }
      },
      "outputs": [
        {
          "output_type": "stream",
          "name": "stdout",
          "text": [
            "1\n",
            "2\n",
            "4\n",
            "5\n"
          ]
        }
      ],
      "source": [
        "n = 0\n",
        "while n < 5:\n",
        "    n += 1\n",
        "    if n == 3:\n",
        "        continue   # skip printing 3\n",
        "    print(n)\n"
      ]
    },
    {
      "cell_type": "code",
      "execution_count": null,
      "id": "b5ad2671-7acc-47c1-9f78-f1f04fec64e8",
      "metadata": {
        "id": "b5ad2671-7acc-47c1-9f78-f1f04fec64e8",
        "outputId": "aa8e9049-b9ea-443b-fdeb-5bbf9fc11457",
        "colab": {
          "base_uri": "https://localhost:8080/"
        }
      },
      "outputs": [
        {
          "output_type": "stream",
          "name": "stdout",
          "text": [
            "Loop 1\n",
            "Loop 2\n",
            "Loop 3\n",
            "Loop finished (no break)\n"
          ]
        }
      ],
      "source": [
        "i = 1\n",
        "while i <= 3:\n",
        "    print(\"Loop\", i)\n",
        "    i += 1\n",
        "else:\n",
        "    print(\"Loop finished (no break)\")\n"
      ]
    },
    {
      "cell_type": "code",
      "execution_count": null,
      "id": "d8499af7-f45a-4e1c-a154-104432474caa",
      "metadata": {
        "id": "d8499af7-f45a-4e1c-a154-104432474caa",
        "outputId": "4c7c45d2-d888-4a70-c24a-eb8144da531d",
        "colab": {
          "base_uri": "https://localhost:8080/"
        }
      },
      "outputs": [
        {
          "output_type": "stream",
          "name": "stdout",
          "text": [
            "5 x 1 = 5\n",
            "5 x 2 = 10\n",
            "5 x 3 = 15\n",
            "5 x 4 = 20\n",
            "5 x 5 = 25\n"
          ]
        }
      ],
      "source": [
        "n = 1\n",
        "while n <= 5:\n",
        "    print(f\"5 x {n} = {5*n}\")\n",
        "    n += 1\n"
      ]
    },
    {
      "cell_type": "markdown",
      "id": "849dd499-05c5-4766-9eb4-7bb2b034c0b1",
      "metadata": {
        "id": "849dd499-05c5-4766-9eb4-7bb2b034c0b1"
      },
      "source": [
        "### print with colors"
      ]
    },
    {
      "cell_type": "markdown",
      "id": "9c5876ed-5c6f-4666-9ea7-b74c9aaac80d",
      "metadata": {
        "id": "9c5876ed-5c6f-4666-9ea7-b74c9aaac80d"
      },
      "source": [
        "##### Using ANSI Escape Codes (built-in)"
      ]
    },
    {
      "cell_type": "code",
      "execution_count": null,
      "id": "75985ffb-75cf-40ea-b377-239a85f80338",
      "metadata": {
        "id": "75985ffb-75cf-40ea-b377-239a85f80338",
        "outputId": "5803c69f-e04b-440e-a0b3-bfef0eef5ca1",
        "colab": {
          "base_uri": "https://localhost:8080/"
        }
      },
      "outputs": [
        {
          "output_type": "stream",
          "name": "stdout",
          "text": [
            "\u001b[31mThis is Red Text\u001b[0m\n",
            "\u001b[32mThis is Green Text\u001b[0m\n",
            "\u001b[33mThis is Yellow Text\u001b[0m\n",
            "\u001b[34mThis is Blue Text\u001b[0m\n",
            "\u001b[35mThis is Magenta Text\u001b[0m\n",
            "\u001b[36mThis is Cyan Text\u001b[0m\n",
            "\u001b[37mThis is White Text\u001b[0m\n"
          ]
        }
      ],
      "source": [
        "# Format: \\033[<style>;<text_color>;<background_color>m\n",
        "\n",
        "print(\"\\033[31mThis is Red Text\\033[0m\")\n",
        "print(\"\\033[32mThis is Green Text\\033[0m\")\n",
        "print(\"\\033[33mThis is Yellow Text\\033[0m\")\n",
        "print(\"\\033[34mThis is Blue Text\\033[0m\")\n",
        "print(\"\\033[35mThis is Magenta Text\\033[0m\")\n",
        "print(\"\\033[36mThis is Cyan Text\\033[0m\")\n",
        "print(\"\\033[37mThis is White Text\\033[0m\")\n"
      ]
    },
    {
      "cell_type": "markdown",
      "id": "5fb01e80-c4d9-46d7-ab1d-4264209fcb1e",
      "metadata": {
        "id": "5fb01e80-c4d9-46d7-ab1d-4264209fcb1e"
      },
      "source": [
        "##### Add Styles"
      ]
    },
    {
      "cell_type": "code",
      "execution_count": null,
      "id": "6c4dd465-14fa-45e0-a6d7-e5ee8becb7a3",
      "metadata": {
        "id": "6c4dd465-14fa-45e0-a6d7-e5ee8becb7a3",
        "outputId": "09589137-5f6a-4732-db55-2f33a544a595",
        "colab": {
          "base_uri": "https://localhost:8080/"
        }
      },
      "outputs": [
        {
          "output_type": "stream",
          "name": "stdout",
          "text": [
            "\u001b[1;32mBold Green\u001b[0m\n",
            "\u001b[4;34mUnderlined Blue\u001b[0m\n",
            "\u001b[7;31mInverted Red\u001b[0m\n"
          ]
        }
      ],
      "source": [
        "print(\"\\033[1;32mBold Green\\033[0m\")\n",
        "print(\"\\033[4;34mUnderlined Blue\\033[0m\")\n",
        "print(\"\\033[7;31mInverted Red\\033[0m\")\n"
      ]
    },
    {
      "cell_type": "markdown",
      "id": "3eff8380-6d98-4813-8d43-0ff7f784ecf1",
      "metadata": {
        "id": "3eff8380-6d98-4813-8d43-0ff7f784ecf1"
      },
      "source": [
        "##### With Background Colors"
      ]
    },
    {
      "cell_type": "code",
      "execution_count": null,
      "id": "e14dad12-3f3b-411c-95e6-68e18ef52f4c",
      "metadata": {
        "id": "e14dad12-3f3b-411c-95e6-68e18ef52f4c",
        "outputId": "a2c47d0d-202c-4283-e2e1-5e4604a80c63",
        "colab": {
          "base_uri": "https://localhost:8080/"
        }
      },
      "outputs": [
        {
          "output_type": "stream",
          "name": "stdout",
          "text": [
            "\u001b[30;47mBlack text on White background\u001b[0m\n",
            "\u001b[33;44mYellow text on Blue background\u001b[0m\n"
          ]
        }
      ],
      "source": [
        "print(\"\\033[30;47mBlack text on White background\\033[0m\")\n",
        "print(\"\\033[33;44mYellow text on Blue background\\033[0m\")\n"
      ]
    },
    {
      "cell_type": "markdown",
      "id": "0f66cb77-e53e-49a9-914e-b10e0ccb6b6a",
      "metadata": {
        "id": "0f66cb77-e53e-49a9-914e-b10e0ccb6b6a"
      },
      "source": [
        "##### Using colorama (Windows friendly 🌐)-  (terminal only)"
      ]
    },
    {
      "cell_type": "code",
      "execution_count": null,
      "id": "d750ab57-ec80-4c18-a185-dda717a1038e",
      "metadata": {
        "id": "d750ab57-ec80-4c18-a185-dda717a1038e",
        "outputId": "93ffec17-0663-4efb-b5a3-e452e16ba1d7",
        "colab": {
          "base_uri": "https://localhost:8080/",
          "height": 383
        }
      },
      "outputs": [
        {
          "output_type": "error",
          "ename": "ModuleNotFoundError",
          "evalue": "No module named 'colorama'",
          "traceback": [
            "\u001b[0;31m---------------------------------------------------------------------------\u001b[0m",
            "\u001b[0;31mModuleNotFoundError\u001b[0m                       Traceback (most recent call last)",
            "\u001b[0;32m/tmp/ipython-input-1974518103.py\u001b[0m in \u001b[0;36m<cell line: 0>\u001b[0;34m()\u001b[0m\n\u001b[1;32m      1\u001b[0m \u001b[0;31m#pip install colorama)\u001b[0m\u001b[0;34m\u001b[0m\u001b[0;34m\u001b[0m\u001b[0m\n\u001b[1;32m      2\u001b[0m \u001b[0;34m\u001b[0m\u001b[0m\n\u001b[0;32m----> 3\u001b[0;31m \u001b[0;32mfrom\u001b[0m \u001b[0mcolorama\u001b[0m \u001b[0;32mimport\u001b[0m \u001b[0mFore\u001b[0m\u001b[0;34m,\u001b[0m \u001b[0mBack\u001b[0m\u001b[0;34m,\u001b[0m \u001b[0mStyle\u001b[0m\u001b[0;34m,\u001b[0m \u001b[0minit\u001b[0m\u001b[0;34m\u001b[0m\u001b[0;34m\u001b[0m\u001b[0m\n\u001b[0m\u001b[1;32m      4\u001b[0m \u001b[0minit\u001b[0m\u001b[0;34m(\u001b[0m\u001b[0mautoreset\u001b[0m\u001b[0;34m=\u001b[0m\u001b[0;32mTrue\u001b[0m\u001b[0;34m)\u001b[0m  \u001b[0;31m# auto reset after each print\u001b[0m\u001b[0;34m\u001b[0m\u001b[0;34m\u001b[0m\u001b[0m\n\u001b[1;32m      5\u001b[0m \u001b[0;34m\u001b[0m\u001b[0m\n",
            "\u001b[0;31mModuleNotFoundError\u001b[0m: No module named 'colorama'",
            "",
            "\u001b[0;31m---------------------------------------------------------------------------\u001b[0;32m\nNOTE: If your import is failing due to a missing package, you can\nmanually install dependencies using either !pip or !apt.\n\nTo view examples of installing some common dependencies, click the\n\"Open Examples\" button below.\n\u001b[0;31m---------------------------------------------------------------------------\u001b[0m\n"
          ],
          "errorDetails": {
            "actions": [
              {
                "action": "open_url",
                "actionText": "Open Examples",
                "url": "/notebooks/snippets/importing_libraries.ipynb"
              }
            ]
          }
        }
      ],
      "source": [
        "#pip install colorama)\n",
        "\n",
        "from colorama import Fore, Back, Style, init\n",
        "init(autoreset=True)  # auto reset after each print\n",
        "\n",
        "print(Fore.RED + \"Red text\")\n",
        "print(Fore.GREEN + \"Green text\")\n",
        "print(Back.YELLOW + \"With Yellow Background\")\n",
        "print(Style.BRIGHT + Fore.BLUE + \"Bright Blue text\")\n"
      ]
    },
    {
      "cell_type": "markdown",
      "id": "6cc9e49b-e07f-497a-aca7-a4988d1c2119",
      "metadata": {
        "id": "6cc9e49b-e07f-497a-aca7-a4988d1c2119"
      },
      "source": [
        "##### Using termcolor - (terminal only)"
      ]
    },
    {
      "cell_type": "code",
      "execution_count": null,
      "id": "5b626b12-7863-4e4f-9fa3-7764963beeed",
      "metadata": {
        "id": "5b626b12-7863-4e4f-9fa3-7764963beeed"
      },
      "outputs": [],
      "source": [
        "# pip install termcolor\n",
        "\n",
        "from termcolor import colored\n",
        "\n",
        "print(colored(\"Hello in Red\", \"red\"))\n",
        "print(colored(\"Green on Yellow\", \"green\", \"on_yellow\"))\n",
        "print(colored(\"Bold Blue\", \"blue\", attrs=[\"bold\"]))\n"
      ]
    },
    {
      "cell_type": "markdown",
      "id": "18fb3eb6-c9d7-401d-bafa-90cba93dc021",
      "metadata": {
        "id": "18fb3eb6-c9d7-401d-bafa-90cba93dc021"
      },
      "source": [
        "##### Use IPython display + HTML in Jupyter"
      ]
    },
    {
      "cell_type": "code",
      "execution_count": null,
      "id": "2a471241-d7b6-4af7-8193-9e42211c71ac",
      "metadata": {
        "id": "2a471241-d7b6-4af7-8193-9e42211c71ac"
      },
      "outputs": [],
      "source": [
        "from IPython.display import HTML, display\n",
        "\n",
        "def cprint(text, color=\"red\", bgcolor=None, bold=False):\n",
        "    style = f\"color:{color};\"\n",
        "    if bgcolor:\n",
        "        style += f\"background-color:{bgcolor};\"\n",
        "    if bold:\n",
        "        style += \"font-weight:bold;\"\n",
        "    display(HTML(f\"<span style='{style}'>{text}</span>\"))\n",
        "\n",
        "cprint(\"Hello Red\", color=\"red\")\n",
        "cprint(\"Green on Yellow\", color=\"green\", bgcolor=\"yellow\")\n",
        "cprint(\"Bold Blue\", color=\"blue\", bold=True)\n"
      ]
    },
    {
      "cell_type": "markdown",
      "id": "0c79ab11-e7f6-4462-951a-4495d70b9c47",
      "metadata": {
        "id": "0c79ab11-e7f6-4462-951a-4495d70b9c47"
      },
      "source": [
        "### Use rich (best for modern notebooks & terminals) **************"
      ]
    },
    {
      "cell_type": "code",
      "execution_count": null,
      "id": "a92c36c4-1c58-4c50-b8ab-f3b1209ec904",
      "metadata": {
        "id": "a92c36c4-1c58-4c50-b8ab-f3b1209ec904"
      },
      "outputs": [],
      "source": [
        "# pip install rich\n",
        "\n",
        "from rich import print as rprint\n",
        "\n",
        "rprint('No color', end=\" end \")\n",
        "rprint(\"[red]Hello in Red[/red]\", end=\" \")\n",
        "rprint(\"[green on yellow]Green on Yellow[/green on yellow]\")\n",
        "rprint(\"[bold blue]Bold Blue[/bold blue]\")\n"
      ]
    },
    {
      "cell_type": "markdown",
      "id": "7f56a307-baeb-4cdf-ba59-66222088ac4a",
      "metadata": {
        "id": "7f56a307-baeb-4cdf-ba59-66222088ac4a"
      },
      "source": [
        "# Dynamic Programming"
      ]
    },
    {
      "cell_type": "markdown",
      "id": "8a327013-37eb-4fb0-986a-3a52898646cf",
      "metadata": {
        "id": "8a327013-37eb-4fb0-986a-3a52898646cf"
      },
      "source": [
        "## Fibonacci Numbers (Top-down with Memoization)\n",
        "#### ✅ Uses recursion + memo dictionary to avoid recomputation."
      ]
    },
    {
      "cell_type": "code",
      "execution_count": null,
      "id": "e1dc4dbe-56fe-41cc-98f5-272a6ebaa95b",
      "metadata": {
        "id": "e1dc4dbe-56fe-41cc-98f5-272a6ebaa95b"
      },
      "outputs": [],
      "source": [
        "def fib(n, memo={}):\n",
        "    if n in memo:\n",
        "        return memo[n]\n",
        "    if n <= 1:\n",
        "        return n\n",
        "    memo[n] = fib(n-1, memo) + fib(n-2, memo)\n",
        "    return memo[n]\n",
        "\n",
        "print([fib(i) for i in range(10)])  # First 10 Fibonacci numbers\n"
      ]
    },
    {
      "cell_type": "markdown",
      "id": "cd2c55d7-ebad-435e-ae60-1eae81d8e02c",
      "metadata": {
        "id": "cd2c55d7-ebad-435e-ae60-1eae81d8e02c"
      },
      "source": [
        "## Fibonacci (Bottom-up Tabulation)\n",
        "#### Iterative and efficient."
      ]
    },
    {
      "cell_type": "code",
      "execution_count": null,
      "id": "e62c52ab-39ac-4ef4-80f6-6c8413d8d8e4",
      "metadata": {
        "id": "e62c52ab-39ac-4ef4-80f6-6c8413d8d8e4"
      },
      "outputs": [],
      "source": [
        "def fib_tab(n):\n",
        "    dp = [0, 1] + [0]*(n-1)\n",
        "    for i in range(2, n+1):\n",
        "        dp[i] = dp[i-1] + dp[i-2]\n",
        "    return dp[n]\n",
        "\n",
        "print(fib_tab(100))  # 55\n"
      ]
    },
    {
      "cell_type": "markdown",
      "id": "d002449c-f4e9-4698-b402-979793faca69",
      "metadata": {
        "id": "d002449c-f4e9-4698-b402-979793faca69"
      },
      "source": [
        "## 🔹 Climbing Stairs (LeetCode Classic)\n",
        "#### You can climb 1 or 2 steps at a time. How many ways to reach the top?"
      ]
    },
    {
      "cell_type": "code",
      "execution_count": null,
      "id": "844fc910-486b-4772-98a5-c22ed1778062",
      "metadata": {
        "id": "844fc910-486b-4772-98a5-c22ed1778062"
      },
      "outputs": [],
      "source": [
        "def climb_stairs(n):\n",
        "    if n <= 2:\n",
        "        return n\n",
        "    dp = [0]*(n+1)\n",
        "    dp[1], dp[2] = 1, 2\n",
        "    for i in range(3, n+1):\n",
        "        dp[i] = dp[i-1] + dp[i-2]\n",
        "    return dp[n]\n",
        "\n",
        "print(climb_stairs(5))  # 8\n"
      ]
    },
    {
      "cell_type": "markdown",
      "id": "9b97654f-a47f-4deb-a43e-956d17a5f5b2",
      "metadata": {
        "id": "9b97654f-a47f-4deb-a43e-956d17a5f5b2"
      },
      "source": [
        "## 🔹 Coin Change (Minimum Coins)\n",
        "#### Given coins [1, 2, 5] and amount 11, find min coins."
      ]
    },
    {
      "cell_type": "code",
      "execution_count": null,
      "id": "39c5d802-a591-4c4b-91e7-d735ecff37aa",
      "metadata": {
        "id": "39c5d802-a591-4c4b-91e7-d735ecff37aa"
      },
      "outputs": [],
      "source": [
        "def coin_change(coins, amount):\n",
        "    dp = [float(\"inf\")] * (amount+1)\n",
        "    dp[0] = 0\n",
        "    for coin in coins:\n",
        "        for x in range(coin, amount+1):\n",
        "            dp[x] = min(dp[x], dp[x-coin] + 1)\n",
        "    return dp[amount] if dp[amount] != float(\"inf\") else -1\n",
        "\n",
        "print(coin_change([1,2,5], 11))  # 3 (5+5+1)\n"
      ]
    },
    {
      "cell_type": "markdown",
      "id": "db0db672-1d86-4899-8ff4-7a76a91a50bf",
      "metadata": {
        "id": "db0db672-1d86-4899-8ff4-7a76a91a50bf"
      },
      "source": [
        "## 🔹 Longest Common Subsequence (LCS)"
      ]
    },
    {
      "cell_type": "code",
      "execution_count": null,
      "id": "98fd6251-ad27-48af-86c6-baf93071c9d3",
      "metadata": {
        "id": "98fd6251-ad27-48af-86c6-baf93071c9d3"
      },
      "outputs": [],
      "source": [
        "def lcs(s1, s2):\n",
        "    m, n = len(s1), len(s2)\n",
        "    dp = [[0]*(n+1) for _ in range(m+1)]\n",
        "\n",
        "    for i in range(m-1, -1, -1):\n",
        "        for j in range(n-1, -1, -1):\n",
        "            if s1[i] == s2[j]:\n",
        "                dp[i][j] = 1 + dp[i+1][j+1]\n",
        "            else:\n",
        "                dp[i][j] = max(dp[i+1][j], dp[i][j+1])\n",
        "\n",
        "    return dp[0][0]\n",
        "\n",
        "print(lcs(\"abcde\", \"ace\"))  # 3 (\"ace\")\n"
      ]
    },
    {
      "cell_type": "code",
      "execution_count": null,
      "id": "dde21383-3c36-473b-aba5-6254c89f74cc",
      "metadata": {
        "id": "dde21383-3c36-473b-aba5-6254c89f74cc"
      },
      "outputs": [],
      "source": [
        "# 🔹 0/1 Knapsack"
      ]
    },
    {
      "cell_type": "code",
      "execution_count": null,
      "id": "742df80a-ac25-48ba-96e7-dc77ef85b9f6",
      "metadata": {
        "id": "742df80a-ac25-48ba-96e7-dc77ef85b9f6"
      },
      "outputs": [],
      "source": [
        "def knapsack(weights, values, W):\n",
        "    n = len(values)\n",
        "    dp = [[0]*(W+1) for _ in range(n+1)]\n",
        "\n",
        "    for i in range(1, n+1):\n",
        "        for w in range(1, W+1):\n",
        "            if weights[i-1] <= w:\n",
        "                dp[i][w] = max(dp[i-1][w], values[i-1] + dp[i-1][w-weights[i-1]])\n",
        "            else:\n",
        "                dp[i][w] = dp[i-1][w]\n",
        "    return dp[n][W]\n",
        "\n",
        "print(knapsack([1,3,4], [15,20,30], 4))  # 35\n"
      ]
    },
    {
      "cell_type": "markdown",
      "id": "84c33ea1-249f-4c37-86dc-409f38599b52",
      "metadata": {
        "id": "84c33ea1-249f-4c37-86dc-409f38599b52"
      },
      "source": [
        "# Algorithms"
      ]
    },
    {
      "cell_type": "markdown",
      "id": "fbe86cc2-ccf4-4a6d-be94-57b6ff1da701",
      "metadata": {
        "id": "fbe86cc2-ccf4-4a6d-be94-57b6ff1da701"
      },
      "source": [
        "## 🔹 1. Bellman–Ford Algorithm\n",
        "\n",
        "#### Works with negative weights.\n",
        "\n",
        "#### Can detect negative weight cycles."
      ]
    },
    {
      "cell_type": "code",
      "execution_count": null,
      "id": "71d86672-b144-4341-8eb3-519750b74a49",
      "metadata": {
        "id": "71d86672-b144-4341-8eb3-519750b74a49"
      },
      "outputs": [],
      "source": [
        "def bellman_ford(graph, V, src):\n",
        "    # graph = [(u, v, w), ...]\n",
        "    dist = [float(\"inf\")] * V\n",
        "    dist[src] = 0\n",
        "\n",
        "    # Relax edges V-1 times\n",
        "    for _ in range(V-1):\n",
        "        for u, v, w in graph:\n",
        "            if dist[u] != float(\"inf\") and dist[u] + w < dist[v]:\n",
        "                dist[v] = dist[u] + w\n",
        "\n",
        "    # Detect negative cycles\n",
        "    for u, v, w in graph:\n",
        "        if dist[u] != float(\"inf\") and dist[u] + w < dist[v]:\n",
        "            print(\"Graph contains negative weight cycle!\")\n",
        "            return None\n",
        "\n",
        "    return dist\n",
        "\n",
        "# Example graph\n",
        "edges = [\n",
        "    (0, 1, -1), (0, 2, 4),\n",
        "    (1, 2, 3), (1, 3, 2), (1, 4, 2),\n",
        "    (3, 2, 5), (3, 1, 1), (4, 3, -3)\n",
        "]\n",
        "print(bellman_ford(edges, 5, 0))  # [0, -1, 2, -2, 1]\n"
      ]
    },
    {
      "cell_type": "markdown",
      "id": "4e23c7f6-0ed0-47bf-837d-fede8522b3d1",
      "metadata": {
        "id": "4e23c7f6-0ed0-47bf-837d-fede8522b3d1"
      },
      "source": [
        "## 2. Dijkstra’s Algorithm\n",
        "\n",
        "#### Works with non-negative weights.\n",
        "\n",
        "#### Time complexity: O(E log V) with a priority queue (heap)."
      ]
    },
    {
      "cell_type": "code",
      "execution_count": null,
      "id": "e639097b-7978-4d9f-9de0-670cc57265e9",
      "metadata": {
        "id": "e639097b-7978-4d9f-9de0-670cc57265e9"
      },
      "outputs": [],
      "source": [
        "import heapq\n",
        "\n",
        "def dijkstra(graph, src):\n",
        "    # graph as adjacency list: {u: [(v, w), ...]}\n",
        "    dist = {node: float(\"inf\") for node in graph}\n",
        "    dist[src] = 0\n",
        "    pq = [(0, src)]  # (distance, node)\n",
        "\n",
        "    while pq:\n",
        "        d, u = heapq.heappop(pq)\n",
        "        if d > dist[u]:\n",
        "            continue\n",
        "        for v, w in graph[u]:\n",
        "            if dist[u] + w < dist[v]:\n",
        "                dist[v] = dist[u] + w\n",
        "                heapq.heappush(pq, (dist[v], v))\n",
        "    return dist\n",
        "\n",
        "graph = {\n",
        "    0: [(1, 4), (2, 1)],\n",
        "    1: [(3, 1)],\n",
        "    2: [(1, 2), (3, 5)],\n",
        "    3: []\n",
        "}\n",
        "print(dijkstra(graph, 0))  # {0: 0, 1: 3, 2: 1, 3: 4}\n"
      ]
    },
    {
      "cell_type": "markdown",
      "id": "56e90074-0b2d-4fe3-9cb9-4b37df67246c",
      "metadata": {
        "id": "56e90074-0b2d-4fe3-9cb9-4b37df67246c"
      },
      "source": [
        "## 3. Floyd–Warshall Algorithm\n",
        "\n",
        "#### Finds all-pairs shortest paths.\n",
        "\n",
        "#### Works with negative weights, but no negative cycles.\n",
        "\n",
        "#### Time complexity: O(V³)."
      ]
    },
    {
      "cell_type": "code",
      "execution_count": null,
      "id": "9c397744-6a3f-4dd4-9ba1-8c0389c0302f",
      "metadata": {
        "id": "9c397744-6a3f-4dd4-9ba1-8c0389c0302f"
      },
      "outputs": [],
      "source": [
        "def floyd_warshall(matrix):\n",
        "    V = len(matrix)\n",
        "    dist = [row[:] for row in matrix]  # copy\n",
        "\n",
        "    for k in range(V):\n",
        "        for i in range(V):\n",
        "            for j in range(V):\n",
        "                if dist[i][k] + dist[k][j] < dist[i][j]:\n",
        "                    dist[i][j] = dist[i][k] + dist[k][j]\n",
        "    return dist\n",
        "\n",
        "INF = float(\"inf\")\n",
        "graph = [\n",
        "    [0, 5, INF, 10],\n",
        "    [INF, 0, 3, INF],\n",
        "    [INF, INF, 0, 1],\n",
        "    [INF, INF, INF, 0]\n",
        "]\n",
        "\n",
        "for row in floyd_warshall(graph):\n",
        "    print(row)\n"
      ]
    },
    {
      "cell_type": "markdown",
      "id": "f62b9644-de8e-4b1e-a792-074186f88804",
      "metadata": {
        "id": "f62b9644-de8e-4b1e-a792-074186f88804"
      },
      "source": [
        "### pickle.dump(data, f), pickle.load(f)"
      ]
    },
    {
      "cell_type": "code",
      "execution_count": null,
      "id": "6da93a7e-ff6e-42da-878f-af5bdd64d3d7",
      "metadata": {
        "id": "6da93a7e-ff6e-42da-878f-af5bdd64d3d7"
      },
      "outputs": [],
      "source": [
        "import pickle\n",
        "\n",
        "data = {\"name\": \"Alice\", \"age\": 25, \"is_student\": False}\n",
        "\n",
        "# Save object to file\n",
        "with open(\"data.pkl\", \"wb\") as f:\n",
        "    pickle.dump(data, f)\n",
        "\n",
        "# Load object back\n",
        "with open(\"data.pkl\", \"rb\") as f:\n",
        "    loaded_data = pickle.load(f)\n",
        "\n",
        "print(\"Loaded:\", loaded_data)\n"
      ]
    },
    {
      "cell_type": "markdown",
      "id": "1994bd0a-9aaf-49cd-b8cd-3372caec04d6",
      "metadata": {
        "id": "1994bd0a-9aaf-49cd-b8cd-3372caec04d6"
      },
      "source": [
        "##### pickle.dump(data, f), pickle.load(f) inside a folder"
      ]
    },
    {
      "cell_type": "code",
      "execution_count": null,
      "id": "cc856157-1aa7-473b-b73b-fdc11baae3c1",
      "metadata": {
        "id": "cc856157-1aa7-473b-b73b-fdc11baae3c1"
      },
      "outputs": [],
      "source": [
        "import os\n",
        "import pickle\n",
        "\n",
        "# Data to pickle\n",
        "data = {\"name\": \"Alice\", \"age\": 25}\n",
        "\n",
        "# Folder and file path\n",
        "folder = \"saved_pickles\"\n",
        "file_path = os.path.join(folder, \"data.pkl\")\n",
        "\n",
        "# 1. Create folder if it doesn't exist\n",
        "if not os.path.exists(folder):\n",
        "    os.makedirs(folder)   # creates folder\n",
        "\n",
        "# 2. Save pickle inside that folder\n",
        "with open(file_path, \"wb\") as f:\n",
        "    pickle.dump(data, f)\n",
        "\n",
        "print(f\"Pickle saved at {file_path}\")\n",
        "\n",
        "# 3. Load it back\n",
        "with open(file_path, \"rb\") as f:\n",
        "    loaded = pickle.load(f)\n",
        "\n",
        "print(\"Loaded object:\", loaded)\n"
      ]
    },
    {
      "cell_type": "code",
      "execution_count": null,
      "id": "6912a034-f662-47d2-bd57-cbe51c5c566b",
      "metadata": {
        "id": "6912a034-f662-47d2-bd57-cbe51c5c566b"
      },
      "outputs": [],
      "source": [
        "pickle_folder = r'saved_pickles'\n",
        "pickle_file = os.path.join(pickle_folder, 'data.pkl')"
      ]
    },
    {
      "cell_type": "markdown",
      "id": "e9dbc073-d613-484c-a288-8a98e2f1efb3",
      "metadata": {
        "id": "e9dbc073-d613-484c-a288-8a98e2f1efb3"
      },
      "source": [
        "### Get file names inside a folder"
      ]
    },
    {
      "cell_type": "code",
      "execution_count": null,
      "id": "c0a03b5b-cde9-484f-82ad-fcd9e764891d",
      "metadata": {
        "id": "c0a03b5b-cde9-484f-82ad-fcd9e764891d"
      },
      "outputs": [],
      "source": [
        "import os\n",
        "\n",
        "pickle_folder = r\"saved_pickles\"\n",
        "\n",
        "files = os.listdir(pickle_folder)  # list all files & folders\n",
        "print(files)\n"
      ]
    },
    {
      "cell_type": "code",
      "execution_count": null,
      "id": "a672a7a9-d100-4ce8-a41c-096838d4a967",
      "metadata": {
        "id": "a672a7a9-d100-4ce8-a41c-096838d4a967"
      },
      "outputs": [],
      "source": [
        "files = [os.path.join(pickle_folder, f) for f in os.listdir(pickle_folder)]\n",
        "print(files)\n"
      ]
    },
    {
      "cell_type": "markdown",
      "id": "ba4a9109-bb03-4418-a2aa-12f20d0c4534",
      "metadata": {
        "id": "ba4a9109-bb03-4418-a2aa-12f20d0c4534"
      },
      "source": [
        "##### Filter only .pkl files"
      ]
    },
    {
      "cell_type": "code",
      "execution_count": null,
      "id": "112f0192-92ba-4158-bfc4-b777551a795c",
      "metadata": {
        "id": "112f0192-92ba-4158-bfc4-b777551a795c"
      },
      "outputs": [],
      "source": [
        "files = [f for f in os.listdir(pickle_folder) if f.endswith(\".pkl\")]\n",
        "print(files)\n"
      ]
    },
    {
      "cell_type": "code",
      "execution_count": null,
      "id": "0ce59a0c-8483-4cf0-a218-2a4cbde20ebb",
      "metadata": {
        "id": "0ce59a0c-8483-4cf0-a218-2a4cbde20ebb"
      },
      "outputs": [],
      "source": [
        "import glob\n",
        "\n",
        "files = glob.glob(os.path.join(pickle_folder, \"*.pkl\"))\n",
        "print(files)\n"
      ]
    },
    {
      "cell_type": "markdown",
      "id": "df972a50-4abb-49f4-aed6-17178b432e3d",
      "metadata": {
        "id": "df972a50-4abb-49f4-aed6-17178b432e3d"
      },
      "source": [
        "# Parallel Processing"
      ]
    },
    {
      "cell_type": "markdown",
      "id": "4865d2bb-9a18-4b0b-b583-dff62f9a5771",
      "metadata": {
        "id": "4865d2bb-9a18-4b0b-b583-dff62f9a5771"
      },
      "source": [
        "### Basic"
      ]
    },
    {
      "cell_type": "code",
      "execution_count": null,
      "id": "a882bc5c-0179-469b-b36e-6d528ce74500",
      "metadata": {
        "id": "a882bc5c-0179-469b-b36e-6d528ce74500"
      },
      "outputs": [],
      "source": [
        "import os\n",
        "import numpy as np\n",
        "#from concurrent.futures import ProcessPoolExecutor\n",
        "from concurrent.futures import ThreadPoolExecutor\n",
        "\n",
        "# 1) Function to create the array with eqn initialized to 0\n",
        "def make_data(N=100, seed=42,\n",
        "              x_range=(-10, 10), y_range=(-10, 10),\n",
        "              m_range=(-5, 5),  b_range=(-5, 5)) -> np.ndarray:\n",
        "    \"\"\"\n",
        "    Return an (N, 5) array with columns:\n",
        "      0:x, 1:y, 2:m, 3:b, 4:eqn\n",
        "    x,y,m,b are random; eqn is initialized to 0.\n",
        "    \"\"\"\n",
        "    rng = np.random.default_rng(seed)\n",
        "    x = rng.uniform(*x_range, N)\n",
        "    y = rng.uniform(*y_range, N)\n",
        "    m = rng.uniform(*m_range, N)\n",
        "    b = rng.uniform(*b_range, N)\n",
        "\n",
        "    data = np.empty((N, 5), dtype=float)\n",
        "    data[:, 0] = x\n",
        "    data[:, 1] = y\n",
        "    data[:, 2] = m\n",
        "    data[:, 3] = b\n",
        "    data[:, 4] = 0.0  # eqn initialized to 0\n",
        "    return data\n",
        "\n",
        "# 2) Your existing block function (kept here for completeness)\n",
        "def compute_eqn_block(block_xy_mb: np.ndarray) -> np.ndarray:\n",
        "    \"\"\"\n",
        "    block_xy_mb: (k, 4) array with columns [x, y, m, b]\n",
        "    returns: (k,) array of y + m*x + b\n",
        "    \"\"\"\n",
        "    x = block_xy_mb[:, 0]\n",
        "    y = block_xy_mb[:, 1]\n",
        "    m = block_xy_mb[:, 2]\n",
        "    b = block_xy_mb[:, 3]\n",
        "    return y + m * x + b\n",
        "\n",
        "# 3) Parallel fill of the 5th column (eqn) using up to 4 processes\n",
        "def fill_eqn_threaded(data: np.ndarray, res_col_idx: int = 4, func = compute_eqn_block, max_workers: int = 4) -> None:\n",
        "    N = data.shape[0]\n",
        "    workers = min(max_workers, os.cpu_count() or 1)\n",
        "    idx_chunks = np.array_split(np.arange(N), workers)\n",
        "    def job(block):  # local helper\n",
        "        return func(block)\n",
        "    with ThreadPoolExecutor(max_workers=workers) as ex:\n",
        "        futures = []\n",
        "        for idxs in idx_chunks:\n",
        "            if idxs.size == 0: continue\n",
        "            block = data[idxs, :res_col_idx]  # no copy needed for threads, # (k,4) slice of rows, only x,y,m,b\n",
        "            futures.append((idxs, ex.submit(job, block)))\n",
        "        for idxs, fut in futures:\n",
        "            data[idxs, res_col_idx] = fut.result() #writes each computed value into the res_col_idx th column for the matching rows.\n",
        "\n",
        "# Demo\n",
        "data = make_data(N=1_000_000, seed=123)\n",
        "print(\"Before:\\n\", data[:5])\n",
        "fill_eqn_threaded(data, max_workers=4)\n",
        "print(\"\\nAfter:\\n\", data[:5])"
      ]
    },
    {
      "cell_type": "markdown",
      "id": "52b86818-d1b0-4084-90cb-7ceac5a0f7b1",
      "metadata": {
        "id": "52b86818-d1b0-4084-90cb-7ceac5a0f7b1"
      },
      "source": [
        "### Compare: Linear Equation"
      ]
    },
    {
      "cell_type": "code",
      "execution_count": null,
      "id": "3bba8cb4-aef8-43a0-9577-c0537a6a9434",
      "metadata": {
        "id": "3bba8cb4-aef8-43a0-9577-c0537a6a9434"
      },
      "outputs": [],
      "source": [
        "import os\n",
        "import numpy as np\n",
        "from concurrent.futures import ThreadPoolExecutor\n",
        "from functools import wraps\n",
        "from time import perf_counter\n",
        "\n",
        "# ---------- timing decorator ----------\n",
        "def timed(label: str | None = None):\n",
        "    \"\"\"Decorator to print wall-clock runtime of a function.\"\"\"\n",
        "    def deco(func):\n",
        "        @wraps(func)\n",
        "        def wrapper(*args, **kwargs):\n",
        "            t0 = perf_counter()\n",
        "            try:\n",
        "                return func(*args, **kwargs)\n",
        "            finally:\n",
        "                dt = perf_counter() - t0\n",
        "                name = label or func.__name__\n",
        "                print(f\"[{name}] {dt:.3f} s\")\n",
        "        return wrapper\n",
        "    return deco\n",
        "\n",
        "# ---------- your helpers ----------\n",
        "def make_data(N=100, seed=42,\n",
        "              x_range=(-10, 10), y_range=(-10, 10),\n",
        "              m_range=(-5, 5),  b_range=(-5, 5)) -> np.ndarray:\n",
        "    rng = np.random.default_rng(seed)\n",
        "    x = rng.uniform(*x_range, N)\n",
        "    y = rng.uniform(*y_range, N)\n",
        "    m = rng.uniform(*m_range, N)\n",
        "    b = rng.uniform(*b_range, N)\n",
        "\n",
        "    data = np.empty((N, 5), dtype=float)\n",
        "    data[:, 0] = x\n",
        "    data[:, 1] = y\n",
        "    data[:, 2] = m\n",
        "    data[:, 3] = b\n",
        "    data[:, 4] = 0.0  # eqn initialized to 0\n",
        "    return data\n",
        "\n",
        "def compute_eqn_block_linear(block_xy_mb: np.ndarray) -> np.ndarray:\n",
        "    x = block_xy_mb[:, 0]\n",
        "    y = block_xy_mb[:, 1]\n",
        "    m = block_xy_mb[:, 2]\n",
        "    b = block_xy_mb[:, 3]\n",
        "    return y + m * x + b\n",
        "\n",
        "# ---------- threaded version (timed) ----------\n",
        "@timed(\"threaded\")\n",
        "def fill_eqn_threaded(data: np.ndarray, res_col_idx: int = 4, func = compute_eqn_block_linear, max_workers: int = 4) -> None:\n",
        "    \"\"\"\n",
        "    In-place: computes eqn = y + m*x + b for each row and writes into data[:, res_col_idx].\n",
        "    Uses threads (good in notebooks; NumPy releases GIL during vector ops).\n",
        "    \"\"\"\n",
        "    N = data.shape[0]\n",
        "    workers = min(max_workers, os.cpu_count() or 1)\n",
        "    idx_chunks = np.array_split(np.arange(N), workers)\n",
        "\n",
        "    def job(block):\n",
        "        return func(block)\n",
        "\n",
        "    with ThreadPoolExecutor(max_workers=workers) as ex:\n",
        "        futures = []\n",
        "        for idxs in idx_chunks:\n",
        "            if idxs.size == 0:\n",
        "                continue\n",
        "            block = data[idxs, :4]   # always pass x,y,m,b\n",
        "            futures.append((idxs, ex.submit(job, block)))\n",
        "        for idxs, fut in futures:\n",
        "            data[idxs, res_col_idx] = fut.result()\n",
        "\n",
        "# ---------- pure NumPy vectorized baseline (timed) ----------\n",
        "@timed(\"vectorized\")\n",
        "def fill_eqn_vectorized(data: np.ndarray, res_col_idx: int = 4) -> None:\n",
        "    \"\"\"\n",
        "    In-place vectorized: eqn = y + m*x + b (typically very fast).\n",
        "    \"\"\"\n",
        "    x = data[:, 0]\n",
        "    y = data[:, 1]\n",
        "    m = data[:, 2]\n",
        "    b = data[:, 3]\n",
        "    data[:, res_col_idx] = y + m * x + b\n",
        "\n",
        "# ---------- demo ----------\n",
        "\n",
        "N = 1_000_000\n",
        "\n",
        "# Threaded\n",
        "data_thr = make_data(N=N, seed=123)\n",
        "fill_eqn_threaded(data_thr, res_col_idx=4, max_workers=4)\n",
        "\n",
        "# Vectorized\n",
        "data_vec = make_data(N=N, seed=123)\n",
        "fill_eqn_vectorized(data_vec, res_col_idx=4)\n",
        "\n",
        "# Optional: verify both methods produce the same results\n",
        "same = np.allclose(data_thr[:, 4], data_vec[:, 4])\n",
        "print(\"Results equal:\", same)\n",
        "\n",
        "# Show a peek\n",
        "np.set_printoptions(precision=3, suppress=True)\n",
        "print(\"Sample rows:\\nThreaded:\\n\", data_thr[:5], \"\\nVectorized:\\n\", data_vec[:5])\n"
      ]
    },
    {
      "cell_type": "markdown",
      "id": "03ac1628-e552-4b31-9d49-761bae5ce64e",
      "metadata": {
        "id": "03ac1628-e552-4b31-9d49-761bae5ce64e"
      },
      "source": [
        "### Compare: Polynomial Equation"
      ]
    },
    {
      "cell_type": "code",
      "execution_count": null,
      "id": "63959524-3f94-4790-81a5-4f919da5b36d",
      "metadata": {
        "id": "63959524-3f94-4790-81a5-4f919da5b36d"
      },
      "outputs": [],
      "source": [
        "import os\n",
        "import numpy as np\n",
        "from concurrent.futures import ThreadPoolExecutor\n",
        "from functools import wraps\n",
        "from time import perf_counter\n",
        "\n",
        "# ---------- timing decorator ----------\n",
        "def timed(label: str | None = None):\n",
        "    \"\"\"Decorator to print wall-clock runtime of a function.\"\"\"\n",
        "    def deco(func):\n",
        "        @wraps(func)\n",
        "        def wrapper(*args, **kwargs):\n",
        "            t0 = perf_counter()\n",
        "            try:\n",
        "                return func(*args, **kwargs)\n",
        "            finally:\n",
        "                dt = perf_counter() - t0\n",
        "                name = label or func.__name__\n",
        "                print(f\"[{name}] {dt:.3f} s\")\n",
        "        return wrapper\n",
        "    return deco\n",
        "\n",
        "# ---------- your helpers ----------\n",
        "def make_data(N=100, seed=42,\n",
        "              x_range=(-10, 10), y_range=(-10, 10),\n",
        "              m_range=(-5, 5),  b_range=(-5, 5)) -> np.ndarray:\n",
        "    rng = np.random.default_rng(seed)\n",
        "    x = rng.uniform(*x_range, N)\n",
        "    y = rng.uniform(*y_range, N)\n",
        "    m = rng.uniform(*m_range, N)\n",
        "    b = rng.uniform(*b_range, N)\n",
        "\n",
        "    data = np.empty((N, 5), dtype=float)\n",
        "    data[:, 0] = x\n",
        "    data[:, 1] = y\n",
        "    data[:, 2] = m\n",
        "    data[:, 3] = b\n",
        "    data[:, 4] = 0.0  # eqn initialized to 0\n",
        "    return data\n",
        "\n",
        "def compute_eqn_block_poly(block_xy_mb: np.ndarray) -> np.ndarray: # For thread\n",
        "    x = block_xy_mb[:, 0]\n",
        "    y = block_xy_mb[:, 1]\n",
        "    m = block_xy_mb[:, 2]\n",
        "    b = block_xy_mb[:, 3]\n",
        "    return y**10 + m * x ** 4 + b**3\n",
        "\n",
        "# ---------- threaded version (timed) ----------\n",
        "@timed(\"threaded\")\n",
        "def fill_eqn_threaded(data: np.ndarray, res_col_idx: int = 4, func = compute_eqn_block_poly, max_workers: int = 4) -> None:\n",
        "    \"\"\"\n",
        "    In-place: computes eqn = y + m*x + b for each row and writes into data[:, res_col_idx].\n",
        "    Uses threads (good in notebooks; NumPy releases GIL during vector ops).\n",
        "    \"\"\"\n",
        "    N = data.shape[0]\n",
        "    workers = min(max_workers, os.cpu_count() or 1)\n",
        "    idx_chunks = np.array_split(np.arange(N), workers)\n",
        "\n",
        "    def job(block):\n",
        "        return func(block)\n",
        "\n",
        "    with ThreadPoolExecutor(max_workers=workers) as ex:\n",
        "        futures = []\n",
        "        for idxs in idx_chunks:\n",
        "            if idxs.size == 0:\n",
        "                continue\n",
        "            block = data[idxs, :4]   # always pass x,y,m,b\n",
        "            futures.append((idxs, ex.submit(job, block)))\n",
        "        for idxs, fut in futures:\n",
        "            data[idxs, res_col_idx] = fut.result()\n",
        "\n",
        "# ---------- pure NumPy vectorized baseline (timed) ----------\n",
        "@timed(\"vectorized\")\n",
        "def fill_eqn_vectorized(data: np.ndarray, res_col_idx: int = 4) -> None:\n",
        "    \"\"\"\n",
        "    In-place vectorized: eqn = y + m*x + b (typically very fast).\n",
        "    \"\"\"\n",
        "    x = data[:, 0]\n",
        "    y = data[:, 1]\n",
        "    m = data[:, 2]\n",
        "    b = data[:, 3]\n",
        "    data[:, res_col_idx] = y**10 + m * x ** 4 + b**3\n",
        "\n",
        "# ---------- demo ----------\n",
        "\n",
        "N = 300_000_000\n",
        "\n",
        "# Threaded\n",
        "data_thr = make_data(N=N, seed=123)\n",
        "fill_eqn_threaded(data_thr, res_col_idx=4, max_workers=4)\n",
        "\n",
        "# Vectorized\n",
        "data_vec = make_data(N=N, seed=123)\n",
        "fill_eqn_vectorized(data_vec, res_col_idx=4)\n",
        "\n",
        "# Optional: verify both methods produce the same results\n",
        "same = np.allclose(data_thr[:, 4], data_vec[:, 4])\n",
        "print(\"Results equal:\", same)\n",
        "\n",
        "# Show a peek\n",
        "np.set_printoptions(precision=3, suppress=True)\n",
        "print(\"Sample rows:\\nThreaded:\\n\", data_thr[:5], \"\\nVectorized:\\n\", data_vec[:5])\n"
      ]
    },
    {
      "cell_type": "markdown",
      "id": "8f62778e-6217-4445-818e-45e7ea956cd7",
      "metadata": {
        "id": "8f62778e-6217-4445-818e-45e7ea956cd7"
      },
      "source": [
        "# Drop-in Numba version (fast, parallel, no ThreadPool)"
      ]
    },
    {
      "cell_type": "markdown",
      "id": "dde4d658-9fc1-4bcb-9c9b-609fb40433b3",
      "metadata": {
        "id": "dde4d658-9fc1-4bcb-9c9b-609fb40433b3"
      },
      "source": [
        "Exactly 👍 — that’s the sweet spot for **Numba**.\n",
        "\n",
        "When you use `@njit`, Numba translates your function into **LLVM IR** (via `llvmlite`), so it runs close to C speed, but it only supports a **restricted Python + NumPy subset**.\n",
        "\n",
        "---\n",
        "\n",
        "### ✅ Supported (works well in Numba)\n",
        "\n",
        "* **NumPy arrays**: creation, slicing, broadcasting (basic).\n",
        "* **Math functions**: `np.min`, `np.max`, `np.sum`, `np.mean`, `np.std`, `np.sqrt`, `np.exp`, `np.log`, `np.floor`, `np.ceil`, etc.\n",
        "* **Basic control flow**: `for`, `while`, `if/else`, `break`, `continue`.\n",
        "* **Operators**: `+ - * / % **`, comparisons, boolean logic.\n",
        "* **Random numbers**: `np.random.rand`, `np.random.randn`, etc. (with some caveats).\n",
        "* **Loops**: `prange` (parallel loop), normal `range`.\n",
        "\n",
        "---\n",
        "\n",
        "### ⚠️ Limited / Restricted\n",
        "\n",
        "* Not all NumPy functions are supported (e.g., `np.linalg` is partial, `np.fft` not supported).\n",
        "* No full **object dtype**, only numeric arrays (`int32`, `int64`, `float32`, `float64`, bool).\n",
        "* No arbitrary Python objects (lists of lists, dicts, sets, classes).\n",
        "* Limited string support (basically none).\n",
        "* Exception handling is minimal (no `try/except` inside `njit`).\n",
        "\n",
        "---\n",
        "\n",
        "### ❌ Not supported\n",
        "\n",
        "* **Pandas** (as you asked earlier).\n",
        "* **High-level Python features** like generators, context managers, dynamic typing.\n",
        "* Some `NumPy` advanced features (structured arrays, masked arrays, etc.).\n",
        "\n",
        "---\n",
        "\n",
        "👉 So if your logic is **“array math + loops + conditionals + simple NumPy functions”**, Numba will JIT-compile it to very fast machine code.\n",
        "\n",
        "Do you want me to give you a **reference list of the most useful NumPy functions that Numba supports** (like a cheat sheet)?\n"
      ]
    },
    {
      "cell_type": "code",
      "execution_count": null,
      "id": "984d52e5-29f4-4d4c-91d5-2b831df8b30e",
      "metadata": {
        "id": "984d52e5-29f4-4d4c-91d5-2b831df8b30e"
      },
      "outputs": [],
      "source": [
        "# works for CPU, not GPU reliably\n",
        "# pip install numba numpy\n",
        "# pip show numba\n",
        "# pip show llvmlite\n",
        "\n",
        "import os\n",
        "import numpy as np\n",
        "from functools import wraps\n",
        "from time import perf_counter\n",
        "from numba import njit, prange, set_num_threads, get_num_threads\n",
        "\n",
        "# ---------- timing decorator ----------\n",
        "def timed(label: str | None = None):\n",
        "    def deco(func):\n",
        "        @wraps(func)\n",
        "        def wrapper(*args, **kwargs):\n",
        "            t0 = perf_counter()\n",
        "            try:\n",
        "                return func(*args, **kwargs)\n",
        "            finally:\n",
        "                dt = perf_counter() - t0\n",
        "                print(f\"[{label or func.__name__}] {dt:.3f} s\")\n",
        "        return wrapper\n",
        "    return deco\n",
        "\n",
        "# ---------- data maker ----------\n",
        "def make_data(N=100, seed=42,\n",
        "              x_range=(-10, 10), y_range=(-10, 10),\n",
        "              m_range=(-5, 5),  b_range=(-5, 5)) -> np.ndarray:\n",
        "    rng = np.random.default_rng(seed)\n",
        "    data = np.empty((N, 5), dtype=np.float64)\n",
        "    data[:, 0] = rng.uniform(*x_range, N)  # x\n",
        "    data[:, 1] = rng.uniform(*y_range, N)  # y\n",
        "    data[:, 2] = rng.uniform(*m_range, N)  # m\n",
        "    data[:, 3] = rng.uniform(*b_range, N)  # b\n",
        "    data[:, 4] = 0.0                       # eqn\n",
        "    return data\n",
        "\n",
        "# ---------- Numba kernel: parallel & fast ----------\n",
        "@njit(parallel=True, fastmath=True)  # fastmath lets LLVM use fused ops / vectorization\n",
        "def fill_eqn_numba(data, res_col_idx=4):\n",
        "    x = data[:, 0]\n",
        "    y = data[:, 1]\n",
        "    m = data[:, 2]\n",
        "    b = data[:, 3]\n",
        "    out = data[:, res_col_idx]\n",
        "    n = x.shape[0]\n",
        "\n",
        "    # Use prange to split across threads\n",
        "    for i in prange(n):\n",
        "        # Sometimes manual powers are faster than ** for big exponents\n",
        "        x2 = x[i] * x[i]\n",
        "        x4 = x2 * x2\n",
        "        b3 = b[i] * b[i] * b[i]\n",
        "        # y**10 via repeated squaring (often faster/more stable than pow in tight loops)\n",
        "        y2 = y[i] * y[i]\n",
        "        y4 = y2 * y2\n",
        "        y8 = y4 * y4\n",
        "        y10 = y8 * y2\n",
        "        out[i] = y10 + m[i] * x4 + b3\n",
        "\n",
        "# ---------- vectorized baseline ----------\n",
        "@timed(\"vectorized\")\n",
        "def fill_eqn_vectorized(data, res_col_idx=4):\n",
        "    x = data[:, 0]; y = data[:, 1]; m = data[:, 2]; b = data[:, 3]\n",
        "    # Beware: these allocate temporaries; with huge N this can be heavy on RAM\n",
        "    data[:, res_col_idx] = y**10 + m * (x**4) + b**3\n",
        "\n",
        "# ---------- numba wrapper with timing (includes first-call compile) ----------\n",
        "@timed(\"numba_parallel\")\n",
        "def run_numba(data, res_col_idx=4, threads=None):\n",
        "    if threads:\n",
        "        set_num_threads(threads)\n",
        "    fill_eqn_numba(data, res_col_idx)\n",
        "    # print(f\"Numba used {get_num_threads()} threads\")  # uncomment if you want to see it\n",
        "\n",
        "\n",
        "\n",
        "N = 300_000_000  # start smaller than 100M unless you have lots of RAM\n",
        "data_nb = make_data(N=N, seed=123)\n",
        "run_numba(data_nb, threads=4)   # JIT compiles on first call, then runs fast\n",
        "\n",
        "data_vec = make_data(N=N, seed=123)\n",
        "fill_eqn_vectorized(data_vec)\n",
        "\n",
        "print(\"Equal?\", np.allclose(data_nb[:,4], data_vec[:,4]))\n",
        "print(data_nb[:5])\n"
      ]
    },
    {
      "cell_type": "markdown",
      "id": "9fbe4314-6cab-410e-8539-3ef949930942",
      "metadata": {
        "id": "9fbe4314-6cab-410e-8539-3ef949930942"
      },
      "source": [
        "###  CUDA cores → GPU threads (Numba @cuda.jit)"
      ]
    },
    {
      "cell_type": "code",
      "execution_count": null,
      "id": "5ea0b4c3-775a-4c0b-a6db-b2c985b945e5",
      "metadata": {
        "id": "5ea0b4c3-775a-4c0b-a6db-b2c985b945e5"
      },
      "outputs": [],
      "source": [
        "# conda create -n numba-cuda -c conda-forge python=3.12 numba numpy cudatoolkit\n",
        "# conda activate numba-cuda\n",
        "# conda install -c conda-forge jupyterlab\n",
        "\n",
        "# pip uninstall -y numba llvmlite\n",
        "# conda install -c conda-forge numba cudatoolkit\n",
        "\n",
        "\n",
        "\n",
        "\n",
        "import os\n",
        "import numpy as np\n",
        "from functools import wraps\n",
        "from time import perf_counter\n",
        "\n",
        "from numba import njit, prange, set_num_threads, get_num_threads\n",
        "from numba import cuda\n",
        "\n",
        "# ---------- timing decorator ----------\n",
        "def timed(label: str | None = None):\n",
        "    def deco(func):\n",
        "        @wraps(func)\n",
        "        def wrapper(*args, **kwargs):\n",
        "            t0 = perf_counter()\n",
        "            try:\n",
        "                return func(*args, **kwargs)\n",
        "            finally:\n",
        "                dt = perf_counter() - t0\n",
        "                print(f\"[{label or func.__name__}] {dt:.3f} s\")\n",
        "        return wrapper\n",
        "    return deco\n",
        "\n",
        "# ---------- data maker ----------\n",
        "def make_data(N=100, seed=42,\n",
        "              x_range=(-10, 10), y_range=(-10, 10),\n",
        "              m_range=(-5, 5),  b_range=(-5, 5),\n",
        "              dtype=np.float64) -> np.ndarray:\n",
        "    rng = np.random.default_rng(seed)\n",
        "    data = np.empty((N, 5), dtype=dtype)\n",
        "    data[:, 0] = rng.uniform(*x_range, N)  # x\n",
        "    data[:, 1] = rng.uniform(*y_range, N)  # y\n",
        "    data[:, 2] = rng.uniform(*m_range, N)  # m\n",
        "    data[:, 3] = rng.uniform(*b_range, N)  # b\n",
        "    data[:, 4] = 0.0                       # eqn\n",
        "    return data\n",
        "\n",
        "# ---------- Numba CPU kernel ----------\n",
        "@njit(parallel=True, fastmath=True)\n",
        "def fill_eqn_numba(data, res_col_idx=4):\n",
        "    x = data[:, 0]\n",
        "    y = data[:, 1]\n",
        "    m = data[:, 2]\n",
        "    b = data[:, 3]\n",
        "    out = data[:, res_col_idx]\n",
        "    n = x.shape[0]\n",
        "    for i in prange(n):\n",
        "        x2 = x[i] * x[i]; x4 = x2 * x2\n",
        "        b3 = b[i] * b[i] * b[i]\n",
        "        y2 = y[i] * y[i]; y4 = y2 * y2; y8 = y4 * y4; y10 = y8 * y2\n",
        "        out[i] = y10 + m[i] * x4 + b3\n",
        "\n",
        "@timed(\"vectorized\")\n",
        "def fill_eqn_vectorized(data, res_col_idx=4):\n",
        "    x = data[:, 0]; y = data[:, 1]; m = data[:, 2]; b = data[:, 3]\n",
        "    data[:, res_col_idx] = y**10 + m * (x**4) + b**3\n",
        "\n",
        "@timed(\"numba_parallel\")\n",
        "def run_numba(data, res_col_idx=4, threads=None):\n",
        "    if threads:\n",
        "        set_num_threads(threads)\n",
        "    fill_eqn_numba(data, res_col_idx)\n",
        "\n",
        "# ---------- Numba CUDA kernel ----------\n",
        "# Works with float32 or float64; float32 is faster on most GPUs.\n",
        "@cuda.jit(fastmath=True)\n",
        "def fill_eqn_cuda(x, y, m, b, out):\n",
        "    i = cuda.grid(1)\n",
        "    if i < x.size:\n",
        "        xi = x[i]; yi = y[i]; mi = m[i]; bi = b[i]\n",
        "        x2 = xi * xi; x4 = x2 * x2\n",
        "        b3 = bi * bi * bi\n",
        "        y2 = yi * yi; y4 = y2 * y2; y8 = y4 * y4; y10 = y8 * y2\n",
        "        out[i] = y10 + mi * x4 + b3\n",
        "\n",
        "@timed(\"cuda\")\n",
        "def run_cuda(data, res_col_idx=4, threads_per_block=256, use_float32=False):\n",
        "    \"\"\"\n",
        "    Compute eqn on GPU and write back into data[:, res_col_idx].\n",
        "    Set use_float32=True for speed (but results differ slightly from float64).\n",
        "    \"\"\"\n",
        "    N = data.shape[0]\n",
        "    # pick dtype\n",
        "    dtype = np.float32 if use_float32 else np.float64\n",
        "\n",
        "    # slice host arrays and make them contiguous for the GPU\n",
        "    x_h = np.ascontiguousarray(data[:, 0], dtype=dtype)\n",
        "    y_h = np.ascontiguousarray(data[:, 1], dtype=dtype)\n",
        "    m_h = np.ascontiguousarray(data[:, 2], dtype=dtype)\n",
        "    b_h = np.ascontiguousarray(data[:, 3], dtype=dtype)\n",
        "\n",
        "\n",
        "    # allocate device arrays and copy\n",
        "    d_x = cuda.to_device(x_h)\n",
        "    d_y = cuda.to_device(y_h)\n",
        "    d_m = cuda.to_device(m_h)\n",
        "    d_b = cuda.to_device(b_h)\n",
        "    d_out = cuda.device_array(N, dtype=dtype)\n",
        "\n",
        "    blocks = (N + threads_per_block - 1) // threads_per_block\n",
        "    fill_eqn_cuda[blocks, threads_per_block](d_x, d_y, d_m, d_b, d_out)\n",
        "\n",
        "    # copy back to host; if original data is float64 and we used float32,\n",
        "    # upcast on assignment (with small numeric differences).\n",
        "    data[:, res_col_idx] = d_out.copy_to_host().astype(data.dtype, copy=False)\n",
        "\n",
        "@timed(\"cuda_chunked\")\n",
        "def run_cuda_chunked(data, res_col_idx=4, threads_per_block=256, chunk_size=5_000_000, use_float32=False):\n",
        "    dtype = np.float32 if use_float32 else np.float64\n",
        "    N = data.shape[0]\n",
        "    for start in range(0, N, chunk_size):\n",
        "        end = min(start + chunk_size, N)\n",
        "\n",
        "        # slice host arrays and make them contiguous for the GPU\n",
        "        x_h = np.ascontiguousarray(data[start:end, 0], dtype=dtype)\n",
        "        y_h = np.ascontiguousarray(data[start:end, 1], dtype=dtype)\n",
        "        m_h = np.ascontiguousarray(data[start:end, 2], dtype=dtype)\n",
        "        b_h = np.ascontiguousarray(data[start:end, 3], dtype=dtype)\n",
        "\n",
        "\n",
        "        d_x = cuda.to_device(x_h)\n",
        "        d_y = cuda.to_device(y_h)\n",
        "        d_m = cuda.to_device(m_h)\n",
        "        d_b = cuda.to_device(b_h)\n",
        "        d_out = cuda.device_array(end - start, dtype=dtype)\n",
        "        blocks = ((end - start) + threads_per_block - 1) // threads_per_block\n",
        "        fill_eqn_cuda[blocks, threads_per_block](d_x, d_y, d_m, d_b, d_out)\n",
        "        data[start:end, res_col_idx] = d_out.copy_to_host().astype(data.dtype, copy=False)\n",
        "\n",
        "\n",
        "# ---------- demo ----------\n",
        "if __name__ == \"__main__\":\n",
        "    # Use a size that fits your GPU RAM; float64 needs 8*N bytes per column.\n",
        "    N = 30_000_000  # try this first; scale up if your GPU has more memory\n",
        "\n",
        "    # CPU Numba\n",
        "    data_nb = make_data(N=N, seed=123, dtype=np.float64)\n",
        "    run_numba(data_nb, threads=os.cpu_count())\n",
        "\n",
        "    # Vectorized\n",
        "    data_vec = make_data(N=N, seed=123, dtype=np.float64)\n",
        "    fill_eqn_vectorized(data_vec)\n",
        "\n",
        "    print(\"Equal (CPU paths)?\", np.allclose(data_nb[:, 4], data_vec[:, 4]))\n",
        "\n",
        "    # CUDA (float64 for apples-to-apples equality; use_float32=True for speed)\n",
        "    data_gpu = make_data(N=N, seed=123, dtype=np.float64)\n",
        "    run_cuda(data_gpu, res_col_idx=4, threads_per_block=256, use_float32=False)\n",
        "\n",
        "    print(\"Equal (GPU vs vectorized, float64)?\", np.allclose(data_gpu[:, 4], data_vec[:, 4]))\n",
        "    #print(\"Sample rows:\\n\", data_gpu[:5])\n",
        "\n",
        "\n",
        "    # Fits big N by processing in batches on the GPU\n",
        "    data_gpu_chunk = make_data(N=N, seed=123, dtype=np.float64)\n",
        "    run_cuda_chunked(data_gpu_chunk, res_col_idx=4, threads_per_block=256,\n",
        "                     chunk_size=5_000_000,   # tune this (see below)\n",
        "                     use_float32=False)      # True = faster & less memory, slight numeric diffs\n",
        "    print(\"Equal (GPU_Chunked vs vectorized, float64)?\", np.allclose(data_gpu_chunk[:, 4], data_vec[:, 4]))\n"
      ]
    },
    {
      "cell_type": "markdown",
      "id": "befff92e-9023-4f06-ac0f-e58f8e2a5022",
      "metadata": {
        "id": "befff92e-9023-4f06-ac0f-e58f8e2a5022"
      },
      "source": [
        "#### Chunked"
      ]
    },
    {
      "cell_type": "code",
      "execution_count": null,
      "id": "00f7f4dd-9ab1-4acd-9d10-47126f3fc322",
      "metadata": {
        "id": "00f7f4dd-9ab1-4acd-9d10-47126f3fc322"
      },
      "outputs": [],
      "source": [
        "import os\n",
        "import numpy as np\n",
        "from functools import wraps\n",
        "from time import perf_counter\n",
        "\n",
        "from numba import njit, prange, set_num_threads, get_num_threads\n",
        "from numba import cuda\n",
        "\n",
        "# ---------- timing decorator ----------\n",
        "def timed(label: str | None = None):\n",
        "    def deco(func):\n",
        "        @wraps(func)\n",
        "        def wrapper(*args, **kwargs):\n",
        "            t0 = perf_counter()\n",
        "            try:\n",
        "                return func(*args, **kwargs)\n",
        "            finally:\n",
        "                dt = perf_counter() - t0\n",
        "                print(f\"[{label or func.__name__}] {dt:.3f} s\")\n",
        "        return wrapper\n",
        "    return deco\n",
        "\n",
        "# ---------- data maker ----------\n",
        "def make_data(N=100, seed=42,\n",
        "              x_range=(-10, 10), y_range=(-10, 10),\n",
        "              m_range=(-5, 5),  b_range=(-5, 5),\n",
        "              dtype=np.float64) -> np.ndarray:\n",
        "    rng = np.random.default_rng(seed)\n",
        "    data = np.empty((N, 5), dtype=dtype)\n",
        "    data[:, 0] = rng.uniform(*x_range, N)  # x\n",
        "    data[:, 1] = rng.uniform(*y_range, N)  # y\n",
        "    data[:, 2] = rng.uniform(*m_range, N)  # m\n",
        "    data[:, 3] = rng.uniform(*b_range, N)  # b\n",
        "    data[:, 4] = 0.0                       # eqn\n",
        "    return data\n",
        "\n",
        "\n",
        "# ---------- Numba CPU kernel ----------\n",
        "@njit(parallel=True, fastmath=True)\n",
        "def fill_eqn_numba(data, res_col_idx=4):\n",
        "    x = data[:, 0]\n",
        "    y = data[:, 1]\n",
        "    m = data[:, 2]\n",
        "    b = data[:, 3]\n",
        "    out = data[:, res_col_idx]\n",
        "    n = x.shape[0]\n",
        "    for i in prange(n):\n",
        "        x2 = x[i] * x[i]; x4 = x2 * x2\n",
        "        b3 = b[i] * b[i] * b[i]\n",
        "        y2 = y[i] * y[i]; y4 = y2 * y2; y8 = y4 * y4; y10 = y8 * y2\n",
        "        out[i] = y10 + m[i] * x4 + b3\n",
        "\n",
        "@timed(\"vectorized\")\n",
        "def fill_eqn_vectorized(data, res_col_idx=4):\n",
        "    x = data[:, 0]; y = data[:, 1]; m = data[:, 2]; b = data[:, 3]\n",
        "    data[:, res_col_idx] = y**10 + m * (x**4) + b**3\n",
        "\n",
        "# ---------- chunked Numba (CPU) ----------\n",
        "@timed(\"numba_chunked\")\n",
        "def run_numba_chunked(data, res_col_idx=4, chunk_size=5_000_000, threads=None):\n",
        "    \"\"\"\n",
        "    Calls the same @njit(parallel=True) kernel on row-slices of `data`.\n",
        "    Good when temporaries/cache become the bottleneck on huge arrays.\n",
        "    \"\"\"\n",
        "    if threads:\n",
        "        set_num_threads(threads)\n",
        "    N = data.shape[0]\n",
        "    for start in range(0, N, chunk_size):\n",
        "        end = min(start + chunk_size, N)\n",
        "        # Row slices are C-contiguous → zero-copy views\n",
        "        fill_eqn_numba(data[start:end, :], res_col_idx)\n",
        "\n",
        "\n",
        "# ---------- chunked vectorized ----------\n",
        "@timed(\"vectorized_chunked\")\n",
        "def fill_eqn_vectorized_chunked(data, res_col_idx=4, chunk_size=5_000_000):\n",
        "    \"\"\"\n",
        "    Vectorized per-chunk to limit temporary array sizes.\n",
        "    \"\"\"\n",
        "    N = data.shape[0]\n",
        "    for start in range(0, N, chunk_size):\n",
        "        end = min(start + chunk_size, N)\n",
        "        x = data[start:end, 0]\n",
        "        y = data[start:end, 1]\n",
        "        m = data[start:end, 2]\n",
        "        b = data[start:end, 3]\n",
        "        data[start:end, res_col_idx] = y**10 + m*(x**4) + b**3\n",
        "\n",
        "# Numba (CPU) in chunks\n",
        "data_nb = make_data(N=300_000_000, seed=123, dtype=np.float64)\n",
        "#run_numba_chunked(data_nb, res_col_idx=4, chunk_size=5_000_000, threads=os.cpu_count())\n",
        "run_numba_chunked(data_nb, res_col_idx=4, chunk_size=5_000_000, threads=4)\n",
        "\n",
        "# Vectorized in chunks\n",
        "data_vec = make_data(N=300_000_000, seed=123, dtype=np.float64)\n",
        "fill_eqn_vectorized_chunked(data_vec, res_col_idx=4, chunk_size=5_000_000)\n",
        "\n",
        "print(\"Equal?\", np.allclose(data_nb[:,4], data_vec[:,4]))\n"
      ]
    },
    {
      "cell_type": "markdown",
      "id": "1a2347f0-bfa4-471e-9477-aeba5d066c22",
      "metadata": {
        "id": "1a2347f0-bfa4-471e-9477-aeba5d066c22"
      },
      "source": [
        "## numba module basics for future use"
      ]
    },
    {
      "cell_type": "code",
      "execution_count": null,
      "id": "1ae85b1e-f793-4849-960f-159e3368b1e7",
      "metadata": {
        "id": "1ae85b1e-f793-4849-960f-159e3368b1e7"
      },
      "outputs": [],
      "source": [
        "# numba module basics for future use ________________________________________\n",
        "import os\n",
        "import numpy as np\n",
        "from functools import wraps\n",
        "from time import perf_counter\n",
        "from concurrent.futures import ThreadPoolExecutor\n",
        "\n",
        "from numba import njit, prange, set_num_threads, get_num_threads\n",
        "from numba import cuda\n",
        "#////////////////////////////////////////////////////////////////////////////////////////////////////\n",
        "\n",
        "#___________________________________________________________________________________________________________\n",
        "#___________________________________________________________________________________________________________\n",
        "\n",
        "# ---------- timing decorator ----------\n",
        "def timed(label: str | None = None):\n",
        "    def deco(func):\n",
        "        @wraps(func)\n",
        "        def wrapper(*args, **kwargs):\n",
        "            t0 = perf_counter()\n",
        "            try:\n",
        "                return func(*args, **kwargs)\n",
        "            finally:\n",
        "                dt = perf_counter() - t0\n",
        "                print(f\"[{label or func.__name__}] {dt:.3f} s\")\n",
        "        return wrapper\n",
        "    return deco\n",
        "#////////////////////////////////////////////////////////////////////////////////////////////////////\n",
        "#___________________________________________________________________________________________________________\n",
        "#___________________________________________________________________________________________________________\n",
        "\n",
        "# ---------- Sample data maker for testing code ----------\n",
        "# --- update the equations, as your requirements *************************\n",
        "def make_data(N=100, seed=42,\n",
        "              x_range=(-10, 10), y_range=(-10, 10),\n",
        "              m_range=(-5, 5),  b_range=(-5, 5),\n",
        "              dtype=np.float64) -> np.ndarray:\n",
        "    rng = np.random.default_rng(seed)\n",
        "    data = np.empty((N, 5), dtype=dtype)\n",
        "    data[:, 0] = rng.uniform(*x_range, N)  # x\n",
        "    data[:, 1] = rng.uniform(*y_range, N)  # y\n",
        "    data[:, 2] = rng.uniform(*m_range, N)  # m\n",
        "    data[:, 3] = rng.uniform(*b_range, N)  # b\n",
        "    data[:, 4] = 0.0                       # eqn\n",
        "    return data\n",
        "#////////////////////////////////////////////////////////////////////////////////////////////////////\n",
        "\n",
        "#___________________________________________________________________________________________________________\n",
        "#___________________________________________________________________________________________________________\n",
        "\n",
        "# ---------- Numba CPU kernel equation----------\n",
        "# --- update the equations *************************\n",
        "@njit(parallel=True, fastmath=True)\n",
        "def fill_eqn_numba(data, res_col_idx=4):\n",
        "    x = data[:, 0]\n",
        "    y = data[:, 1]\n",
        "    m = data[:, 2]\n",
        "    b = data[:, 3]\n",
        "    out = data[:, res_col_idx]\n",
        "    n = x.shape[0]\n",
        "    for i in prange(n):\n",
        "        x2 = x[i] * x[i]; x4 = x2 * x2\n",
        "        b3 = b[i] * b[i] * b[i]\n",
        "        y2 = y[i] * y[i]; y4 = y2 * y2; y8 = y4 * y4; y10 = y8 * y2\n",
        "        out[i] = y10 + m[i] * x4 + b3\n",
        "\n",
        "\n",
        "# ---------- chunked Numba (CPU) ----------\n",
        "@timed(\"numba_chunked\")\n",
        "def run_numba_chunked(data, res_col_idx=4, chunk_size=5_000_000, threads=None, func = fill_eqn_numba):\n",
        "    \"\"\"\n",
        "    Calls the same @njit(parallel=True) kernel on row-slices of `data`.\n",
        "    Good when temporaries/cache become the bottleneck on huge arrays.\n",
        "    \"\"\"\n",
        "    if threads:\n",
        "        set_num_threads(threads)\n",
        "    N = data.shape[0]\n",
        "    for start in range(0, N, chunk_size):\n",
        "        end = min(start + chunk_size, N)\n",
        "        # Row slices are C-contiguous → zero-copy views\n",
        "        func(data[start:end, :], res_col_idx)\n",
        "#////////////////////////////////////////////////////////////////////////////////////////////////////\n",
        "\n",
        "#___________________________________________________________________________________________________________\n",
        "#___________________________________________________________________________________________________________\n",
        "\n",
        "# ---------- Numba CUDA kernel ----------\n",
        "# --- update the equations *************************\n",
        "# Works with float32 or float64; float32 is faster on most GPUs.\n",
        "@cuda.jit(fastmath=True)\n",
        "def fill_eqn_cuda(x, y, m, b, out):\n",
        "    i = cuda.grid(1)\n",
        "    if i < x.size:\n",
        "        xi = x[i]; yi = y[i]; mi = m[i]; bi = b[i]\n",
        "        x2 = xi * xi; x4 = x2 * x2\n",
        "        b3 = bi * bi * bi\n",
        "        y2 = yi * yi; y4 = y2 * y2; y8 = y4 * y4; y10 = y8 * y2\n",
        "        out[i] = y10 + mi * x4 + b3\n",
        "\n",
        "# ---------- chunked Numba (GPU) ----------\n",
        "@timed(\"cuda_chunked\")\n",
        "def run_cuda_chunked(data, res_col_idx=4, threads_per_block=256, chunk_size=5_000_000, use_float32=False,\n",
        "                    func=fill_eqn_cuda):\n",
        "    dtype = np.float32 if use_float32 else np.float64\n",
        "    N = data.shape[0]\n",
        "    for start in range(0, N, chunk_size):\n",
        "        end = min(start + chunk_size, N)\n",
        "\n",
        "        # slice host arrays and make them contiguous for the GPU\n",
        "        x_h = np.ascontiguousarray(data[start:end, 0], dtype=dtype)\n",
        "        y_h = np.ascontiguousarray(data[start:end, 1], dtype=dtype)\n",
        "        m_h = np.ascontiguousarray(data[start:end, 2], dtype=dtype)\n",
        "        b_h = np.ascontiguousarray(data[start:end, 3], dtype=dtype)\n",
        "\n",
        "\n",
        "        d_x = cuda.to_device(x_h)\n",
        "        d_y = cuda.to_device(y_h)\n",
        "        d_m = cuda.to_device(m_h)\n",
        "        d_b = cuda.to_device(b_h)\n",
        "        d_out = cuda.device_array(end - start, dtype=dtype)\n",
        "        blocks = ((end - start) + threads_per_block - 1) // threads_per_block\n",
        "        func[blocks, threads_per_block](d_x, d_y, d_m, d_b, d_out)\n",
        "        data[start:end, res_col_idx] = d_out.copy_to_host().astype(data.dtype, copy=False)\n",
        "#////////////////////////////////////////////////////////////////////////////////////////////////////\n",
        "\n",
        "#___________________________________________________________________________________________________________\n",
        "#___________________________________________________________________________________________________________\n",
        "\n",
        "# ---------- chunked python_ThreadPoolExecutor (GPU) ----------\n",
        "\n",
        "# Your existing block function (kept here for completeness)\n",
        "# --- update the equations *************************\n",
        "def compute_eqn_block(block_xy_mb: np.ndarray) -> np.ndarray:\n",
        "    \"\"\"\n",
        "    block_xy_mb: (k, 4) array with columns [x, y, m, b]\n",
        "    returns: (k,) array of y + m*x + b\n",
        "    \"\"\"\n",
        "    x = block_xy_mb[:, 0]\n",
        "    y = block_xy_mb[:, 1]\n",
        "    m = block_xy_mb[:, 2]\n",
        "    b = block_xy_mb[:, 3]\n",
        "    return y + m * x + b\n",
        "\n",
        "@timed(\"python_ThreadPoolExecutor_chunked\")\n",
        "def fill_eqn_threaded_chunked(data: np.ndarray,\n",
        "                              res_col_idx: int = 4,\n",
        "                              func=compute_eqn_block,\n",
        "                              max_workers: int = 4,\n",
        "                              chunk_size: int = 5_000_000) -> None:\n",
        "    \"\"\"\n",
        "    Processes data in chunks to reduce memory pressure, each chunk is threaded internally.\n",
        "    \"\"\"\n",
        "    N = data.shape[0]\n",
        "    workers = min(max_workers, os.cpu_count() or 1)\n",
        "\n",
        "    for start in range(0, N, chunk_size):\n",
        "        end = min(start + chunk_size, N)\n",
        "        chunk = data[start:end, :]  # slice view, no copy\n",
        "\n",
        "        # Split this chunk among workers\n",
        "        idx_chunks = np.array_split(np.arange(chunk.shape[0]), workers)\n",
        "\n",
        "        def job(idxs):\n",
        "            block = chunk[idxs, :res_col_idx]  # only x,y,m,b\n",
        "            return func(block)\n",
        "\n",
        "        with ThreadPoolExecutor(max_workers=workers) as ex:\n",
        "            futures = [(idxs, ex.submit(job, idxs)) for idxs in idx_chunks if idxs.size > 0]\n",
        "            for idxs, fut in futures:\n",
        "                chunk[idxs, res_col_idx] = fut.result()\n",
        "\n",
        "        # Writes directly into `data[start:end, res_col_idx]` since `chunk` is a view\n",
        "#////////////////////////////////////////////////////////////////////////////////////////////////////\n",
        "#___________________________________________________________________________________________________________\n",
        "#___________________________________________________________________________________________________________\n",
        "\n",
        "# Get CPU and GPU info __________________________\n",
        "def print_cpu_info():\n",
        "\n",
        "    import os\n",
        "    import platform\n",
        "\n",
        "    try:\n",
        "        import psutil\n",
        "    except ImportError:\n",
        "        psutil = None\n",
        "\n",
        "    print(\"CPU Name:\", platform.processor() or platform.machine())\n",
        "    print(\"Architecture:\", platform.architecture()[0])\n",
        "    print(\"Logical CPUs:\", os.cpu_count())\n",
        "\n",
        "    if psutil:\n",
        "        print(\"Physical cores:\", psutil.cpu_count(logical=False))\n",
        "        print(\"Max frequency (MHz):\", psutil.cpu_freq().max if psutil.cpu_freq() else \"N/A\")\n",
        "        print(\"Current frequency (MHz):\", psutil.cpu_freq().current if psutil.cpu_freq() else \"N/A\")\n",
        "        print(\"Total RAM (GB):\", round(psutil.virtual_memory().total / (1024**3), 2))\n",
        "        print(f'get_num_threads_cpu: {get_num_threads()}')\n",
        "        print('_'*25)\n",
        "    else:\n",
        "        print(\"Install psutil for more details (pip install psutil)\")\n",
        "        print('_'*25)\n",
        "\n",
        "\n",
        "def print_cuda_info():\n",
        "    dev = cuda.get_current_device()\n",
        "    print(\"Name:\", dev.name)\n",
        "    print(\"SMs:\", dev.MULTIPROCESSOR_COUNT)\n",
        "    print(\"Warp size:\", dev.WARP_SIZE)\n",
        "    print(\"Max threads/block:\", dev.MAX_THREADS_PER_BLOCK)\n",
        "    print('_'*25)\n",
        "\n",
        "def pick_chunk_size(use_float32=False, safety=0.8):\n",
        "    free, _ = cuda.current_context().get_memory_info()\n",
        "    dtype_size = 4 if use_float32 else 8\n",
        "    per_elem = 5 * dtype_size\n",
        "    chunk_size = max(1, int(safety * free // per_elem))\n",
        "    print(f'chunk_size : {chunk_size}')\n",
        "    print('_'*25)\n",
        "    return chunk_size\n",
        "#////////////////////////////////////////////////////////////////////////////////////////////////////\n",
        "\n",
        "#___________________________________________________________________________________________________________\n",
        "#___________________________________________________________________________________________________________\n",
        "\n",
        "# ---------- chunked vectorized ----------\n",
        "# --- update the equations *************************\n",
        "@timed(\"vectorized_chunked\")\n",
        "def fill_eqn_vectorized_chunked(data, res_col_idx=4, chunk_size=5_000_000):\n",
        "    \"\"\"\n",
        "    Vectorized per-chunk to limit temporary array sizes.\n",
        "    \"\"\"\n",
        "    N = data.shape[0]\n",
        "    for start in range(0, N, chunk_size):\n",
        "        end = min(start + chunk_size, N)\n",
        "        x = data[start:end, 0]\n",
        "        y = data[start:end, 1]\n",
        "        m = data[start:end, 2]\n",
        "        b = data[start:end, 3]\n",
        "        data[start:end, res_col_idx] = y**10 + m*(x**4) + b**3\n",
        "#////////////////////////////////////////////////////////////////////////////////////////////////////\n",
        "\n",
        "#___________________________________________________________________________________________________________\n",
        "#___________________________________________________________________________________________________________\n",
        "#___________________________________________________________________________________________________________\n",
        "#___________________________________________________________________________________________________________\n",
        "\n",
        "# --- Execution *************************\n",
        "\n",
        "data_nb = make_data(N=300_000_000, seed=123, dtype=np.float64)\n",
        "data_nb_cuda = data_nb.copy()\n",
        "data_nb_cuda_opt = data_nb.copy()\n",
        "data_thread = data_nb.copy()\n",
        "data_vec = data_nb.copy()\n",
        "\n",
        "# Numba (CPU) in chunks ___________________________________________________________________\n",
        "print_cpu_info()\n",
        "#run_numba_chunked(data_nb, res_col_idx=4, chunk_size=5_000_000, threads=os.cpu_count())\n",
        "run_numba_chunked(data_nb, res_col_idx=4, chunk_size=5_000_000, threads=4)\n",
        "#///////////////////////////////////////////////////////////////////////////////////////////\n",
        "\n",
        "# Fits big N by processing in batches on the GPU _________________________________________________\n",
        "run_cuda_chunked(data_nb_cuda, res_col_idx=4, threads_per_block=256,\n",
        "                 chunk_size=5_000_000,   # tune this (see below)\n",
        "                 use_float32=False)      # True = faster & less memory, slight numeric diffs\n",
        "\n",
        "#______________CUDA Optimized____________________\n",
        "print_cuda_info()\n",
        "chunk_size = pick_chunk_size()\n",
        "run_cuda_chunked(data_nb_cuda_opt, res_col_idx=4, threads_per_block=512,\n",
        "                 chunk_size=chunk_size,   # tuned this\n",
        "                 use_float32=False)      # True = faster & less memory, slight numeric diffs\n",
        "#///////////////////////////////////////////////////////////////////////////////////////////\n",
        "\n",
        "# python_ThreadPoolExecutor in chunks ___________________________________________________________________\n",
        "fill_eqn_threaded_chunked(data_thread, max_workers=4, chunk_size=5_000_000)\n",
        "#///////////////////////////////////////////////////////////////////////////////////////////\n",
        "\n",
        "# Vectorized in chunks ___________________________________________________________________\n",
        "fill_eqn_vectorized_chunked(data_vec, res_col_idx=4, chunk_size=5_000_000)\n",
        "#///////////////////////////////////////////////////////////////////////////////////////////\n",
        "\n",
        "#___________________________________________________________________________________________________________\n",
        "#___________________________________________________________________________________________________________\n",
        "#___________________________________________________________________________________________________________\n",
        "\n",
        "print(\"Equal (Numba vs vectorized, float64)?\", np.allclose(data_nb[:, 4], data_vec[:, 4]))\n",
        "print(\"Equal (Numba_GPU vs vectorized, float64)?\", np.allclose(data_nb_cuda[:, 4], data_vec[:, 4]))\n",
        "print(\"Equal (Numba_GPU_Opt vs vectorized, float64)?\", np.allclose(data_nb_cuda_opt[:, 4], data_vec[:, 4]))\n",
        "print(\"Equal (python_ThreadPoolExecutor vs vectorized, float64)?\", np.allclose(data_thread[:, 4], data_vec[:, 4]))"
      ]
    },
    {
      "cell_type": "markdown",
      "source": [
        "## Numba for Masking"
      ],
      "metadata": {
        "id": "93U94o0rR4BM"
      },
      "id": "93U94o0rR4BM"
    },
    {
      "cell_type": "code",
      "source": [
        "# numba_rect_mask_demo.py\n",
        "# pip install numba numpy matplotlib pillow\n",
        "# ------------------------------------------------------------\n",
        "# Synthetic images + labels/bboxes + Numba rectangle masks,\n",
        "# with side-by-side visualization using matplotlib.\n",
        "#\n",
        "# Quick start (CPU only):\n",
        "#   pip install numba numpy matplotlib pillow\n",
        "#   python numba_rect_mask_demo.py\n",
        "#\n",
        "# Notes:\n",
        "# - Numba JIT-compiles the rectangles→mask routine on first call; that's why\n",
        "#   the first run is slower than subsequent runs.\n",
        "# - Everything here is CPU. If you later want GPU, prefer vectorized PyTorch\n",
        "#   or a dedicated CUDA kernel. Numba can also do CUDA, but that's a different\n",
        "#   code path.\n",
        "# ------------------------------------------------------------\n",
        "\n",
        "from dataclasses import dataclass\n",
        "import numpy as np\n",
        "import matplotlib.pyplot as plt\n",
        "from PIL import Image, ImageDraw, ImageFont\n",
        "\n",
        "# ---------- Optional acceleration with Numba ----------\n",
        "# We try to import Numba. If it's missing, the code falls back to a pure-NumPy\n",
        "# version of the same kernel so the script still runs end-to-end.\n",
        "try:\n",
        "    from numba import njit, prange\n",
        "    USE_NUMBA = True\n",
        "except Exception as e:\n",
        "    USE_NUMBA = False\n",
        "    print(\"Numba not available, falling back to pure NumPy. Error:\", e)\n",
        "\n",
        "# ---------- Rectangles → instance masks (per image) ----------\n",
        "# This function turns N axis-aligned boxes into N binary masks of size HxW.\n",
        "# Each mask[i] is 1 inside the i-th box, 0 elsewhere.\n",
        "if USE_NUMBA:\n",
        "    @njit(parallel=True, fastmath=False)\n",
        "    def rect_masks_numba(boxes, H, W):\n",
        "        \"\"\"\n",
        "        Args:\n",
        "          boxes : float32/float64 array of shape [N, 4] with (x1, y1, x2, y2) in pixel coords\n",
        "          H, W  : output mask height and width\n",
        "\n",
        "        Returns:\n",
        "          masks : uint8 array of shape [N, H, W] with values {0,1}\n",
        "        \"\"\"\n",
        "        N = boxes.shape[0]\n",
        "        # Allocate all masks in one go. dtype=uint8 keeps memory small; we can\n",
        "        # cast to bool later for frameworks that prefer it.\n",
        "        out = np.zeros((N, H, W), dtype=np.uint8)\n",
        "\n",
        "        # prange parallelizes the outer loop across boxes; good when there are many boxes.\n",
        "        for i in prange(N):\n",
        "            # Read and integerize coordinates (safe for pixel indexing)\n",
        "            x1 = int(boxes[i, 0]); y1 = int(boxes[i, 1])\n",
        "            x2 = int(boxes[i, 2]); y2 = int(boxes[i, 3])\n",
        "\n",
        "            # Ensure (x1,y1) is top-left and (x2,y2) is bottom-right\n",
        "            if x2 < x1: x1, x2 = x2, x1\n",
        "            if y2 < y1: y1, y2 = y2, y1\n",
        "\n",
        "            # Clamp to image bounds to avoid index errors\n",
        "            if x1 < 0: x1 = 0\n",
        "            if y1 < 0: y1 = 0\n",
        "            if x2 > W: x2 = W\n",
        "            if y2 > H: y2 = H\n",
        "\n",
        "            # Only write if the box has positive area\n",
        "            if x2 > x1 and y2 > y1:\n",
        "                out[i, y1:y2, x1:x2] = 1\n",
        "        return out\n",
        "else:\n",
        "    # Drop-in replacement when Numba isn't available.\n",
        "    def rect_masks_numba(boxes, H, W):\n",
        "        N = boxes.shape[0]\n",
        "        out = np.zeros((N, H, W), dtype=np.uint8)\n",
        "        for i in range(N):\n",
        "            x1 = int(boxes[i, 0]); y1 = int(boxes[i, 1])\n",
        "            x2 = int(boxes[i, 2]); y2 = int(boxes[i, 3])\n",
        "\n",
        "            if x2 < x1: x1, x2 = x2, x1\n",
        "            if y2 < y1: y1, y2 = y2, y1\n",
        "\n",
        "            x1 = max(0, min(W, x1)); x2 = max(0, min(W, x2))\n",
        "            y1 = max(0, min(H, y1)); y2 = max(0, min(H, y2))\n",
        "\n",
        "            if x2 > x1 and y2 > y1:\n",
        "                out[i, y1:y2, x1:x2] = 1\n",
        "        return out\n",
        "\n",
        "# ---------- Simple container for one synthetic sample ----------\n",
        "@dataclass\n",
        "class Sample:\n",
        "    image: np.ndarray         # shape [H, W, 3], dtype=uint8 (RGB)\n",
        "    boxes: np.ndarray         # shape [N, 4], dtype=float32, (x1,y1,x2,y2)\n",
        "    labels: np.ndarray        # shape [N], dtype=int64\n",
        "    masks: np.ndarray = None  # shape [N, H, W], dtype=uint8 (filled later)\n",
        "\n",
        "# ---------- Random box generator ----------\n",
        "def random_boxes(H, W, n_boxes, rng):\n",
        "    \"\"\"\n",
        "    Produces n_boxes axis-aligned rectangles inside the image.\n",
        "    We also enforce a minimum width/height so boxes are visible.\n",
        "    \"\"\"\n",
        "    boxes = np.zeros((n_boxes, 4), dtype=np.float32)\n",
        "    for i in range(n_boxes):\n",
        "        # random top-left\n",
        "        x1 = rng.integers(0, W - 1)\n",
        "        y1 = rng.integers(0, H - 1)\n",
        "\n",
        "        # random width/height within a reasonable range\n",
        "        bw = int(rng.integers(max(4, W // 16), max(8, W // 3)))\n",
        "        bh = int(rng.integers(max(4, H // 16), max(8, H // 3)))\n",
        "\n",
        "        # bottom-right, clamped to image\n",
        "        x2 = min(W, x1 + bw)\n",
        "        y2 = min(H, y1 + bh)\n",
        "\n",
        "        # boxes are (x1, y1, x2, y2)\n",
        "        boxes[i] = (min(x1, x2), min(y1, y2), max(x1, x2), max(y1, y2))\n",
        "    return boxes\n",
        "\n",
        "# ---------- Create B synthetic samples ----------\n",
        "def make_synthetic_samples(B=3, H=256, W=256, seed=7):\n",
        "    \"\"\"\n",
        "    Returns a list of Samples with:\n",
        "      - a smooth gradient + noise background image\n",
        "      - 2..5 random boxes per image\n",
        "      - labels in {1,2,3,4}\n",
        "    \"\"\"\n",
        "    rng = np.random.default_rng(seed)\n",
        "    samples = []\n",
        "    for _ in range(B):\n",
        "        # Make a pseudo-natural background: gradient + Gaussian noise\n",
        "        gy = np.linspace(0, 1, H, dtype=np.float32)[:, None]\n",
        "        gx = np.linspace(0, 1, W, dtype=np.float32)[None, :]\n",
        "        base = 0.6 * gy + 0.4 * gx + 0.05 * rng.standard_normal((H, W)).astype(np.float32)\n",
        "        base = np.clip(base, 0, 1)\n",
        "        # Stack slightly shifted channels so it looks more colorful\n",
        "        img = (255 * np.stack([\n",
        "            base,\n",
        "            np.roll(base, 12, axis=1),\n",
        "            np.roll(base, 24, axis=0)\n",
        "        ], axis=-1)).astype(np.uint8)\n",
        "\n",
        "        # Random boxes and integer labels\n",
        "        n_boxes = int(rng.integers(2, 6))                 # 2..5 per image\n",
        "        boxes   = random_boxes(H, W, n_boxes, rng)\n",
        "        labels  = rng.integers(1, 5, size=(n_boxes,), dtype=np.int64)\n",
        "\n",
        "        samples.append(Sample(image=img, boxes=boxes, labels=labels))\n",
        "    return samples\n",
        "\n",
        "# ---------- Visualization helpers ----------\n",
        "def draw_boxes_on_image(img_rgb, boxes, labels):\n",
        "    \"\"\"\n",
        "    Returns a copy of img_rgb with red rectangles and small label badges.\n",
        "    PIL is used for convenience; cv2 would work as well.\n",
        "    \"\"\"\n",
        "    im = Image.fromarray(img_rgb.copy())\n",
        "    dr = ImageDraw.Draw(im)\n",
        "    try:\n",
        "        font = ImageFont.load_default()\n",
        "    except Exception:\n",
        "        font = None\n",
        "\n",
        "    for i, box in enumerate(boxes):\n",
        "        x1, y1, x2, y2 = [int(v) for v in box.tolist()]\n",
        "        # Draw rectangle\n",
        "        dr.rectangle([x1, y1, x2, y2], outline=(255, 0, 0), width=2)\n",
        "\n",
        "        # A tiny label \"badge\" near the top-left corner\n",
        "        txt = str(int(labels[i]))\n",
        "        try:\n",
        "            tw = int(dr.textlength(txt, font=font))  # width in pixels\n",
        "        except Exception:\n",
        "            tw = 8 * len(txt)\n",
        "        dr.rectangle([x1, max(0, y1 - 12), x1 + tw + 6, y1], fill=(255, 0, 0))\n",
        "        dr.text((x1 + 3, max(0, y1 - 12)), txt, fill=(255, 255, 255), font=font)\n",
        "\n",
        "    return np.array(im)\n",
        "\n",
        "def colorize_instance_masks(masks, H, W):\n",
        "    \"\"\"\n",
        "    Assign a distinct random color to each instance mask and composite into\n",
        "    a single HxWx3 overlay. Non-overlapping rectangles will show distinct\n",
        "    colors; overlapping regions take the last written color.\n",
        "    \"\"\"\n",
        "    N = masks.shape[0]\n",
        "    if N == 0:\n",
        "        return np.zeros((H, W, 3), dtype=np.uint8)\n",
        "\n",
        "    # Deterministic color palette for repeatability\n",
        "    rng = np.random.default_rng(1234)\n",
        "    colors = rng.integers(64, 255, size=(N, 3), dtype=np.uint8)\n",
        "\n",
        "    overlay = np.zeros((H, W, 3), dtype=np.uint8)\n",
        "    for i in range(N):\n",
        "        m = masks[i].astype(bool)    # to boolean for indexing\n",
        "        overlay[m] = colors[i]       # broadcast color into masked pixels\n",
        "    return overlay\n",
        "\n",
        "def blend(a, b, alpha=0.5):\n",
        "    \"\"\"\n",
        "    Alpha-blend two RGB images (uint8). 'a' is usually the original,\n",
        "    'b' the color overlay. alpha in [0,1]: 0 -> only b, 1 -> only a.\n",
        "    \"\"\"\n",
        "    return (alpha * a.astype(np.float32) + (1 - alpha) * b.astype(np.float32)).clip(0, 255).astype(np.uint8)\n",
        "\n",
        "def side_by_side(left, right):\n",
        "    \"\"\"Horizontally concatenate two same-height images.\"\"\"\n",
        "    assert left.shape[0] == right.shape[0]\n",
        "    return np.concatenate([left, right], axis=1)\n",
        "\n",
        "# ---------- Main: generate, mask, and plot ----------\n",
        "if __name__ == \"__main__\":\n",
        "    # Image size and how many samples to create\n",
        "    H, W, B = 256, 256, 3\n",
        "\n",
        "    # 1) Make synthetic samples (images + boxes + labels)\n",
        "    samples = make_synthetic_samples(B=B, H=H, W=W, seed=77)\n",
        "\n",
        "    # 2) Build per-box masks with Numba (first call compiles if Numba is enabled)\n",
        "    for s in samples:\n",
        "        # rect_masks_numba returns [N, H, W] uint8 masks (0/1)\n",
        "        s.masks = rect_masks_numba(s.boxes.astype(np.float32), H, W)\n",
        "\n",
        "    # 3) Visualize each sample:\n",
        "    #    Left: image with red rectangles\n",
        "    #    Right: same image with colored mask overlay\n",
        "    for i, s in enumerate(samples):\n",
        "        left    = draw_boxes_on_image(s.image, s.boxes, s.labels)\n",
        "        overlay = colorize_instance_masks(s.masks, H, W)\n",
        "        right   = blend(s.image, overlay, alpha=0.5)\n",
        "        both    = side_by_side(left, right)\n",
        "\n",
        "        # One figure per sample (keeps UI simple and readable)\n",
        "        plt.figure(figsize=(10, 5))\n",
        "        plt.axis(\"off\")\n",
        "        plt.title(f\"Sample {i} — left: boxes, right: mask overlay\")\n",
        "        plt.imshow(both)\n",
        "\n",
        "    # Render all figures at the end\n",
        "    plt.show()\n"
      ],
      "metadata": {
        "id": "ONH8j9ZKR3D4"
      },
      "id": "ONH8j9ZKR3D4",
      "execution_count": null,
      "outputs": []
    },
    {
      "cell_type": "code",
      "source": [
        "# numba_rect_mask_demo.py\n",
        "# pip install numba numpy matplotlib pillow\n",
        "# ------------------------------------------------------------\n",
        "# Synthetic images + labels/bboxes + Numba rectangle masks,\n",
        "# with side-by-side visualization using matplotlib.\n",
        "#\n",
        "# Quick start (CPU only):\n",
        "#   pip install numba numpy matplotlib pillow\n",
        "#   python numba_rect_mask_demo.py\n",
        "#\n",
        "# Notes:\n",
        "# - Numba JIT-compiles the rectangles→mask routine on first call; that's why\n",
        "#   the first run is slower than subsequent runs.\n",
        "# - Everything here is CPU. If you later want GPU, prefer vectorized PyTorch\n",
        "#   or a dedicated CUDA kernel. Numba can also do CUDA, but that's a different\n",
        "#   code path.\n",
        "# ------------------------------------------------------------\n",
        "\n",
        "from dataclasses import dataclass\n",
        "import numpy as np\n",
        "import matplotlib.pyplot as plt\n",
        "from PIL import Image, ImageDraw, ImageFont\n",
        "\n",
        "# ---------- Optional acceleration with Numba ----------\n",
        "# We try to import Numba. If it's missing, the code falls back to a pure-NumPy\n",
        "# version of the same kernel so the script still runs end-to-end.\n",
        "try:\n",
        "    from numba import njit, prange\n",
        "    USE_NUMBA = True\n",
        "except Exception as e:\n",
        "    USE_NUMBA = False\n",
        "    print(\"Numba not available, falling back to pure NumPy. Error:\", e)\n",
        "\n",
        "# ---------- Rectangles → instance masks (per image) ----------\n",
        "# This function turns N axis-aligned boxes into N binary masks of size HxW.\n",
        "# Each mask[i] is 1 inside the i-th box, 0 elsewhere.\n",
        "if USE_NUMBA:\n",
        "    @njit(parallel=True, fastmath=False)\n",
        "    def rect_masks_numba(boxes, H, W):\n",
        "        \"\"\"\n",
        "        Args:\n",
        "          boxes : float32/float64 array of shape [N, 4] with (x1, y1, x2, y2) in pixel coords\n",
        "          H, W  : output mask height and width\n",
        "\n",
        "        Returns:\n",
        "          masks : uint8 array of shape [N, H, W] with values {0,1}\n",
        "        \"\"\"\n",
        "        N = boxes.shape[0]\n",
        "        # Allocate all masks in one go. dtype=uint8 keeps memory small; we can\n",
        "        # cast to bool later for frameworks that prefer it.\n",
        "        out = np.zeros((N, H, W), dtype=np.uint8)\n",
        "\n",
        "        # prange parallelizes the outer loop across boxes; good when there are many boxes.\n",
        "        for i in prange(N):\n",
        "            # Read and integerize coordinates (safe for pixel indexing)\n",
        "            x1 = int(boxes[i, 0]); y1 = int(boxes[i, 1])\n",
        "            x2 = int(boxes[i, 2]); y2 = int(boxes[i, 3])\n",
        "\n",
        "            # Ensure (x1,y1) is top-left and (x2,y2) is bottom-right\n",
        "            if x2 < x1: x1, x2 = x2, x1\n",
        "            if y2 < y1: y1, y2 = y2, y1\n",
        "\n",
        "            # Clamp to image bounds to avoid index errors\n",
        "            if x1 < 0: x1 = 0\n",
        "            if y1 < 0: y1 = 0\n",
        "            if x2 > W: x2 = W\n",
        "            if y2 > H: y2 = H\n",
        "\n",
        "            # Only write if the box has positive area\n",
        "            if x2 > x1 and y2 > y1:\n",
        "                out[i, y1:y2, x1:x2] = 1\n",
        "        return out\n",
        "else:\n",
        "    # Drop-in replacement when Numba isn't available.\n",
        "    def rect_masks_numba(boxes, H, W):\n",
        "        N = boxes.shape[0]\n",
        "        out = np.zeros((N, H, W), dtype=np.uint8)\n",
        "        for i in range(N):\n",
        "            x1 = int(boxes[i, 0]); y1 = int(boxes[i, 1])\n",
        "            x2 = int(boxes[i, 2]); y2 = int(boxes[i, 3])\n",
        "\n",
        "            if x2 < x1: x1, x2 = x2, x1\n",
        "            if y2 < y1: y1, y2 = y2, y1\n",
        "\n",
        "            x1 = max(0, min(W, x1)); x2 = max(0, min(W, x2))\n",
        "            y1 = max(0, min(H, y1)); y2 = max(0, min(H, y2))\n",
        "\n",
        "            if x2 > x1 and y2 > y1:\n",
        "                out[i, y1:y2, x1:x2] = 1\n",
        "        return out\n",
        "\n",
        "# ---------- Simple container for one synthetic sample ----------\n",
        "@dataclass\n",
        "class Sample:\n",
        "    image: np.ndarray         # shape [H, W, 3], dtype=uint8 (RGB)\n",
        "    boxes: np.ndarray         # shape [N, 4], dtype=float32, (x1,y1,x2,y2)\n",
        "    labels: np.ndarray        # shape [N], dtype=int64\n",
        "    masks: np.ndarray = None  # shape [N, H, W], dtype=uint8 (filled later)\n",
        "\n",
        "# ---------- Random box generator ----------\n",
        "def random_boxes(H, W, n_boxes, rng):\n",
        "    \"\"\"\n",
        "    Produces n_boxes axis-aligned rectangles inside the image.\n",
        "    We also enforce a minimum width/height so boxes are visible.\n",
        "    \"\"\"\n",
        "    boxes = np.zeros((n_boxes, 4), dtype=np.float32)\n",
        "    for i in range(n_boxes):\n",
        "        # random top-left\n",
        "        x1 = rng.integers(0, W - 1)\n",
        "        y1 = rng.integers(0, H - 1)\n",
        "\n",
        "        # random width/height within a reasonable range\n",
        "        bw = int(rng.integers(max(4, W // 16), max(8, W // 3)))\n",
        "        bh = int(rng.integers(max(4, H // 16), max(8, H // 3)))\n",
        "\n",
        "        # bottom-right, clamped to image\n",
        "        x2 = min(W, x1 + bw)\n",
        "        y2 = min(H, y1 + bh)\n",
        "\n",
        "        # boxes are (x1, y1, x2, y2)\n",
        "        boxes[i] = (min(x1, x2), min(y1, y2), max(x1, x2), max(y1, y2))\n",
        "    return boxes\n",
        "\n",
        "# ---------- Create B synthetic samples ----------\n",
        "def make_synthetic_samples(B=3, H=256, W=256, seed=7):\n",
        "    \"\"\"\n",
        "    Returns a list of Samples with:\n",
        "      - a smooth gradient + noise background image\n",
        "      - 2..5 random boxes per image\n",
        "      - labels in {1,2,3,4}\n",
        "    \"\"\"\n",
        "    rng = np.random.default_rng(seed)\n",
        "    samples = []\n",
        "    for _ in range(B):\n",
        "        # Make a pseudo-natural background: gradient + Gaussian noise\n",
        "        gy = np.linspace(0, 1, H, dtype=np.float32)[:, None]\n",
        "        gx = np.linspace(0, 1, W, dtype=np.float32)[None, :]\n",
        "        base = 0.6 * gy + 0.4 * gx + 0.05 * rng.standard_normal((H, W)).astype(np.float32)\n",
        "        base = np.clip(base, 0, 1)\n",
        "        # Stack slightly shifted channels so it looks more colorful\n",
        "        img = (255 * np.stack([\n",
        "            base,\n",
        "            np.roll(base, 12, axis=1),\n",
        "            np.roll(base, 24, axis=0)\n",
        "        ], axis=-1)).astype(np.uint8)\n",
        "\n",
        "        # Random boxes and integer labels\n",
        "        n_boxes = int(rng.integers(2, 6))                 # 2..5 per image\n",
        "        boxes   = random_boxes(H, W, n_boxes, rng)\n",
        "        labels  = rng.integers(1, 5, size=(n_boxes,), dtype=np.int64)\n",
        "\n",
        "        samples.append(Sample(image=img, boxes=boxes, labels=labels))\n",
        "    return samples\n",
        "\n",
        "# ---------- Visualization helpers ----------\n",
        "def draw_boxes_on_image(img_rgb, boxes, labels):\n",
        "    \"\"\"\n",
        "    Returns a copy of img_rgb with red rectangles and small label badges.\n",
        "    PIL is used for convenience; cv2 would work as well.\n",
        "    \"\"\"\n",
        "    im = Image.fromarray(img_rgb.copy())\n",
        "    dr = ImageDraw.Draw(im)\n",
        "    try:\n",
        "        font = ImageFont.load_default()\n",
        "    except Exception:\n",
        "        font = None\n",
        "\n",
        "    for i, box in enumerate(boxes):\n",
        "        x1, y1, x2, y2 = [int(v) for v in box.tolist()]\n",
        "        # Draw rectangle\n",
        "        dr.rectangle([x1, y1, x2, y2], outline=(255, 0, 0), width=2)\n",
        "\n",
        "        # A tiny label \"badge\" near the top-left corner\n",
        "        txt = str(int(labels[i]))\n",
        "        try:\n",
        "            tw = int(dr.textlength(txt, font=font))  # width in pixels\n",
        "        except Exception:\n",
        "            tw = 8 * len(txt)\n",
        "        dr.rectangle([x1, max(0, y1 - 12), x1 + tw + 6, y1], fill=(255, 0, 0))\n",
        "        dr.text((x1 + 3, max(0, y1 - 12)), txt, fill=(255, 255, 255), font=font)\n",
        "\n",
        "    return np.array(im)\n",
        "\n",
        "def colorize_instance_masks(masks, H, W):\n",
        "    \"\"\"\n",
        "    Assign a distinct random color to each instance mask and composite into\n",
        "    a single HxWx3 overlay. Non-overlapping rectangles will show distinct\n",
        "    colors; overlapping regions take the last written color.\n",
        "    \"\"\"\n",
        "    N = masks.shape[0]\n",
        "    if N == 0:\n",
        "        return np.zeros((H, W, 3), dtype=np.uint8)\n",
        "\n",
        "    # Deterministic color palette for repeatability\n",
        "    rng = np.random.default_rng(1234)\n",
        "    colors = rng.integers(64, 255, size=(N, 3), dtype=np.uint8)\n",
        "\n",
        "    overlay = np.zeros((H, W, 3), dtype=np.uint8)\n",
        "    for i in range(N):\n",
        "        m = masks[i].astype(bool)    # to boolean for indexing\n",
        "        overlay[m] = colors[i]       # broadcast color into masked pixels\n",
        "    return overlay\n",
        "\n",
        "def blend(a, b, alpha=0.5):\n",
        "    \"\"\"\n",
        "    Alpha-blend two RGB images (uint8). 'a' is usually the original,\n",
        "    'b' the color overlay. alpha in [0,1]: 0 -> only b, 1 -> only a.\n",
        "    \"\"\"\n",
        "    return (alpha * a.astype(np.float32) + (1 - alpha) * b.astype(np.float32)).clip(0, 255).astype(np.uint8)\n",
        "\n",
        "def blend_masked(img, overlay, alpha=0.5):\n",
        "    \"\"\"\n",
        "    Overlay only on masked pixels; keep background identical.\n",
        "    img, overlay: HxWx3 uint8. overlay is 0 outside mask.\n",
        "    \"\"\"\n",
        "    out = img.copy()\n",
        "    m = overlay.any(axis=2)           # HxW boolean mask: True where any color channel > 0\n",
        "    # alpha-blend only masked pixels\n",
        "    out[m] = (img[m] * (1 - alpha) + overlay[m] * alpha).clip(0, 255).astype(np.uint8)\n",
        "    return out\n",
        "\n",
        "\n",
        "def side_by_side(left, right):\n",
        "    \"\"\"Horizontally concatenate two same-height images.\"\"\"\n",
        "    assert left.shape[0] == right.shape[0]\n",
        "    return np.concatenate([left, right], axis=1)\n",
        "\n",
        "# ---------- Main: generate, mask, and plot ----------\n",
        "if __name__ == \"__main__\":\n",
        "    # Image size and how many samples to create\n",
        "    H, W, B = 256, 256, 3\n",
        "\n",
        "    # 1) Make synthetic samples (images + boxes + labels)\n",
        "    samples = make_synthetic_samples(B=B, H=H, W=W, seed=77)\n",
        "\n",
        "    # 2) Build per-box masks with Numba (first call compiles if Numba is enabled)\n",
        "    for s in samples:\n",
        "        # rect_masks_numba returns [N, H, W] uint8 masks (0/1)\n",
        "        s.masks = rect_masks_numba(s.boxes.astype(np.float32), H, W)\n",
        "\n",
        "    # 3) Visualize each sample:\n",
        "    #    Left: image with red rectangles\n",
        "    #    Right: same image with colored mask overlay\n",
        "    for i, s in enumerate(samples):\n",
        "        left    = draw_boxes_on_image(s.image, s.boxes, s.labels)\n",
        "        overlay = colorize_instance_masks(s.masks, H, W)\n",
        "        right   = blend(s.image, overlay, alpha=0.5)\n",
        "        right   = blend_masked(s.image, overlay, alpha=0.5)\n",
        "        both    = side_by_side(left, right)\n",
        "\n",
        "        # One figure per sample (keeps UI simple and readable)\n",
        "        plt.figure(figsize=(10, 5))\n",
        "        plt.axis(\"off\")\n",
        "        plt.title(f\"Sample {i} — left: boxes, right: mask overlay\")\n",
        "        plt.imshow(both)\n",
        "\n",
        "    # Render all figures at the end\n",
        "    plt.show()\n"
      ],
      "metadata": {
        "id": "ONk6QnzvR3Fx"
      },
      "id": "ONk6QnzvR3Fx",
      "execution_count": null,
      "outputs": []
    },
    {
      "cell_type": "code",
      "source": [
        "# numba_rect_mask_demo.py\n",
        "# pip install numba numpy matplotlib pillow\n",
        "# ------------------------------------------------------------\n",
        "# Synthetic images + labels/bboxes + Numba rectangle masks,\n",
        "# with side-by-side visualization using matplotlib.\n",
        "#\n",
        "# Quick start (CPU only):\n",
        "#   pip install numba numpy matplotlib pillow\n",
        "#   python numba_rect_mask_demo.py\n",
        "#\n",
        "# Notes:\n",
        "# - Numba JIT-compiles the rectangles→mask routine on first call; that's why\n",
        "#   the first run is slower than subsequent runs.\n",
        "# - This demo shows the original image on the LEFT, and on the RIGHT keeps\n",
        "#   ONLY the pixels inside any bbox (everything else is set to 0).\n",
        "# ------------------------------------------------------------\n",
        "\n",
        "from dataclasses import dataclass\n",
        "import numpy as np\n",
        "import matplotlib.pyplot as plt\n",
        "from PIL import Image, ImageDraw, ImageFont\n",
        "\n",
        "# ---------- Optional acceleration with Numba ----------\n",
        "# If Numba isn't available, we fall back to a pure-NumPy kernel.\n",
        "try:\n",
        "    from numba import njit, prange\n",
        "    USE_NUMBA = True\n",
        "except Exception as e:\n",
        "    USE_NUMBA = False\n",
        "    print(\"Numba not available, falling back to pure NumPy. Error:\", e)\n",
        "\n",
        "# ---------- Rectangles → per-instance masks (per image) ----------\n",
        "# Turns N axis-aligned boxes into N binary masks (HxW).\n",
        "if USE_NUMBA:\n",
        "    @njit(parallel=True, fastmath=False)\n",
        "    def rect_masks_numba(boxes, H, W):\n",
        "        \"\"\"\n",
        "        boxes: float32/float64 [N,4] in (x1, y1, x2, y2)\n",
        "        returns: uint8 masks [N,H,W] with values {0,1}\n",
        "        \"\"\"\n",
        "        N = boxes.shape[0]\n",
        "        out = np.zeros((N, H, W), dtype=np.uint8)\n",
        "        for i in prange(N):  # parallelize over boxes\n",
        "            x1 = int(boxes[i, 0]); y1 = int(boxes[i, 1])\n",
        "            x2 = int(boxes[i, 2]); y2 = int(boxes[i, 3])\n",
        "\n",
        "            # order & clamp\n",
        "            if x2 < x1: x1, x2 = x2, x1\n",
        "            if y2 < y1: y1, y2 = y2, y1\n",
        "            if x1 < 0: x1 = 0\n",
        "            if y1 < 0: y1 = 0\n",
        "            if x2 > W: x2 = W\n",
        "            if y2 > H: y2 = H\n",
        "\n",
        "            if x2 > x1 and y2 > y1:\n",
        "                out[i, y1:y2, x1:x2] = 1\n",
        "        return out\n",
        "else:\n",
        "    def rect_masks_numba(boxes, H, W):\n",
        "        N = boxes.shape[0]\n",
        "        out = np.zeros((N, H, W), dtype=np.uint8)\n",
        "        for i in range(N):\n",
        "            x1 = int(boxes[i, 0]); y1 = int(boxes[i, 1])\n",
        "            x2 = int(boxes[i, 2]); y2 = int(boxes[i, 3])\n",
        "            if x2 < x1: x1, x2 = x2, x1\n",
        "            if y2 < y1: y1, y2 = y2, y1\n",
        "            x1 = max(0, min(W, x1)); x2 = max(0, min(W, x2))\n",
        "            y1 = max(0, min(H, y1)); y2 = max(0, min(H, y2))\n",
        "            if x2 > x1 and y2 > y1:\n",
        "                out[i, y1:y2, x1:x2] = 1\n",
        "        return out\n",
        "\n",
        "# ---------- Data container ----------\n",
        "@dataclass\n",
        "class Sample:\n",
        "    image: np.ndarray         # [H,W,3] uint8 (RGB)\n",
        "    boxes: np.ndarray         # [N,4] float32 (x1,y1,x2,y2)\n",
        "    labels: np.ndarray        # [N]   int64\n",
        "    masks: np.ndarray = None  # [N,H,W] uint8 (filled later)\n",
        "\n",
        "# ---------- Random box generator ----------\n",
        "def random_boxes(H, W, n_boxes, rng):\n",
        "    \"\"\"Produce n_boxes rectangles inside the image with minimum sizes.\"\"\"\n",
        "    boxes = np.zeros((n_boxes, 4), dtype=np.float32)\n",
        "    for i in range(n_boxes):\n",
        "        x1 = rng.integers(0, W - 1)\n",
        "        y1 = rng.integers(0, H - 1)\n",
        "        bw = int(rng.integers(max(4, W // 16), max(8, W // 3)))\n",
        "        bh = int(rng.integers(max(4, H // 16), max(8, H // 3)))\n",
        "        x2 = min(W, x1 + bw)\n",
        "        y2 = min(H, y1 + bh)\n",
        "        boxes[i] = (min(x1, x2), min(y1, y2), max(x1, x2), max(y1, y2))\n",
        "    return boxes\n",
        "\n",
        "# ---------- Synthetic sample maker ----------\n",
        "def make_synthetic_samples(B=3, H=256, W=256, seed=7):\n",
        "    \"\"\"\n",
        "    Create B samples with gradient+noise background, 2..5 random boxes each,\n",
        "    and labels in {1,2,3,4}.\n",
        "    \"\"\"\n",
        "    rng = np.random.default_rng(seed)\n",
        "    samples = []\n",
        "    for _ in range(B):\n",
        "        gy = np.linspace(0, 1, H, dtype=np.float32)[:, None]\n",
        "        gx = np.linspace(0, 1, W, dtype=np.float32)[None, :]\n",
        "        base = 0.6 * gy + 0.4 * gx + 0.05 * rng.standard_normal((H, W)).astype(np.float32)\n",
        "        base = np.clip(base, 0, 1)\n",
        "        img = (255 * np.stack([base, np.roll(base, 12, axis=1), np.roll(base, 24, axis=0)], axis=-1)).astype(np.uint8)\n",
        "\n",
        "        n_boxes = int(rng.integers(2, 6))  # 2..5\n",
        "        boxes   = random_boxes(H, W, n_boxes, rng)\n",
        "        labels  = rng.integers(1, 5, size=(n_boxes,), dtype=np.int64)\n",
        "\n",
        "        samples.append(Sample(image=img, boxes=boxes, labels=labels))\n",
        "    return samples\n",
        "\n",
        "# ---------- Drawing helpers ----------\n",
        "def draw_boxes_on_image(img_rgb, boxes, labels):\n",
        "    \"\"\"Return a copy of img_rgb with red rectangles and small label badges.\"\"\"\n",
        "    im = Image.fromarray(img_rgb.copy())\n",
        "    dr = ImageDraw.Draw(im)\n",
        "    try:\n",
        "        font = ImageFont.load_default()\n",
        "    except Exception:\n",
        "        font = None\n",
        "\n",
        "    for i, box in enumerate(boxes):\n",
        "        x1, y1, x2, y2 = [int(v) for v in box.tolist()]\n",
        "        dr.rectangle([x1, y1, x2, y2], outline=(255, 0, 0), width=2)\n",
        "        txt = str(int(labels[i]))\n",
        "        try:\n",
        "            tw = int(dr.textlength(txt, font=font))\n",
        "        except Exception:\n",
        "            tw = 8 * len(txt)\n",
        "        dr.rectangle([x1, max(0, y1 - 12), x1 + tw + 6, y1], fill=(255, 0, 0))\n",
        "        dr.text((x1 + 3, max(0, y1 - 12)), txt, fill=(255, 255, 255), font=font)\n",
        "    return np.array(im)\n",
        "\n",
        "def apply_union_mask(img, masks):\n",
        "    \"\"\"\n",
        "    Keep only pixels inside ANY bbox; zero out everything else.\n",
        "    img:   [H,W,3] uint8\n",
        "    masks: [N,H,W] uint8 (0/1)\n",
        "    returns: [H,W,3] uint8\n",
        "    \"\"\"\n",
        "    if masks.size == 0:\n",
        "        return np.zeros_like(img)\n",
        "    m = (masks != 0).any(axis=0).astype(np.uint8)   # [H,W] 0/1 union of masks\n",
        "    return (img * m[..., None]).astype(np.uint8)\n",
        "\n",
        "def side_by_side(left, right):\n",
        "    \"\"\"Horizontally concatenate two same-height images.\"\"\"\n",
        "    assert left.shape[0] == right.shape[0]\n",
        "    return np.concatenate([left, right], axis=1)\n",
        "\n",
        "# ---------- Main ----------\n",
        "if __name__ == \"__main__\":\n",
        "    H, W, B = 256, 256, 3\n",
        "\n",
        "    # 1) Make synthetic samples (images + boxes + labels)\n",
        "    samples = make_synthetic_samples(B=B, H=H, W=W, seed=77)\n",
        "\n",
        "    # 2) Build per-box masks with Numba (first call compiles if Numba is enabled)\n",
        "    for s in samples:\n",
        "        s.masks = rect_masks_numba(s.boxes.astype(np.float32), H, W)  # [N,H,W] uint8 (0/1)\n",
        "\n",
        "    # 3) Visualize each sample:\n",
        "    #    Left: image with red rectangles\n",
        "    #    Right: ONLY bboxed regions visible, everything else set to 0\n",
        "    for i, s in enumerate(samples):\n",
        "        left  = draw_boxes_on_image(s.image, s.boxes, s.labels)\n",
        "        right = apply_union_mask(s.image, s.masks)\n",
        "        both  = side_by_side(left, right)\n",
        "\n",
        "        plt.figure(figsize=(10, 5))\n",
        "        plt.axis(\"off\")\n",
        "        plt.title(f\"Sample {i} — left: boxes, right: masked (outside=0)\")\n",
        "        plt.imshow(both)\n",
        "\n",
        "    plt.show()\n"
      ],
      "metadata": {
        "id": "PjQZwPeGR3Hu"
      },
      "id": "PjQZwPeGR3Hu",
      "execution_count": null,
      "outputs": []
    },
    {
      "cell_type": "code",
      "source": [
        "# numba_rect_mask_demo_binary.py\n",
        "# pip install numba numpy matplotlib pillow\n",
        "# ------------------------------------------------------------\n",
        "# Synthetic images + labels/bboxes + Numba rectangle masks.\n",
        "# LEFT  = original image with red rectangle outlines\n",
        "# RIGHT = binary union mask (strict 0/1; shown as 0/255 for viewing)\n",
        "#\n",
        "# Quick start (CPU only):\n",
        "#   pip install numba numpy matplotlib pillow\n",
        "#   python numba_rect_mask_demo_binary.py\n",
        "# ------------------------------------------------------------\n",
        "\n",
        "from dataclasses import dataclass\n",
        "import numpy as np\n",
        "import matplotlib.pyplot as plt\n",
        "from PIL import Image, ImageDraw, ImageFont\n",
        "\n",
        "# ---------- Optional acceleration with Numba ----------\n",
        "try:\n",
        "    from numba import njit, prange\n",
        "    USE_NUMBA = True\n",
        "except Exception as e:\n",
        "    USE_NUMBA = False\n",
        "    print(\"Numba not available, falling back to pure NumPy. Error:\", e)\n",
        "\n",
        "# ---------- Rectangles → per-instance masks (strict 0/1) ----------\n",
        "if USE_NUMBA:\n",
        "    @njit(parallel=True, fastmath=False)\n",
        "    def rect_masks_numba(boxes, H, W):\n",
        "        \"\"\"\n",
        "        boxes: float32/float64 [N,4] in (x1, y1, x2, y2)\n",
        "        returns: uint8 masks [N,H,W] with values {0,1}\n",
        "        \"\"\"\n",
        "        N = boxes.shape[0]\n",
        "        out = np.zeros((N, H, W), dtype=np.uint8)\n",
        "        for i in prange(N):  # parallelize over boxes\n",
        "            x1 = int(boxes[i, 0]); y1 = int(boxes[i, 1])\n",
        "            x2 = int(boxes[i, 2]); y2 = int(boxes[i, 3])\n",
        "\n",
        "            # order & clamp\n",
        "            if x2 < x1: x1, x2 = x2, x1\n",
        "            if y2 < y1: y1, y2 = y2, y1\n",
        "            if x1 < 0: x1 = 0\n",
        "            if y1 < 0: y1 = 0\n",
        "            if x2 > W: x2 = W\n",
        "            if y2 > H: y2 = H\n",
        "\n",
        "            if x2 > x1 and y2 > y1:\n",
        "                out[i, y1:y2, x1:x2] = 1\n",
        "        return out\n",
        "else:\n",
        "    def rect_masks_numba(boxes, H, W):\n",
        "        N = boxes.shape[0]\n",
        "        out = np.zeros((N, H, W), dtype=np.uint8)\n",
        "        for i in range(N):\n",
        "            x1 = int(boxes[i, 0]); y1 = int(boxes[i, 1])\n",
        "            x2 = int(boxes[i, 2]); y2 = int(boxes[i, 3])\n",
        "            if x2 < x1: x1, x2 = x2, x1\n",
        "            if y2 < y1: y1, y2 = y2, y1\n",
        "            x1 = max(0, min(W, x1)); x2 = max(0, min(W, x2))\n",
        "            y1 = max(0, min(H, y1)); y2 = max(0, min(H, y2))\n",
        "            if x2 > x1 and y2 > y1:\n",
        "                out[i, y1:y2, x1:x2] = 1\n",
        "        return out\n",
        "\n",
        "# ---------- Data container ----------\n",
        "@dataclass\n",
        "class Sample:\n",
        "    image: np.ndarray         # [H,W,3] uint8 (RGB)\n",
        "    boxes: np.ndarray         # [N,4] float32 (x1,y1,x2,y2)\n",
        "    labels: np.ndarray        # [N]   int64\n",
        "    masks: np.ndarray = None  # [N,H,W] uint8 in {0,1}\n",
        "\n",
        "# ---------- Random box generator ----------\n",
        "def random_boxes(H, W, n_boxes, rng):\n",
        "    boxes = np.zeros((n_boxes, 4), dtype=np.float32)\n",
        "    for i in range(n_boxes):\n",
        "        x1 = rng.integers(0, W - 1)\n",
        "        y1 = rng.integers(0, H - 1)\n",
        "        bw = int(rng.integers(max(4, W // 16), max(8, W // 3)))\n",
        "        bh = int(rng.integers(max(4, H // 16), max(8, H // 3)))\n",
        "        x2 = min(W, x1 + bw)\n",
        "        y2 = min(H, y1 + bh)\n",
        "        boxes[i] = (min(x1, x2), min(y1, y2), max(x1, x2), max(y1, y2))\n",
        "    return boxes\n",
        "\n",
        "# ---------- Synthetic sample maker ----------\n",
        "def make_synthetic_samples(B=3, H=256, W=256, seed=7):\n",
        "    rng = np.random.default_rng(seed)\n",
        "    samples = []\n",
        "    for _ in range(B):\n",
        "        gy = np.linspace(0, 1, H, dtype=np.float32)[:, None]\n",
        "        gx = np.linspace(0, 1, W, dtype=np.float32)[None, :]\n",
        "        base = 0.6 * gy + 0.4 * gx + 0.05 * rng.standard_normal((H, W)).astype(np.float32)\n",
        "        base = np.clip(base, 0, 1)\n",
        "        img = (255 * np.stack([base, np.roll(base, 12, axis=1), np.roll(base, 24, axis=0)], axis=-1)).astype(np.uint8)\n",
        "\n",
        "        n_boxes = int(rng.integers(2, 6))  # 2..5\n",
        "        boxes   = random_boxes(H, W, n_boxes, rng)\n",
        "        labels  = rng.integers(1, 5, size=(n_boxes,), dtype=np.int64)\n",
        "        samples.append(Sample(image=img, boxes=boxes, labels=labels))\n",
        "    return samples\n",
        "\n",
        "# ---------- Drawing helpers ----------\n",
        "def draw_boxes_on_image(img_rgb, boxes, labels):\n",
        "    im = Image.fromarray(img_rgb.copy())\n",
        "    dr = ImageDraw.Draw(im)\n",
        "    try:\n",
        "        font = ImageFont.load_default()\n",
        "    except Exception:\n",
        "        font = None\n",
        "    for i, box in enumerate(boxes):\n",
        "        x1, y1, x2, y2 = [int(v) for v in box.tolist()]\n",
        "        dr.rectangle([x1, y1, x2, y2], outline=(255, 0, 0), width=2)\n",
        "        txt = str(int(labels[i]))\n",
        "        try:\n",
        "            tw = int(dr.textlength(txt, font=font))\n",
        "        except Exception:\n",
        "            tw = 8 * len(txt)\n",
        "        dr.rectangle([x1, max(0, y1 - 12), x1 + tw + 6, y1], fill=(255, 0, 0))\n",
        "        dr.text((x1 + 3, max(0, y1 - 12)), txt, fill=(255, 255, 255), font=font)\n",
        "    return np.array(im)\n",
        "\n",
        "# ---------- Binary mask utilities ----------\n",
        "def union_mask_binary(masks):\n",
        "    \"\"\"Combine [N,H,W] 0/1 masks into a single 0/1 mask [H,W].\"\"\"\n",
        "    if masks.size == 0:\n",
        "        return None\n",
        "    return (masks != 0).any(axis=0).astype(np.uint8)  # 0 or 1\n",
        "\n",
        "def binary_to_rgb(mask_01):\n",
        "    \"\"\"Show a 0/1 mask as 0/255 grayscale RGB for plotting.\"\"\"\n",
        "    vis = (mask_01 * 255).astype(np.uint8)           # [H,W] 0/255\n",
        "    return np.repeat(vis[..., None], 3, axis=2)      # [H,W,3]\n",
        "\n",
        "def side_by_side(left, right):\n",
        "    assert left.shape[0] == right.shape[0]\n",
        "    return np.concatenate([left, right], axis=1)\n",
        "\n",
        "# ---------- Main ----------\n",
        "if __name__ == \"__main__\":\n",
        "    H, W, B = 256, 256, 3\n",
        "\n",
        "    # 1) Make synthetic samples (images + boxes + labels)\n",
        "    samples = make_synthetic_samples(B=B, H=H, W=W, seed=77)\n",
        "\n",
        "    # 2) Build per-box masks (strict 0/1)\n",
        "    for s in samples:\n",
        "        s.masks = rect_masks_numba(s.boxes.astype(np.float32), H, W)  # [N,H,W] uint8 in {0,1}\n",
        "\n",
        "    # 3) Visualize:\n",
        "    #    LEFT  = original with red rectangles\n",
        "    #    RIGHT = binary union mask (0/1, shown as 0/255)\n",
        "    for i, s in enumerate(samples):\n",
        "        left      = draw_boxes_on_image(s.image, s.boxes, s.labels)\n",
        "        union_01  = union_mask_binary(s.masks)   # [H,W] 0/1\n",
        "        right     = binary_to_rgb(union_01)      # [H,W,3] for side-by-side\n",
        "        both      = side_by_side(left, right)\n",
        "\n",
        "        plt.figure(figsize=(10, 5))\n",
        "        plt.axis(\"off\")\n",
        "        plt.title(f\"Sample {i} — left: boxes, right: binary mask (0/1)\")\n",
        "        plt.imshow(both)\n",
        "\n",
        "    plt.show()\n"
      ],
      "metadata": {
        "id": "KJyw8qcjZ1YW"
      },
      "id": "KJyw8qcjZ1YW",
      "execution_count": null,
      "outputs": []
    },
    {
      "cell_type": "markdown",
      "source": [
        "## Polygon with OpenCV"
      ],
      "metadata": {
        "id": "biJvxqueYmIx"
      },
      "id": "biJvxqueYmIx"
    },
    {
      "cell_type": "code",
      "source": [],
      "metadata": {
        "id": "gpIXm3T8R3KL"
      },
      "id": "gpIXm3T8R3KL",
      "execution_count": null,
      "outputs": []
    },
    {
      "cell_type": "code",
      "source": [
        "# pip install numpy matplotlib pillow opencv-python\n",
        "# poly_mask_demo.py\n",
        "# ------------------------------------------------------------\n",
        "# Synthetic images + labels/polygons + OpenCV polygon masks,\n",
        "# with side-by-side visualization using matplotlib.\n",
        "# LEFT  = original image with red polygon outlines\n",
        "# RIGHT = only pixels inside any polygon (outside set to 0)\n",
        "# ------------------------------------------------------------\n",
        "\n",
        "from dataclasses import dataclass\n",
        "import numpy as np\n",
        "import matplotlib.pyplot as plt\n",
        "from PIL import Image, ImageDraw, ImageFont\n",
        "import cv2\n",
        "\n",
        "# ---------- Data container ----------\n",
        "@dataclass\n",
        "class SamplePoly:\n",
        "    image: np.ndarray            # [H,W,3] uint8 (RGB)\n",
        "    polygons: list               # list of (Mi,2) int32 arrays\n",
        "    labels: np.ndarray           # [N] int64\n",
        "    masks: np.ndarray = None     # [N,H,W] uint8, filled later\n",
        "\n",
        "# ---------- Polygon generation ----------\n",
        "def random_convex_polygon(H, W, rng, n_vertices=5, min_r=None, max_r=None):\n",
        "    \"\"\"\n",
        "    Make a random convex-ish polygon by sampling radii on sorted angles.\n",
        "    Returns (n_vertices, 2) int32 array clipped to image bounds.\n",
        "    \"\"\"\n",
        "    if min_r is None: min_r = max(8, min(H, W) // 10)\n",
        "    if max_r is None: max_r = max(min(H, W) // 4, min_r + 1)\n",
        "\n",
        "    # center away from borders\n",
        "    cx = int(rng.integers(min_r, W - min_r))\n",
        "    cy = int(rng.integers(min_r, H - min_r))\n",
        "\n",
        "    angles = np.sort(rng.uniform(0, 2 * np.pi, size=n_vertices))\n",
        "    radii  = rng.uniform(min_r, max_r, size=n_vertices)\n",
        "\n",
        "    xs = cx + (radii * np.cos(angles))\n",
        "    ys = cy + (radii * np.sin(angles))\n",
        "    pts = np.stack([xs, ys], axis=1)\n",
        "\n",
        "    # clip & to int32 for OpenCV\n",
        "    pts[:, 0] = np.clip(pts[:, 0], 0, W - 1)\n",
        "    pts[:, 1] = np.clip(pts[:, 1], 0, H - 1)\n",
        "    return pts.astype(np.int32)\n",
        "\n",
        "def make_synthetic_poly_samples(B=3, H=256, W=256, seed=7):\n",
        "    \"\"\"\n",
        "    Build B samples with gradient+noise images and 2..5 random polygons each.\n",
        "    \"\"\"\n",
        "    rng = np.random.default_rng(seed)\n",
        "    samples = []\n",
        "    for _ in range(B):\n",
        "        # colorful gradient + noise background\n",
        "        gy = np.linspace(0, 1, H, dtype=np.float32)[:, None]\n",
        "        gx = np.linspace(0, 1, W, dtype=np.float32)[None, :]\n",
        "        base = 0.6 * gy + 0.4 * gx + 0.05 * rng.standard_normal((H, W)).astype(np.float32)\n",
        "        base = np.clip(base, 0, 1)\n",
        "        img = (255 * np.stack([base, np.roll(base, 10, 1), np.roll(base, 20, 0)], axis=-1)).astype(np.uint8)\n",
        "\n",
        "        n_polys = int(rng.integers(2, 6))  # 2..5\n",
        "        polys = []\n",
        "        for _p in range(n_polys):\n",
        "            k = int(rng.integers(3, 8))  # 3..7 vertices\n",
        "            polys.append(random_convex_polygon(H, W, rng, n_vertices=k))\n",
        "        labels = rng.integers(1, 5, size=(n_polys,), dtype=np.int64)\n",
        "\n",
        "        samples.append(SamplePoly(image=img, polygons=polys, labels=labels))\n",
        "    return samples\n",
        "\n",
        "# ---------- Polygons → per-instance masks (OpenCV) ----------\n",
        "def polygons_to_masks_cv(polygons, H, W):\n",
        "    \"\"\"\n",
        "    polygons: list of (Mi,2) int32 arrays\n",
        "    returns: uint8 masks [N,H,W] with 0/1\n",
        "    \"\"\"\n",
        "    N = len(polygons)\n",
        "    masks = np.zeros((N, H, W), dtype=np.uint8)\n",
        "    for i, poly in enumerate(polygons):\n",
        "        # Ensure the array is int32 for cv2 and shape (Mi,1,2) or (Mi,2)\n",
        "        poly_i = np.asarray(poly, dtype=np.int32)\n",
        "        cv2.fillPoly(masks[i], [poly_i], 1)  # draw into the i-th 2D mask\n",
        "    return masks\n",
        "\n",
        "# ---------- Visualization ----------\n",
        "def draw_polygons_on_image(img_rgb, polygons, labels):\n",
        "    \"\"\"Return a copy of the image with red polygon outlines + tiny label badges.\"\"\"\n",
        "    im = Image.fromarray(img_rgb.copy())\n",
        "    dr = ImageDraw.Draw(im)\n",
        "    try:\n",
        "        font = ImageFont.load_default()\n",
        "    except Exception:\n",
        "        font = None\n",
        "\n",
        "    for i, poly in enumerate(polygons):\n",
        "        pts = [(int(x), int(y)) for x, y in poly]\n",
        "        dr.polygon(pts, outline=(255, 0, 0))\n",
        "        # label near the first vertex\n",
        "        x1, y1 = pts[0]\n",
        "        txt = str(int(labels[i]))\n",
        "        try:\n",
        "            tw = int(dr.textlength(txt, font=font))\n",
        "        except Exception:\n",
        "            tw = 8 * len(txt)\n",
        "        dr.rectangle([x1, max(0, y1 - 12), x1 + tw + 6, y1], fill=(255, 0, 0))\n",
        "        dr.text((x1 + 3, max(0, y1 - 12)), txt, fill=(255, 255, 255), font=font)\n",
        "    return np.array(im)\n",
        "\n",
        "def apply_union_mask(img, masks):\n",
        "    \"\"\"\n",
        "    Keep only pixels inside ANY polygon; zero out everything else.\n",
        "    img:   [H,W,3] uint8\n",
        "    masks: [N,H,W] uint8 (0/1)\n",
        "    \"\"\"\n",
        "    if masks.size == 0:\n",
        "        return np.zeros_like(img)\n",
        "    m = (masks != 0).any(axis=0).astype(np.uint8)  # union across instances\n",
        "    return (img * m[..., None]).astype(np.uint8)\n",
        "\n",
        "def side_by_side(left, right):\n",
        "    assert left.shape[0] == right.shape[0]\n",
        "    return np.concatenate([left, right], axis=1)\n",
        "\n",
        "# ---------- Main ----------\n",
        "if __name__ == \"__main__\":\n",
        "    H, W, B = 256, 256, 3\n",
        "    samples = make_synthetic_poly_samples(B=B, H=H, W=W, seed=77)\n",
        "\n",
        "    # Rasterize per-polygon masks with OpenCV\n",
        "    for s in samples:\n",
        "        s.masks = polygons_to_masks_cv(s.polygons, H, W)  # [N,H,W] uint8\n",
        "\n",
        "    # Show: left = outlines, right = only polygon regions visible\n",
        "    for i, s in enumerate(samples):\n",
        "        left  = draw_polygons_on_image(s.image, s.polygons, s.labels)\n",
        "        right = apply_union_mask(s.image, s.masks)\n",
        "        both  = side_by_side(left, right)\n",
        "\n",
        "        plt.figure(figsize=(10, 5))\n",
        "        plt.axis(\"off\")\n",
        "        plt.title(f\"Sample {i} — left: polygons, right: masked (outside=0)\")\n",
        "        plt.imshow(both)\n",
        "\n",
        "    plt.show()\n",
        "\n"
      ],
      "metadata": {
        "id": "HCagVUdmR3Nn"
      },
      "id": "HCagVUdmR3Nn",
      "execution_count": null,
      "outputs": []
    },
    {
      "cell_type": "code",
      "source": [
        "# pip install numpy matplotlib pillow opencv-python\n",
        "# poly_mask_demo_binary.py\n",
        "# ------------------------------------------------------------\n",
        "# Synthetic images + labels/polygons + OpenCV polygon masks.\n",
        "# LEFT  = original image with red polygon outlines\n",
        "# RIGHT = binary union mask (strict 0/1; shown as 0/255 for viewing)\n",
        "# ------------------------------------------------------------\n",
        "\n",
        "from dataclasses import dataclass\n",
        "import numpy as np\n",
        "import matplotlib.pyplot as plt\n",
        "from PIL import Image, ImageDraw, ImageFont\n",
        "import cv2\n",
        "\n",
        "# ---------- Data container ----------\n",
        "@dataclass\n",
        "class SamplePoly:\n",
        "    image: np.ndarray            # [H,W,3] uint8 (RGB)\n",
        "    polygons: list               # list of (Mi,2) int32 arrays\n",
        "    labels: np.ndarray           # [N] int64\n",
        "    masks: np.ndarray = None     # [N,H,W] uint8 in {0,1}, filled later\n",
        "\n",
        "# ---------- Polygon generation ----------\n",
        "def random_convex_polygon(H, W, rng, n_vertices=5, min_r=None, max_r=None):\n",
        "    \"\"\"Return (n_vertices, 2) int32 polygon within image bounds.\"\"\"\n",
        "    if min_r is None: min_r = max(8, min(H, W) // 10)\n",
        "    if max_r is None: max_r = max(min(H, W) // 4, min_r + 1)\n",
        "\n",
        "    cx = int(rng.integers(min_r, W - min_r))\n",
        "    cy = int(rng.integers(min_r, H - min_r))\n",
        "\n",
        "    angles = np.sort(rng.uniform(0, 2 * np.pi, size=n_vertices))\n",
        "    radii  = rng.uniform(min_r, max_r, size=n_vertices)\n",
        "\n",
        "    xs = cx + (radii * np.cos(angles))\n",
        "    ys = cy + (radii * np.sin(angles))\n",
        "    pts = np.stack([xs, ys], axis=1)\n",
        "    pts[:, 0] = np.clip(pts[:, 0], 0, W - 1)\n",
        "    pts[:, 1] = np.clip(pts[:, 1], 0, H - 1)\n",
        "    return pts.astype(np.int32)\n",
        "\n",
        "def make_synthetic_poly_samples(B=3, H=256, W=256, seed=7):\n",
        "    \"\"\"Build B samples with gradient+noise images and 2..5 random polygons each.\"\"\"\n",
        "    rng = np.random.default_rng(seed)\n",
        "    samples = []\n",
        "    for _ in range(B):\n",
        "        # colorful gradient + noise background\n",
        "        gy = np.linspace(0, 1, H, dtype=np.float32)[:, None]\n",
        "        gx = np.linspace(0, 1, W, dtype=np.float32)[None, :]\n",
        "        base = 0.6 * gy + 0.4 * gx + 0.05 * rng.standard_normal((H, W)).astype(np.float32)\n",
        "        base = np.clip(base, 0, 1)\n",
        "        img = (255 * np.stack([base, np.roll(base, 10, 1), np.roll(base, 20, 0)], axis=-1)).astype(np.uint8)\n",
        "\n",
        "        n_polys = int(rng.integers(2, 6))  # 2..5\n",
        "        polys = []\n",
        "        for _p in range(n_polys):\n",
        "            k = int(rng.integers(3, 8))    # 3..7 vertices\n",
        "            polys.append(random_convex_polygon(H, W, rng, n_vertices=k))\n",
        "        labels = rng.integers(1, 5, size=(n_polys,), dtype=np.int64)\n",
        "\n",
        "        samples.append(SamplePoly(image=img, polygons=polys, labels=labels))\n",
        "    return samples\n",
        "\n",
        "# ---------- Polygons → per-instance masks (strict 0/1) ----------\n",
        "def polygons_to_masks_cv(polygons, H, W):\n",
        "    \"\"\"\n",
        "    polygons: list[(Mi,2) int32]\n",
        "    returns: masks uint8 [N,H,W] with values {0,1}\n",
        "    \"\"\"\n",
        "    N = len(polygons)\n",
        "    masks = np.zeros((N, H, W), dtype=np.uint8)\n",
        "    for i, poly in enumerate(polygons):\n",
        "        poly_i = np.asarray(poly, dtype=np.int32)\n",
        "        # Fill with value 1 (NOT 255) so masks are 0/1, dtype uint8\n",
        "        cv2.fillPoly(masks[i], [poly_i], 1)\n",
        "    return masks\n",
        "\n",
        "# ---------- Visualization ----------\n",
        "def draw_polygons_on_image(img_rgb, polygons, labels):\n",
        "    \"\"\"Return a copy with red polygon outlines + small label badges.\"\"\"\n",
        "    im = Image.fromarray(img_rgb.copy())\n",
        "    dr = ImageDraw.Draw(im)\n",
        "    try:\n",
        "        font = ImageFont.load_default()\n",
        "    except Exception:\n",
        "        font = None\n",
        "\n",
        "    for i, poly in enumerate(polygons):\n",
        "        pts = [(int(x), int(y)) for x, y in poly]\n",
        "        dr.polygon(pts, outline=(255, 0, 0))\n",
        "        x1, y1 = pts[0]\n",
        "        txt = str(int(labels[i]))\n",
        "        try:\n",
        "            tw = int(dr.textlength(txt, font=font))\n",
        "        except Exception:\n",
        "            tw = 8 * len(txt)\n",
        "        dr.rectangle([x1, max(0, y1 - 12), x1 + tw + 6, y1], fill=(255, 0, 0))\n",
        "        dr.text((x1 + 3, max(0, y1 - 12)), txt, fill=(255, 255, 255), font=font)\n",
        "    return np.array(im)\n",
        "\n",
        "def union_mask_binary(masks):\n",
        "    \"\"\"Combine [N,H,W] 0/1 masks into a single 0/1 mask [H,W].\"\"\"\n",
        "    if masks.size == 0:\n",
        "        return None\n",
        "    return (masks != 0).any(axis=0).astype(np.uint8)  # 0 or 1\n",
        "\n",
        "def binary_to_rgb(mask_01):\n",
        "    \"\"\"Visualize a 0/1 mask as 0/255 RGB so it can be concatenated with the photo.\"\"\"\n",
        "    vis = (mask_01 * 255).astype(np.uint8)           # [H,W] 0/255\n",
        "    return np.repeat(vis[..., None], 3, axis=2)      # [H,W,3]\n",
        "\n",
        "def side_by_side(left, right):\n",
        "    assert left.shape[0] == right.shape[0]\n",
        "    return np.concatenate([left, right], axis=1)\n",
        "\n",
        "# ---------- Main ----------\n",
        "if __name__ == \"__main__\":\n",
        "    H, W, B = 256, 256, 3\n",
        "    samples = make_synthetic_poly_samples(B=B, H=H, W=W, seed=77)\n",
        "\n",
        "    # Per-polygon 0/1 masks\n",
        "    for s in samples:\n",
        "        s.masks = polygons_to_masks_cv(s.polygons, H, W)  # [N,H,W] uint8 in {0,1}\n",
        "\n",
        "    # Show: left = outlines, right = **binary** union mask (0/1 shown as 0/255)\n",
        "    for i, s in enumerate(samples):\n",
        "        left      = draw_polygons_on_image(s.image, s.polygons, s.labels)\n",
        "        union_01  = union_mask_binary(s.masks)            # [H,W] 0/1\n",
        "        right     = binary_to_rgb(union_01)               # [H,W,3] for side-by-side\n",
        "        both      = side_by_side(left, right)\n",
        "\n",
        "        plt.figure(figsize=(10, 5))\n",
        "        plt.axis(\"off\")\n",
        "        plt.title(f\"Sample {i} — left: polygons, right: binary mask (0/1)\")\n",
        "        plt.imshow(both)\n",
        "\n",
        "    plt.show()\n"
      ],
      "metadata": {
        "id": "tKVH0ImjZfJM"
      },
      "id": "tKVH0ImjZfJM",
      "execution_count": null,
      "outputs": []
    },
    {
      "cell_type": "markdown",
      "source": [
        "# Solution To \"Kernel Restarting\" due to matplotlib"
      ],
      "metadata": {
        "id": "X7hDhS_ffqbZ"
      },
      "id": "X7hDhS_ffqbZ"
    },
    {
      "cell_type": "code",
      "source": [
        "# -----------------------------------------------------------------------------\n",
        "# TEMPORARY WORKAROUND for Intel OpenMP \"duplicate library\" errors\n",
        "# (e.g., messages about KMP or 'libiomp' being loaded multiple times).\n",
        "#\n",
        "# What this does:\n",
        "#   - Tells Intel's OpenMP runtime to IGNORE the fact that two OpenMP runtimes\n",
        "#     were loaded into the same Python process (often happens when mixing\n",
        "#     conda/pip wheels that bundle different OpenMPs via MKL, NumPy, PyTorch, etc.).\n",
        "#   - Lets the process continue instead of crashing at import time.\n",
        "#\n",
        "# IMPORTANT:\n",
        "#   - Use ONLY for quick evaluation/debugging. It can lead to instability,\n",
        "#     hangs, or wrong performance characteristics. Do NOT use in production\n",
        "#     training/inference scripts.\n",
        "#   - Set this BEFORE importing numpy/torch/sklearn (the libraries that load OMP).\n",
        "# -----------------------------------------------------------------------------\n",
        "import os\n",
        "os.environ[\"KMP_DUPLICATE_LIB_OK\"] = \"TRUE\"   # ⚠️ temporary, evaluation-only\n"
      ],
      "metadata": {
        "id": "BxGnP0ESfos5"
      },
      "id": "BxGnP0ESfos5",
      "execution_count": null,
      "outputs": []
    },
    {
      "cell_type": "code",
      "source": [
        "# After matplotlib.plot\n",
        "os.environ[\"KMP_DUPLICATE_LIB_OK\"] = \"FALSE\"\n"
      ],
      "metadata": {
        "id": "AG3G0siZf2A6"
      },
      "id": "AG3G0siZf2A6",
      "execution_count": null,
      "outputs": []
    },
    {
      "cell_type": "markdown",
      "source": [
        "# Find image files in a folder"
      ],
      "metadata": {
        "id": "b3CuJdOwbCAu"
      },
      "id": "b3CuJdOwbCAu"
    },
    {
      "cell_type": "code",
      "source": [
        "import os\n",
        "\n",
        "folder = \"/path/to/folder\" #Update\n",
        "\n",
        "# Define image extensions you care about\n",
        "image_exts = ('.jpg', '.jpeg', '.png', '.gif', '.bmp', '.tiff', '.webp')\n",
        "\n",
        "# Get only files (not subfolders) that end with those extensions\n",
        "image_files = [f for f in os.listdir(folder)\n",
        "               if f.lower().endswith(image_exts) and os.path.isfile(os.path.join(folder, f))]\n",
        "\n",
        "print(image_files)\n"
      ],
      "metadata": {
        "id": "BFkKu4ONbGlO"
      },
      "id": "BFkKu4ONbGlO",
      "execution_count": null,
      "outputs": []
    },
    {
      "cell_type": "markdown",
      "id": "c7dbbdec-c621-4025-906d-11a2c2c5a344",
      "metadata": {
        "id": "c7dbbdec-c621-4025-906d-11a2c2c5a344"
      },
      "source": [
        "##### End"
      ]
    }
  ],
  "metadata": {
    "kernelspec": {
      "display_name": "Python 3 (ipykernel)",
      "language": "python",
      "name": "python3"
    },
    "language_info": {
      "codemirror_mode": {
        "name": "ipython",
        "version": 3
      },
      "file_extension": ".py",
      "mimetype": "text/x-python",
      "name": "python",
      "nbconvert_exporter": "python",
      "pygments_lexer": "ipython3",
      "version": "3.12.11"
    },
    "colab": {
      "provenance": [],
      "name": "python_tutorial_p1_v5.ipynb",
      "include_colab_link": true
    }
  },
  "nbformat": 4,
  "nbformat_minor": 5
}