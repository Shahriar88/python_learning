{
 "cells": [
  {
   "cell_type": "raw",
   "id": "b3a29485-9a93-4269-9a82-d389aea485a9",
   "metadata": {},
   "source": [
    "https://www.youtube.com/watch?v=rfscVS0vtbw&list=PL9jZRDZXEdTEuaFtn07Hfza8pbdlYW-hG&index=29&ab_channel=freeCodeCamp.org\n",
    "https://docs.python.org/3/py-modindex.html"
   ]
  },
  {
   "cell_type": "markdown",
   "id": "b7650dd8-f26f-4dc6-953f-8774c10bfb46",
   "metadata": {},
   "source": [
    "### print(f'abc {var}')"
   ]
  },
  {
   "cell_type": "code",
   "execution_count": 2,
   "id": "8ac14469-160c-49f3-b88d-3be6226584a2",
   "metadata": {},
   "outputs": [
    {
     "name": "stdout",
     "output_type": "stream",
     "text": [
      "Here is a new line \n",
      "2nd line\n",
      "\n",
      "The addition is 7 -> non-standard\n",
      "\n",
      "The addition is 7 -> standard way\n"
     ]
    }
   ],
   "source": [
    "a=2\n",
    "b=5\n",
    "print('Here is a new line \\n2nd line')\n",
    "print('\\nThe addition is',a+b, '-> non-standard')\n",
    "print(f'\\nThe addition is {a+b} -> standard way')"
   ]
  },
  {
   "cell_type": "code",
   "execution_count": 3,
   "id": "1aa2ea28-002c-4cd3-966c-e6a91ffad3de",
   "metadata": {},
   "outputs": [
    {
     "name": "stdout",
     "output_type": "stream",
     "text": [
      "His name is Mamun\n",
      "quotation : \"\n",
      "Index of m: 6\n",
      "Index of m: 12\n",
      "His name is Shah\n",
      "0\n",
      "1\n"
     ]
    }
   ],
   "source": [
    "name = 'Mamun'\n",
    "friend = 'His name is '+ name\n",
    "print(friend)\n",
    "print('quotation : \\\"')\n",
    "\n",
    "index = friend.index('m')\n",
    "print(f'Index of m: {index}')\n",
    "\n",
    "index = friend.index('Mamun')\n",
    "print(f'Index of m: {index}')\n",
    "\n",
    "new_friend = friend.replace('Mamun', 'Shah')\n",
    "print(new_friend)\n",
    "print(4%2)\n",
    "print(11%2)"
   ]
  },
  {
   "cell_type": "code",
   "execution_count": 4,
   "id": "93dbe5de-f07a-426d-a738-db56c44660a9",
   "metadata": {},
   "outputs": [
    {
     "name": "stdout",
     "output_type": "stream",
     "text": [
      "['__add__', '__class__', '__contains__', '__delattr__', '__dir__', '__doc__', '__eq__', '__format__', '__ge__', '__getattribute__', '__getitem__', '__getnewargs__', '__gt__', '__hash__', '__init__', '__init_subclass__', '__iter__', '__le__', '__len__', '__lt__', '__mod__', '__mul__', '__ne__', '__new__', '__reduce__', '__reduce_ex__', '__repr__', '__rmod__', '__rmul__', '__setattr__', '__sizeof__', '__str__', '__subclasshook__', 'capitalize', 'casefold', 'center', 'count', 'encode', 'endswith', 'expandtabs', 'find', 'format', 'format_map', 'index', 'isalnum', 'isalpha', 'isascii', 'isdecimal', 'isdigit', 'isidentifier', 'islower', 'isnumeric', 'isprintable', 'isspace', 'istitle', 'isupper', 'join', 'ljust', 'lower', 'lstrip', 'maketrans', 'partition', 'removeprefix', 'removesuffix', 'replace', 'rfind', 'rindex', 'rjust', 'rpartition', 'rsplit', 'rstrip', 'split', 'splitlines', 'startswith', 'strip', 'swapcase', 'title', 'translate', 'upper', 'zfill']\n"
     ]
    }
   ],
   "source": [
    "print(dir(friend))"
   ]
  },
  {
   "cell_type": "code",
   "execution_count": 5,
   "id": "7fcdaa00-8974-45de-8e25-6ad41062a4dd",
   "metadata": {},
   "outputs": [
    {
     "name": "stdout",
     "output_type": "stream",
     "text": [
      "ceil 3.7: 4\n",
      "floor 3.7: 3\n",
      "sqrt 0.36: 0.6\n",
      "\n",
      "16\n",
      "16\n",
      "1.3195079107728942\n",
      "1.3195079107728942\n",
      "3\n",
      "3\n",
      "3\n"
     ]
    }
   ],
   "source": [
    "from math import ceil, floor, sqrt\n",
    "print(f'ceil 3.7: {ceil(3.7)}')\n",
    "print(f'floor 3.7: {floor(3.7)}')\n",
    "print(f'sqrt 0.36: {sqrt(0.36)}\\n')\n",
    "\n",
    "print(2**4)\n",
    "print(pow(2,4))\n",
    "\n",
    "print(2**0.4)\n",
    "print(pow(2,0.4))\n",
    "\n",
    "\n",
    "print(int(3.4))\n",
    "print(int(3.5))\n",
    "print(int(3.99))"
   ]
  },
  {
   "cell_type": "code",
   "execution_count": 6,
   "id": "ed95f7f1-cd49-4b94-9c1a-c4c69e6b3613",
   "metadata": {},
   "outputs": [
    {
     "name": "stdin",
     "output_type": "stream",
     "text": [
      "Input Number 25\n"
     ]
    },
    {
     "name": "stdout",
     "output_type": "stream",
     "text": [
      "Your number 25\n"
     ]
    },
    {
     "name": "stdin",
     "output_type": "stream",
     "text": [
      "Input Name Shah\n"
     ]
    },
    {
     "name": "stdout",
     "output_type": "stream",
     "text": [
      "Your Name Shah\n"
     ]
    }
   ],
   "source": [
    "number = input('Input Number')\n",
    "print(f'Your number {number}')\n",
    "\n",
    "name = input('Input Name')\n",
    "print(f'Your Name {name}')"
   ]
  },
  {
   "cell_type": "markdown",
   "id": "36168f5f-6352-4610-91e2-8e15c2350dfc",
   "metadata": {},
   "source": [
    "### List []"
   ]
  },
  {
   "cell_type": "code",
   "execution_count": 8,
   "id": "796213b4-544a-47b9-849e-dceabb143070",
   "metadata": {},
   "outputs": [
    {
     "name": "stdout",
     "output_type": "stream",
     "text": [
      "Second Element: 1\n",
      "\n",
      "\n",
      "data: [0, 1, 2, 3, 4, 5]\n",
      "\n",
      "\n",
      "Last Element: 5\n",
      "\n",
      "\n",
      "Data from index3(included) onward: [3, 4, 5]\n",
      "Data up to index3 (excluded): [0, 1, 2]\n",
      "Data index1 to index4(excluded) : [1, 2, 3]\n",
      "\n",
      "list1: ['a', 'b', 'c', 'x', 'y', 'z']\n",
      "\n"
     ]
    }
   ],
   "source": [
    "data = [0,1,2,3,4]\n",
    "print(f'Second Element: {data[1]}')\n",
    "print('\\n')\n",
    "\n",
    "data.append(5)\n",
    "print(f'data: {data}')\n",
    "\n",
    "print('\\n')\n",
    "print(f'Last Element: {data[-1]}')\n",
    "\n",
    "\n",
    "print('\\n')\n",
    "print(f'Data from index3(included) onward: {data[3:]}')\n",
    "print(f'Data up to index3 (excluded): {data[:3]}')\n",
    "print(f'Data index1 to index4(excluded) : {data[1:4]}')\n",
    "\n",
    "\n",
    "list1 = ['a','b','c']\n",
    "list2 = ['x','y','z']\n",
    "list1.extend(list2)\n",
    "print(f'\\nlist1: {list1}\\n')\n"
   ]
  },
  {
   "cell_type": "code",
   "execution_count": 9,
   "id": "5e511dc5-88b9-418e-b779-5dd5951ceaec",
   "metadata": {},
   "outputs": [
    {
     "data": {
      "text/plain": [
       "5"
      ]
     },
     "execution_count": 9,
     "metadata": {},
     "output_type": "execute_result"
    }
   ],
   "source": [
    "numbers = [\n",
    "    [1,2,3], # row 0\n",
    "    [4,5,6], #row 1\n",
    "    [7,8,9]\n",
    "]\n",
    "\n",
    "numbers[1][1] # numbers row, col"
   ]
  },
  {
   "cell_type": "code",
   "execution_count": 10,
   "id": "8ff57a5e-9ce4-425d-be20-c4f594c58e84",
   "metadata": {},
   "outputs": [
    {
     "name": "stdout",
     "output_type": "stream",
     "text": [
      "['__add__', '__class__', '__class_getitem__', '__contains__', '__delattr__', '__delitem__', '__dir__', '__doc__', '__eq__', '__format__', '__ge__', '__getattribute__', '__getitem__', '__gt__', '__hash__', '__iadd__', '__imul__', '__init__', '__init_subclass__', '__iter__', '__le__', '__len__', '__lt__', '__mul__', '__ne__', '__new__', '__reduce__', '__reduce_ex__', '__repr__', '__reversed__', '__rmul__', '__setattr__', '__setitem__', '__sizeof__', '__str__', '__subclasshook__', 'append', 'clear', 'copy', 'count', 'extend', 'index', 'insert', 'pop', 'remove', 'reverse', 'sort']\n"
     ]
    }
   ],
   "source": [
    "print(dir(list1))"
   ]
  },
  {
   "cell_type": "markdown",
   "id": "6a8f3d16-ce0c-4dcf-94e0-e6dc84095bbb",
   "metadata": {},
   "source": [
    "### Tuple () : (fixed, doesn't support item assignment, you can't change values)"
   ]
  },
  {
   "cell_type": "code",
   "execution_count": 12,
   "id": "1422a591-a925-4051-8242-e843ffd690ac",
   "metadata": {},
   "outputs": [
    {
     "name": "stdout",
     "output_type": "stream",
     "text": [
      "(3, 4)\n"
     ]
    }
   ],
   "source": [
    "d = (3,4)\n",
    "print(d)\n"
   ]
  },
  {
   "cell_type": "markdown",
   "id": "8a22b4bb-6236-41cb-ab52-7c4e8c529e4f",
   "metadata": {},
   "source": [
    "### Dictionary : {key : val}"
   ]
  },
  {
   "cell_type": "code",
   "execution_count": 14,
   "id": "e8cc707d-d687-4be3-9fd2-3302ec53c062",
   "metadata": {},
   "outputs": [
    {
     "name": "stdout",
     "output_type": "stream",
     "text": [
      "{'fish': 30, 'meat': 50}\n"
     ]
    },
    {
     "data": {
      "text/plain": [
       "['clear',\n",
       " 'copy',\n",
       " 'fromkeys',\n",
       " 'get',\n",
       " 'items',\n",
       " 'keys',\n",
       " 'pop',\n",
       " 'popitem',\n",
       " 'setdefault',\n",
       " 'update',\n",
       " 'values']"
      ]
     },
     "execution_count": 14,
     "metadata": {},
     "output_type": "execute_result"
    }
   ],
   "source": [
    "price = {'fish' : 30, 'meat' : 50}\n",
    "print(price)\n",
    "dir(price)[-11:] # Last 11 valid attributes and methods"
   ]
  },
  {
   "cell_type": "code",
   "execution_count": 15,
   "id": "45c7b274-5483-440e-921a-076b68c4242b",
   "metadata": {},
   "outputs": [
    {
     "name": "stdout",
     "output_type": "stream",
     "text": [
      "keys: dict_keys(['fish', 'meat'])\n",
      "values: dict_values([30, 50])\n",
      "items: dict_items([('fish', 30), ('meat', 50)])\n"
     ]
    }
   ],
   "source": [
    "print(f'keys: {price.keys()}')\n",
    "print(f'values: {price.values()}')\n",
    "print(f'items: {price.items()}')"
   ]
  },
  {
   "cell_type": "code",
   "execution_count": 16,
   "id": "0e457840-ac10-4dc3-b010-0a7e7af270c9",
   "metadata": {},
   "outputs": [
    {
     "name": "stdout",
     "output_type": "stream",
     "text": [
      "fish: 30\n",
      "meat: 50\n",
      "laptop: default\n",
      "tv: None\n"
     ]
    }
   ],
   "source": [
    "fish = price['fish']\n",
    "print(f'fish: {fish}')\n",
    "\n",
    "meat = price.get('meat', 'default')\n",
    "print(f'meat: {meat}')\n",
    "\n",
    "laptop = price.get('laptop', 'default')\n",
    "print(f'laptop: {laptop}')\n",
    "\n",
    "tv = price.get('tv')\n",
    "print(f'tv: {tv}')\n"
   ]
  },
  {
   "cell_type": "markdown",
   "id": "0c337d9d-4464-4a7d-bfaf-aabd8be15f70",
   "metadata": {},
   "source": [
    "### try: do it, except Exception as e: dont and print"
   ]
  },
  {
   "cell_type": "code",
   "execution_count": 18,
   "id": "bf9eeffc-71bb-47e1-b982-28cc53cd243b",
   "metadata": {},
   "outputs": [
    {
     "name": "stdout",
     "output_type": "stream",
     "text": [
      "4\n",
      "name 'temp0' is not defined\n"
     ]
    }
   ],
   "source": [
    "try:\n",
    "    f = 4\n",
    "    print(f)\n",
    "except:\n",
    "    print('error')\n",
    "\n",
    "\n",
    "try:\n",
    "    temp0 = temp0+1\n",
    "    print(temp0)\n",
    "except Exception as e:\n",
    "    print(e)"
   ]
  },
  {
   "cell_type": "code",
   "execution_count": 19,
   "id": "e4b3c1c1-3da2-404b-aefa-8e099ea9c5a8",
   "metadata": {},
   "outputs": [
    {
     "name": "stdin",
     "output_type": "stream",
     "text": [
      "Enter a number:  Shah\n"
     ]
    },
    {
     "name": "stdout",
     "output_type": "stream",
     "text": [
      "Invalid input: Please enter a whole number.\n",
      "Execution complete.\n"
     ]
    }
   ],
   "source": [
    "try:\n",
    "    num = int(input(\"Enter a number: \"))\n",
    "    result = 10 / num\n",
    "    print(f\"Result: {result}\")\n",
    "except ValueError:\n",
    "    print(\"Invalid input: Please enter a whole number.\")\n",
    "except ZeroDivisionError:\n",
    "    print(\"Error: Cannot divide by zero.\")\n",
    "except Exception as e:\n",
    "    print(f\"An unexpected error occurred: {e}\")\n",
    "else:\n",
    "    print(\"Division successful.\")\n",
    "finally:\n",
    "    print(\"Execution complete.\")"
   ]
  },
  {
   "cell_type": "markdown",
   "id": "ece77972-7326-4eff-b30b-1af48084cbf6",
   "metadata": {},
   "source": [
    "### Open Close File"
   ]
  },
  {
   "cell_type": "code",
   "execution_count": 21,
   "id": "55b05247-8e8a-4216-be4e-49819aaf0627",
   "metadata": {},
   "outputs": [],
   "source": [
    "new_file = open('new_file.txt', 'a')\n",
    "new_file.write ('This is python writing - Line 0')\n",
    "new_file.write ('\\nThis is python writing - Line 1')\n",
    "new_file.write ('\\nThis is python writing - Line 2')\n",
    "new_file.write ('\\nThis is python writing - Line 3')\n",
    "new_file.write ('\\nThis is python writing - Line 4')\n",
    "new_file.write ('\\nThis is python writing - Line 4')\n",
    "new_file.close()"
   ]
  },
  {
   "cell_type": "code",
   "execution_count": 22,
   "id": "fa52e37c-357b-46e8-8c50-1c1be76d4aee",
   "metadata": {},
   "outputs": [
    {
     "name": "stdout",
     "output_type": "stream",
     "text": [
      "['buffer', 'close', 'closed', 'detach', 'encoding', 'errors', 'fileno', 'flush', 'isatty', 'line_buffering', 'mode', 'name', 'newlines', 'read', 'readable', 'readline', 'readlines', 'reconfigure', 'seek', 'seekable', 'tell', 'truncate', 'writable', 'write', 'write_through', 'writelines']\n"
     ]
    }
   ],
   "source": [
    "new_file = open('new_file.txt', 'r')\n",
    "\n",
    "options = dir(new_file)\n",
    "print(options[-26:])\n",
    "new_file.close()\n"
   ]
  },
  {
   "cell_type": "code",
   "execution_count": 23,
   "id": "56a47e24-bda6-4976-ae9f-9ccf17db1836",
   "metadata": {},
   "outputs": [
    {
     "name": "stdout",
     "output_type": "stream",
     "text": [
      "This is python writing - Line 0\n",
      "This is python writing - Line 1\n",
      "This is python writing - Line 2\n",
      "This is python writing - Line 3\n",
      "This is python writing - Line 4\n",
      "This is python writing - Line 4This is python writing - Line 0\n",
      "This is python writing - Line 1\n",
      "This is python writing - Line 2\n",
      "This is python writing - Line 3\n",
      "This is python writing - Line 4\n",
      "This is python writing - Line 4This is python writing - Line 0\n",
      "This is python writing - Line 1\n",
      "This is python writing - Line 2\n",
      "This is python writing - Line 3\n",
      "This is python writing - Line 4\n",
      "This is python writing - Line 4\n"
     ]
    }
   ],
   "source": [
    "# Read entire file as a single string\n",
    "with open('new_file.txt', 'r') as f:\n",
    "    data = f.read()\n",
    "\n",
    "print(data)"
   ]
  },
  {
   "cell_type": "code",
   "execution_count": 24,
   "id": "d67ef230-1fce-4215-8ef5-4b641eb66dd6",
   "metadata": {},
   "outputs": [
    {
     "name": "stdout",
     "output_type": "stream",
     "text": [
      "['This is python writing - Line 0\\n', 'This is python writing - Line 1\\n', 'This is python writing - Line 2\\n', 'This is python writing - Line 3\\n', 'This is python writing - Line 4\\n', 'This is python writing - Line 4This is python writing - Line 0\\n', 'This is python writing - Line 1\\n', 'This is python writing - Line 2\\n', 'This is python writing - Line 3\\n', 'This is python writing - Line 4\\n', 'This is python writing - Line 4This is python writing - Line 0\\n', 'This is python writing - Line 1\\n', 'This is python writing - Line 2\\n', 'This is python writing - Line 3\\n', 'This is python writing - Line 4\\n', 'This is python writing - Line 4']\n"
     ]
    }
   ],
   "source": [
    "# Read file into a list of lines\n",
    "with open('new_file.txt', 'r') as f:\n",
    "    data = f.readlines()\n",
    "print(data)   # [\"first line\\n\", \"second line\\n\", ...]"
   ]
  },
  {
   "cell_type": "markdown",
   "id": "69d5db29-9eb7-4d26-b010-af99ef76a038",
   "metadata": {},
   "source": [
    "### numpy"
   ]
  },
  {
   "cell_type": "code",
   "execution_count": 26,
   "id": "ed29aeac-e401-4418-8a3b-48765b20eef5",
   "metadata": {},
   "outputs": [
    {
     "name": "stdout",
     "output_type": "stream",
     "text": [
      "1. Creating Arrays\n",
      "a: [1 2 3]\n",
      "b:\n",
      " [[1 2]\n",
      " [3 4]]\n",
      "zeros:\n",
      " [[0. 0. 0.]\n",
      " [0. 0. 0.]]\n",
      "ones:\n",
      " [[1. 1. 1.]\n",
      " [1. 1. 1.]\n",
      " [1. 1. 1.]]\n",
      "identity:\n",
      " [[1. 0. 0. 0.]\n",
      " [0. 1. 0. 0.]\n",
      " [0. 0. 1. 0.]\n",
      " [0. 0. 0. 1.]]\n",
      "arange: [0 2 4 6 8]\n",
      "linspace: [0.   0.25 0.5  0.75 1.  ]\n"
     ]
    }
   ],
   "source": [
    "# NumPy Tutorial 🚀\n",
    "import numpy as np\n",
    "\n",
    "# -------------------------------\n",
    "# 1. Creating Arrays\n",
    "# -------------------------------\n",
    "print(\"1. Creating Arrays\")\n",
    "a = np.array([1, 2, 3])                # from Python list\n",
    "b = np.array([[1, 2], [3, 4]])         # 2D array\n",
    "c = np.zeros((2, 3))                    # 2x3 of zeros\n",
    "d = np.ones((3, 3))                     # 3x3 of ones\n",
    "e = np.eye(4)                           # 4x4 identity matrix\n",
    "f = np.arange(0, 10, 2)                 # range: 0 to 10 step 2\n",
    "g = np.linspace(0, 1, 5)                # 5 points evenly spaced between 0 and 1\n",
    "\n",
    "print(\"a:\", a)\n",
    "print(\"b:\\n\", b)\n",
    "print(\"zeros:\\n\", c)\n",
    "print(\"ones:\\n\", d)\n",
    "print(\"identity:\\n\", e)\n",
    "print(\"arange:\", f)\n",
    "print(\"linspace:\", g)"
   ]
  },
  {
   "cell_type": "code",
   "execution_count": 27,
   "id": "fa252b30-6edd-4d46-b6b6-71cbb69023b1",
   "metadata": {},
   "outputs": [
    {
     "name": "stdout",
     "output_type": "stream",
     "text": [
      "\n",
      "2. Array Properties\n",
      "Shape of b: (2, 2)\n",
      "Data type of b: int32\n",
      "Number of elements in b: 4\n",
      "\n",
      "3. Indexing and Slicing\n",
      "b[0, 1] = 2\n",
      "Row 0 of b: [1 2]\n",
      "Column 1 of b: [2 4]\n"
     ]
    }
   ],
   "source": [
    "# -------------------------------\n",
    "# 2. Array Properties\n",
    "# -------------------------------\n",
    "print(\"\\n2. Array Properties\")\n",
    "print(\"Shape of b:\", b.shape)\n",
    "print(\"Data type of b:\", b.dtype)\n",
    "print(\"Number of elements in b:\", b.size)\n",
    "\n",
    "# -------------------------------\n",
    "# 3. Indexing and Slicing\n",
    "# -------------------------------\n",
    "print(\"\\n3. Indexing and Slicing\")\n",
    "print(\"b[0, 1] =\", b[0, 1])            # element at row 0, col 1\n",
    "print(\"Row 0 of b:\", b[0, :])\n",
    "print(\"Column 1 of b:\", b[:, 1])"
   ]
  },
  {
   "cell_type": "code",
   "execution_count": 28,
   "id": "a678b033-f3a7-4b69-a95a-f9b78a194572",
   "metadata": {},
   "outputs": [
    {
     "name": "stdout",
     "output_type": "stream",
     "text": [
      "\n",
      "4. Math Operations\n",
      "x + y = [11 22 33]\n",
      "x - y = [ -9 -18 -27]\n",
      "x * y = [10 40 90]\n",
      "x / y = [0.1 0.1 0.1]\n",
      "x ** 2 = [1 4 9]\n",
      "np.sqrt(x): [1.         1.41421356 1.73205081]\n",
      "\n",
      "5. Matrix Operations\n",
      "m1 + m2:\n",
      " [[ 6  8]\n",
      " [10 12]]\n",
      "m1 dot m2:\n",
      " [[19 22]\n",
      " [43 50]]\n",
      "Transpose of m1:\n",
      " [[1 3]\n",
      " [2 4]]\n",
      "Inverse of m1:\n",
      " [[-2.   1. ]\n",
      " [ 1.5 -0.5]]\n"
     ]
    }
   ],
   "source": [
    "# -------------------------------\n",
    "# 4. Math Operations\n",
    "# -------------------------------\n",
    "print(\"\\n4. Math Operations\")\n",
    "x = np.array([1, 2, 3])\n",
    "y = np.array([10, 20, 30])\n",
    "print(\"x + y =\", x + y)\n",
    "print(\"x - y =\", x - y)\n",
    "print(\"x * y =\", x * y)                # elementwise multiply\n",
    "print(\"x / y =\", x / y)\n",
    "print(\"x ** 2 =\", x ** 2)\n",
    "print(\"np.sqrt(x):\", np.sqrt(x))\n",
    "\n",
    "# -------------------------------\n",
    "# 5. Matrix Operations\n",
    "# -------------------------------\n",
    "print(\"\\n5. Matrix Operations\")\n",
    "m1 = np.array([[1, 2], [3, 4]])\n",
    "m2 = np.array([[5, 6], [7, 8]])\n",
    "print(\"m1 + m2:\\n\", m1 + m2)\n",
    "print(\"m1 dot m2:\\n\", np.dot(m1, m2))  # matrix multiplication\n",
    "print(\"Transpose of m1:\\n\", m1.T)\n",
    "print(\"Inverse of m1:\\n\", np.linalg.inv(m1))"
   ]
  },
  {
   "cell_type": "code",
   "execution_count": 29,
   "id": "05e429ef-ff8a-4217-b434-58b40c143e36",
   "metadata": {},
   "outputs": [
    {
     "name": "stdout",
     "output_type": "stream",
     "text": [
      "\n",
      "6. Statistics\n",
      "Mean: 3.5\n",
      "Sum over columns: [5 7 9]\n",
      "Max over rows: [3 6]\n",
      "\n",
      "7. Random Numbers\n",
      "Random float [0,1): 0.5815071624397061\n",
      "Random 2x2:\n",
      " [[0.61328635 0.59998344]\n",
      " [0.58605204 0.92811471]]\n",
      "Random integers 0-9: [[3 0 9]\n",
      " [8 1 9]\n",
      " [2 0 1]]\n"
     ]
    }
   ],
   "source": [
    "# -------------------------------\n",
    "# 6. Statistics\n",
    "# -------------------------------\n",
    "print(\"\\n6. Statistics\")\n",
    "stats = np.array([[1, 2, 3], [4, 5, 6]])\n",
    "print(\"Mean:\", np.mean(stats))\n",
    "print(\"Sum over columns:\", np.sum(stats, axis=0))\n",
    "print(\"Max over rows:\", np.max(stats, axis=1))\n",
    "\n",
    "# -------------------------------\n",
    "# 7. Random Numbers\n",
    "# -------------------------------\n",
    "print(\"\\n7. Random Numbers\")\n",
    "print(\"Random float [0,1):\", np.random.rand())\n",
    "print(\"Random 2x2:\\n\", np.random.rand(2, 2))\n",
    "print(\"Random integers 0-9:\", np.random.randint(0, 10, (3, 3)))\n",
    "\n"
   ]
  },
  {
   "cell_type": "code",
   "execution_count": 30,
   "id": "1c89e2af-ba94-473e-8743-b607c4011477",
   "metadata": {},
   "outputs": [
    {
     "name": "stdout",
     "output_type": "stream",
     "text": [
      "\n",
      "8. Reshaping and Flattening\n",
      "Original: [ 0  1  2  3  4  5  6  7  8  9 10 11]\n",
      "Reshaped 3x4:\n",
      " [[ 0  1  2  3]\n",
      " [ 4  5  6  7]\n",
      " [ 8  9 10 11]]\n",
      "Flattened: [ 0  1  2  3  4  5  6  7  8  9 10 11]\n",
      "\n",
      "9. Boolean Masking\n",
      "Mask: [False False  True  True  True]\n",
      "Values > 25: [30 40 50]\n",
      "\n",
      "10. Broadcasting\n",
      "mat:\n",
      " [[1. 1. 1.]\n",
      " [1. 1. 1.]\n",
      " [1. 1. 1.]]\n",
      "vec: [1 2 3]\n",
      "mat + vec:\n",
      " [[2. 3. 4.]\n",
      " [2. 3. 4.]\n",
      " [2. 3. 4.]]\n"
     ]
    }
   ],
   "source": [
    "# -------------------------------\n",
    "# 8. Reshaping and Flattening\n",
    "# -------------------------------\n",
    "print(\"\\n8. Reshaping and Flattening\")\n",
    "arr = np.arange(12)                     # 0..11\n",
    "print(\"Original:\", arr)\n",
    "reshaped = arr.reshape(3, 4)            # reshape to 3x4\n",
    "print(\"Reshaped 3x4:\\n\", reshaped)\n",
    "print(\"Flattened:\", reshaped.flatten())\n",
    "\n",
    "# -------------------------------\n",
    "# 9. Boolean Masking\n",
    "# -------------------------------\n",
    "print(\"\\n9. Boolean Masking\")\n",
    "data = np.array([10, 20, 30, 40, 50])\n",
    "mask = data > 25\n",
    "print(\"Mask:\", mask)\n",
    "print(\"Values > 25:\", data[mask])\n",
    "\n",
    "# -------------------------------\n",
    "# 10. Broadcasting\n",
    "# -------------------------------\n",
    "print(\"\\n10. Broadcasting\")\n",
    "mat = np.ones((3, 3))\n",
    "vec = np.array([1, 2, 3])\n",
    "print(\"mat:\\n\", mat)\n",
    "print(\"vec:\", vec)\n",
    "print(\"mat + vec:\\n\", mat + vec)        # vec added to each row\n"
   ]
  },
  {
   "cell_type": "markdown",
   "id": "235bbc68-b471-41fd-a88d-536cfcef2fd3",
   "metadata": {},
   "source": [
    "### pandas"
   ]
  },
  {
   "cell_type": "code",
   "execution_count": 32,
   "id": "9f336d73-6844-4d57-aad1-09b4212c766c",
   "metadata": {},
   "outputs": [
    {
     "name": "stdout",
     "output_type": "stream",
     "text": [
      "1. Creating Series\n",
      "a    10\n",
      "b    20\n",
      "c    30\n",
      "d    40\n",
      "dtype: int64\n",
      "Access element by label: 20\n",
      "Access element by index: 30\n",
      "\n",
      "2. Creating DataFrames\n",
      "      Name  Age     City\n",
      "0    Alice   25      NYC\n",
      "1      Bob   30       LA\n",
      "2  Charlie   35  Chicago\n",
      "3    David   40  Houston\n",
      "\n",
      "7. Basic Statistics\n",
      "Mean age: 32.5\n",
      "Summary:\n",
      "              Age\n",
      "count   4.000000\n",
      "mean   32.500000\n",
      "std     6.454972\n",
      "min    25.000000\n",
      "25%    28.750000\n",
      "50%    32.500000\n",
      "75%    36.250000\n",
      "max    40.000000\n",
      "\n",
      "8. Sorting\n",
      "Sort by Age:\n",
      "       Name  Age     City\n",
      "3    David   40  Houston\n",
      "2  Charlie   35  Chicago\n",
      "1      Bob   30       LA\n",
      "0    Alice   25      NYC\n",
      "\n",
      "9. GroupBy\n",
      "  Department  Salary  Experience\n",
      "0         IT   60000           2\n",
      "1         IT   65000           3\n",
      "2         HR   50000           5\n",
      "3         HR   52000           7\n",
      "4    Finance   70000          10\n",
      "Mean salary by department:\n",
      " Department\n",
      "Finance    70000.0\n",
      "HR         51000.0\n",
      "IT         62500.0\n",
      "Name: Salary, dtype: float64\n",
      "\n",
      "10. Merging / Joining\n",
      "      Name     Dept  Salary\n",
      "0    Alice       IT   60000\n",
      "1      Bob       HR   50000\n",
      "2  Charlie  Finance   70000\n",
      "\n",
      "11. Handling Missing Data\n",
      "Original:\n",
      "      A    B\n",
      "0  1.0  5.0\n",
      "1  2.0  NaN\n",
      "2  NaN  NaN\n",
      "3  4.0  8.0\n",
      "Drop rows with NaN:\n",
      "      A    B\n",
      "0  1.0  5.0\n",
      "3  4.0  8.0\n",
      "Fill NaN with 0:\n",
      "      A    B\n",
      "0  1.0  5.0\n",
      "1  2.0  0.0\n",
      "2  0.0  0.0\n",
      "3  4.0  8.0\n",
      "Fill NaN with column mean:\n",
      "           A    B\n",
      "0  1.000000  5.0\n",
      "1  2.000000  6.5\n",
      "2  2.333333  6.5\n",
      "3  4.000000  8.0\n",
      "\n",
      "12. Reading / Writing CSV\n",
      "Use df.to_csv(...) to write and pd.read_csv(...) to read\n"
     ]
    }
   ],
   "source": [
    "# Pandas Tutorial 📊\n",
    "import pandas as pd\n",
    "import numpy as np\n",
    "\n",
    "# -------------------------------\n",
    "# 1. Creating Series\n",
    "# -------------------------------\n",
    "print(\"1. Creating Series\")\n",
    "s = pd.Series([10, 20, 30, 40], index=[\"a\", \"b\", \"c\", \"d\"])\n",
    "print(s)\n",
    "print(\"Access element by label:\", s[\"b\"])\n",
    "print(\"Access element by index:\", s.iloc[2])\n",
    "\n",
    "# -------------------------------\n",
    "# 2. Creating DataFrames\n",
    "# -------------------------------\n",
    "print(\"\\n2. Creating DataFrames\")\n",
    "data = {\n",
    "    \"Name\": [\"Alice\", \"Bob\", \"Charlie\", \"David\"],\n",
    "    \"Age\": [25, 30, 35, 40],\n",
    "    \"City\": [\"NYC\", \"LA\", \"Chicago\", \"Houston\"]\n",
    "}\n",
    "df = pd.DataFrame(data)\n",
    "print(df)\n",
    "\n",
    "# -------------------------------\n",
    "# 7. Basic Statistics\n",
    "# -------------------------------\n",
    "print(\"\\n7. Basic Statistics\")\n",
    "print(\"Mean age:\", df[\"Age\"].mean())\n",
    "print(\"Summary:\\n\", df.describe())\n",
    "\n",
    "# -------------------------------\n",
    "# 8. Sorting\n",
    "# -------------------------------\n",
    "print(\"\\n8. Sorting\")\n",
    "print(\"Sort by Age:\\n\", df.sort_values(\"Age\", ascending=False))\n",
    "\n",
    "# -------------------------------\n",
    "# 9. GroupBy\n",
    "# -------------------------------\n",
    "print(\"\\n9. GroupBy\")\n",
    "df2 = pd.DataFrame({\n",
    "    \"Department\": [\"IT\", \"IT\", \"HR\", \"HR\", \"Finance\"],\n",
    "    \"Salary\": [60000, 65000, 50000, 52000, 70000],\n",
    "    \"Experience\": [2, 3, 5, 7, 10]\n",
    "})\n",
    "print(df2)\n",
    "print(\"Mean salary by department:\\n\", df2.groupby(\"Department\")[\"Salary\"].mean())\n",
    "\n",
    "# -------------------------------\n",
    "# 10. Merging / Joining\n",
    "# -------------------------------\n",
    "print(\"\\n10. Merging / Joining\")\n",
    "employees = pd.DataFrame({\n",
    "    \"Name\": [\"Alice\", \"Bob\", \"Charlie\"],\n",
    "    \"Dept\": [\"IT\", \"HR\", \"Finance\"]\n",
    "})\n",
    "salaries = pd.DataFrame({\n",
    "    \"Dept\": [\"IT\", \"HR\", \"Finance\"],\n",
    "    \"Salary\": [60000, 50000, 70000]\n",
    "})\n",
    "merged = pd.merge(employees, salaries, on=\"Dept\", how=\"left\")\n",
    "print(merged)\n",
    "\n",
    "# -------------------------------\n",
    "# 11. Handling Missing Data\n",
    "# -------------------------------\n",
    "print(\"\\n11. Handling Missing Data\")\n",
    "df3 = pd.DataFrame({\n",
    "    \"A\": [1, 2, np.nan, 4],\n",
    "    \"B\": [5, np.nan, np.nan, 8]\n",
    "})\n",
    "print(\"Original:\\n\", df3)\n",
    "print(\"Drop rows with NaN:\\n\", df3.dropna())\n",
    "print(\"Fill NaN with 0:\\n\", df3.fillna(0))\n",
    "print(\"Fill NaN with column mean:\\n\", df3.fillna(df3.mean(numeric_only=True)))\n",
    "\n",
    "# -------------------------------\n",
    "# 12. Reading / Writing CSV\n",
    "# -------------------------------\n",
    "print(\"\\n12. Reading / Writing CSV\")\n",
    "# df.to_csv(\"example.csv\", index=False)  # save\n",
    "# loaded = pd.read_csv(\"example.csv\")    # load\n",
    "# print(loaded)\n",
    "print(\"Use df.to_csv(...) to write and pd.read_csv(...) to read\")\n"
   ]
  },
  {
   "cell_type": "code",
   "execution_count": 33,
   "id": "8f41d9b3-35f2-4245-89c8-5f8ed857cdab",
   "metadata": {},
   "outputs": [
    {
     "name": "stdout",
     "output_type": "stream",
     "text": [
      "\n",
      "3. Inspecting Data\n",
      "Head:\n",
      "     Name  Age City\n",
      "0  Alice   25  NYC\n",
      "1    Bob   30   LA\n",
      "Shape: (4, 3)\n",
      "Columns: Index(['Name', 'Age', 'City'], dtype='object')\n",
      "Info:\n",
      "<class 'pandas.core.frame.DataFrame'>\n",
      "RangeIndex: 4 entries, 0 to 3\n",
      "Data columns (total 3 columns):\n",
      " #   Column  Non-Null Count  Dtype \n",
      "---  ------  --------------  ----- \n",
      " 0   Name    4 non-null      object\n",
      " 1   Age     4 non-null      int64 \n",
      " 2   City    4 non-null      object\n",
      "dtypes: int64(1), object(2)\n",
      "memory usage: 224.0+ bytes\n",
      "None\n",
      "\n",
      "4. Selecting Data\n",
      "Single column:\n",
      " 0      Alice\n",
      "1        Bob\n",
      "2    Charlie\n",
      "3      David\n",
      "Name: Name, dtype: object\n",
      "Multiple columns:\n",
      "       Name     City\n",
      "0    Alice      NYC\n",
      "1      Bob       LA\n",
      "2  Charlie  Chicago\n",
      "3    David  Houston\n",
      "Row by label:\n",
      " Name    Bob\n",
      "Age      30\n",
      "City     LA\n",
      "Name: 1, dtype: object\n",
      "Row by position:\n",
      " Name    Charlie\n",
      "Age          35\n",
      "City    Chicago\n",
      "Name: 2, dtype: object\n"
     ]
    }
   ],
   "source": [
    "# -------------------------------\n",
    "# 3. Inspecting Data\n",
    "# -------------------------------\n",
    "print(\"\\n3. Inspecting Data\")\n",
    "print(\"Head:\\n\", df.head(2))\n",
    "print(\"Shape:\", df.shape)\n",
    "print(\"Columns:\", df.columns)\n",
    "print(\"Info:\")\n",
    "print(df.info())\n",
    "\n",
    "# -------------------------------\n",
    "# 4. Selecting Data\n",
    "# -------------------------------\n",
    "print(\"\\n4. Selecting Data\")\n",
    "print(\"Single column:\\n\", df[\"Name\"])\n",
    "print(\"Multiple columns:\\n\", df[[\"Name\", \"City\"]])\n",
    "print(\"Row by label:\\n\", df.loc[1])\n",
    "print(\"Row by position:\\n\", df.iloc[2])"
   ]
  },
  {
   "cell_type": "code",
   "execution_count": 34,
   "id": "70a00539-8436-41f1-856f-4d243d4d390f",
   "metadata": {},
   "outputs": [
    {
     "name": "stdout",
     "output_type": "stream",
     "text": [
      "\n",
      "5. Filtering Rows\n",
      "Age > 30:\n",
      "       Name  Age     City\n",
      "2  Charlie   35  Chicago\n",
      "3    David   40  Houston\n",
      "City == LA:\n",
      "   Name  Age City\n",
      "1  Bob   30   LA\n",
      "\n",
      "6. Adding / Modifying Columns\n",
      "      Name  Age     City  Age in 5 years  Senior\n",
      "0    Alice   25      NYC              30   False\n",
      "1      Bob   30       LA              35   False\n",
      "2  Charlie   35  Chicago              40   False\n",
      "3    David   40  Houston              45    True\n"
     ]
    }
   ],
   "source": [
    "# -------------------------------\n",
    "# 5. Filtering Rows\n",
    "# -------------------------------\n",
    "print(\"\\n5. Filtering Rows\")\n",
    "print(\"Age > 30:\\n\", df[df[\"Age\"] > 30])\n",
    "print(\"City == LA:\\n\", df[df[\"City\"] == \"LA\"])\n",
    "\n",
    "# -------------------------------\n",
    "# 6. Adding / Modifying Columns\n",
    "# -------------------------------\n",
    "print(\"\\n6. Adding / Modifying Columns\")\n",
    "df[\"Age in 5 years\"] = df[\"Age\"] + 5\n",
    "df[\"Senior\"] = df[\"Age\"] > 35\n",
    "print(df)"
   ]
  },
  {
   "cell_type": "markdown",
   "id": "ce88531e-54d4-4403-ad74-35202aa3d876",
   "metadata": {},
   "source": [
    "### function"
   ]
  },
  {
   "cell_type": "code",
   "execution_count": 36,
   "id": "c4c70afa-a503-4ac3-83b9-f06341b7bee7",
   "metadata": {},
   "outputs": [
    {
     "name": "stdout",
     "output_type": "stream",
     "text": [
      "Hello, world!\n",
      "Hello, Alice!\n",
      "Hello, Bob!\n"
     ]
    }
   ],
   "source": [
    "# Python Functions Tutorial ⚡\n",
    "\n",
    "# -------------------------------\n",
    "# 1. Basic Function\n",
    "# -------------------------------\n",
    "def greet():\n",
    "    print(\"Hello, world!\")\n",
    "\n",
    "greet()\n",
    "\n",
    "# -------------------------------\n",
    "# 2. Function with Parameters\n",
    "# -------------------------------\n",
    "def greet_person(name):\n",
    "    print(f\"Hello, {name}!\")\n",
    "\n",
    "greet_person(\"Alice\")\n",
    "greet_person(\"Bob\")"
   ]
  },
  {
   "cell_type": "code",
   "execution_count": 37,
   "id": "43447e36-d807-400d-837a-c8c226e6980e",
   "metadata": {},
   "outputs": [
    {
     "name": "stdout",
     "output_type": "stream",
     "text": [
      "Square of 5: 25\n",
      "2 + 3 = 5\n",
      "power(3): 9\n",
      "power(3, 3): 27\n"
     ]
    }
   ],
   "source": [
    "# -------------------------------\n",
    "# 3. Function with Return Value\n",
    "# -------------------------------\n",
    "def square(x):\n",
    "    return x * x\n",
    "\n",
    "result = square(5)\n",
    "print(\"Square of 5:\", result)\n",
    "\n",
    "# -------------------------------\n",
    "# 4. Multiple Parameters\n",
    "# -------------------------------\n",
    "def add(a, b):\n",
    "    return a + b\n",
    "\n",
    "print(\"2 + 3 =\", add(2, 3))\n",
    "\n",
    "# -------------------------------\n",
    "# 5. Default Arguments\n",
    "# -------------------------------\n",
    "def power(base, exp=2):\n",
    "    return base ** exp\n",
    "\n",
    "print(\"power(3):\", power(3))      # uses default exp=2\n",
    "print(\"power(3, 3):\", power(3, 3))"
   ]
  },
  {
   "cell_type": "code",
   "execution_count": 38,
   "id": "56885c1f-6726-4020-b5fb-d3872b055577",
   "metadata": {},
   "outputs": [
    {
     "name": "stdout",
     "output_type": "stream",
     "text": [
      "My name is Charlie, I'm 25, and I live in NYC.\n",
      "sum_all(1,2,3,4,5): 15\n",
      "name: David\n",
      "age: 30\n",
      "city: LA\n"
     ]
    }
   ],
   "source": [
    "# -------------------------------\n",
    "# 6. Keyword Arguments\n",
    "# -------------------------------\n",
    "def introduce(name, age, city):\n",
    "    print(f\"My name is {name}, I'm {age}, and I live in {city}.\")\n",
    "\n",
    "introduce(age=25, name=\"Charlie\", city=\"NYC\")\n",
    "\n",
    "# -------------------------------\n",
    "# 7. Variable Number of Arguments (*args)\n",
    "# -------------------------------\n",
    "def sum_all(*args):\n",
    "    return sum(args)\n",
    "\n",
    "print(\"sum_all(1,2,3,4,5):\", sum_all(1, 2, 3, 4, 5))\n",
    "\n",
    "# -------------------------------\n",
    "# 8. Variable Keyword Arguments (**kwargs)\n",
    "# -------------------------------\n",
    "def profile(**kwargs):\n",
    "    for key, value in kwargs.items():\n",
    "        print(f\"{key}: {value}\")\n",
    "\n",
    "profile(name=\"David\", age=30, city=\"LA\")"
   ]
  },
  {
   "cell_type": "code",
   "execution_count": 39,
   "id": "b0a42304-e5dc-4023-8644-a3e2c538c0bd",
   "metadata": {},
   "outputs": [
    {
     "name": "stdout",
     "output_type": "stream",
     "text": [
      "double(7): 14\n",
      "Squared: [1, 4, 9, 16, 25]\n",
      "Even: [2, 4]\n"
     ]
    }
   ],
   "source": [
    "# -------------------------------\n",
    "# 9. Lambda (Anonymous Functions)\n",
    "# -------------------------------\n",
    "double = lambda x: x * 2\n",
    "print(\"double(7):\", double(7))\n",
    "\n",
    "# Use with map/filter\n",
    "nums = [1, 2, 3, 4, 5]\n",
    "squared = list(map(lambda x: x**2, nums))\n",
    "even = list(filter(lambda x: x % 2 == 0, nums))\n",
    "\n",
    "print(\"Squared:\", squared)\n",
    "print(\"Even:\", even)"
   ]
  },
  {
   "cell_type": "code",
   "execution_count": 40,
   "id": "5ebb7efe-5d33-4a0e-b4b8-0fe3f99ea7cc",
   "metadata": {},
   "outputs": [
    {
     "name": "stdout",
     "output_type": "stream",
     "text": [
      "Inner function result: HELLO\n"
     ]
    }
   ],
   "source": [
    "# -------------------------------\n",
    "# 10. Functions Inside Functions\n",
    "# -------------------------------\n",
    "def outer_function(text):\n",
    "    def inner_function():\n",
    "        return text.upper()\n",
    "    return inner_function()\n",
    "\n",
    "print(\"Inner function result:\", outer_function(\"hello\"))"
   ]
  },
  {
   "cell_type": "code",
   "execution_count": 41,
   "id": "81bd65da-e6eb-4e2d-b80d-3231b5f4ee05",
   "metadata": {},
   "outputs": [
    {
     "name": "stdout",
     "output_type": "stream",
     "text": [
      "apply(square, 6): 36\n",
      "Factorial of 5: 120\n",
      "divide(10,2): 5.0\n",
      "Help on divide:\n",
      "Help on function divide in module __main__:\n",
      "\n",
      "divide(a, b)\n",
      "    Divides two numbers.\n",
      "    \n",
      "    Parameters:\n",
      "        a (int/float): numerator\n",
      "        b (int/float): denominator\n",
      "    \n",
      "    Returns:\n",
      "        float: result of division\n",
      "\n"
     ]
    }
   ],
   "source": [
    "# -------------------------------\n",
    "# 11. Functions as Arguments\n",
    "# -------------------------------\n",
    "def apply(func, value):\n",
    "    return func(value)\n",
    "\n",
    "print(\"apply(square, 6):\", apply(square, 6))\n",
    "\n",
    "# -------------------------------\n",
    "# 12. Recursive Function\n",
    "# -------------------------------\n",
    "def factorial(n):\n",
    "    if n == 0 or n == 1:\n",
    "        return 1\n",
    "    return n * factorial(n - 1)\n",
    "\n",
    "print(\"Factorial of 5:\", factorial(5))\n",
    "\n",
    "# -------------------------------\n",
    "# 13. Docstrings\n",
    "# -------------------------------\n",
    "def divide(a, b):\n",
    "    \"\"\"\n",
    "    Divides two numbers.\n",
    "    \n",
    "    Parameters:\n",
    "        a (int/float): numerator\n",
    "        b (int/float): denominator\n",
    "    \n",
    "    Returns:\n",
    "        float: result of division\n",
    "    \"\"\"\n",
    "    return a / b\n",
    "\n",
    "print(\"divide(10,2):\", divide(10, 2))\n",
    "print(\"Help on divide:\")\n",
    "help(divide)\n"
   ]
  },
  {
   "cell_type": "markdown",
   "id": "c5fe9773-56bc-445e-8865-9f35c225b3c6",
   "metadata": {},
   "source": [
    "#### Using *args (variable positional arguments)"
   ]
  },
  {
   "cell_type": "code",
   "execution_count": 43,
   "id": "7869e7ab-b018-4068-8621-60b65d55a306",
   "metadata": {},
   "outputs": [
    {
     "name": "stdout",
     "output_type": "stream",
     "text": [
      "args as tuple: (1, 2, 3)\n",
      "6\n",
      "args as tuple: (10, 20, 30, 40)\n",
      "100\n"
     ]
    }
   ],
   "source": [
    "def add_numbers(*args):\n",
    "    print(\"args as tuple:\", args)\n",
    "    return sum(args)\n",
    "\n",
    "print(add_numbers(1, 2, 3))\n",
    "print(add_numbers(10, 20, 30, 40))\n"
   ]
  },
  {
   "cell_type": "code",
   "execution_count": 44,
   "id": "e07e9913-89d0-4981-a8e7-e1fc5d87558d",
   "metadata": {},
   "outputs": [],
   "source": [
    "#### Using **kwargs (variable keyword arguments)"
   ]
  },
  {
   "cell_type": "code",
   "execution_count": 45,
   "id": "70b176c7-d449-4ea1-a330-66a2c11b4766",
   "metadata": {},
   "outputs": [
    {
     "name": "stdout",
     "output_type": "stream",
     "text": [
      "kwargs as dict: {'name': 'Alice', 'age': 25, 'city': 'NYC'}\n",
      "name: Alice\n",
      "age: 25\n",
      "city: NYC\n"
     ]
    }
   ],
   "source": [
    "def print_profile(**kwargs):\n",
    "    print(\"kwargs as dict:\", kwargs)\n",
    "    for key, value in kwargs.items():\n",
    "        print(f\"{key}: {value}\")\n",
    "\n",
    "print_profile(name=\"Alice\", age=25, city=\"NYC\")\n"
   ]
  },
  {
   "cell_type": "markdown",
   "id": "18eb209d-8841-4538-a791-376ecdcd7138",
   "metadata": {},
   "source": [
    "#### Combining *args and **kwargs"
   ]
  },
  {
   "cell_type": "code",
   "execution_count": 47,
   "id": "5785829f-a0b6-469c-80e0-ec390983ee7b",
   "metadata": {},
   "outputs": [
    {
     "name": "stdout",
     "output_type": "stream",
     "text": [
      "args: (1, 2, 3)\n",
      "kwargs: {'name': 'Bob', 'age': 30}\n"
     ]
    }
   ],
   "source": [
    "def demo_func(*args, **kwargs):\n",
    "    print(\"args:\", args)\n",
    "    print(\"kwargs:\", kwargs)\n",
    "\n",
    "demo_func(1, 2, 3, name=\"Bob\", age=30)\n"
   ]
  },
  {
   "cell_type": "markdown",
   "id": "07916091-a5ec-4c50-ae19-5c1841c99658",
   "metadata": {},
   "source": [
    "#### Forwarding Arguments"
   ]
  },
  {
   "cell_type": "code",
   "execution_count": 49,
   "id": "dc487d86-ba1d-456e-b737-8bfb727f5e0f",
   "metadata": {},
   "outputs": [
    {
     "name": "stdout",
     "output_type": "stream",
     "text": [
      "Wrapper adds logging...\n",
      "Hello, Charlie!\n"
     ]
    }
   ],
   "source": [
    "def greet(greeting, name):\n",
    "    print(f\"{greeting}, {name}!\")\n",
    "\n",
    "def wrapper(*args, **kwargs):\n",
    "    print(\"Wrapper adds logging...\")\n",
    "    return greet(*args, **kwargs)\n",
    "\n",
    "wrapper(\"Hello\", name=\"Charlie\")\n"
   ]
  },
  {
   "cell_type": "markdown",
   "id": "f63f8eb5-8046-4abe-a431-d6017b805893",
   "metadata": {},
   "source": [
    "#### Mixing with Normal Arguments"
   ]
  },
  {
   "cell_type": "code",
   "execution_count": 51,
   "id": "d6b24a97-732a-4672-9e4a-c4cd9deea115",
   "metadata": {},
   "outputs": [
    {
     "name": "stdout",
     "output_type": "stream",
     "text": [
      "Item: Book, Qty: 2\n",
      "Extra positional: ('Express shipping', 'Gift wrap')\n",
      "Extra keyword: {'address': 'NYC', 'discount': 0.1}\n"
     ]
    }
   ],
   "source": [
    "def order(item, qty=1, *args, **kwargs):\n",
    "    print(f\"Item: {item}, Qty: {qty}\")\n",
    "    print(\"Extra positional:\", args)\n",
    "    print(\"Extra keyword:\", kwargs)\n",
    "\n",
    "order(\"Book\", 2, \"Express shipping\", \"Gift wrap\", address=\"NYC\", discount=0.1)\n"
   ]
  },
  {
   "cell_type": "markdown",
   "id": "be4c5f7b-8e5f-4309-9d8c-dd24d672f832",
   "metadata": {},
   "source": [
    "#### Fixing arguments for math functions"
   ]
  },
  {
   "cell_type": "code",
   "execution_count": 53,
   "id": "6e47f595-f1fd-4ea4-9411-396ccdbf4dab",
   "metadata": {},
   "outputs": [
    {
     "name": "stdout",
     "output_type": "stream",
     "text": [
      "8\n",
      "_________________________\n",
      "25\n",
      "_________________________\n",
      "64\n",
      "_________________________\n",
      "10\n",
      "15\n",
      "_________________________\n",
      "3x Book with 10% discount and 7% tax\n",
      "1x Laptop with 10% discount and 7% tax\n"
     ]
    }
   ],
   "source": [
    "from functools import partial\n",
    "import math\n",
    "\n",
    "# Normal pow(base, exp)\n",
    "print(pow(2, 3))  # 8\n",
    "print('_'*25)\n",
    "\n",
    "# Create a \"square\" function by fixing exp=2\n",
    "square = partial(pow, exp=2)\n",
    "print(square(5))  # 25\n",
    "print('_'*25)\n",
    "\n",
    "# Cube function\n",
    "cube = partial(pow, exp=3)\n",
    "print(cube(4))    # 64\n",
    "print('_'*25)\n",
    "\n",
    "\n",
    "\n",
    "# Using with higher-order functions\n",
    "\n",
    "def multiply(x, y):\n",
    "    return x * y\n",
    "\n",
    "double = partial(multiply, 2)\n",
    "triple = partial(multiply, 3)\n",
    "\n",
    "print(double(5))  # 10\n",
    "print(triple(5))  # 15\n",
    "print('_'*25)\n",
    "\n",
    "# Simplifying function calls with many parameters\n",
    "\n",
    "def order(item, qty, discount, tax):\n",
    "    return f\"{qty}x {item} with {discount*100:.0f}% discount and {tax*100:.0f}% tax\"\n",
    "\n",
    "# Fix tax and discount\n",
    "order_with_tax = partial(order, discount=0.1, tax=0.07)\n",
    "\n",
    "print(order_with_tax(\"Book\", 3))\n",
    "print(order_with_tax(\"Laptop\", 1))\n",
    "\n",
    "\n"
   ]
  },
  {
   "cell_type": "markdown",
   "id": "e2f130cc-06ab-4d69-974f-c2c40acb3b03",
   "metadata": {},
   "source": [
    "#### Pre-configuring built-in functions"
   ]
  },
  {
   "cell_type": "code",
   "execution_count": 55,
   "id": "f5d98ddb-3068-4427-bd99-08a6b9e425d4",
   "metadata": {},
   "outputs": [
    {
     "name": "stdout",
     "output_type": "stream",
     "text": [
      "Alice, Bob, Charlie\n"
     ]
    }
   ],
   "source": [
    "from functools import partial\n",
    "\n",
    "print_with_comma = partial(print, sep=\", \")\n",
    "print_with_comma(\"Alice\", \"Bob\", \"Charlie\")\n"
   ]
  },
  {
   "cell_type": "markdown",
   "id": "96f3764a-ff6a-4726-b109-1cd5818b80d0",
   "metadata": {},
   "source": [
    "### class"
   ]
  },
  {
   "cell_type": "code",
   "execution_count": 57,
   "id": "d6e20217-2072-4eef-b642-4b354379d337",
   "metadata": {},
   "outputs": [
    {
     "name": "stdout",
     "output_type": "stream",
     "text": [
      "Created a Person object: <__main__.Person object at 0x00000185FFBF21D0>\n",
      "Name: Alice, Age: 25\n"
     ]
    }
   ],
   "source": [
    "# Python Classes Tutorial 🏗️\n",
    "\n",
    "# -------------------------------\n",
    "# 1. A Basic Class\n",
    "# -------------------------------\n",
    "class Person:\n",
    "    pass\n",
    "\n",
    "p1 = Person()\n",
    "print(\"Created a Person object:\", p1)\n",
    "\n",
    "# -------------------------------\n",
    "# 2. Adding Attributes\n",
    "# -------------------------------\n",
    "class Person:\n",
    "    def __init__(self, name, age):\n",
    "        self.name = name    # instance attribute\n",
    "        self.age = age\n",
    "\n",
    "p2 = Person(\"Alice\", 25)\n",
    "print(f\"Name: {p2.name}, Age: {p2.age}\")"
   ]
  },
  {
   "cell_type": "code",
   "execution_count": 58,
   "id": "3761eaa2-067f-4bf6-b493-140a5261b41a",
   "metadata": {},
   "outputs": [
    {
     "name": "stdout",
     "output_type": "stream",
     "text": [
      "Hello, I'm Bob and I'm 30 years old.\n",
      "Fido - Canis familiaris\n",
      "Buddy - Canis familiaris\n"
     ]
    }
   ],
   "source": [
    "# -------------------------------\n",
    "# 3. Adding Methods\n",
    "# -------------------------------\n",
    "class Person:\n",
    "    def __init__(self, name, age):\n",
    "        self.name = name\n",
    "        self.age = age\n",
    "    \n",
    "    def greet(self):\n",
    "        return f\"Hello, I'm {self.name} and I'm {self.age} years old.\"\n",
    "\n",
    "p3 = Person(\"Bob\", 30)\n",
    "print(p3.greet())\n",
    "\n",
    "# -------------------------------\n",
    "# 4. Class Attributes vs Instance Attributes\n",
    "# -------------------------------\n",
    "class Dog:\n",
    "    species = \"Canis familiaris\"   # class attribute\n",
    "    \n",
    "    def __init__(self, name):\n",
    "        self.name = name          # instance attribute\n",
    "\n",
    "dog1 = Dog(\"Fido\")\n",
    "dog2 = Dog(\"Buddy\")\n",
    "\n",
    "print(dog1.name, \"-\", dog1.species)\n",
    "print(dog2.name, \"-\", dog2.species)"
   ]
  },
  {
   "cell_type": "code",
   "execution_count": 59,
   "id": "76f96e48-05fe-4408-9fc0-bf77deba2250",
   "metadata": {},
   "outputs": [
    {
     "name": "stdout",
     "output_type": "stream",
     "text": [
      "Book: Python Basics (250 pages)\n",
      "Length of book: 250\n"
     ]
    }
   ],
   "source": [
    "# -------------------------------\n",
    "# 5. Special Methods (__str__, __len__, etc.)\n",
    "# -------------------------------\n",
    "class Book:\n",
    "    def __init__(self, title, pages):\n",
    "        self.title = title\n",
    "        self.pages = pages\n",
    "    \n",
    "    def __str__(self):\n",
    "        return f\"Book: {self.title} ({self.pages} pages)\"\n",
    "    \n",
    "    def __len__(self):\n",
    "        return self.pages\n",
    "\n",
    "b1 = Book(\"Python Basics\", 250)\n",
    "print(str(b1))\n",
    "print(\"Length of book:\", len(b1))"
   ]
  },
  {
   "cell_type": "code",
   "execution_count": 60,
   "id": "b2c943e6-d56a-4529-adb0-d39fd8f71995",
   "metadata": {},
   "outputs": [
    {
     "name": "stdout",
     "output_type": "stream",
     "text": [
      "150\n",
      "120\n",
      "Balance: 120\n"
     ]
    }
   ],
   "source": [
    "# -------------------------------\n",
    "# 6. Encapsulation (Private variables)\n",
    "# -------------------------------\n",
    "class BankAccount:\n",
    "    def __init__(self, owner, balance=0):\n",
    "        self.owner = owner\n",
    "        self.__balance = balance   # private attribute (convention: __var)\n",
    "    \n",
    "    def deposit(self, amount):\n",
    "        self.__balance += amount\n",
    "        return self.__balance\n",
    "    \n",
    "    def withdraw(self, amount):\n",
    "        if amount <= self.__balance:\n",
    "            self.__balance -= amount\n",
    "            return self.__balance\n",
    "        else:\n",
    "            return \"Insufficient funds\"\n",
    "    \n",
    "    def get_balance(self):\n",
    "        return self.__balance\n",
    "\n",
    "acct = BankAccount(\"Charlie\", 100)\n",
    "print(acct.deposit(50))\n",
    "print(acct.withdraw(30))\n",
    "print(\"Balance:\", acct.get_balance())"
   ]
  },
  {
   "cell_type": "code",
   "execution_count": 61,
   "id": "988054ea-862a-4db0-b16d-231aa3e68032",
   "metadata": {},
   "outputs": [
    {
     "name": "stdout",
     "output_type": "stream",
     "text": [
      "Fido says Woof!\n",
      "Whiskers says Meow!\n"
     ]
    }
   ],
   "source": [
    "# -------------------------------\n",
    "# 7. Inheritance\n",
    "# -------------------------------\n",
    "class Animal:\n",
    "    def __init__(self, name):\n",
    "        self.name = name\n",
    "    \n",
    "    def speak(self):\n",
    "        return \"...\"\n",
    "\n",
    "class Dog(Animal):\n",
    "    def speak(self):\n",
    "        return \"Woof!\"\n",
    "\n",
    "class Cat(Animal):\n",
    "    def speak(self):\n",
    "        return \"Meow!\"\n",
    "\n",
    "animals = [Dog(\"Fido\"), Cat(\"Whiskers\")]\n",
    "for a in animals:\n",
    "    print(a.name, \"says\", a.speak())"
   ]
  },
  {
   "cell_type": "code",
   "execution_count": 62,
   "id": "bb4d4e1e-c4c3-4103-a674-94967b36f52b",
   "metadata": {},
   "outputs": [
    {
     "name": "stdout",
     "output_type": "stream",
     "text": [
      "I can fly! I can swim! Quack!\n"
     ]
    }
   ],
   "source": [
    "# -------------------------------\n",
    "# 8. Multiple Inheritance\n",
    "# -------------------------------\n",
    "class Flyer:\n",
    "    def fly(self):\n",
    "        return \"I can fly!\"\n",
    "\n",
    "class Swimmer:\n",
    "    def swim(self):\n",
    "        return \"I can swim!\"\n",
    "\n",
    "class Duck(Flyer, Swimmer):\n",
    "    def sound(self):\n",
    "        return \"Quack!\"\n",
    "\n",
    "d = Duck()\n",
    "print(d.fly(), d.swim(), d.sound())"
   ]
  },
  {
   "cell_type": "code",
   "execution_count": 63,
   "id": "5629be9b-9a8d-4cb5-ab65-e868e0a9e94c",
   "metadata": {},
   "outputs": [
    {
     "name": "stdout",
     "output_type": "stream",
     "text": [
      "5\n",
      "This is MathUtils, providing math utilities.\n"
     ]
    }
   ],
   "source": [
    "# -------------------------------\n",
    "# 9. Class Methods and Static Methods\n",
    "# -------------------------------\n",
    "class MathUtils:\n",
    "    @staticmethod\n",
    "    def add(a, b):\n",
    "        return a + b\n",
    "    \n",
    "    @classmethod\n",
    "    def description(cls):\n",
    "        return f\"This is {cls.__name__}, providing math utilities.\"\n",
    "\n",
    "print(MathUtils.add(2, 3))\n",
    "print(MathUtils.description())"
   ]
  },
  {
   "cell_type": "code",
   "execution_count": 64,
   "id": "1bdac7de-397d-4804-a3b8-ffc4c992b73a",
   "metadata": {},
   "outputs": [
    {
     "name": "stdout",
     "output_type": "stream",
     "text": [
      "Temp in Celsius: 25\n"
     ]
    }
   ],
   "source": [
    "# -------------------------------\n",
    "# 10. Properties (getter/setter)\n",
    "# -------------------------------\n",
    "class Celsius:\n",
    "    def __init__(self, temperature=0):\n",
    "        self._temperature = temperature\n",
    "    \n",
    "    @property #getter\n",
    "    def temperature(self):\n",
    "        return self._temperature\n",
    "    \n",
    "    @temperature.setter\n",
    "    def temperature(self, value):\n",
    "        if value < -273.15:\n",
    "            raise ValueError(\"Temperature below -273.15 is not possible\")\n",
    "        self._temperature = value\n",
    "\n",
    "c = Celsius()\n",
    "c.temperature = 25\n",
    "print(\"Temp in Celsius:\", c.temperature)\n",
    "# c.temperature = -300  # will raise ValueError"
   ]
  },
  {
   "cell_type": "code",
   "execution_count": 65,
   "id": "37ebbdae-023c-4f17-9580-a6790937940e",
   "metadata": {},
   "outputs": [
    {
     "data": {
      "text/plain": [
       "['_temperature', 'temperature']"
      ]
     },
     "execution_count": 65,
     "metadata": {},
     "output_type": "execute_result"
    }
   ],
   "source": [
    "dir(c)[-2:]"
   ]
  },
  {
   "cell_type": "markdown",
   "id": "fbc7635c-ba9c-411a-b40a-3d5bf9db5f77",
   "metadata": {},
   "source": [
    "## Decorator"
   ]
  },
  {
   "cell_type": "markdown",
   "id": "116dd126-d140-44e0-b2b6-bd3e41dbda15",
   "metadata": {},
   "source": [
    "#### Basic Decorator"
   ]
  },
  {
   "cell_type": "code",
   "execution_count": 68,
   "id": "8fdd4532-403a-493b-871a-de0d3d84d00a",
   "metadata": {},
   "outputs": [
    {
     "name": "stdout",
     "output_type": "stream",
     "text": [
      "Before function runs\n",
      "Hello!\n",
      "After function runs\n"
     ]
    }
   ],
   "source": [
    "def my_decorator(func):\n",
    "    def wrapper():\n",
    "        print(\"Before function runs\")\n",
    "        func()\n",
    "        print(\"After function runs\")\n",
    "    return wrapper\n",
    "\n",
    "@my_decorator\n",
    "def say_hello():\n",
    "    print(\"Hello!\")\n",
    "\n",
    "say_hello()\n"
   ]
  },
  {
   "cell_type": "markdown",
   "id": "33055175-b28f-48c1-9b3e-9472c54190cc",
   "metadata": {},
   "source": [
    "#### Decorator with Arguments"
   ]
  },
  {
   "cell_type": "code",
   "execution_count": 70,
   "id": "7d20ba92-d0a4-432d-82fb-08f646a072a9",
   "metadata": {},
   "outputs": [
    {
     "name": "stdout",
     "output_type": "stream",
     "text": [
      "Hello, Alice!\n",
      "Hello, Alice!\n",
      "Hello, Alice!\n"
     ]
    }
   ],
   "source": [
    "def repeat(n):\n",
    "    def decorator(func):\n",
    "        def wrapper(*args, **kwargs):\n",
    "            for _ in range(n):\n",
    "                func(*args, **kwargs)\n",
    "        return wrapper\n",
    "    return decorator\n",
    "\n",
    "@repeat(3)\n",
    "def greet(name):\n",
    "    print(f\"Hello, {name}!\")\n",
    "\n",
    "greet(\"Alice\")\n"
   ]
  },
  {
   "cell_type": "markdown",
   "id": "bff41ff3-07e5-4e02-bb52-d9a77c0fa5e3",
   "metadata": {},
   "source": [
    "#### Preserving Function Metadata (functools.wraps)"
   ]
  },
  {
   "cell_type": "code",
   "execution_count": 72,
   "id": "6169fc26-eec3-4b68-ab1e-dcebcceda8de",
   "metadata": {},
   "outputs": [
    {
     "name": "stdout",
     "output_type": "stream",
     "text": [
      "Calling add with args=(2, 3), kwargs={}\n",
      "5\n",
      "add\n",
      "Add two numbers\n"
     ]
    }
   ],
   "source": [
    "from functools import wraps\n",
    "\n",
    "def debug(func):\n",
    "    @wraps(func)\n",
    "    def wrapper(*args, **kwargs):\n",
    "        print(f\"Calling {func.__name__} with args={args}, kwargs={kwargs}\")\n",
    "        return func(*args, **kwargs)\n",
    "    return wrapper\n",
    "\n",
    "@debug\n",
    "def add(a, b):\n",
    "    \"\"\"Add two numbers\"\"\"\n",
    "    return a + b\n",
    "\n",
    "print(add(2, 3))\n",
    "print(add.__name__)    # preserved: \"add\"\n",
    "print(add.__doc__)     # preserved: \"Add two numbers\"\n"
   ]
  },
  {
   "cell_type": "markdown",
   "id": "eeaea1aa-f258-489a-8b99-956cc1859fbb",
   "metadata": {},
   "source": [
    "#### Real-World Example: Timing a Function"
   ]
  },
  {
   "cell_type": "code",
   "execution_count": 74,
   "id": "c0e79955-022d-403c-9463-07f2967214c0",
   "metadata": {},
   "outputs": [
    {
     "name": "stdout",
     "output_type": "stream",
     "text": [
      "slow_function ran in 2.0082 seconds\n",
      "Done!\n"
     ]
    }
   ],
   "source": [
    "import time\n",
    "from functools import wraps\n",
    "\n",
    "def timer(func):\n",
    "    @wraps(func)\n",
    "    def wrapper(*args, **kwargs):\n",
    "        start = time.time()\n",
    "        result = func(*args, **kwargs)\n",
    "        end = time.time()\n",
    "        print(f\"{func.__name__} ran in {end - start:.4f} seconds\")\n",
    "        return result\n",
    "    return wrapper\n",
    "\n",
    "@timer\n",
    "def slow_function():\n",
    "    time.sleep(2)\n",
    "    return \"Done!\"\n",
    "\n",
    "print(slow_function())\n"
   ]
  },
  {
   "cell_type": "markdown",
   "id": "3a3ba771-2c0d-42d2-a237-e5ac80701a88",
   "metadata": {},
   "source": [
    "#### Real-World Example: Authentication Check"
   ]
  },
  {
   "cell_type": "code",
   "execution_count": 76,
   "id": "69c77904-6065-45e0-9e06-178a1d789787",
   "metadata": {},
   "outputs": [
    {
     "name": "stdout",
     "output_type": "stream",
     "text": [
      "Access denied!\n",
      "admin deleted Bob\n"
     ]
    }
   ],
   "source": [
    "def require_admin(func):\n",
    "    @wraps(func)\n",
    "    def wrapper(user, *args, **kwargs):\n",
    "        if user != \"admin\":\n",
    "            print(\"Access denied!\")\n",
    "            return None\n",
    "        return func(user, *args, **kwargs)\n",
    "    return wrapper\n",
    "\n",
    "@require_admin\n",
    "def delete_user(user, target):\n",
    "    print(f\"{user} deleted {target}\")\n",
    "\n",
    "delete_user(\"guest\", \"Alice\")   # Access denied\n",
    "delete_user(\"admin\", \"Bob\")     # Works\n"
   ]
  },
  {
   "cell_type": "markdown",
   "id": "73bb2dc3-f1c9-4c6e-a788-368d78cdf060",
   "metadata": {},
   "source": [
    "#### Stacking Multiple Decorators"
   ]
  },
  {
   "cell_type": "code",
   "execution_count": 78,
   "id": "f03745d6-f728-4f1a-96ef-5d0b050efdc6",
   "metadata": {},
   "outputs": [
    {
     "name": "stdout",
     "output_type": "stream",
     "text": [
      "<b><i>Hello</i></b>\n"
     ]
    }
   ],
   "source": [
    "def bold(func):\n",
    "    @wraps(func)\n",
    "    def wrapper():\n",
    "        return \"<b>\" + func() + \"</b>\"\n",
    "    return wrapper\n",
    "\n",
    "def italic(func):\n",
    "    @wraps(func)\n",
    "    def wrapper():\n",
    "        return \"<i>\" + func() + \"</i>\"\n",
    "    return wrapper\n",
    "\n",
    "@bold\n",
    "@italic\n",
    "def text():\n",
    "    return \"Hello\"\n",
    "\n",
    "print(text())   # <b><i>Hello</i></b>\n"
   ]
  },
  {
   "cell_type": "markdown",
   "id": "cb4dedfe-c624-4fcf-b71c-8a60058ff10f",
   "metadata": {},
   "source": [
    "#### The Problem Without @wraps"
   ]
  },
  {
   "cell_type": "markdown",
   "id": "92408109-ab58-4af5-9038-59d4d8e4e8e7",
   "metadata": {},
   "source": [
    "##### Example without @wraps"
   ]
  },
  {
   "cell_type": "code",
   "execution_count": 81,
   "id": "830adb34-78bd-4a65-a92b-05ad7e473da3",
   "metadata": {},
   "outputs": [
    {
     "name": "stdout",
     "output_type": "stream",
     "text": [
      "Calling add with (2, 3)\n",
      "5\n",
      "wrapper\n",
      "None\n"
     ]
    }
   ],
   "source": [
    "def debug(func):\n",
    "    def wrapper(*args, **kwargs):\n",
    "        print(f\"Calling {func.__name__} with {args}\")\n",
    "        return func(*args, **kwargs)\n",
    "    return wrapper\n",
    "\n",
    "@debug\n",
    "def add(a, b):\n",
    "    \"\"\"Add two numbers\"\"\"\n",
    "    return a + b\n",
    "\n",
    "print(add(2, 3))\n",
    "print(add.__name__)   # OOPS\n",
    "print(add.__doc__)    # OOPS\n"
   ]
  },
  {
   "cell_type": "markdown",
   "id": "28624912-b8ca-449f-8372-8e54f010ec1a",
   "metadata": {},
   "source": [
    "##### Example with @wraps"
   ]
  },
  {
   "cell_type": "code",
   "execution_count": 83,
   "id": "934c2800-ad83-4380-b064-8630aae0922f",
   "metadata": {},
   "outputs": [
    {
     "name": "stdout",
     "output_type": "stream",
     "text": [
      "Calling add with (2, 3)\n",
      "5\n",
      "add\n",
      "Add two numbers\n"
     ]
    }
   ],
   "source": [
    "from functools import wraps\n",
    "\n",
    "def debug(func):\n",
    "    @wraps(func)\n",
    "    def wrapper(*args, **kwargs):\n",
    "        print(f\"Calling {func.__name__} with {args}\")\n",
    "        return func(*args, **kwargs)\n",
    "    return wrapper\n",
    "\n",
    "@debug\n",
    "def add(a, b):\n",
    "    \"\"\"Add two numbers\"\"\"\n",
    "    return a + b\n",
    "\n",
    "print(add(2, 3))\n",
    "print(add.__name__)   # ✅ \"add\"\n",
    "print(add.__doc__)    # ✅ \"Add two numbers\"\n"
   ]
  },
  {
   "cell_type": "markdown",
   "id": "7df00591-1e7f-4834-a2e9-a3c5237711d0",
   "metadata": {},
   "source": [
    "#### Example: Same Decorator on Two Functions"
   ]
  },
  {
   "cell_type": "code",
   "execution_count": 85,
   "id": "4a168987-6612-4dbb-9232-d0be2d60df6d",
   "metadata": {},
   "outputs": [
    {
     "name": "stdout",
     "output_type": "stream",
     "text": [
      "Calling add with args=(3, 4), kwargs={}\n",
      "add returned 7\n",
      "7\n",
      "Calling multiply with args=(3, 4), kwargs={}\n",
      "multiply returned 12\n",
      "12\n"
     ]
    }
   ],
   "source": [
    "from functools import wraps\n",
    "\n",
    "def debug(func):\n",
    "    @wraps(func)\n",
    "    def wrapper(*args, **kwargs):\n",
    "        print(f\"Calling {func.__name__} with args={args}, kwargs={kwargs}\")\n",
    "        result = func(*args, **kwargs)\n",
    "        print(f\"{func.__name__} returned {result}\")\n",
    "        return result\n",
    "    return wrapper\n",
    "\n",
    "@debug\n",
    "def add(a, b):\n",
    "    return a + b\n",
    "\n",
    "@debug\n",
    "def multiply(a, b):\n",
    "    return a * b\n",
    "\n",
    "print(add(3, 4))\n",
    "print(multiply(3, 4))\n"
   ]
  },
  {
   "cell_type": "markdown",
   "id": "da30e515-0d6f-4914-b34e-84b5b2ebcf2b",
   "metadata": {},
   "source": [
    "#### Another Example: Timing Any Function"
   ]
  },
  {
   "cell_type": "code",
   "execution_count": 87,
   "id": "07b376bb-da33-4efd-8f22-74cb221ecf1f",
   "metadata": {},
   "outputs": [
    {
     "name": "stdout",
     "output_type": "stream",
     "text": [
      "slow_square took 1.0036 seconds\n",
      "25\n",
      "slow_sum took 2.0232 seconds\n",
      "499999500000\n"
     ]
    }
   ],
   "source": [
    "import time\n",
    "from functools import wraps\n",
    "\n",
    "def timer(func):\n",
    "    @wraps(func)\n",
    "    def wrapper(*args, **kwargs):\n",
    "        start = time.time()\n",
    "        result = func(*args, **kwargs)\n",
    "        end = time.time()\n",
    "        print(f\"{func.__name__} took {end - start:.4f} seconds\")\n",
    "        return result\n",
    "    return wrapper\n",
    "\n",
    "@timer\n",
    "def slow_square(n):\n",
    "    time.sleep(1)\n",
    "    return n * n\n",
    "\n",
    "@timer\n",
    "def slow_sum(n):\n",
    "    time.sleep(2)\n",
    "    return sum(range(n))\n",
    "\n",
    "print(slow_square(5))\n",
    "print(slow_sum(1000000))\n"
   ]
  },
  {
   "cell_type": "markdown",
   "id": "b86dcc18-47c6-4f28-a45e-55cf98873bec",
   "metadata": {},
   "source": [
    "### if elif else"
   ]
  },
  {
   "cell_type": "code",
   "execution_count": 89,
   "id": "c51eba9a-43fd-4d0e-820f-362bed9b10e5",
   "metadata": {},
   "outputs": [
    {
     "name": "stdout",
     "output_type": "stream",
     "text": [
      "x is greater than 5\n",
      "_________________________\n",
      "x is odd\n",
      "_________________________\n",
      "Grade: B\n"
     ]
    }
   ],
   "source": [
    "x = 10\n",
    "\n",
    "if x > 5:\n",
    "    print(\"x is greater than 5\")\n",
    "print('_'*25)\n",
    "\n",
    "\n",
    "x = 3\n",
    "if x % 2 == 0:\n",
    "    print(\"x is even\")\n",
    "else:\n",
    "    print(\"x is odd\")\n",
    "print('_'*25)\n",
    "\n",
    "\n",
    "score = 85\n",
    "\n",
    "if score >= 90:\n",
    "    print(\"Grade: A\")\n",
    "elif score >= 80:\n",
    "    print(\"Grade: B\")\n",
    "elif score >= 70:\n",
    "    print(\"Grade: C\")\n",
    "else:\n",
    "    print(\"Grade: F\")\n",
    "\n"
   ]
  },
  {
   "cell_type": "markdown",
   "id": "3bc914c6-946f-45c2-9960-4ee2d49a5cd2",
   "metadata": {},
   "source": [
    "##### Nested if"
   ]
  },
  {
   "cell_type": "code",
   "execution_count": 91,
   "id": "a6d42bf0-15ec-4ff6-8e07-31e4af8088a5",
   "metadata": {},
   "outputs": [
    {
     "name": "stdout",
     "output_type": "stream",
     "text": [
      "x is positive and odd\n"
     ]
    }
   ],
   "source": [
    "x = 15\n",
    "\n",
    "if x > 0:\n",
    "    if x % 2 == 0:\n",
    "        print(\"x is positive and even\")\n",
    "    else:\n",
    "        print(\"x is positive and odd\")\n",
    "else:\n",
    "    print(\"x is not positive\")\n"
   ]
  },
  {
   "cell_type": "markdown",
   "id": "b41907b1-818b-4d84-a925-147ad12dc1b0",
   "metadata": {},
   "source": [
    "#### Multiple Conditions (and, or, not)"
   ]
  },
  {
   "cell_type": "code",
   "execution_count": 93,
   "id": "f759bd19-5ab8-48af-9715-93ac9204fe98",
   "metadata": {},
   "outputs": [
    {
     "name": "stdout",
     "output_type": "stream",
     "text": [
      "Access granted\n"
     ]
    }
   ],
   "source": [
    "age = 20\n",
    "has_id = True\n",
    "\n",
    "if age >= 18 and has_id:\n",
    "    print(\"Access granted\")\n",
    "else:\n",
    "    print(\"Access denied\")\n"
   ]
  },
  {
   "cell_type": "markdown",
   "id": "113af08e-f5c2-4af0-b232-3cad3cf1f2aa",
   "metadata": {},
   "source": [
    "#### Ternary Expression (one-line if/else)"
   ]
  },
  {
   "cell_type": "code",
   "execution_count": 95,
   "id": "39e93aad-a06b-4fc5-9837-9038aa47b8d9",
   "metadata": {},
   "outputs": [
    {
     "name": "stdout",
     "output_type": "stream",
     "text": [
      "Odd\n"
     ]
    }
   ],
   "source": [
    "x = 7\n",
    "result = \"Even\" if x % 2 == 0 else \"Odd\"\n",
    "print(result)\n"
   ]
  },
  {
   "cell_type": "markdown",
   "id": "56a39778-b8d0-4002-8927-dbe9bf7de26c",
   "metadata": {},
   "source": [
    "##### Real Example: Login System"
   ]
  },
  {
   "cell_type": "code",
   "execution_count": 97,
   "id": "854917c2-dd85-4bae-9298-c580b54ae452",
   "metadata": {},
   "outputs": [
    {
     "name": "stdout",
     "output_type": "stream",
     "text": [
      "Login successful ✅\n"
     ]
    }
   ],
   "source": [
    "\n",
    "username = \"admin\"\n",
    "password = \"1234\"\n",
    "\n",
    "if username == \"admin\" and password == \"1234\":\n",
    "    print(\"Login successful ✅\")\n",
    "elif username == \"admin\":\n",
    "    print(\"Wrong password ❌\")\n",
    "else:\n",
    "    print(\"Unknown user 🚫\")\n"
   ]
  },
  {
   "cell_type": "markdown",
   "id": "1c3dbb7e-bbf2-413e-b4f3-5a25ee7f023d",
   "metadata": {},
   "source": [
    "##### Real Example: Traffic Light"
   ]
  },
  {
   "cell_type": "code",
   "execution_count": 99,
   "id": "7230b7cd-0f74-49c6-bdd6-85e3e817103b",
   "metadata": {},
   "outputs": [
    {
     "name": "stdout",
     "output_type": "stream",
     "text": [
      "Slow down ⚠️\n"
     ]
    }
   ],
   "source": [
    "light = \"yellow\"\n",
    "\n",
    "if light == \"green\":\n",
    "    print(\"Go 🚗\")\n",
    "elif light == \"yellow\":\n",
    "    print(\"Slow down ⚠️\")\n",
    "elif light == \"red\":\n",
    "    print(\"Stop 🛑\")\n",
    "else:\n",
    "    print(\"Invalid signal ❓\")\n"
   ]
  },
  {
   "cell_type": "markdown",
   "id": "4878ddca-3213-4a7e-91db-3a16e8ca2461",
   "metadata": {},
   "source": [
    "### Operators ==, !=, <=, >=, <, >"
   ]
  },
  {
   "cell_type": "code",
   "execution_count": 101,
   "id": "6c7ca367-af81-4895-888c-6e391963f70f",
   "metadata": {},
   "outputs": [
    {
     "name": "stdout",
     "output_type": "stream",
     "text": [
      "False\n",
      "True\n",
      "True\n",
      "False\n",
      "True\n",
      "True\n"
     ]
    }
   ],
   "source": [
    "a, b = 5, 3\n",
    "\n",
    "print(a == b)   # False\n",
    "print(a != b)   # True\n",
    "\n",
    "\n",
    "\n",
    "print(5 > 3)    # True\n",
    "print(5 < 3)    # False\n",
    "print(5 >= 5)   # True\n",
    "print(3 <= 5)   # True\n",
    "\n"
   ]
  },
  {
   "cell_type": "code",
   "execution_count": 102,
   "id": "75392e31-69e0-479e-9f07-c14bf6964a44",
   "metadata": {},
   "outputs": [
    {
     "name": "stdout",
     "output_type": "stream",
     "text": [
      "Allowed ✅\n"
     ]
    }
   ],
   "source": [
    "age = 20\n",
    "has_id = True\n",
    "\n",
    "if age >= 18 and has_id:\n",
    "    print(\"Allowed ✅\")\n",
    "else:\n",
    "    print(\"Denied ❌\")\n"
   ]
  },
  {
   "cell_type": "code",
   "execution_count": 103,
   "id": "72979e4c-8cd0-4e55-9768-7efe7d16c0c1",
   "metadata": {},
   "outputs": [
    {
     "name": "stdout",
     "output_type": "stream",
     "text": [
      "Weekend 🎉\n"
     ]
    }
   ],
   "source": [
    "day = \"Sunday\"\n",
    "\n",
    "if day == \"Saturday\" or day == \"Sunday\":\n",
    "    print(\"Weekend 🎉\")\n",
    "else:\n",
    "    print(\"Weekday 💼\")\n"
   ]
  },
  {
   "cell_type": "code",
   "execution_count": 104,
   "id": "12a177a8-b30f-4609-93fe-ee878eb0888a",
   "metadata": {},
   "outputs": [
    {
     "name": "stdout",
     "output_type": "stream",
     "text": [
      "Please log in 🔑\n"
     ]
    }
   ],
   "source": [
    "logged_in = False\n",
    "\n",
    "if not logged_in:\n",
    "    print(\"Please log in 🔑\")\n",
    "else:\n",
    "    print(\"Welcome back 👋\")\n"
   ]
  },
  {
   "cell_type": "code",
   "execution_count": 105,
   "id": "bc1fcae5-33a1-4c60-b161-5cec4f47faff",
   "metadata": {},
   "outputs": [
    {
     "name": "stdout",
     "output_type": "stream",
     "text": [
      "x is between 10 and 20\n",
      "x is either less than 5 or greater than 12\n",
      "x is 15 ✅\n"
     ]
    }
   ],
   "source": [
    "x = 15\n",
    "\n",
    "if x > 10 and x < 20:\n",
    "    print(\"x is between 10 and 20\")\n",
    "\n",
    "if x < 5 or x > 12:\n",
    "    print(\"x is either less than 5 or greater than 12\")\n",
    "\n",
    "if not (x == 15):\n",
    "    print(\"x is not 15\")\n",
    "else:\n",
    "    print(\"x is 15 ✅\")\n"
   ]
  },
  {
   "cell_type": "markdown",
   "id": "dd526a3c-2670-4af1-949b-613729ca5c85",
   "metadata": {},
   "source": [
    "### for loop"
   ]
  },
  {
   "cell_type": "code",
   "execution_count": 107,
   "id": "39bf0e99-ac50-4dd4-979a-1f886bec306c",
   "metadata": {},
   "outputs": [
    {
     "name": "stdout",
     "output_type": "stream",
     "text": [
      "apple\n",
      "banana\n",
      "cherry\n"
     ]
    }
   ],
   "source": [
    "fruits = [\"apple\", \"banana\", \"cherry\"]\n",
    "\n",
    "for fruit in fruits:\n",
    "    print(fruit)\n"
   ]
  },
  {
   "cell_type": "code",
   "execution_count": 108,
   "id": "19630f3e-997e-4366-9eb9-3a790c71408f",
   "metadata": {},
   "outputs": [
    {
     "name": "stdout",
     "output_type": "stream",
     "text": [
      "h\n",
      "e\n",
      "l\n",
      "l\n",
      "o\n"
     ]
    }
   ],
   "source": [
    "for letter in \"hello\":\n",
    "    print(letter)\n"
   ]
  },
  {
   "cell_type": "code",
   "execution_count": 109,
   "id": "12fd4d86-eb85-4c45-b850-0566203dc3cc",
   "metadata": {},
   "outputs": [
    {
     "name": "stdout",
     "output_type": "stream",
     "text": [
      "0\n",
      "1\n",
      "2\n",
      "3\n",
      "4\n",
      "2\n",
      "3\n",
      "4\n",
      "5\n",
      "0\n",
      "2\n",
      "4\n",
      "6\n",
      "8\n"
     ]
    }
   ],
   "source": [
    "for i in range(5):   # 0 to 4\n",
    "    print(i)\n",
    "\n",
    "for i in range(2, 6):   # 2 to 5\n",
    "    print(i)\n",
    "\n",
    "for i in range(0, 10, 2):   # step of 2\n",
    "    print(i)\n"
   ]
  },
  {
   "cell_type": "code",
   "execution_count": 110,
   "id": "edb3596a-b330-47b0-9e55-0c70ee07d680",
   "metadata": {},
   "outputs": [
    {
     "name": "stdout",
     "output_type": "stream",
     "text": [
      "0 red\n",
      "1 green\n",
      "2 blue\n"
     ]
    }
   ],
   "source": [
    "# Looping with enumerate()\n",
    "colors = [\"red\", \"green\", \"blue\"]\n",
    "\n",
    "for index, color in enumerate(colors):\n",
    "    print(index, color)\n"
   ]
  },
  {
   "cell_type": "code",
   "execution_count": 111,
   "id": "b25d85a5-cbde-49fb-b3a0-c6b5754dd542",
   "metadata": {},
   "outputs": [
    {
     "name": "stdout",
     "output_type": "stream",
     "text": [
      "name : Alice\n",
      "age : 25\n",
      "city : NYC\n"
     ]
    }
   ],
   "source": [
    "# Looping over a dictionary\n",
    "\n",
    "person = {\"name\": \"Alice\", \"age\": 25, \"city\": \"NYC\"}\n",
    "\n",
    "for key, value in person.items():\n",
    "    print(key, \":\", value)\n"
   ]
  },
  {
   "cell_type": "code",
   "execution_count": 112,
   "id": "3b623687-d6d7-41d9-bab7-6708fcd0aafa",
   "metadata": {},
   "outputs": [
    {
     "name": "stdout",
     "output_type": "stream",
     "text": [
      "i=1, j=1\n",
      "i=1, j=2\n",
      "i=1, j=3\n",
      "i=2, j=1\n",
      "i=2, j=2\n",
      "i=2, j=3\n",
      "i=3, j=1\n",
      "i=3, j=2\n",
      "i=3, j=3\n"
     ]
    }
   ],
   "source": [
    "# Nested loops\n",
    "\n",
    "for i in range(1, 4):\n",
    "    for j in range(1, 4):\n",
    "        print(f\"i={i}, j={j}\")\n"
   ]
  },
  {
   "cell_type": "code",
   "execution_count": 113,
   "id": "796ee1f4-90a9-464e-8db7-410dcbc65d5d",
   "metadata": {},
   "outputs": [
    {
     "name": "stdout",
     "output_type": "stream",
     "text": [
      "1\n",
      "2\n",
      "4\n"
     ]
    }
   ],
   "source": [
    "# Using break and continue\n",
    "nums = [1, 2, 3, 4, 5]\n",
    "\n",
    "for n in nums:\n",
    "    if n == 3:\n",
    "        continue   # skip 3\n",
    "    if n == 5:\n",
    "        break      # stop at 5\n",
    "    print(n)\n"
   ]
  },
  {
   "cell_type": "code",
   "execution_count": 114,
   "id": "fa4fa3b6-ea92-4827-bcb3-5269facde92b",
   "metadata": {},
   "outputs": [
    {
     "name": "stdout",
     "output_type": "stream",
     "text": [
      "0\n",
      "1\n",
      "2\n",
      "3\n",
      "4\n",
      "Loop finished without break\n"
     ]
    }
   ],
   "source": [
    "# Loop with else\n",
    "for n in range(5):\n",
    "    print(n)\n",
    "else:\n",
    "    print(\"Loop finished without break\")\n",
    "# The else block runs only if the loop does not end with break"
   ]
  },
  {
   "cell_type": "markdown",
   "id": "e0e69cc6-f97d-4dac-a0f0-3f89f59deee6",
   "metadata": {},
   "source": [
    "##### List Comprehension (short for loop)"
   ]
  },
  {
   "cell_type": "code",
   "execution_count": 116,
   "id": "2efb6892-3a47-4603-8fc0-7b3c7f1b0f64",
   "metadata": {},
   "outputs": [
    {
     "name": "stdout",
     "output_type": "stream",
     "text": [
      "[0, 1, 4, 9, 16]\n",
      "_________________________\n",
      "[0, 2, 4, 6, 8]\n"
     ]
    }
   ],
   "source": [
    "squares = [x**2 for x in range(5)]\n",
    "print(squares)\n",
    "print('_'*25)\n",
    "\n",
    "evens = [x for x in range(10) if x % 2 == 0]\n",
    "print(evens)\n"
   ]
  },
  {
   "cell_type": "markdown",
   "id": "33b159e2-0f99-4c2f-93a4-99ae4aaeba85",
   "metadata": {},
   "source": [
    "### while loop"
   ]
  },
  {
   "cell_type": "code",
   "execution_count": 118,
   "id": "4ea1f4b3-7644-4134-aca9-5eab858963fe",
   "metadata": {},
   "outputs": [],
   "source": [
    "# Infinite loop (⚠️ careful!)\n",
    "# while True:\n",
    "#     print(\"This runs forever!\")\n"
   ]
  },
  {
   "cell_type": "code",
   "execution_count": 119,
   "id": "15df71e6-e8d8-4dc1-ad55-85dcbbad9036",
   "metadata": {},
   "outputs": [
    {
     "name": "stdout",
     "output_type": "stream",
     "text": [
      "1\n",
      "2\n",
      "3\n"
     ]
    }
   ],
   "source": [
    "x = 1\n",
    "while True:\n",
    "    print(x)\n",
    "    if x == 3:\n",
    "        break   # exit loop\n",
    "    x += 1\n"
   ]
  },
  {
   "cell_type": "code",
   "execution_count": 120,
   "id": "dd451b90-1bfc-4c20-90db-e56b8b1584fb",
   "metadata": {},
   "outputs": [
    {
     "name": "stdout",
     "output_type": "stream",
     "text": [
      "1\n",
      "2\n",
      "4\n",
      "5\n"
     ]
    }
   ],
   "source": [
    "n = 0\n",
    "while n < 5:\n",
    "    n += 1\n",
    "    if n == 3:\n",
    "        continue   # skip printing 3\n",
    "    print(n)\n"
   ]
  },
  {
   "cell_type": "code",
   "execution_count": 121,
   "id": "b5ad2671-7acc-47c1-9f78-f1f04fec64e8",
   "metadata": {},
   "outputs": [
    {
     "name": "stdout",
     "output_type": "stream",
     "text": [
      "Loop 1\n",
      "Loop 2\n",
      "Loop 3\n",
      "Loop finished (no break)\n"
     ]
    }
   ],
   "source": [
    "i = 1\n",
    "while i <= 3:\n",
    "    print(\"Loop\", i)\n",
    "    i += 1\n",
    "else:\n",
    "    print(\"Loop finished (no break)\")\n"
   ]
  },
  {
   "cell_type": "code",
   "execution_count": 122,
   "id": "d8499af7-f45a-4e1c-a154-104432474caa",
   "metadata": {},
   "outputs": [
    {
     "name": "stdout",
     "output_type": "stream",
     "text": [
      "5 x 1 = 5\n",
      "5 x 2 = 10\n",
      "5 x 3 = 15\n",
      "5 x 4 = 20\n",
      "5 x 5 = 25\n"
     ]
    }
   ],
   "source": [
    "n = 1\n",
    "while n <= 5:\n",
    "    print(f\"5 x {n} = {5*n}\")\n",
    "    n += 1\n"
   ]
  },
  {
   "cell_type": "markdown",
   "id": "849dd499-05c5-4766-9eb4-7bb2b034c0b1",
   "metadata": {},
   "source": [
    "### print with colors"
   ]
  },
  {
   "cell_type": "markdown",
   "id": "9c5876ed-5c6f-4666-9ea7-b74c9aaac80d",
   "metadata": {},
   "source": [
    "##### Using ANSI Escape Codes (built-in)"
   ]
  },
  {
   "cell_type": "code",
   "execution_count": 125,
   "id": "75985ffb-75cf-40ea-b377-239a85f80338",
   "metadata": {},
   "outputs": [
    {
     "name": "stdout",
     "output_type": "stream",
     "text": [
      "\u001b[31mThis is Red Text\u001b[0m\n",
      "\u001b[32mThis is Green Text\u001b[0m\n",
      "\u001b[33mThis is Yellow Text\u001b[0m\n",
      "\u001b[34mThis is Blue Text\u001b[0m\n",
      "\u001b[35mThis is Magenta Text\u001b[0m\n",
      "\u001b[36mThis is Cyan Text\u001b[0m\n",
      "\u001b[37mThis is White Text\u001b[0m\n"
     ]
    }
   ],
   "source": [
    "# Format: \\033[<style>;<text_color>;<background_color>m\n",
    "\n",
    "print(\"\\033[31mThis is Red Text\\033[0m\")\n",
    "print(\"\\033[32mThis is Green Text\\033[0m\")\n",
    "print(\"\\033[33mThis is Yellow Text\\033[0m\")\n",
    "print(\"\\033[34mThis is Blue Text\\033[0m\")\n",
    "print(\"\\033[35mThis is Magenta Text\\033[0m\")\n",
    "print(\"\\033[36mThis is Cyan Text\\033[0m\")\n",
    "print(\"\\033[37mThis is White Text\\033[0m\")\n"
   ]
  },
  {
   "cell_type": "markdown",
   "id": "5fb01e80-c4d9-46d7-ab1d-4264209fcb1e",
   "metadata": {},
   "source": [
    "##### Add Styles"
   ]
  },
  {
   "cell_type": "code",
   "execution_count": 127,
   "id": "6c4dd465-14fa-45e0-a6d7-e5ee8becb7a3",
   "metadata": {},
   "outputs": [
    {
     "name": "stdout",
     "output_type": "stream",
     "text": [
      "\u001b[1;32mBold Green\u001b[0m\n",
      "\u001b[4;34mUnderlined Blue\u001b[0m\n",
      "\u001b[7;31mInverted Red\u001b[0m\n"
     ]
    }
   ],
   "source": [
    "print(\"\\033[1;32mBold Green\\033[0m\")\n",
    "print(\"\\033[4;34mUnderlined Blue\\033[0m\")\n",
    "print(\"\\033[7;31mInverted Red\\033[0m\")\n"
   ]
  },
  {
   "cell_type": "markdown",
   "id": "3eff8380-6d98-4813-8d43-0ff7f784ecf1",
   "metadata": {},
   "source": [
    "##### With Background Colors"
   ]
  },
  {
   "cell_type": "code",
   "execution_count": 129,
   "id": "e14dad12-3f3b-411c-95e6-68e18ef52f4c",
   "metadata": {},
   "outputs": [
    {
     "name": "stdout",
     "output_type": "stream",
     "text": [
      "\u001b[30;47mBlack text on White background\u001b[0m\n",
      "\u001b[33;44mYellow text on Blue background\u001b[0m\n"
     ]
    }
   ],
   "source": [
    "print(\"\\033[30;47mBlack text on White background\\033[0m\")\n",
    "print(\"\\033[33;44mYellow text on Blue background\\033[0m\")\n"
   ]
  },
  {
   "cell_type": "markdown",
   "id": "0f66cb77-e53e-49a9-914e-b10e0ccb6b6a",
   "metadata": {},
   "source": [
    "##### Using colorama (Windows friendly 🌐)-  (terminal only)"
   ]
  },
  {
   "cell_type": "code",
   "execution_count": 131,
   "id": "d750ab57-ec80-4c18-a185-dda717a1038e",
   "metadata": {},
   "outputs": [
    {
     "name": "stdout",
     "output_type": "stream",
     "text": [
      "Red text\n",
      "Green text\n",
      "With Yellow Background\n",
      "Bright Blue text\n"
     ]
    }
   ],
   "source": [
    "#pip install colorama)\n",
    "\n",
    "from colorama import Fore, Back, Style, init\n",
    "init(autoreset=True)  # auto reset after each print\n",
    "\n",
    "print(Fore.RED + \"Red text\")\n",
    "print(Fore.GREEN + \"Green text\")\n",
    "print(Back.YELLOW + \"With Yellow Background\")\n",
    "print(Style.BRIGHT + Fore.BLUE + \"Bright Blue text\")\n"
   ]
  },
  {
   "cell_type": "markdown",
   "id": "6cc9e49b-e07f-497a-aca7-a4988d1c2119",
   "metadata": {},
   "source": [
    "##### Using termcolor - (terminal only)"
   ]
  },
  {
   "cell_type": "code",
   "execution_count": 133,
   "id": "5b626b12-7863-4e4f-9fa3-7764963beeed",
   "metadata": {},
   "outputs": [
    {
     "name": "stdout",
     "output_type": "stream",
     "text": [
      "Hello in Red\n",
      "Green on Yellow\n",
      "Bold Blue\n"
     ]
    }
   ],
   "source": [
    "# pip install termcolor\n",
    "\n",
    "from termcolor import colored\n",
    "\n",
    "print(colored(\"Hello in Red\", \"red\"))\n",
    "print(colored(\"Green on Yellow\", \"green\", \"on_yellow\"))\n",
    "print(colored(\"Bold Blue\", \"blue\", attrs=[\"bold\"]))\n"
   ]
  },
  {
   "cell_type": "markdown",
   "id": "18fb3eb6-c9d7-401d-bafa-90cba93dc021",
   "metadata": {},
   "source": [
    "##### Use IPython display + HTML in Jupyter"
   ]
  },
  {
   "cell_type": "code",
   "execution_count": 135,
   "id": "2a471241-d7b6-4af7-8193-9e42211c71ac",
   "metadata": {},
   "outputs": [
    {
     "data": {
      "text/html": [
       "<span style='color:red;'>Hello Red</span>"
      ],
      "text/plain": [
       "<IPython.core.display.HTML object>"
      ]
     },
     "metadata": {},
     "output_type": "display_data"
    },
    {
     "data": {
      "text/html": [
       "<span style='color:green;background-color:yellow;'>Green on Yellow</span>"
      ],
      "text/plain": [
       "<IPython.core.display.HTML object>"
      ]
     },
     "metadata": {},
     "output_type": "display_data"
    },
    {
     "data": {
      "text/html": [
       "<span style='color:blue;font-weight:bold;'>Bold Blue</span>"
      ],
      "text/plain": [
       "<IPython.core.display.HTML object>"
      ]
     },
     "metadata": {},
     "output_type": "display_data"
    }
   ],
   "source": [
    "from IPython.display import HTML, display\n",
    "\n",
    "def cprint(text, color=\"red\", bgcolor=None, bold=False):\n",
    "    style = f\"color:{color};\"\n",
    "    if bgcolor:\n",
    "        style += f\"background-color:{bgcolor};\"\n",
    "    if bold:\n",
    "        style += \"font-weight:bold;\"\n",
    "    display(HTML(f\"<span style='{style}'>{text}</span>\"))\n",
    "\n",
    "cprint(\"Hello Red\", color=\"red\")\n",
    "cprint(\"Green on Yellow\", color=\"green\", bgcolor=\"yellow\")\n",
    "cprint(\"Bold Blue\", color=\"blue\", bold=True)\n"
   ]
  },
  {
   "cell_type": "markdown",
   "id": "0c79ab11-e7f6-4462-951a-4495d70b9c47",
   "metadata": {},
   "source": [
    "### Use rich (best for modern notebooks & terminals) **************"
   ]
  },
  {
   "cell_type": "code",
   "execution_count": 137,
   "id": "a92c36c4-1c58-4c50-b8ab-f3b1209ec904",
   "metadata": {},
   "outputs": [
    {
     "data": {
      "text/html": [
       "<pre style=\"white-space:pre;overflow-x:auto;line-height:normal;font-family:Menlo,'DejaVu Sans Mono',consolas,'Courier New',monospace\">No color end </pre>\n"
      ],
      "text/plain": [
       "No color end "
      ]
     },
     "metadata": {},
     "output_type": "display_data"
    },
    {
     "data": {
      "text/html": [
       "<pre style=\"white-space:pre;overflow-x:auto;line-height:normal;font-family:Menlo,'DejaVu Sans Mono',consolas,'Courier New',monospace\"><span style=\"color: #800000; text-decoration-color: #800000\">Hello in Red</span> </pre>\n"
      ],
      "text/plain": [
       "\u001b[31mHello in Red\u001b[0m "
      ]
     },
     "metadata": {},
     "output_type": "display_data"
    },
    {
     "data": {
      "text/html": [
       "<pre style=\"white-space:pre;overflow-x:auto;line-height:normal;font-family:Menlo,'DejaVu Sans Mono',consolas,'Courier New',monospace\"><span style=\"color: #008000; text-decoration-color: #008000; background-color: #808000\">Green on Yellow</span>\n",
       "</pre>\n"
      ],
      "text/plain": [
       "\u001b[32;43mGreen on Yellow\u001b[0m\n"
      ]
     },
     "metadata": {},
     "output_type": "display_data"
    },
    {
     "data": {
      "text/html": [
       "<pre style=\"white-space:pre;overflow-x:auto;line-height:normal;font-family:Menlo,'DejaVu Sans Mono',consolas,'Courier New',monospace\"><span style=\"color: #000080; text-decoration-color: #000080; font-weight: bold\">Bold Blue</span>\n",
       "</pre>\n"
      ],
      "text/plain": [
       "\u001b[1;34mBold Blue\u001b[0m\n"
      ]
     },
     "metadata": {},
     "output_type": "display_data"
    }
   ],
   "source": [
    "# pip install rich\n",
    "\n",
    "from rich import print as rprint\n",
    "\n",
    "rprint('No color', end=\" end \")\n",
    "rprint(\"[red]Hello in Red[/red]\", end=\" \")\n",
    "rprint(\"[green on yellow]Green on Yellow[/green on yellow]\")\n",
    "rprint(\"[bold blue]Bold Blue[/bold blue]\")\n"
   ]
  },
  {
   "cell_type": "markdown",
   "id": "7f56a307-baeb-4cdf-ba59-66222088ac4a",
   "metadata": {},
   "source": [
    "# Dynamic Programming"
   ]
  },
  {
   "cell_type": "markdown",
   "id": "8a327013-37eb-4fb0-986a-3a52898646cf",
   "metadata": {},
   "source": [
    "## Fibonacci Numbers (Top-down with Memoization)\n",
    "#### ✅ Uses recursion + memo dictionary to avoid recomputation."
   ]
  },
  {
   "cell_type": "code",
   "execution_count": 140,
   "id": "e1dc4dbe-56fe-41cc-98f5-272a6ebaa95b",
   "metadata": {},
   "outputs": [
    {
     "name": "stdout",
     "output_type": "stream",
     "text": [
      "[0, 1, 1, 2, 3, 5, 8, 13, 21, 34]\n"
     ]
    }
   ],
   "source": [
    "def fib(n, memo={}):\n",
    "    if n in memo:\n",
    "        return memo[n]\n",
    "    if n <= 1:\n",
    "        return n\n",
    "    memo[n] = fib(n-1, memo) + fib(n-2, memo)\n",
    "    return memo[n]\n",
    "\n",
    "print([fib(i) for i in range(10)])  # First 10 Fibonacci numbers\n"
   ]
  },
  {
   "cell_type": "markdown",
   "id": "cd2c55d7-ebad-435e-ae60-1eae81d8e02c",
   "metadata": {},
   "source": [
    "## Fibonacci (Bottom-up Tabulation)\n",
    "#### Iterative and efficient."
   ]
  },
  {
   "cell_type": "code",
   "execution_count": 142,
   "id": "e62c52ab-39ac-4ef4-80f6-6c8413d8d8e4",
   "metadata": {},
   "outputs": [
    {
     "name": "stdout",
     "output_type": "stream",
     "text": [
      "354224848179261915075\n"
     ]
    }
   ],
   "source": [
    "def fib_tab(n):\n",
    "    dp = [0, 1] + [0]*(n-1)\n",
    "    for i in range(2, n+1):\n",
    "        dp[i] = dp[i-1] + dp[i-2]\n",
    "    return dp[n]\n",
    "\n",
    "print(fib_tab(100))  # 55\n"
   ]
  },
  {
   "cell_type": "markdown",
   "id": "d002449c-f4e9-4698-b402-979793faca69",
   "metadata": {},
   "source": [
    "## 🔹 Climbing Stairs (LeetCode Classic)\n",
    "#### You can climb 1 or 2 steps at a time. How many ways to reach the top?"
   ]
  },
  {
   "cell_type": "code",
   "execution_count": 144,
   "id": "844fc910-486b-4772-98a5-c22ed1778062",
   "metadata": {},
   "outputs": [
    {
     "name": "stdout",
     "output_type": "stream",
     "text": [
      "8\n"
     ]
    }
   ],
   "source": [
    "def climb_stairs(n):\n",
    "    if n <= 2:\n",
    "        return n\n",
    "    dp = [0]*(n+1)\n",
    "    dp[1], dp[2] = 1, 2\n",
    "    for i in range(3, n+1):\n",
    "        dp[i] = dp[i-1] + dp[i-2]\n",
    "    return dp[n]\n",
    "\n",
    "print(climb_stairs(5))  # 8\n"
   ]
  },
  {
   "cell_type": "markdown",
   "id": "9b97654f-a47f-4deb-a43e-956d17a5f5b2",
   "metadata": {},
   "source": [
    "## 🔹 Coin Change (Minimum Coins)\n",
    "#### Given coins [1, 2, 5] and amount 11, find min coins."
   ]
  },
  {
   "cell_type": "code",
   "execution_count": 146,
   "id": "39c5d802-a591-4c4b-91e7-d735ecff37aa",
   "metadata": {},
   "outputs": [
    {
     "name": "stdout",
     "output_type": "stream",
     "text": [
      "3\n"
     ]
    }
   ],
   "source": [
    "def coin_change(coins, amount):\n",
    "    dp = [float(\"inf\")] * (amount+1)\n",
    "    dp[0] = 0\n",
    "    for coin in coins:\n",
    "        for x in range(coin, amount+1):\n",
    "            dp[x] = min(dp[x], dp[x-coin] + 1)\n",
    "    return dp[amount] if dp[amount] != float(\"inf\") else -1\n",
    "\n",
    "print(coin_change([1,2,5], 11))  # 3 (5+5+1)\n"
   ]
  },
  {
   "cell_type": "markdown",
   "id": "db0db672-1d86-4899-8ff4-7a76a91a50bf",
   "metadata": {},
   "source": [
    "## 🔹 Longest Common Subsequence (LCS)"
   ]
  },
  {
   "cell_type": "code",
   "execution_count": 148,
   "id": "98fd6251-ad27-48af-86c6-baf93071c9d3",
   "metadata": {},
   "outputs": [
    {
     "name": "stdout",
     "output_type": "stream",
     "text": [
      "3\n"
     ]
    }
   ],
   "source": [
    "def lcs(s1, s2):\n",
    "    m, n = len(s1), len(s2)\n",
    "    dp = [[0]*(n+1) for _ in range(m+1)]\n",
    "    \n",
    "    for i in range(m-1, -1, -1):\n",
    "        for j in range(n-1, -1, -1):\n",
    "            if s1[i] == s2[j]:\n",
    "                dp[i][j] = 1 + dp[i+1][j+1]\n",
    "            else:\n",
    "                dp[i][j] = max(dp[i+1][j], dp[i][j+1])\n",
    "    \n",
    "    return dp[0][0]\n",
    "\n",
    "print(lcs(\"abcde\", \"ace\"))  # 3 (\"ace\")\n"
   ]
  },
  {
   "cell_type": "code",
   "execution_count": 149,
   "id": "dde21383-3c36-473b-aba5-6254c89f74cc",
   "metadata": {},
   "outputs": [],
   "source": [
    "# 🔹 0/1 Knapsack"
   ]
  },
  {
   "cell_type": "code",
   "execution_count": 150,
   "id": "742df80a-ac25-48ba-96e7-dc77ef85b9f6",
   "metadata": {},
   "outputs": [
    {
     "name": "stdout",
     "output_type": "stream",
     "text": [
      "35\n"
     ]
    }
   ],
   "source": [
    "def knapsack(weights, values, W):\n",
    "    n = len(values)\n",
    "    dp = [[0]*(W+1) for _ in range(n+1)]\n",
    "    \n",
    "    for i in range(1, n+1):\n",
    "        for w in range(1, W+1):\n",
    "            if weights[i-1] <= w:\n",
    "                dp[i][w] = max(dp[i-1][w], values[i-1] + dp[i-1][w-weights[i-1]])\n",
    "            else:\n",
    "                dp[i][w] = dp[i-1][w]\n",
    "    return dp[n][W]\n",
    "\n",
    "print(knapsack([1,3,4], [15,20,30], 4))  # 35\n"
   ]
  },
  {
   "cell_type": "markdown",
   "id": "84c33ea1-249f-4c37-86dc-409f38599b52",
   "metadata": {},
   "source": [
    "# Algorithms"
   ]
  },
  {
   "cell_type": "markdown",
   "id": "fbe86cc2-ccf4-4a6d-be94-57b6ff1da701",
   "metadata": {},
   "source": [
    "## 🔹 1. Bellman–Ford Algorithm\n",
    "\n",
    "#### Works with negative weights.\n",
    "\n",
    "#### Can detect negative weight cycles."
   ]
  },
  {
   "cell_type": "code",
   "execution_count": 153,
   "id": "71d86672-b144-4341-8eb3-519750b74a49",
   "metadata": {},
   "outputs": [
    {
     "name": "stdout",
     "output_type": "stream",
     "text": [
      "[0, -1, 2, -2, 1]\n"
     ]
    }
   ],
   "source": [
    "def bellman_ford(graph, V, src):\n",
    "    # graph = [(u, v, w), ...]\n",
    "    dist = [float(\"inf\")] * V\n",
    "    dist[src] = 0\n",
    "\n",
    "    # Relax edges V-1 times\n",
    "    for _ in range(V-1):\n",
    "        for u, v, w in graph:\n",
    "            if dist[u] != float(\"inf\") and dist[u] + w < dist[v]:\n",
    "                dist[v] = dist[u] + w\n",
    "\n",
    "    # Detect negative cycles\n",
    "    for u, v, w in graph:\n",
    "        if dist[u] != float(\"inf\") and dist[u] + w < dist[v]:\n",
    "            print(\"Graph contains negative weight cycle!\")\n",
    "            return None\n",
    "\n",
    "    return dist\n",
    "\n",
    "# Example graph\n",
    "edges = [\n",
    "    (0, 1, -1), (0, 2, 4),\n",
    "    (1, 2, 3), (1, 3, 2), (1, 4, 2),\n",
    "    (3, 2, 5), (3, 1, 1), (4, 3, -3)\n",
    "]\n",
    "print(bellman_ford(edges, 5, 0))  # [0, -1, 2, -2, 1]\n"
   ]
  },
  {
   "cell_type": "markdown",
   "id": "4e23c7f6-0ed0-47bf-837d-fede8522b3d1",
   "metadata": {},
   "source": [
    "## 2. Dijkstra’s Algorithm\n",
    "\n",
    "#### Works with non-negative weights.\n",
    "\n",
    "#### Time complexity: O(E log V) with a priority queue (heap)."
   ]
  },
  {
   "cell_type": "code",
   "execution_count": 155,
   "id": "e639097b-7978-4d9f-9de0-670cc57265e9",
   "metadata": {},
   "outputs": [
    {
     "name": "stdout",
     "output_type": "stream",
     "text": [
      "{0: 0, 1: 3, 2: 1, 3: 4}\n"
     ]
    }
   ],
   "source": [
    "import heapq\n",
    "\n",
    "def dijkstra(graph, src):\n",
    "    # graph as adjacency list: {u: [(v, w), ...]}\n",
    "    dist = {node: float(\"inf\") for node in graph}\n",
    "    dist[src] = 0\n",
    "    pq = [(0, src)]  # (distance, node)\n",
    "\n",
    "    while pq:\n",
    "        d, u = heapq.heappop(pq)\n",
    "        if d > dist[u]:\n",
    "            continue\n",
    "        for v, w in graph[u]:\n",
    "            if dist[u] + w < dist[v]:\n",
    "                dist[v] = dist[u] + w\n",
    "                heapq.heappush(pq, (dist[v], v))\n",
    "    return dist\n",
    "\n",
    "graph = {\n",
    "    0: [(1, 4), (2, 1)],\n",
    "    1: [(3, 1)],\n",
    "    2: [(1, 2), (3, 5)],\n",
    "    3: []\n",
    "}\n",
    "print(dijkstra(graph, 0))  # {0: 0, 1: 3, 2: 1, 3: 4}\n"
   ]
  },
  {
   "cell_type": "markdown",
   "id": "56e90074-0b2d-4fe3-9cb9-4b37df67246c",
   "metadata": {},
   "source": [
    "## 3. Floyd–Warshall Algorithm\n",
    "\n",
    "#### Finds all-pairs shortest paths.\n",
    "\n",
    "#### Works with negative weights, but no negative cycles.\n",
    "\n",
    "#### Time complexity: O(V³)."
   ]
  },
  {
   "cell_type": "code",
   "execution_count": 157,
   "id": "9c397744-6a3f-4dd4-9ba1-8c0389c0302f",
   "metadata": {},
   "outputs": [
    {
     "name": "stdout",
     "output_type": "stream",
     "text": [
      "[0, 5, 8, 9]\n",
      "[inf, 0, 3, 4]\n",
      "[inf, inf, 0, 1]\n",
      "[inf, inf, inf, 0]\n"
     ]
    }
   ],
   "source": [
    "def floyd_warshall(matrix):\n",
    "    V = len(matrix)\n",
    "    dist = [row[:] for row in matrix]  # copy\n",
    "\n",
    "    for k in range(V):\n",
    "        for i in range(V):\n",
    "            for j in range(V):\n",
    "                if dist[i][k] + dist[k][j] < dist[i][j]:\n",
    "                    dist[i][j] = dist[i][k] + dist[k][j]\n",
    "    return dist\n",
    "\n",
    "INF = float(\"inf\")\n",
    "graph = [\n",
    "    [0, 5, INF, 10],\n",
    "    [INF, 0, 3, INF],\n",
    "    [INF, INF, 0, 1],\n",
    "    [INF, INF, INF, 0]\n",
    "]\n",
    "\n",
    "for row in floyd_warshall(graph):\n",
    "    print(row)\n"
   ]
  }
 ],
 "metadata": {
  "kernelspec": {
   "display_name": "Python 3 (ipykernel)",
   "language": "python",
   "name": "python3"
  },
  "language_info": {
   "codemirror_mode": {
    "name": "ipython",
    "version": 3
   },
   "file_extension": ".py",
   "mimetype": "text/x-python",
   "name": "python",
   "nbconvert_exporter": "python",
   "pygments_lexer": "ipython3",
   "version": "3.10.16"
  }
 },
 "nbformat": 4,
 "nbformat_minor": 5
}
