{
  "nbformat": 4,
  "nbformat_minor": 0,
  "metadata": {
    "colab": {
      "provenance": [],
      "authorship_tag": "ABX9TyNgsVzvSqGmG1QBwHw+98y+",
      "include_colab_link": true
    },
    "kernelspec": {
      "name": "python3",
      "display_name": "Python 3"
    },
    "language_info": {
      "name": "python"
    }
  },
  "cells": [
    {
      "cell_type": "markdown",
      "metadata": {
        "id": "view-in-github",
        "colab_type": "text"
      },
      "source": [
        "<a href=\"https://colab.research.google.com/github/Shahriar88/python_learning/blob/main/NN_Basic_v0.ipynb\" target=\"_parent\"><img src=\"https://colab.research.google.com/assets/colab-badge.svg\" alt=\"Open In Colab\"/></a>"
      ]
    },
    {
      "cell_type": "markdown",
      "source": [],
      "metadata": {
        "id": "OUIhqYFieM_l"
      }
    },
    {
      "cell_type": "markdown",
      "source": [
        "## BasicNN"
      ],
      "metadata": {
        "id": "eOn_e4dXIZtE"
      }
    },
    {
      "cell_type": "code",
      "execution_count": null,
      "metadata": {
        "id": "UKcy8uPXINTj"
      },
      "outputs": [],
      "source": [
        "import torch\n",
        "import torch.nn as nn\n",
        "import torch.optim as optim"
      ]
    },
    {
      "cell_type": "code",
      "source": [
        "# 1. Create dummy dataset (100 samples, 10 features each)\n",
        "features = 10\n",
        "samples = 100\n",
        "n_class = 2\n",
        "X = torch.randn(samples, features)   # inputs\n",
        "y = torch.randint(0, n_class, (samples,))  # binary labels (0 or 1)"
      ],
      "metadata": {
        "id": "3jvAWH2EIeNM"
      },
      "execution_count": null,
      "outputs": []
    },
    {
      "cell_type": "code",
      "source": [
        "# 2. Define a simple feedforward network\n",
        "class BasicNN(nn.Module):\n",
        "    def __init__(self):\n",
        "        super(BasicNN, self).__init__()\n",
        "        self.fc1 = nn.Linear(features, 16)   # input -> hidden nn.Linear(10-input, 16-output)\n",
        "        self.relu = nn.ReLU()\n",
        "\n",
        "        self.fc2 = nn.Linear(16, n_class)    # hidden -> output (2 classes)\n",
        "\n",
        "    def forward(self, x):\n",
        "        x = self.relu(self.fc1(x))\n",
        "        x = self.fc2(x)\n",
        "        return x"
      ],
      "metadata": {
        "id": "cKpstDPhIU88"
      },
      "execution_count": null,
      "outputs": []
    },
    {
      "cell_type": "code",
      "source": [
        "# 2.1 Declare Model\n",
        "model = BasicNN()\n",
        "# 3. Loss function and optimizer\n",
        "criterion = nn.CrossEntropyLoss() # Classification\n",
        "optimizer = optim.Adam(model.parameters(), lr=0.01)"
      ],
      "metadata": {
        "id": "P1LiYVXrIna3"
      },
      "execution_count": null,
      "outputs": []
    },
    {
      "cell_type": "code",
      "source": [
        "# 4. Training loop\n",
        "for epoch in range(20):\n",
        "    # Forward pass\n",
        "    outputs = model(X)\n",
        "    loss = criterion(outputs, y)\n",
        "\n",
        "    # Backward pass and optimization\n",
        "    optimizer.zero_grad()\n",
        "    loss.backward()\n",
        "    optimizer.step()\n",
        "\n",
        "    print(f\"Epoch [{epoch+1}/20], Loss: {loss.item():.4f}\")"
      ],
      "metadata": {
        "colab": {
          "base_uri": "https://localhost:8080/"
        },
        "id": "bDkVklIkIrRX",
        "outputId": "cc7c7bb8-4735-4cce-bc2a-fa2c16b49cff"
      },
      "execution_count": null,
      "outputs": [
        {
          "output_type": "stream",
          "name": "stdout",
          "text": [
            "Epoch [1/20], Loss: 0.7343\n",
            "Epoch [2/20], Loss: 0.7143\n",
            "Epoch [3/20], Loss: 0.6990\n",
            "Epoch [4/20], Loss: 0.6876\n",
            "Epoch [5/20], Loss: 0.6789\n",
            "Epoch [6/20], Loss: 0.6719\n",
            "Epoch [7/20], Loss: 0.6657\n",
            "Epoch [8/20], Loss: 0.6599\n",
            "Epoch [9/20], Loss: 0.6541\n",
            "Epoch [10/20], Loss: 0.6479\n",
            "Epoch [11/20], Loss: 0.6411\n",
            "Epoch [12/20], Loss: 0.6341\n",
            "Epoch [13/20], Loss: 0.6266\n",
            "Epoch [14/20], Loss: 0.6190\n",
            "Epoch [15/20], Loss: 0.6116\n",
            "Epoch [16/20], Loss: 0.6048\n",
            "Epoch [17/20], Loss: 0.5982\n",
            "Epoch [18/20], Loss: 0.5916\n",
            "Epoch [19/20], Loss: 0.5851\n",
            "Epoch [20/20], Loss: 0.5784\n"
          ]
        }
      ]
    },
    {
      "cell_type": "code",
      "source": [
        "# 5. Test prediction\n",
        "with torch.no_grad():\n",
        "    test_input = torch.randn(1, 10)\n",
        "    prediction = torch.argmax(model(test_input))\n",
        "    print(\"Predicted class:\", prediction.item())"
      ],
      "metadata": {
        "colab": {
          "base_uri": "https://localhost:8080/"
        },
        "id": "_gKfnkGvIV7T",
        "outputId": "2dd8a247-fee3-47d9-92b7-30f84acb671f"
      },
      "execution_count": null,
      "outputs": [
        {
          "output_type": "stream",
          "name": "stdout",
          "text": [
            "Predicted class: 0\n"
          ]
        }
      ]
    },
    {
      "cell_type": "markdown",
      "source": [
        "## BasicDL"
      ],
      "metadata": {
        "id": "auOOwjzVMjrU"
      }
    },
    {
      "cell_type": "code",
      "source": [
        "import torch\n",
        "import torch.nn as nn\n",
        "import torch.optim as optim"
      ],
      "metadata": {
        "id": "GCH2e_1hMiok"
      },
      "execution_count": null,
      "outputs": []
    },
    {
      "cell_type": "code",
      "source": [
        "# 1. Create dummy dataset (100 samples, 20 features each)\n",
        "X = torch.randn(100, 20)          # inputs\n",
        "y = torch.randint(0, 3, (100,))   # labels for 3 classes"
      ],
      "metadata": {
        "id": "BwvsfrTjMnl8"
      },
      "execution_count": null,
      "outputs": []
    },
    {
      "cell_type": "code",
      "source": [
        "# 2. Define a deeper feedforward network\n",
        "class DeepNN(nn.Module):\n",
        "    def __init__(self):\n",
        "        super(DeepNN, self).__init__()\n",
        "        self.fc1 = nn.Linear(20, 64)   # input -> hidden1\n",
        "        self.fc2 = nn.Linear(64, 128)  # hidden1 -> hidden2\n",
        "        self.fc3 = nn.Linear(128, 64)  # hidden2 -> hidden3\n",
        "        self.fc4 = nn.Linear(64, 3)    # hidden3 -> output (3 classes)\n",
        "        self.relu = nn.ReLU()\n",
        "        self.dropout = nn.Dropout(0.3) # regularization\n",
        "\n",
        "    def forward(self, x):\n",
        "        x = self.relu(self.fc1(x))\n",
        "        x = self.dropout(self.relu(self.fc2(x)))\n",
        "        x = self.relu(self.fc3(x))\n",
        "        x = self.fc4(x)\n",
        "        return x"
      ],
      "metadata": {
        "id": "Yuuurp-KMnom"
      },
      "execution_count": null,
      "outputs": []
    },
    {
      "cell_type": "code",
      "source": [
        "model = DeepNN()\n",
        "\n",
        "# 3. Loss function and optimizer\n",
        "criterion = nn.CrossEntropyLoss()\n",
        "optimizer = optim.Adam(model.parameters(), lr=0.001)"
      ],
      "metadata": {
        "id": "ftdZEjExMnrf"
      },
      "execution_count": null,
      "outputs": []
    },
    {
      "cell_type": "code",
      "source": [
        "# 4. Training loop\n",
        "for epoch in range(10):\n",
        "    outputs = model(X)\n",
        "    loss = criterion(outputs, y)\n",
        "\n",
        "    optimizer.zero_grad()\n",
        "    loss.backward()\n",
        "    optimizer.step()\n",
        "\n",
        "    print(f\"Epoch [{epoch+1}/10], Loss: {loss.item():.4f}\")"
      ],
      "metadata": {
        "id": "49adrkksMuNF"
      },
      "execution_count": null,
      "outputs": []
    },
    {
      "cell_type": "code",
      "source": [
        "# 5. Test prediction\n",
        "with torch.no_grad():\n",
        "    test_input = torch.randn(1, 20)\n",
        "    prediction = torch.argmax(model(test_input))\n",
        "    print(\"Predicted class:\", prediction.item())"
      ],
      "metadata": {
        "id": "yKKi0nspMwO-"
      },
      "execution_count": null,
      "outputs": []
    },
    {
      "cell_type": "markdown",
      "source": [
        "## Basic CNN"
      ],
      "metadata": {
        "id": "KVXvGtmqLEsW"
      }
    },
    {
      "cell_type": "code",
      "source": [
        "import torch\n",
        "import torch.nn as nn\n",
        "import torch.optim as optim"
      ],
      "metadata": {
        "id": "RLsGA-glLGV2"
      },
      "execution_count": null,
      "outputs": []
    },
    {
      "cell_type": "code",
      "source": [
        "# 1. Create dummy dataset (100 samples, 1 channel, 28x28 \"images\")\n",
        "\n",
        "in_channels = 1 # 1->Gray Scale, 3-RGB\n",
        "sample = 100\n",
        "n_class = 10\n",
        "\n",
        "X = torch.randn(in_channels, in_channels, 28, 28)   # grayscale images\n",
        "y = torch.randint(0, n_class, (in_channels,))  # 10 classes\n",
        "\n",
        "# 2. Define a simple ConvNet\n",
        "class BasicConvNN(nn.Module):\n",
        "    def __init__(self):\n",
        "        super(BasicConvNN, self).__init__()\n",
        "        self.conv1 = nn.Conv2d(in_channels, out_channels = 8, kernel_size=3, stride=1, padding=1)  # (N,1,28,28) -> (N,8,28,28)\n",
        "        self.relu = nn.ReLU()\n",
        "        self.pool = nn.MaxPool2d(2, 2)  # (N,8,28,28) -> (N,8,14,14)\n",
        "\n",
        "        self.conv2 = nn.Conv2d(8, 16, kernel_size=3, stride=1, padding=1) # (N,16,14,14)\n",
        "        self.fc1 = nn.Linear(16 * 7 * 7, 64)  # after pooling again -> (N,16,7,7)\n",
        "        self.fc2 = nn.Linear(64, n_class)          # 10 output classes\n",
        "\n",
        "    def forward(self, x):\n",
        "        x = self.pool(self.relu(self.conv1(x)))\n",
        "        x = self.pool(self.relu(self.conv2(x)))\n",
        "        x = x.view(x.size(0), -1)   # flatten\n",
        "        x = self.relu(self.fc1(x))\n",
        "        x = self.fc2(x)\n",
        "        return x"
      ],
      "metadata": {
        "id": "PTdckQTWLGZP"
      },
      "execution_count": null,
      "outputs": []
    },
    {
      "cell_type": "code",
      "source": [
        "model = BasicConvNN()\n",
        "\n",
        "# 3. Loss and optimizer\n",
        "criterion = nn.CrossEntropyLoss()\n",
        "optimizer = optim.Adam(model.parameters(), lr=0.01)"
      ],
      "metadata": {
        "id": "BEewhwlOLGqe"
      },
      "execution_count": null,
      "outputs": []
    },
    {
      "cell_type": "code",
      "source": [
        "# 4. Training loop\n",
        "for epoch in range(5):\n",
        "    outputs = model(X)\n",
        "    loss = criterion(outputs, y)\n",
        "\n",
        "    optimizer.zero_grad()\n",
        "    loss.backward()\n",
        "    optimizer.step()\n",
        "\n",
        "    print(f\"Epoch [{epoch+1}/5], Loss: {loss.item():.4f}\")"
      ],
      "metadata": {
        "id": "W6F6cvK8LRG4"
      },
      "execution_count": null,
      "outputs": []
    },
    {
      "cell_type": "code",
      "source": [
        "# 5. Test prediction\n",
        "with torch.no_grad():\n",
        "    test_input = torch.randn(1, 1, 28, 28)\n",
        "    prediction = torch.argmax(model(test_input))\n",
        "    print(\"Predicted class:\", prediction.item())"
      ],
      "metadata": {
        "id": "4twtbNOVLTOg"
      },
      "execution_count": null,
      "outputs": []
    },
    {
      "cell_type": "markdown",
      "source": [
        "## Basic LSTM"
      ],
      "metadata": {
        "id": "4wbchp4kM_D4"
      }
    },
    {
      "cell_type": "code",
      "source": [
        "import torch\n",
        "import torch.nn as nn\n",
        "import torch.optim as optim"
      ],
      "metadata": {
        "id": "idyCF53bNAr4"
      },
      "execution_count": null,
      "outputs": []
    },
    {
      "cell_type": "code",
      "source": [
        "# 1. Create dummy sequential dataset\n",
        "# Let's say we have 100 sequences, each of length 5, with 10 features at each timestep\n",
        "X = torch.randn(100, 5, 10)          # shape: (batch, seq_len, input_dim)\n",
        "y = torch.randint(0, 2, (100,))      # binary classification (0 or 1)"
      ],
      "metadata": {
        "id": "nHGdj4h1NAu4"
      },
      "execution_count": null,
      "outputs": []
    },
    {
      "cell_type": "code",
      "source": [
        "# 2. Define a simple LSTM-based model\n",
        "class BasicLSTM(nn.Module):\n",
        "    def __init__(self, input_dim, hidden_dim, output_dim, num_layers=1):\n",
        "        super(BasicLSTM, self).__init__()\n",
        "        self.lstm = nn.LSTM(input_dim, hidden_dim, num_layers, batch_first=True)\n",
        "        self.fc = nn.Linear(hidden_dim, output_dim)\n",
        "\n",
        "    def forward(self, x):\n",
        "        # LSTM output: all hidden states + (last_hidden, last_cell)\n",
        "        out, (hn, cn) = self.lstm(x)   # hn shape: (num_layers, batch, hidden_dim)\n",
        "        out = self.fc(hn[-1])          # take last layer’s hidden state\n",
        "        return out"
      ],
      "metadata": {
        "id": "QVGoeCGqNAx7"
      },
      "execution_count": null,
      "outputs": []
    },
    {
      "cell_type": "code",
      "source": [
        "model = BasicLSTM(input_dim=10, hidden_dim=32, output_dim=2)\n",
        "\n",
        "# 3. Loss and optimizer\n",
        "criterion = nn.CrossEntropyLoss()\n",
        "optimizer = optim.Adam(model.parameters(), lr=0.01)"
      ],
      "metadata": {
        "id": "BJ9SlOOhNA0i"
      },
      "execution_count": null,
      "outputs": []
    },
    {
      "cell_type": "code",
      "source": [
        "# 4. Training loop\n",
        "for epoch in range(10):\n",
        "    outputs = model(X)\n",
        "    loss = criterion(outputs, y)\n",
        "\n",
        "    optimizer.zero_grad()\n",
        "    loss.backward()\n",
        "    optimizer.step()\n",
        "\n",
        "    print(f\"Epoch [{epoch+1}/10], Loss: {loss.item():.4f}\")"
      ],
      "metadata": {
        "id": "Re1xv9QLNA3Q"
      },
      "execution_count": null,
      "outputs": []
    },
    {
      "cell_type": "code",
      "source": [
        "# 5. Test prediction\n",
        "with torch.no_grad():\n",
        "    test_input = torch.randn(1, 5, 10)  # one sequence, length 5, 10 features\n",
        "    prediction = torch.argmax(model(test_input))\n",
        "    print(\"Predicted class:\", prediction.item())"
      ],
      "metadata": {
        "id": "zUUYuKp3NA6B"
      },
      "execution_count": null,
      "outputs": []
    },
    {
      "cell_type": "markdown",
      "source": [
        "## Basic Transformer"
      ],
      "metadata": {
        "id": "_2v_ckjHNUa9"
      }
    },
    {
      "cell_type": "code",
      "source": [
        "import torch\n",
        "import torch.nn as nn\n",
        "import torch.optim as optim"
      ],
      "metadata": {
        "id": "9OHZ6a4HNA89"
      },
      "execution_count": null,
      "outputs": []
    },
    {
      "cell_type": "code",
      "source": [
        "# 1. Create dummy dataset\n",
        "# 100 sequences, each of length 5, with 16 features\n",
        "X = torch.randn(100, 5, 16)         # (batch, seq_len, input_dim)\n",
        "y = torch.randint(0, 3, (100,))     # 3 classes"
      ],
      "metadata": {
        "id": "rdNs14r-NbgM"
      },
      "execution_count": null,
      "outputs": []
    },
    {
      "cell_type": "code",
      "source": [
        "# 2. Define a simple Transformer-based model\n",
        "class BasicTransformer(nn.Module):\n",
        "    def __init__(self, input_dim, model_dim, num_heads, num_layers, num_classes):\n",
        "        super(BasicTransformer, self).__init__()\n",
        "\n",
        "        # project input features into model dimension\n",
        "        self.embedding = nn.Linear(input_dim, model_dim)\n",
        "\n",
        "        # define one encoder layer and stack them\n",
        "        encoder_layer = nn.TransformerEncoderLayer(\n",
        "            d_model=model_dim, nhead=num_heads, dim_feedforward=128, dropout=0.1, batch_first=True\n",
        "        )\n",
        "        self.transformer = nn.TransformerEncoder(encoder_layer, num_layers=num_layers)\n",
        "\n",
        "        # classification head\n",
        "        self.fc = nn.Linear(model_dim, num_classes)\n",
        "\n",
        "    def forward(self, x):\n",
        "        x = self.embedding(x)             # (batch, seq_len, model_dim)\n",
        "        x = self.transformer(x)           # apply self-attention\n",
        "        x = x.mean(dim=1)                 # simple pooling over sequence\n",
        "        out = self.fc(x)                  # class scores\n",
        "        return out"
      ],
      "metadata": {
        "id": "HNF7oabmNbi9"
      },
      "execution_count": null,
      "outputs": []
    },
    {
      "cell_type": "code",
      "source": [
        "model = BasicTransformer(input_dim=16, model_dim=32, num_heads=2, num_layers=2, num_classes=3)\n",
        "\n",
        "# 3. Loss and optimizer\n",
        "criterion = nn.CrossEntropyLoss()\n",
        "optimizer = optim.Adam(model.parameters(), lr=0.001)"
      ],
      "metadata": {
        "id": "9pmZ7-eUNbl1"
      },
      "execution_count": null,
      "outputs": []
    },
    {
      "cell_type": "code",
      "source": [
        "# 4. Training loop\n",
        "for epoch in range(5):\n",
        "    outputs = model(X)\n",
        "    loss = criterion(outputs, y)\n",
        "\n",
        "    optimizer.zero_grad()\n",
        "    loss.backward()\n",
        "    optimizer.step()\n",
        "\n",
        "    print(f\"Epoch [{epoch+1}/5], Loss: {loss.item():.4f}\")"
      ],
      "metadata": {
        "id": "jDiWQvJXNbo5"
      },
      "execution_count": null,
      "outputs": []
    },
    {
      "cell_type": "code",
      "source": [
        "# 5. Test prediction\n",
        "with torch.no_grad():\n",
        "    test_input = torch.randn(1, 5, 16)   # one sequence\n",
        "    prediction = torch.argmax(model(test_input))\n",
        "    print(\"Predicted class:\", prediction.item())"
      ],
      "metadata": {
        "id": "ImsnFJhoNbr4"
      },
      "execution_count": null,
      "outputs": []
    },
    {
      "cell_type": "markdown",
      "source": [
        "## Basic MaskRCNN"
      ],
      "metadata": {
        "id": "jtzB8BGuQCDn"
      }
    },
    {
      "cell_type": "code",
      "source": [
        "import torch\n",
        "import torchvision\n",
        "import torch.optim as optim\n",
        "\n",
        "from torchvision.models.detection import maskrcnn_resnet50_fpn\n",
        "from torchvision.transforms import functional as F\n",
        "\n"
      ],
      "metadata": {
        "id": "YW136LnDO2-K"
      },
      "execution_count": null,
      "outputs": []
    },
    {
      "cell_type": "code",
      "source": [
        "# 1. Create a dummy image batch (1 image, 3 channels, 224x224)\n",
        "images = [torch.rand(3, 224, 224)]\n",
        "\n",
        "# 2. Create dummy targets (needed for training)\n",
        "#   Each target is a dict with: boxes, labels, masks\n",
        "targets = [{\n",
        "    \"boxes\": torch.tensor([[50, 50, 150, 150]], dtype=torch.float32),  # [xmin, ymin, xmax, ymax]\n",
        "    \"labels\": torch.tensor([1]),                                       # class index\n",
        "    \"masks\": torch.randint(0, 2, (1, 224, 224), dtype=torch.uint8)     # binary mask for object\n",
        "}]\n"
      ],
      "metadata": {
        "id": "vxAc4UncO3Iy"
      },
      "execution_count": null,
      "outputs": []
    },
    {
      "cell_type": "code",
      "source": [
        "# 3. Load pre-trained Mask R-CNN model\n",
        "model = maskrcnn_resnet50_fpn(weights=\"DEFAULT\")\n",
        "print(model)\n",
        "# OR"
      ],
      "metadata": {
        "id": "ujR7Lru1O3WK"
      },
      "execution_count": null,
      "outputs": []
    },
    {
      "cell_type": "code",
      "source": [
        "import torch\n",
        "import torch.nn as nn\n",
        "import torchvision\n",
        "from torchvision.models.detection import MaskRCNN\n",
        "\n",
        "# Custom backbone: a simple CNN\n",
        "class MyBackbone(nn.Module):\n",
        "    def __init__(self):\n",
        "        super(MyBackbone, self).__init__()\n",
        "        self.body = nn.Sequential(\n",
        "            nn.Conv2d(3, 32, kernel_size=3, stride=2, padding=1),  # (N,3,H,W) -> (N,32,H/2,W/2)\n",
        "            nn.ReLU(),\n",
        "            nn.Conv2d(32, 64, kernel_size=3, stride=2, padding=1), # -> (N,64,H/4,W/4)\n",
        "            nn.ReLU(),\n",
        "            nn.Conv2d(64, 128, kernel_size=3, stride=2, padding=1), # -> (N,128,H/8,W/8)\n",
        "            nn.ReLU()\n",
        "        )\n",
        "        # Required by Mask R-CNN\n",
        "        self.out_channels = 128\n",
        "\n",
        "    def forward(self, x):\n",
        "        # Must return a dict of feature maps\n",
        "        return {\"0\": self.body(x)}\n",
        "\n",
        "# Create Mask R-CNN with your backbone\n",
        "backbone = MyBackbone()\n",
        "model = MaskRCNN(backbone, num_classes=2)  # 1 class + background\n",
        "print(model)\n"
      ],
      "metadata": {
        "id": "Zkg_iZiIP_VW"
      },
      "execution_count": null,
      "outputs": []
    },
    {
      "cell_type": "code",
      "source": [
        "params = [p for p in model.parameters() if p.requires_grad]\n",
        "optimizer = optim.SGD(params, lr=0.005, momentum=0.9, weight_decay=0.0005)\n",
        "# or\n",
        "# optimizer = optim.AdamW(params, lr=0.0001, weight_decay=0.0005)"
      ],
      "metadata": {
        "id": "0H89-wYTQHX-"
      },
      "execution_count": null,
      "outputs": []
    },
    {
      "cell_type": "markdown",
      "source": [
        "#### Example Custom Dataset"
      ],
      "metadata": {
        "id": "bCiGMxmzQsG9"
      }
    },
    {
      "cell_type": "code",
      "source": [
        "import torch\n",
        "import torchvision\n",
        "from torch.utils.data import Dataset, DataLoader\n",
        "from PIL import Image\n",
        "import numpy as np\n",
        "import os\n",
        "\n",
        "class MyDataset(Dataset):\n",
        "    def __init__(self, image_dir, transform=None):\n",
        "        self.image_dir = image_dir\n",
        "        self.transform = transform\n",
        "        self.images = list(sorted(os.listdir(image_dir)))  # e.g., img1.png, img2.png, ...\n",
        "\n",
        "    def __len__(self):\n",
        "        return len(self.images)\n",
        "\n",
        "    def __getitem__(self, idx):\n",
        "        # 1. Load image\n",
        "        img_path = os.path.join(self.image_dir, self.images[idx])\n",
        "        img = Image.open(img_path).convert(\"RGB\")\n",
        "        img = torchvision.transforms.functional.to_tensor(img)  # [C,H,W] float32\n",
        "\n",
        "        # 2. Dummy annotations (for demo)\n",
        "        # Let's pretend each image has 1 box & 1 mask\n",
        "        boxes = torch.tensor([[50, 50, 150, 150]], dtype=torch.float32)  # [xmin, ymin, xmax, ymax]\n",
        "        labels = torch.tensor([1], dtype=torch.int64)                    # class index = 1\n",
        "        mask = torch.zeros((img.shape[1], img.shape[2]), dtype=torch.uint8)\n",
        "        mask[50:150, 50:150] = 1                                         # simple square mask\n",
        "        masks = mask.unsqueeze(0)                                        # [N,H,W]\n",
        "\n",
        "        target = {\n",
        "            \"boxes\": boxes,\n",
        "            \"labels\": labels,\n",
        "            \"masks\": masks,\n",
        "            \"image_id\": torch.tensor([idx]),\n",
        "            \"area\": torch.tensor([10000.0]),\n",
        "            \"iscrowd\": torch.zeros((1,), dtype=torch.int64),\n",
        "        }\n",
        "\n",
        "        if self.transform:\n",
        "            img = self.transform(img)\n",
        "\n",
        "        return img, target\n",
        "\n",
        "# Collate Function\n",
        "def collate_fn(batch):\n",
        "    return tuple(zip(*batch))"
      ],
      "metadata": {
        "id": "trP6A0VWQrR8"
      },
      "execution_count": null,
      "outputs": []
    },
    {
      "cell_type": "code",
      "source": [
        "# Usage\n",
        "dataset = MyDataset(\"path/to/images\")\n",
        "dataloader = DataLoader(dataset, batch_size=2, shuffle=True, collate_fn=collate_fn)\n",
        "\n",
        "# Test it\n",
        "for images, targets in dataloader:\n",
        "    print(len(images), len(targets))\n",
        "    print(images[0].shape)   # torch.Size([3,H,W])\n",
        "    print(targets[0])        # dict with boxes, labels, masks, etc.\n",
        "    break"
      ],
      "metadata": {
        "id": "ezK8jFzJRE5Q"
      },
      "execution_count": null,
      "outputs": []
    },
    {
      "cell_type": "code",
      "source": [
        "num_epochs = 2\n",
        "\n",
        "for epoch in range(num_epochs):\n",
        "    model.train()\n",
        "\n",
        "    for images, targets in dataloader:   # from your custom DataLoader\n",
        "        # move data to GPU if available\n",
        "        images = list(img.to(device) for img in images)\n",
        "        targets = [{k: v.to(device) for k, v in t.items()} for t in targets]\n",
        "\n",
        "        # forward pass → returns dict of losses\n",
        "        loss_dict = model(images, targets)\n",
        "        losses = sum(loss for loss in loss_dict.values())\n",
        "\n",
        "        # backward + optimize\n",
        "        optimizer.zero_grad()\n",
        "        losses.backward()\n",
        "        optimizer.step()\n",
        "\n",
        "    print(f\"Epoch [{epoch+1}/{num_epochs}], Loss: {losses.item():.4f}\")"
      ],
      "metadata": {
        "id": "u01obRUdQclZ"
      },
      "execution_count": null,
      "outputs": []
    },
    {
      "cell_type": "code",
      "source": [
        "model.eval()   # switch to evaluation mode\n",
        "\n",
        "with torch.no_grad():\n",
        "    for images, targets in dataloader:   # same DataLoader, but targets optional in eval\n",
        "        images = list(img.to(device) for img in images)\n",
        "\n",
        "        # forward pass (NO targets here)\n",
        "        outputs = model(images)\n",
        "\n",
        "        # Each element in outputs is a dict with keys:\n",
        "        # 'boxes', 'labels', 'scores', 'masks'\n",
        "        for i, output in enumerate(outputs):\n",
        "            print(f\"Image {i}:\")\n",
        "            print(\"Boxes:\", output[\"boxes\"])     # [N,4] tensor\n",
        "            print(\"Labels:\", output[\"labels\"])   # [N]\n",
        "            print(\"Scores:\", output[\"scores\"])   # confidence scores\n",
        "            print(\"Masks:\", output[\"masks\"].shape)  # [N,1,H,W]"
      ],
      "metadata": {
        "id": "t3R5aly4Qcoz"
      },
      "execution_count": null,
      "outputs": []
    },
    {
      "cell_type": "markdown",
      "source": [
        "#### Visualizing Predictions"
      ],
      "metadata": {
        "id": "ILcG014_R4f3"
      }
    },
    {
      "cell_type": "code",
      "source": [
        "import matplotlib.pyplot as plt\n",
        "import torchvision.transforms.functional as F\n",
        "\n",
        "img = images[0].cpu()\n",
        "plt.imshow(F.to_pil_image(img))\n",
        "\n",
        "# plot first predicted box\n",
        "box = boxes[0].cpu().numpy()\n",
        "plt.gca().add_patch(\n",
        "    plt.Rectangle((box[0], box[1]), box[2]-box[0], box[3]-box[1],\n",
        "                  fill=False, color=\"red\", linewidth=2)\n",
        ")\n",
        "plt.show()\n"
      ],
      "metadata": {
        "id": "-B6z7rCnQcsJ"
      },
      "execution_count": null,
      "outputs": []
    },
    {
      "cell_type": "markdown",
      "source": [],
      "metadata": {
        "id": "0rBQP4W2R8d4"
      }
    },
    {
      "cell_type": "markdown",
      "source": [],
      "metadata": {
        "id": "siqoyF5-R8hg"
      }
    },
    {
      "cell_type": "markdown",
      "source": [
        "🔥\n",
        "When you prepare plots/figures for **publications in ML/DL research**, the goal is **clarity, reproducibility, and professionalism**. Reviewers and readers should instantly understand your results.\n",
        "\n",
        "Here’s a checklist of **important parameters & best practices** for different types of models/experiments (classification, regression, CNNs, Mask R-CNN, etc).\n",
        "\n",
        "---\n",
        "\n",
        "# 📊 **General Best Practices (for all plots)**\n",
        "\n",
        "✅ Always include:\n",
        "\n",
        "* **Title** (optional in papers, but helps in exploratory plots).\n",
        "* **X-axis label** (with units if applicable).\n",
        "* **Y-axis label** (with units if applicable).\n",
        "* **Legend** (if multiple curves).\n",
        "* **Grid / axis ticks** (light, not distracting).\n",
        "* **Error bars or shaded confidence intervals** (if applicable).\n",
        "* **Consistent color scheme** (colorblind-friendly palettes).\n",
        "* **Font size** (readable in print, e.g. `fontsize=12+`).\n",
        "* **Line styles & markers** (different curves should be distinguishable even in grayscale).\n",
        "* **Figure size** (`figsize=(8,6)` or bigger for clarity).\n",
        "\n",
        "---\n",
        "\n",
        "# 🟦 **Classification (Accuracy / Loss Curves)**\n",
        "\n",
        "* **Epochs (x-axis)** vs **Accuracy/Loss (y-axis)**.\n",
        "* Show **train vs validation curves**.\n",
        "* Use **different line styles** (e.g., dashed for validation).\n",
        "* Add **early stopping marker** (if used).\n",
        "* Example parameters:\n",
        "\n",
        "  ```python\n",
        "  plt.plot(epochs, train_acc, label=\"Train Accuracy\", linewidth=2)\n",
        "  plt.plot(epochs, val_acc, label=\"Validation Accuracy\", linestyle=\"--\")\n",
        "  plt.xlabel(\"Epochs\")\n",
        "  plt.ylabel(\"Accuracy (%)\")\n",
        "  plt.legend()\n",
        "  ```\n",
        "\n",
        "---\n",
        "\n",
        "# 🟥 **Regression Models**\n",
        "\n",
        "* **Predicted vs Actual values** scatter plot.\n",
        "* Add **y=x reference line** (perfect prediction).\n",
        "* Report **R², MAE, RMSE** inside the plot (using `plt.text`).\n",
        "* Example:\n",
        "\n",
        "  ```python\n",
        "  plt.scatter(y_true, y_pred, alpha=0.5)\n",
        "  plt.plot([min(y_true), max(y_true)], [min(y_true), max(y_true)], 'r--')\n",
        "  plt.xlabel(\"Actual\")\n",
        "  plt.ylabel(\"Predicted\")\n",
        "  plt.text(x0, y0, f\"R² = {r2:.3f}\")\n",
        "  ```\n",
        "\n",
        "---\n",
        "\n",
        "# 🟩 **CNN / DL Models**\n",
        "\n",
        "* **Feature maps / filters visualization** → use `imshow` for first conv layer kernels.\n",
        "* **Loss/accuracy curves** like above.\n",
        "* **Confusion matrix heatmap** for classification results (`seaborn.heatmap`).\n",
        "* Example (Confusion Matrix):\n",
        "\n",
        "  ```python\n",
        "  import seaborn as sns\n",
        "  sns.heatmap(cm, annot=True, fmt=\"d\", cmap=\"Blues\")\n",
        "  plt.xlabel(\"Predicted\")\n",
        "  plt.ylabel(\"Actual\")\n",
        "  ```\n",
        "\n",
        "---\n",
        "\n",
        "# 🟨 **Mask R-CNN / Object Detection**\n",
        "\n",
        "* **Bounding boxes + masks overlayed** on test images.\n",
        "* Include **confidence scores** in labels.\n",
        "* Side-by-side **ground truth vs prediction**.\n",
        "* Plot **Precision-Recall (PR) curves** for detection.\n",
        "* Important parameters:\n",
        "\n",
        "  * IoU threshold (e.g. 0.5, 0.75).\n",
        "  * mAP (mean Average Precision).\n",
        "  * Inference speed (FPS).\n",
        "\n",
        "---\n",
        "\n",
        "# 🟧 **Metrics & Performance Reporting**\n",
        "\n",
        "Always annotate plots or captions with:\n",
        "\n",
        "* **Dataset name & split** (train/val/test).\n",
        "* **Model variant** (e.g., ResNet-50, custom CNN, Mask R-CNN with ResNet-18 backbone).\n",
        "* **Optimizer** (SGD/Adam, learning rate).\n",
        "* **Batch size, Epochs, LR schedule**.\n",
        "* **Evaluation metric** (Accuracy, F1-score, mAP, R², etc).\n",
        "\n",
        "---\n",
        "\n",
        "# ✅ **Publication-Ready Matplotlib Parameters**\n",
        "\n",
        "When making final plots:\n",
        "\n",
        "```python\n",
        "plt.figure(figsize=(8,6), dpi=300)   # high resolution\n",
        "plt.tick_params(axis='both', which='major', labelsize=12)\n",
        "plt.xlabel(\"Epochs\", fontsize=14)\n",
        "plt.ylabel(\"Accuracy (%)\", fontsize=14)\n",
        "plt.legend(fontsize=12)\n",
        "plt.tight_layout()                   # avoid cut-off labels\n",
        "```\n",
        "\n",
        "---\n",
        "\n",
        "# 📝 Final Checklist (put in captions or plots):\n",
        "\n",
        "* 📌 Dataset name + split\n",
        "* 📌 Model (architecture, backbone)\n",
        "* 📌 Optimizer + hyperparams (LR, batch size, epochs)\n",
        "* 📌 Metric (Accuracy, F1, IoU, mAP, RMSE, etc)\n",
        "* 📌 Visual clarity (labels, fonts, colors, grid)\n",
        "* 📌 High resolution (≥300 DPI for journals)\n",
        "\n",
        "---\n"
      ],
      "metadata": {
        "id": "N_yFwDvgeVUu"
      }
    },
    {
      "cell_type": "code",
      "source": [
        "\n",
        "import numpy as np\n",
        "import matplotlib.pyplot as plt\n",
        "from typing import Optional, Sequence, Dict, List\n",
        "\n",
        "# ---------- Global style helpers ----------\n",
        "\n",
        "def set_pub_style(dpi: int = 300, base_fontsize: int = 12):\n",
        "    \"\"\"Set high-DPI and readable font sizes for publication-quality figures.\"\"\"\n",
        "    plt.rcParams.update({\n",
        "        \"figure.dpi\": dpi,\n",
        "        \"savefig.dpi\": dpi,\n",
        "        \"font.size\": base_fontsize,\n",
        "        \"axes.titlesize\": base_fontsize + 2,\n",
        "        \"axes.labelsize\": base_fontsize + 1,\n",
        "        \"legend.fontsize\": base_fontsize,\n",
        "        \"xtick.labelsize\": base_fontsize,\n",
        "        \"ytick.labelsize\": base_fontsize,\n",
        "    })\n",
        "\n",
        "# ---------- Classification training curves ----------\n",
        "\n",
        "def plot_accuracy_curves(epochs: Sequence[float],\n",
        "                         train_acc: Sequence[float],\n",
        "                         val_acc: Optional[Sequence[float]] = None,\n",
        "                         title: Optional[str] = None,\n",
        "                         ylabel: str = \"Accuracy (%)\"):\n",
        "    \"\"\"Plot accuracy vs epochs for train (and optional validation).\"\"\"\n",
        "    plt.figure()\n",
        "    plt.plot(epochs, train_acc, label=\"Train\")\n",
        "    if val_acc is not None:\n",
        "        plt.plot(epochs, val_acc, linestyle=\"--\", label=\"Validation\")\n",
        "    plt.xlabel(\"Epochs\")\n",
        "    plt.ylabel(ylabel)\n",
        "    if title:\n",
        "        plt.title(title)\n",
        "    if val_acc is not None:\n",
        "        plt.legend()\n",
        "    plt.grid(True, linestyle=\":\", alpha=0.6)\n",
        "    plt.tight_layout()\n",
        "\n",
        "def plot_loss_curves(epochs: Sequence[float],\n",
        "                     train_loss: Sequence[float],\n",
        "                     val_loss: Optional[Sequence[float]] = None,\n",
        "                     title: Optional[str] = None,\n",
        "                     ylabel: str = \"Loss\"):\n",
        "    \"\"\"Plot loss vs epochs for train (and optional validation).\"\"\"\n",
        "    plt.figure()\n",
        "    plt.plot(epochs, train_loss, label=\"Train\")\n",
        "    if val_loss is not None:\n",
        "        plt.plot(epochs, val_loss, linestyle=\"--\", label=\"Validation\")\n",
        "    plt.xlabel(\"Epochs\")\n",
        "    plt.ylabel(ylabel)\n",
        "    if title:\n",
        "        plt.title(title)\n",
        "    if val_loss is not None:\n",
        "        plt.legend()\n",
        "    plt.grid(True, linestyle=\":\", alpha=0.6)\n",
        "    plt.tight_layout()\n",
        "\n",
        "# ---------- Regression scatter with metrics ----------\n",
        "\n",
        "def _regression_metrics(y_true: np.ndarray, y_pred: np.ndarray):\n",
        "    y_true = np.asarray(y_true).ravel()\n",
        "    y_pred = np.asarray(y_pred).ravel()\n",
        "    mae = np.mean(np.abs(y_true - y_pred))\n",
        "    rmse = float(np.sqrt(np.mean((y_true - y_pred)**2)))\n",
        "    # R^2 (coefficient of determination)\n",
        "    ss_res = float(np.sum((y_true - y_pred) ** 2))\n",
        "    ss_tot = float(np.sum((y_true - np.mean(y_true)) ** 2))\n",
        "    r2 = 1.0 - ss_res / ss_tot if ss_tot != 0 else float(\"nan\")\n",
        "    return r2, mae, rmse\n",
        "\n",
        "def plot_regression_scatter(y_true: Sequence[float],\n",
        "                            y_pred: Sequence[float],\n",
        "                            title: Optional[str] = None,\n",
        "                            show_metrics: bool = True):\n",
        "    \"\"\"Scatter plot of predicted vs actual with y=x reference and metrics.\"\"\"\n",
        "    y_true = np.asarray(y_true).ravel()\n",
        "    y_pred = np.asarray(y_pred).ravel()\n",
        "    lo = float(np.min([y_true.min(), y_pred.min()]))\n",
        "    hi = float(np.max([y_true.max(), y_pred.max()]))\n",
        "\n",
        "    plt.figure()\n",
        "    plt.scatter(y_true, y_pred, alpha=0.6)\n",
        "    plt.plot([lo, hi], [lo, hi], linestyle=\"--\", linewidth=1)\n",
        "    plt.xlabel(\"Actual\")\n",
        "    plt.ylabel(\"Predicted\")\n",
        "    if title:\n",
        "        plt.title(title)\n",
        "    plt.grid(True, linestyle=\":\", alpha=0.6)\n",
        "\n",
        "    if show_metrics:\n",
        "        r2, mae, rmse = _regression_metrics(y_true, y_pred)\n",
        "        txt = f\"$R^2$={r2:.3f}\\nMAE={mae:.3f}\\nRMSE={rmse:.3f}\"\n",
        "        # annotate in top-left corner with a semi-transparent box\n",
        "        ax = plt.gca()\n",
        "        ax.text(0.02, 0.98, txt, transform=ax.transAxes, va=\"top\",\n",
        "                bbox=dict(boxstyle=\"round\", facecolor=\"white\", alpha=0.7))\n",
        "\n",
        "    plt.tight_layout()\n",
        "\n",
        "# ---------- Confusion matrix ----------\n",
        "\n",
        "def plot_confusion_matrix(cm: np.ndarray,\n",
        "                          class_names: Optional[List[str]] = None,\n",
        "                          normalize: bool = False,\n",
        "                          title: Optional[str] = None):\n",
        "    \"\"\"Display a confusion matrix. cm shape: (n_classes, n_classes).\"\"\"\n",
        "    cm = np.asarray(cm, dtype=np.float64)\n",
        "    if normalize:\n",
        "        row_sums = cm.sum(axis=1, keepdims=True)\n",
        "        row_sums[row_sums == 0] = 1.0\n",
        "        cm = cm / row_sums\n",
        "\n",
        "    plt.figure()\n",
        "    im = plt.imshow(cm, aspect=\"auto\")\n",
        "    plt.colorbar(im, fraction=0.046, pad=0.04)\n",
        "\n",
        "    n_classes = cm.shape[0]\n",
        "    if class_names is None:\n",
        "        class_names = [str(i) for i in range(n_classes)]\n",
        "\n",
        "    plt.xticks(range(n_classes), class_names, rotation=45, ha=\"right\")\n",
        "    plt.yticks(range(n_classes), class_names)\n",
        "    plt.xlabel(\"Predicted\")\n",
        "    plt.ylabel(\"Actual\")\n",
        "    if title:\n",
        "        plt.title(title)\n",
        "\n",
        "    # annotate cells\n",
        "    fmt = \".2f\" if normalize else \"d\"\n",
        "    for i in range(n_classes):\n",
        "        for j in range(n_classes):\n",
        "            val = cm[i, j]\n",
        "            s = f\"{val:{fmt}}\"\n",
        "            plt.text(j, i, s, ha=\"center\", va=\"center\")\n",
        "\n",
        "    plt.tight_layout()\n",
        "\n",
        "# ---------- Precision-Recall curve(s) ----------\n",
        "\n",
        "def plot_pr_curve(precision: Sequence[float],\n",
        "                  recall: Sequence[float],\n",
        "                  title: Optional[str] = None):\n",
        "    \"\"\"Plot a single Precision-Recall curve.\"\"\"\n",
        "    precision = np.asarray(precision).ravel()\n",
        "    recall = np.asarray(recall).ravel()\n",
        "    plt.figure()\n",
        "    plt.plot(recall, precision, linewidth=2)\n",
        "    plt.xlabel(\"Recall\")\n",
        "    plt.ylabel(\"Precision\")\n",
        "    if title:\n",
        "        plt.title(title)\n",
        "    plt.grid(True, linestyle=\":\", alpha=0.6)\n",
        "    plt.tight_layout()\n",
        "\n",
        "def plot_pr_curves(per_class_pr: Dict[str, Dict[str, Sequence[float]]],\n",
        "                   title: Optional[str] = None):\n",
        "    \"\"\"Plot multiple PR curves. per_class_pr: {class_name: {'precision': [...], 'recall': [...]}}\"\"\"\n",
        "    plt.figure()\n",
        "    for cls, pr in per_class_pr.items():\n",
        "        p = np.asarray(pr[\"precision\"]).ravel()\n",
        "        r = np.asarray(pr[\"recall\"]).ravel()\n",
        "        plt.plot(r, p, label=cls)\n",
        "    plt.xlabel(\"Recall\")\n",
        "    plt.ylabel(\"Precision\")\n",
        "    if title:\n",
        "        plt.title(title)\n",
        "    plt.legend()\n",
        "    plt.grid(True, linestyle=\":\", alpha=0.6)\n",
        "    plt.tight_layout()\n",
        "\n",
        "# ---------- Helper to annotate training setup on any Axes ----------\n",
        "\n",
        "def annotate_training_setup(ax,\n",
        "                            dataset: Optional[str] = None,\n",
        "                            model: Optional[str] = None,\n",
        "                            optimizer: Optional[str] = None,\n",
        "                            lr: Optional[float] = None,\n",
        "                            batch_size: Optional[int] = None,\n",
        "                            epochs: Optional[int] = None,\n",
        "                            metric: Optional[str] = None):\n",
        "    \"\"\"Place a small info box with training setup details on an axes.\"\"\"\n",
        "    lines = []\n",
        "    if dataset: lines.append(f\"Dataset: {dataset}\")\n",
        "    if model: lines.append(f\"Model: {model}\")\n",
        "    if optimizer: lines.append(f\"Optimizer: {optimizer}\")\n",
        "    if lr is not None: lines.append(f\"LR: {lr}\")\n",
        "    if batch_size is not None: lines.append(f\"Batch: {batch_size}\")\n",
        "    if epochs is not None: lines.append(f\"Epochs: {epochs}\")\n",
        "    if metric: lines.append(f\"Metric: {metric}\")\n",
        "    if not lines: return\n",
        "    txt = \"\\n\".join(lines)\n",
        "    ax.text(0.98, 0.02, txt, transform=ax.transAxes, ha=\"right\", va=\"bottom\",\n",
        "            bbox=dict(boxstyle=\"round\", facecolor=\"white\", alpha=0.7))\n"
      ],
      "metadata": {
        "id": "j-GAj3xNeWDv"
      },
      "execution_count": null,
      "outputs": []
    },
    {
      "cell_type": "code",
      "source": [
        "import numpy as np\n",
        "import matplotlib.pyplot as plt\n",
        "\n",
        "\"\"\"\n",
        "from pubplots import (\n",
        "    set_pub_style,\n",
        "    plot_accuracy_curves,\n",
        "    plot_loss_curves,\n",
        "    plot_regression_scatter,\n",
        "    plot_confusion_matrix,\n",
        "    plot_pr_curve,\n",
        "    plot_pr_curves,\n",
        "    annotate_training_setup,\n",
        ")\n",
        "\"\"\"\n",
        "\n",
        "# 0) Style for publications\n",
        "set_pub_style(dpi=300, base_fontsize=12)\n",
        "\n",
        "# 1) Accuracy / Loss\n",
        "epochs = np.arange(1, 11)\n",
        "train_acc = np.linspace(60, 95, len(epochs))\n",
        "val_acc   = np.linspace(55, 90, len(epochs))\n",
        "plot_accuracy_curves(epochs, train_acc, val_acc, title=\"Accuracy vs Epochs\")\n",
        "\n",
        "train_loss = np.linspace(1.4, 0.1, len(epochs))\n",
        "val_loss   = np.linspace(1.6, 0.2, len(epochs))\n",
        "plot_loss_curves(epochs, train_loss, val_loss, title=\"Loss vs Epochs\")\n",
        "\n",
        "# 2) Regression scatter\n",
        "y_true = np.random.randn(200)\n",
        "y_pred = y_true + 0.2*np.random.randn(200)\n",
        "plot_regression_scatter(y_true, y_pred, title=\"Predicted vs Actual\")\n",
        "\n",
        "# 3) Confusion matrix (3 classes)\n",
        "cm = np.array([[30, 2, 1],\n",
        "               [ 4,25, 3],\n",
        "               [ 0, 5,29]])\n",
        "plot_confusion_matrix(cm, class_names=[\"A\",\"B\",\"C\"], normalize=False, title=\"Confusion Matrix\")\n",
        "\n",
        "# 4) Precision–Recall curves\n",
        "precision = np.linspace(1.0, 0.5, 50)\n",
        "recall    = np.linspace(0.0, 1.0, 50)\n",
        "plot_pr_curve(precision, recall, title=\"PR Curve\")\n",
        "\n",
        "per_class = {\n",
        "    \"cat\":  {\"precision\": precision, \"recall\": recall},\n",
        "    \"dog\":  {\"precision\": precision**0.9, \"recall\": recall**0.9},\n",
        "    \"bird\": {\"precision\": precision**1.1, \"recall\": recall**1.1},\n",
        "}\n",
        "plot_pr_curves(per_class, title=\"Per-class PR Curves\")\n",
        "\n",
        "# 5) Annotate training setup on any existing axes\n",
        "ax = plt.gca()\n",
        "annotate_training_setup(\n",
        "    ax,\n",
        "    dataset=\"CIFAR-10\",\n",
        "    model=\"ResNet-18\",\n",
        "    optimizer=\"SGD\",\n",
        "    lr=0.1,\n",
        "    batch_size=128,\n",
        "    epochs=200,\n",
        "    metric=\"Top-1 Accuracy\",\n",
        ")\n",
        "plt.show()\n"
      ],
      "metadata": {
        "id": "WMHTf32zeWO2"
      },
      "execution_count": null,
      "outputs": []
    },
    {
      "cell_type": "markdown",
      "source": [
        "Extended the module with:\n",
        "\n",
        "VIF (Variance Inflation Factor) computation + a simple bar plot\n",
        "\n",
        "ROC curve plotting (with optional AUC in the title)\n",
        "\n",
        "Classification report figure (precision/recall/F1/support as a table)"
      ],
      "metadata": {
        "id": "5Fom6qyNewJs"
      }
    },
    {
      "cell_type": "code",
      "source": [],
      "metadata": {
        "id": "-4lkpIBNeWUO"
      },
      "execution_count": null,
      "outputs": []
    },
    {
      "cell_type": "code",
      "source": [
        "\n",
        "import numpy as np\n",
        "import matplotlib.pyplot as plt\n",
        "from typing import Optional, Sequence, Dict, List\n",
        "\n",
        "# ---------- Global style helpers ----------\n",
        "\n",
        "def set_pub_style(dpi: int = 300, base_fontsize: int = 12):\n",
        "    \"\"\"Set high-DPI and readable font sizes for publication-quality figures.\"\"\"\n",
        "    plt.rcParams.update({\n",
        "        \"figure.dpi\": dpi,\n",
        "        \"savefig.dpi\": dpi,\n",
        "        \"font.size\": base_fontsize,\n",
        "        \"axes.titlesize\": base_fontsize + 2,\n",
        "        \"axes.labelsize\": base_fontsize + 1,\n",
        "        \"legend.fontsize\": base_fontsize,\n",
        "        \"xtick.labelsize\": base_fontsize,\n",
        "        \"ytick.labelsize\": base_fontsize,\n",
        "    })\n",
        "\n",
        "# ---------- Classification training curves ----------\n",
        "\n",
        "def plot_accuracy_curves(epochs: Sequence[float],\n",
        "                         train_acc: Sequence[float],\n",
        "                         val_acc: Optional[Sequence[float]] = None,\n",
        "                         title: Optional[str] = None,\n",
        "                         ylabel: str = \"Accuracy (%)\"):\n",
        "    \"\"\"Plot accuracy vs epochs for train (and optional validation).\"\"\"\n",
        "    plt.figure()\n",
        "    plt.plot(epochs, train_acc, label=\"Train\")\n",
        "    if val_acc is not None:\n",
        "        plt.plot(epochs, val_acc, linestyle=\"--\", label=\"Validation\")\n",
        "    plt.xlabel(\"Epochs\")\n",
        "    plt.ylabel(ylabel)\n",
        "    if title:\n",
        "        plt.title(title)\n",
        "    if val_acc is not None:\n",
        "        plt.legend()\n",
        "    plt.grid(True, linestyle=\":\", alpha=0.6)\n",
        "    plt.tight_layout()\n",
        "\n",
        "def plot_loss_curves(epochs: Sequence[float],\n",
        "                     train_loss: Sequence[float],\n",
        "                     val_loss: Optional[Sequence[float]] = None,\n",
        "                     title: Optional[str] = None,\n",
        "                     ylabel: str = \"Loss\"):\n",
        "    \"\"\"Plot loss vs epochs for train (and optional validation).\"\"\"\n",
        "    plt.figure()\n",
        "    plt.plot(epochs, train_loss, label=\"Train\")\n",
        "    if val_loss is not None:\n",
        "        plt.plot(epochs, val_loss, linestyle=\"--\", label=\"Validation\")\n",
        "    plt.xlabel(\"Epochs\")\n",
        "    plt.ylabel(ylabel)\n",
        "    if title:\n",
        "        plt.title(title)\n",
        "    if val_loss is not None:\n",
        "        plt.legend()\n",
        "    plt.grid(True, linestyle=\":\", alpha=0.6)\n",
        "    plt.tight_layout()\n",
        "\n",
        "# ---------- Regression scatter with metrics ----------\n",
        "\n",
        "def _regression_metrics(y_true: np.ndarray, y_pred: np.ndarray):\n",
        "    y_true = np.asarray(y_true).ravel()\n",
        "    y_pred = np.asarray(y_pred).ravel()\n",
        "    mae = np.mean(np.abs(y_true - y_pred))\n",
        "    rmse = float(np.sqrt(np.mean((y_true - y_pred)**2)))\n",
        "    # R^2 (coefficient of determination)\n",
        "    ss_res = float(np.sum((y_true - y_pred) ** 2))\n",
        "    ss_tot = float(np.sum((y_true - np.mean(y_true)) ** 2))\n",
        "    r2 = 1.0 - ss_res / ss_tot if ss_tot != 0 else float(\"nan\")\n",
        "    return r2, mae, rmse\n",
        "\n",
        "def plot_regression_scatter(y_true: Sequence[float],\n",
        "                            y_pred: Sequence[float],\n",
        "                            title: Optional[str] = None,\n",
        "                            show_metrics: bool = True):\n",
        "    \"\"\"Scatter plot of predicted vs actual with y=x reference and metrics.\"\"\"\n",
        "    y_true = np.asarray(y_true).ravel()\n",
        "    y_pred = np.asarray(y_pred).ravel()\n",
        "    lo = float(np.min([y_true.min(), y_pred.min()]))\n",
        "    hi = float(np.max([y_true.max(), y_pred.max()]))\n",
        "\n",
        "    plt.figure()\n",
        "    plt.scatter(y_true, y_pred, alpha=0.6)\n",
        "    plt.plot([lo, hi], [lo, hi], linestyle=\"--\", linewidth=1)\n",
        "    plt.xlabel(\"Actual\")\n",
        "    plt.ylabel(\"Predicted\")\n",
        "    if title:\n",
        "        plt.title(title)\n",
        "    plt.grid(True, linestyle=\":\", alpha=0.6)\n",
        "\n",
        "    if show_metrics:\n",
        "        r2, mae, rmse = _regression_metrics(y_true, y_pred)\n",
        "        txt = f\"$R^2$={r2:.3f}\\nMAE={mae:.3f}\\nRMSE={rmse:.3f}\"\n",
        "        # annotate in top-left corner with a semi-transparent box\n",
        "        ax = plt.gca()\n",
        "        ax.text(0.02, 0.98, txt, transform=ax.transAxes, va=\"top\",\n",
        "                bbox=dict(boxstyle=\"round\", facecolor=\"white\", alpha=0.7))\n",
        "\n",
        "    plt.tight_layout()\n",
        "\n",
        "# ---------- Confusion matrix ----------\n",
        "\n",
        "def plot_confusion_matrix(cm: np.ndarray,\n",
        "                          class_names: Optional[List[str]] = None,\n",
        "                          normalize: bool = False,\n",
        "                          title: Optional[str] = None):\n",
        "    \"\"\"Display a confusion matrix. cm shape: (n_classes, n_classes).\"\"\"\n",
        "    cm = np.asarray(cm, dtype=np.float64)\n",
        "    if normalize:\n",
        "        row_sums = cm.sum(axis=1, keepdims=True)\n",
        "        row_sums[row_sums == 0] = 1.0\n",
        "        cm = cm / row_sums\n",
        "\n",
        "    plt.figure()\n",
        "    im = plt.imshow(cm, aspect=\"auto\")\n",
        "    plt.colorbar(im, fraction=0.046, pad=0.04)\n",
        "\n",
        "    n_classes = cm.shape[0]\n",
        "    if class_names is None:\n",
        "        class_names = [str(i) for i in range(n_classes)]\n",
        "\n",
        "    plt.xticks(range(n_classes), class_names, rotation=45, ha=\"right\")\n",
        "    plt.yticks(range(n_classes), class_names)\n",
        "    plt.xlabel(\"Predicted\")\n",
        "    plt.ylabel(\"Actual\")\n",
        "    if title:\n",
        "        plt.title(title)\n",
        "\n",
        "    # annotate cells\n",
        "    fmt = \".2f\" if normalize else \"d\"\n",
        "    for i in range(n_classes):\n",
        "        for j in range(n_classes):\n",
        "            val = cm[i, j]\n",
        "            s = f\"{val:{fmt}}\"\n",
        "            plt.text(j, i, s, ha=\"center\", va=\"center\")\n",
        "\n",
        "    plt.tight_layout()\n",
        "\n",
        "# ---------- Precision-Recall curve(s) ----------\n",
        "\n",
        "def plot_pr_curve(precision: Sequence[float],\n",
        "                  recall: Sequence[float],\n",
        "                  title: Optional[str] = None):\n",
        "    \"\"\"Plot a single Precision-Recall curve.\"\"\"\n",
        "    precision = np.asarray(precision).ravel()\n",
        "    recall = np.asarray(recall).ravel()\n",
        "    plt.figure()\n",
        "    plt.plot(recall, precision, linewidth=2)\n",
        "    plt.xlabel(\"Recall\")\n",
        "    plt.ylabel(\"Precision\")\n",
        "    if title:\n",
        "        plt.title(title)\n",
        "    plt.grid(True, linestyle=\":\", alpha=0.6)\n",
        "    plt.tight_layout()\n",
        "\n",
        "def plot_pr_curves(per_class_pr: Dict[str, Dict[str, Sequence[float]]],\n",
        "                   title: Optional[str] = None):\n",
        "    \"\"\"Plot multiple PR curves. per_class_pr: {class_name: {'precision': [...], 'recall': [...]}}\"\"\"\n",
        "    plt.figure()\n",
        "    for cls, pr in per_class_pr.items():\n",
        "        p = np.asarray(pr[\"precision\"]).ravel()\n",
        "        r = np.asarray(pr[\"recall\"]).ravel()\n",
        "        plt.plot(r, p, label=cls)\n",
        "    plt.xlabel(\"Recall\")\n",
        "    plt.ylabel(\"Precision\")\n",
        "    if title:\n",
        "        plt.title(title)\n",
        "    plt.legend()\n",
        "    plt.grid(True, linestyle=\":\", alpha=0.6)\n",
        "    plt.tight_layout()\n",
        "\n",
        "# ---------- Helper to annotate training setup on any Axes ----------\n",
        "\n",
        "def annotate_training_setup(ax,\n",
        "                            dataset: Optional[str] = None,\n",
        "                            model: Optional[str] = None,\n",
        "                            optimizer: Optional[str] = None,\n",
        "                            lr: Optional[float] = None,\n",
        "                            batch_size: Optional[int] = None,\n",
        "                            epochs: Optional[int] = None,\n",
        "                            metric: Optional[str] = None):\n",
        "    \"\"\"Place a small info box with training setup details on an axes.\"\"\"\n",
        "    lines = []\n",
        "    if dataset: lines.append(f\"Dataset: {dataset}\")\n",
        "    if model: lines.append(f\"Model: {model}\")\n",
        "    if optimizer: lines.append(f\"Optimizer: {optimizer}\")\n",
        "    if lr is not None: lines.append(f\"LR: {lr}\")\n",
        "    if batch_size is not None: lines.append(f\"Batch: {batch_size}\")\n",
        "    if epochs is not None: lines.append(f\"Epochs: {epochs}\")\n",
        "    if metric: lines.append(f\"Metric: {metric}\")\n",
        "    if not lines: return\n",
        "    txt = \"\\n\".join(lines)\n",
        "    ax.text(0.98, 0.02, txt, transform=ax.transAxes, ha=\"right\", va=\"bottom\",\n",
        "            bbox=dict(boxstyle=\"round\", facecolor=\"white\", alpha=0.7))\n",
        "\n",
        "# ---------- VIF (Variance Inflation Factor) for regression ----------\n",
        "\n",
        "def compute_vif(X: np.ndarray, feature_names: Optional[Sequence[str]] = None, add_intercept: bool = True):\n",
        "    \"\"\"Compute VIF for each feature via OLS R^2 of regressing each column on the others.\n",
        "    X: shape (n_samples, n_features)\n",
        "    Returns: (names, vifs) where names is a list[str], vifs is a np.ndarray\n",
        "    \"\"\"\n",
        "    X = np.asarray(X, dtype=float)\n",
        "    n, p = X.shape\n",
        "    names = list(feature_names) if feature_names is not None else [f\"x{i}\" for i in range(p)]\n",
        "    if len(names) != p:\n",
        "        raise ValueError(\"feature_names length must match number of columns in X\")\n",
        "\n",
        "    def add_const(A):\n",
        "        if add_intercept:\n",
        "            ones = np.ones((A.shape[0], 1), dtype=A.dtype)\n",
        "            return np.hstack([ones, A])\n",
        "        return A\n",
        "\n",
        "    vifs = []\n",
        "    for j in range(p):\n",
        "        y = X[:, j]\n",
        "        X_others = np.delete(X, j, axis=1)\n",
        "        X_ols = add_const(X_others)\n",
        "        # OLS via least squares\n",
        "        beta, *_ = np.linalg.lstsq(X_ols, y, rcond=None)\n",
        "        yhat = X_ols @ beta\n",
        "        ss_res = float(np.sum((y - yhat)**2))\n",
        "        ss_tot = float(np.sum((y - y.mean())**2))\n",
        "        r2 = 1.0 - ss_res/ss_tot if ss_tot != 0 else 0.0\n",
        "        vif = 1.0 / max(1e-12, (1.0 - r2))\n",
        "        vifs.append(vif)\n",
        "    return names, np.array(vifs, dtype=float)\n",
        "\n",
        "def plot_vif_bar(names: Sequence[str], vifs: Sequence[float], title: Optional[str] = \"VIF by Feature\"):\n",
        "    \"\"\"Bar plot of VIF values.\"\"\"\n",
        "    names = list(names)\n",
        "    vifs = np.asarray(vifs, dtype=float)\n",
        "    order = np.argsort(vifs)[::-1]  # descending\n",
        "    names = [names[i] for i in order]\n",
        "    vifs = vifs[order]\n",
        "    plt.figure()\n",
        "    plt.bar(range(len(vifs)), vifs)\n",
        "    plt.xticks(range(len(vifs)), names, rotation=45, ha=\"right\")\n",
        "    plt.ylabel(\"VIF\")\n",
        "    if title:\n",
        "        plt.title(title)\n",
        "    plt.tight_layout()\n",
        "\n",
        "# ---------- ROC curve ----------\n",
        "\n",
        "def plot_roc_curve(fpr: Sequence[float], tpr: Sequence[float], auc: Optional[float] = None, title: Optional[str] = None):\n",
        "    \"\"\"Plot a ROC curve. Provide false positive rate (fpr) and true positive rate (tpr).\n",
        "    Optionally show AUC in the title or as text in the plot.\n",
        "    \"\"\"\n",
        "    fpr = np.asarray(fpr).ravel()\n",
        "    tpr = np.asarray(tpr).ravel()\n",
        "    plt.figure()\n",
        "    plt.plot(fpr, tpr, linewidth=2)\n",
        "    plt.plot([0,1], [0,1], linestyle=\"--\", linewidth=1)  # chance\n",
        "    plt.xlabel(\"False Positive Rate\")\n",
        "    plt.ylabel(\"True Positive Rate\")\n",
        "    final_title = title if title else \"ROC Curve\"\n",
        "    if auc is not None:\n",
        "        final_title += f\" (AUC={auc:.3f})\"\n",
        "    plt.title(final_title)\n",
        "    plt.grid(True, linestyle=\":\", alpha=0.6)\n",
        "    plt.tight_layout()\n",
        "\n",
        "# ---------- Classification report table (precision/recall/F1/support) ----------\n",
        "\n",
        "def plot_classification_report(classes: Sequence[str],\n",
        "                               precision: Sequence[float],\n",
        "                               recall: Sequence[float],\n",
        "                               f1: Sequence[float],\n",
        "                               support: Sequence[int],\n",
        "                               title: Optional[str] = \"Classification Report\"):\n",
        "    \"\"\"Render a simple classification report as a table figure.\"\"\"\n",
        "    classes = list(classes)\n",
        "    precision = np.asarray(precision, dtype=float)\n",
        "    recall = np.asarray(recall, dtype=float)\n",
        "    f1 = np.asarray(f1, dtype=float)\n",
        "    support = np.asarray(support, dtype=int)\n",
        "\n",
        "    plt.figure()\n",
        "    ax = plt.gca()\n",
        "    ax.axis(\"off\")\n",
        "    # Build table data\n",
        "    col_labels = [\"Class\", \"Precision\", \"Recall\", \"F1\", \"Support\"]\n",
        "    rows = []\n",
        "    for i, cls in enumerate(classes):\n",
        "        rows.append([cls, f\"{precision[i]:.3f}\", f\"{recall[i]:.3f}\", f\"{f1[i]:.3f}\", str(int(support[i]))])\n",
        "    table = ax.table(cellText=rows, colLabels=col_labels, loc=\"center\")\n",
        "    table.auto_set_font_size(False)\n",
        "    table.set_fontsize(10)\n",
        "    table.scale(1, 1.4)\n",
        "    if title:\n",
        "        plt.title(title)\n",
        "    plt.tight_layout()\n"
      ],
      "metadata": {
        "id": "bgUyCJRueWVR"
      },
      "execution_count": null,
      "outputs": []
    },
    {
      "cell_type": "code",
      "source": [
        "import numpy as np\n",
        "from pubplots import (\n",
        "    set_pub_style, plot_confusion_matrix,\n",
        "    compute_vif, plot_vif_bar,\n",
        "    plot_roc_curve, plot_classification_report\n",
        ")\n",
        "\n",
        "set_pub_style()\n",
        "\n",
        "# --- VIF ---\n",
        "X = np.random.randn(200, 5)\n",
        "names, vifs = compute_vif(X, feature_names=[f\"f{i}\" for i in range(5)])\n",
        "plot_vif_bar(names, vifs, title=\"VIF by Feature\")\n",
        "\n",
        "# --- Confusion Matrix ---\n",
        "cm = np.array([[30, 2, 1],\n",
        "               [ 4,25, 3],\n",
        "               [ 0, 5,29]])\n",
        "plot_confusion_matrix(cm, class_names=[\"A\",\"B\",\"C\"], normalize=False, title=\"Confusion Matrix\")\n",
        "\n",
        "# --- ROC Curve (example arrays) ---\n",
        "fpr = np.linspace(0, 1, 50)\n",
        "tpr = fpr**0.7\n",
        "auc = np.trapz(tpr, fpr)\n",
        "plot_roc_curve(fpr, tpr, auc=auc, title=\"ROC Curve\")\n",
        "\n",
        "# --- Classification Report ---\n",
        "classes = [\"cat\",\"dog\",\"bird\"]\n",
        "precision = [0.92, 0.87, 0.81]\n",
        "recall    = [0.90, 0.85, 0.79]\n",
        "f1        = [0.91, 0.86, 0.80]\n",
        "support   = [120, 95, 60]\n",
        "plot_classification_report(classes, precision, recall, f1, support, title=\"Classification Report\")\n"
      ],
      "metadata": {
        "id": "v9bNbxtFehAY"
      },
      "execution_count": null,
      "outputs": []
    }
  ]
}