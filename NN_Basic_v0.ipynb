{
  "nbformat": 4,
  "nbformat_minor": 0,
  "metadata": {
    "colab": {
      "provenance": [],
      "authorship_tag": "ABX9TyNnm7kcuusx+RVK/euyiN87",
      "include_colab_link": true
    },
    "kernelspec": {
      "name": "python3",
      "display_name": "Python 3"
    },
    "language_info": {
      "name": "python"
    }
  },
  "cells": [
    {
      "cell_type": "markdown",
      "metadata": {
        "id": "view-in-github",
        "colab_type": "text"
      },
      "source": [
        "<a href=\"https://colab.research.google.com/github/Shahriar88/python_learning/blob/main/NN_Basic_v0.ipynb\" target=\"_parent\"><img src=\"https://colab.research.google.com/assets/colab-badge.svg\" alt=\"Open In Colab\"/></a>"
      ]
    },
    {
      "cell_type": "markdown",
      "source": [
        "## BasicNN"
      ],
      "metadata": {
        "id": "eOn_e4dXIZtE"
      }
    },
    {
      "cell_type": "code",
      "execution_count": 1,
      "metadata": {
        "id": "UKcy8uPXINTj"
      },
      "outputs": [],
      "source": [
        "import torch\n",
        "import torch.nn as nn\n",
        "import torch.optim as optim"
      ]
    },
    {
      "cell_type": "code",
      "source": [
        "# 1. Create dummy dataset (100 samples, 10 features each)\n",
        "features = 10\n",
        "samples = 100\n",
        "n_class = 2\n",
        "X = torch.randn(samples, features)   # inputs\n",
        "y = torch.randint(0, n_class, (samples,))  # binary labels (0 or 1)"
      ],
      "metadata": {
        "id": "3jvAWH2EIeNM"
      },
      "execution_count": 2,
      "outputs": []
    },
    {
      "cell_type": "code",
      "source": [
        "# 2. Define a simple feedforward network\n",
        "class BasicNN(nn.Module):\n",
        "    def __init__(self):\n",
        "        super(BasicNN, self).__init__()\n",
        "        self.fc1 = nn.Linear(features, 16)   # input -> hidden nn.Linear(10-input, 16-output)\n",
        "        self.relu = nn.ReLU()\n",
        "\n",
        "        self.fc2 = nn.Linear(16, n_class)    # hidden -> output (2 classes)\n",
        "\n",
        "    def forward(self, x):\n",
        "        x = self.relu(self.fc1(x))\n",
        "        x = self.fc2(x)\n",
        "        return x"
      ],
      "metadata": {
        "id": "cKpstDPhIU88"
      },
      "execution_count": 3,
      "outputs": []
    },
    {
      "cell_type": "code",
      "source": [
        "# 2.1 Declare Model\n",
        "model = BasicNN()\n",
        "# 3. Loss function and optimizer\n",
        "criterion = nn.CrossEntropyLoss() # Classification\n",
        "optimizer = optim.Adam(model.parameters(), lr=0.01)"
      ],
      "metadata": {
        "id": "P1LiYVXrIna3"
      },
      "execution_count": 4,
      "outputs": []
    },
    {
      "cell_type": "code",
      "source": [
        "# 4. Training loop\n",
        "for epoch in range(20):\n",
        "    # Forward pass\n",
        "    outputs = model(X)\n",
        "    loss = criterion(outputs, y)\n",
        "\n",
        "    # Backward pass and optimization\n",
        "    optimizer.zero_grad()\n",
        "    loss.backward()\n",
        "    optimizer.step()\n",
        "\n",
        "    print(f\"Epoch [{epoch+1}/20], Loss: {loss.item():.4f}\")"
      ],
      "metadata": {
        "colab": {
          "base_uri": "https://localhost:8080/"
        },
        "id": "bDkVklIkIrRX",
        "outputId": "cc7c7bb8-4735-4cce-bc2a-fa2c16b49cff"
      },
      "execution_count": 5,
      "outputs": [
        {
          "output_type": "stream",
          "name": "stdout",
          "text": [
            "Epoch [1/20], Loss: 0.7343\n",
            "Epoch [2/20], Loss: 0.7143\n",
            "Epoch [3/20], Loss: 0.6990\n",
            "Epoch [4/20], Loss: 0.6876\n",
            "Epoch [5/20], Loss: 0.6789\n",
            "Epoch [6/20], Loss: 0.6719\n",
            "Epoch [7/20], Loss: 0.6657\n",
            "Epoch [8/20], Loss: 0.6599\n",
            "Epoch [9/20], Loss: 0.6541\n",
            "Epoch [10/20], Loss: 0.6479\n",
            "Epoch [11/20], Loss: 0.6411\n",
            "Epoch [12/20], Loss: 0.6341\n",
            "Epoch [13/20], Loss: 0.6266\n",
            "Epoch [14/20], Loss: 0.6190\n",
            "Epoch [15/20], Loss: 0.6116\n",
            "Epoch [16/20], Loss: 0.6048\n",
            "Epoch [17/20], Loss: 0.5982\n",
            "Epoch [18/20], Loss: 0.5916\n",
            "Epoch [19/20], Loss: 0.5851\n",
            "Epoch [20/20], Loss: 0.5784\n"
          ]
        }
      ]
    },
    {
      "cell_type": "code",
      "source": [
        "# 5. Test prediction\n",
        "with torch.no_grad():\n",
        "    test_input = torch.randn(1, 10)\n",
        "    prediction = torch.argmax(model(test_input))\n",
        "    print(\"Predicted class:\", prediction.item())"
      ],
      "metadata": {
        "colab": {
          "base_uri": "https://localhost:8080/"
        },
        "id": "_gKfnkGvIV7T",
        "outputId": "2dd8a247-fee3-47d9-92b7-30f84acb671f"
      },
      "execution_count": 6,
      "outputs": [
        {
          "output_type": "stream",
          "name": "stdout",
          "text": [
            "Predicted class: 0\n"
          ]
        }
      ]
    },
    {
      "cell_type": "markdown",
      "source": [
        "## BasicDL"
      ],
      "metadata": {
        "id": "auOOwjzVMjrU"
      }
    },
    {
      "cell_type": "code",
      "source": [
        "import torch\n",
        "import torch.nn as nn\n",
        "import torch.optim as optim"
      ],
      "metadata": {
        "id": "GCH2e_1hMiok"
      },
      "execution_count": null,
      "outputs": []
    },
    {
      "cell_type": "code",
      "source": [
        "# 1. Create dummy dataset (100 samples, 20 features each)\n",
        "X = torch.randn(100, 20)          # inputs\n",
        "y = torch.randint(0, 3, (100,))   # labels for 3 classes"
      ],
      "metadata": {
        "id": "BwvsfrTjMnl8"
      },
      "execution_count": null,
      "outputs": []
    },
    {
      "cell_type": "code",
      "source": [
        "# 2. Define a deeper feedforward network\n",
        "class DeepNN(nn.Module):\n",
        "    def __init__(self):\n",
        "        super(DeepNN, self).__init__()\n",
        "        self.fc1 = nn.Linear(20, 64)   # input -> hidden1\n",
        "        self.fc2 = nn.Linear(64, 128)  # hidden1 -> hidden2\n",
        "        self.fc3 = nn.Linear(128, 64)  # hidden2 -> hidden3\n",
        "        self.fc4 = nn.Linear(64, 3)    # hidden3 -> output (3 classes)\n",
        "        self.relu = nn.ReLU()\n",
        "        self.dropout = nn.Dropout(0.3) # regularization\n",
        "\n",
        "    def forward(self, x):\n",
        "        x = self.relu(self.fc1(x))\n",
        "        x = self.dropout(self.relu(self.fc2(x)))\n",
        "        x = self.relu(self.fc3(x))\n",
        "        x = self.fc4(x)\n",
        "        return x"
      ],
      "metadata": {
        "id": "Yuuurp-KMnom"
      },
      "execution_count": null,
      "outputs": []
    },
    {
      "cell_type": "code",
      "source": [
        "model = DeepNN()\n",
        "\n",
        "# 3. Loss function and optimizer\n",
        "criterion = nn.CrossEntropyLoss()\n",
        "optimizer = optim.Adam(model.parameters(), lr=0.001)"
      ],
      "metadata": {
        "id": "ftdZEjExMnrf"
      },
      "execution_count": null,
      "outputs": []
    },
    {
      "cell_type": "code",
      "source": [
        "# 4. Training loop\n",
        "for epoch in range(10):\n",
        "    outputs = model(X)\n",
        "    loss = criterion(outputs, y)\n",
        "\n",
        "    optimizer.zero_grad()\n",
        "    loss.backward()\n",
        "    optimizer.step()\n",
        "\n",
        "    print(f\"Epoch [{epoch+1}/10], Loss: {loss.item():.4f}\")"
      ],
      "metadata": {
        "id": "49adrkksMuNF"
      },
      "execution_count": null,
      "outputs": []
    },
    {
      "cell_type": "code",
      "source": [
        "# 5. Test prediction\n",
        "with torch.no_grad():\n",
        "    test_input = torch.randn(1, 20)\n",
        "    prediction = torch.argmax(model(test_input))\n",
        "    print(\"Predicted class:\", prediction.item())"
      ],
      "metadata": {
        "id": "yKKi0nspMwO-"
      },
      "execution_count": null,
      "outputs": []
    },
    {
      "cell_type": "markdown",
      "source": [
        "## Basic CNN"
      ],
      "metadata": {
        "id": "KVXvGtmqLEsW"
      }
    },
    {
      "cell_type": "code",
      "source": [
        "import torch\n",
        "import torch.nn as nn\n",
        "import torch.optim as optim"
      ],
      "metadata": {
        "id": "RLsGA-glLGV2"
      },
      "execution_count": null,
      "outputs": []
    },
    {
      "cell_type": "code",
      "source": [
        "# 1. Create dummy dataset (100 samples, 1 channel, 28x28 \"images\")\n",
        "\n",
        "in_channels = 1 # 1->Gray Scale, 3-RGB\n",
        "sample = 100\n",
        "n_class = 10\n",
        "\n",
        "X = torch.randn(in_channels, in_channels, 28, 28)   # grayscale images\n",
        "y = torch.randint(0, n_class, (in_channels,))  # 10 classes\n",
        "\n",
        "# 2. Define a simple ConvNet\n",
        "class BasicConvNN(nn.Module):\n",
        "    def __init__(self):\n",
        "        super(BasicConvNN, self).__init__()\n",
        "        self.conv1 = nn.Conv2d(in_channels, out_channels = 8, kernel_size=3, stride=1, padding=1)  # (N,1,28,28) -> (N,8,28,28)\n",
        "        self.relu = nn.ReLU()\n",
        "        self.pool = nn.MaxPool2d(2, 2)  # (N,8,28,28) -> (N,8,14,14)\n",
        "\n",
        "        self.conv2 = nn.Conv2d(8, 16, kernel_size=3, stride=1, padding=1) # (N,16,14,14)\n",
        "        self.fc1 = nn.Linear(16 * 7 * 7, 64)  # after pooling again -> (N,16,7,7)\n",
        "        self.fc2 = nn.Linear(64, n_class)          # 10 output classes\n",
        "\n",
        "    def forward(self, x):\n",
        "        x = self.pool(self.relu(self.conv1(x)))\n",
        "        x = self.pool(self.relu(self.conv2(x)))\n",
        "        x = x.view(x.size(0), -1)   # flatten\n",
        "        x = self.relu(self.fc1(x))\n",
        "        x = self.fc2(x)\n",
        "        return x"
      ],
      "metadata": {
        "id": "PTdckQTWLGZP"
      },
      "execution_count": null,
      "outputs": []
    },
    {
      "cell_type": "code",
      "source": [
        "model = BasicConvNN()\n",
        "\n",
        "# 3. Loss and optimizer\n",
        "criterion = nn.CrossEntropyLoss()\n",
        "optimizer = optim.Adam(model.parameters(), lr=0.01)"
      ],
      "metadata": {
        "id": "BEewhwlOLGqe"
      },
      "execution_count": null,
      "outputs": []
    },
    {
      "cell_type": "code",
      "source": [
        "# 4. Training loop\n",
        "for epoch in range(5):\n",
        "    outputs = model(X)\n",
        "    loss = criterion(outputs, y)\n",
        "\n",
        "    optimizer.zero_grad()\n",
        "    loss.backward()\n",
        "    optimizer.step()\n",
        "\n",
        "    print(f\"Epoch [{epoch+1}/5], Loss: {loss.item():.4f}\")"
      ],
      "metadata": {
        "id": "W6F6cvK8LRG4"
      },
      "execution_count": null,
      "outputs": []
    },
    {
      "cell_type": "code",
      "source": [
        "# 5. Test prediction\n",
        "with torch.no_grad():\n",
        "    test_input = torch.randn(1, 1, 28, 28)\n",
        "    prediction = torch.argmax(model(test_input))\n",
        "    print(\"Predicted class:\", prediction.item())"
      ],
      "metadata": {
        "id": "4twtbNOVLTOg"
      },
      "execution_count": null,
      "outputs": []
    },
    {
      "cell_type": "markdown",
      "source": [
        "## Basic LSTM"
      ],
      "metadata": {
        "id": "4wbchp4kM_D4"
      }
    },
    {
      "cell_type": "code",
      "source": [
        "import torch\n",
        "import torch.nn as nn\n",
        "import torch.optim as optim"
      ],
      "metadata": {
        "id": "idyCF53bNAr4"
      },
      "execution_count": null,
      "outputs": []
    },
    {
      "cell_type": "code",
      "source": [
        "# 1. Create dummy sequential dataset\n",
        "# Let's say we have 100 sequences, each of length 5, with 10 features at each timestep\n",
        "X = torch.randn(100, 5, 10)          # shape: (batch, seq_len, input_dim)\n",
        "y = torch.randint(0, 2, (100,))      # binary classification (0 or 1)"
      ],
      "metadata": {
        "id": "nHGdj4h1NAu4"
      },
      "execution_count": null,
      "outputs": []
    },
    {
      "cell_type": "code",
      "source": [
        "# 2. Define a simple LSTM-based model\n",
        "class BasicLSTM(nn.Module):\n",
        "    def __init__(self, input_dim, hidden_dim, output_dim, num_layers=1):\n",
        "        super(BasicLSTM, self).__init__()\n",
        "        self.lstm = nn.LSTM(input_dim, hidden_dim, num_layers, batch_first=True)\n",
        "        self.fc = nn.Linear(hidden_dim, output_dim)\n",
        "\n",
        "    def forward(self, x):\n",
        "        # LSTM output: all hidden states + (last_hidden, last_cell)\n",
        "        out, (hn, cn) = self.lstm(x)   # hn shape: (num_layers, batch, hidden_dim)\n",
        "        out = self.fc(hn[-1])          # take last layer’s hidden state\n",
        "        return out"
      ],
      "metadata": {
        "id": "QVGoeCGqNAx7"
      },
      "execution_count": null,
      "outputs": []
    },
    {
      "cell_type": "code",
      "source": [
        "model = BasicLSTM(input_dim=10, hidden_dim=32, output_dim=2)\n",
        "\n",
        "# 3. Loss and optimizer\n",
        "criterion = nn.CrossEntropyLoss()\n",
        "optimizer = optim.Adam(model.parameters(), lr=0.01)"
      ],
      "metadata": {
        "id": "BJ9SlOOhNA0i"
      },
      "execution_count": null,
      "outputs": []
    },
    {
      "cell_type": "code",
      "source": [
        "# 4. Training loop\n",
        "for epoch in range(10):\n",
        "    outputs = model(X)\n",
        "    loss = criterion(outputs, y)\n",
        "\n",
        "    optimizer.zero_grad()\n",
        "    loss.backward()\n",
        "    optimizer.step()\n",
        "\n",
        "    print(f\"Epoch [{epoch+1}/10], Loss: {loss.item():.4f}\")"
      ],
      "metadata": {
        "id": "Re1xv9QLNA3Q"
      },
      "execution_count": null,
      "outputs": []
    },
    {
      "cell_type": "code",
      "source": [
        "# 5. Test prediction\n",
        "with torch.no_grad():\n",
        "    test_input = torch.randn(1, 5, 10)  # one sequence, length 5, 10 features\n",
        "    prediction = torch.argmax(model(test_input))\n",
        "    print(\"Predicted class:\", prediction.item())"
      ],
      "metadata": {
        "id": "zUUYuKp3NA6B"
      },
      "execution_count": null,
      "outputs": []
    },
    {
      "cell_type": "markdown",
      "source": [
        "## Basic Transformer"
      ],
      "metadata": {
        "id": "_2v_ckjHNUa9"
      }
    },
    {
      "cell_type": "code",
      "source": [
        "import torch\n",
        "import torch.nn as nn\n",
        "import torch.optim as optim"
      ],
      "metadata": {
        "id": "9OHZ6a4HNA89"
      },
      "execution_count": null,
      "outputs": []
    },
    {
      "cell_type": "code",
      "source": [
        "# 1. Create dummy dataset\n",
        "# 100 sequences, each of length 5, with 16 features\n",
        "X = torch.randn(100, 5, 16)         # (batch, seq_len, input_dim)\n",
        "y = torch.randint(0, 3, (100,))     # 3 classes"
      ],
      "metadata": {
        "id": "rdNs14r-NbgM"
      },
      "execution_count": null,
      "outputs": []
    },
    {
      "cell_type": "code",
      "source": [
        "# 2. Define a simple Transformer-based model\n",
        "class BasicTransformer(nn.Module):\n",
        "    def __init__(self, input_dim, model_dim, num_heads, num_layers, num_classes):\n",
        "        super(BasicTransformer, self).__init__()\n",
        "\n",
        "        # project input features into model dimension\n",
        "        self.embedding = nn.Linear(input_dim, model_dim)\n",
        "\n",
        "        # define one encoder layer and stack them\n",
        "        encoder_layer = nn.TransformerEncoderLayer(\n",
        "            d_model=model_dim, nhead=num_heads, dim_feedforward=128, dropout=0.1, batch_first=True\n",
        "        )\n",
        "        self.transformer = nn.TransformerEncoder(encoder_layer, num_layers=num_layers)\n",
        "\n",
        "        # classification head\n",
        "        self.fc = nn.Linear(model_dim, num_classes)\n",
        "\n",
        "    def forward(self, x):\n",
        "        x = self.embedding(x)             # (batch, seq_len, model_dim)\n",
        "        x = self.transformer(x)           # apply self-attention\n",
        "        x = x.mean(dim=1)                 # simple pooling over sequence\n",
        "        out = self.fc(x)                  # class scores\n",
        "        return out"
      ],
      "metadata": {
        "id": "HNF7oabmNbi9"
      },
      "execution_count": null,
      "outputs": []
    },
    {
      "cell_type": "code",
      "source": [
        "model = BasicTransformer(input_dim=16, model_dim=32, num_heads=2, num_layers=2, num_classes=3)\n",
        "\n",
        "# 3. Loss and optimizer\n",
        "criterion = nn.CrossEntropyLoss()\n",
        "optimizer = optim.Adam(model.parameters(), lr=0.001)"
      ],
      "metadata": {
        "id": "9pmZ7-eUNbl1"
      },
      "execution_count": null,
      "outputs": []
    },
    {
      "cell_type": "code",
      "source": [
        "# 4. Training loop\n",
        "for epoch in range(5):\n",
        "    outputs = model(X)\n",
        "    loss = criterion(outputs, y)\n",
        "\n",
        "    optimizer.zero_grad()\n",
        "    loss.backward()\n",
        "    optimizer.step()\n",
        "\n",
        "    print(f\"Epoch [{epoch+1}/5], Loss: {loss.item():.4f}\")"
      ],
      "metadata": {
        "id": "jDiWQvJXNbo5"
      },
      "execution_count": null,
      "outputs": []
    },
    {
      "cell_type": "code",
      "source": [
        "# 5. Test prediction\n",
        "with torch.no_grad():\n",
        "    test_input = torch.randn(1, 5, 16)   # one sequence\n",
        "    prediction = torch.argmax(model(test_input))\n",
        "    print(\"Predicted class:\", prediction.item())"
      ],
      "metadata": {
        "id": "ImsnFJhoNbr4"
      },
      "execution_count": null,
      "outputs": []
    },
    {
      "cell_type": "markdown",
      "source": [
        "## Basic MaskRCNN"
      ],
      "metadata": {
        "id": "jtzB8BGuQCDn"
      }
    },
    {
      "cell_type": "code",
      "source": [
        "import torch\n",
        "import torchvision\n",
        "import torch.optim as optim\n",
        "\n",
        "from torchvision.models.detection import maskrcnn_resnet50_fpn\n",
        "from torchvision.transforms import functional as F\n",
        "\n"
      ],
      "metadata": {
        "id": "YW136LnDO2-K"
      },
      "execution_count": null,
      "outputs": []
    },
    {
      "cell_type": "code",
      "source": [
        "# 1. Create a dummy image batch (1 image, 3 channels, 224x224)\n",
        "images = [torch.rand(3, 224, 224)]\n",
        "\n",
        "# 2. Create dummy targets (needed for training)\n",
        "#   Each target is a dict with: boxes, labels, masks\n",
        "targets = [{\n",
        "    \"boxes\": torch.tensor([[50, 50, 150, 150]], dtype=torch.float32),  # [xmin, ymin, xmax, ymax]\n",
        "    \"labels\": torch.tensor([1]),                                       # class index\n",
        "    \"masks\": torch.randint(0, 2, (1, 224, 224), dtype=torch.uint8)     # binary mask for object\n",
        "}]\n"
      ],
      "metadata": {
        "id": "vxAc4UncO3Iy"
      },
      "execution_count": null,
      "outputs": []
    },
    {
      "cell_type": "code",
      "source": [
        "# 3. Load pre-trained Mask R-CNN model\n",
        "model = maskrcnn_resnet50_fpn(weights=\"DEFAULT\")\n",
        "print(model)\n",
        "# OR"
      ],
      "metadata": {
        "id": "ujR7Lru1O3WK"
      },
      "execution_count": null,
      "outputs": []
    },
    {
      "cell_type": "code",
      "source": [
        "import torch\n",
        "import torch.nn as nn\n",
        "import torchvision\n",
        "from torchvision.models.detection import MaskRCNN\n",
        "\n",
        "# Custom backbone: a simple CNN\n",
        "class MyBackbone(nn.Module):\n",
        "    def __init__(self):\n",
        "        super(MyBackbone, self).__init__()\n",
        "        self.body = nn.Sequential(\n",
        "            nn.Conv2d(3, 32, kernel_size=3, stride=2, padding=1),  # (N,3,H,W) -> (N,32,H/2,W/2)\n",
        "            nn.ReLU(),\n",
        "            nn.Conv2d(32, 64, kernel_size=3, stride=2, padding=1), # -> (N,64,H/4,W/4)\n",
        "            nn.ReLU(),\n",
        "            nn.Conv2d(64, 128, kernel_size=3, stride=2, padding=1), # -> (N,128,H/8,W/8)\n",
        "            nn.ReLU()\n",
        "        )\n",
        "        # Required by Mask R-CNN\n",
        "        self.out_channels = 128\n",
        "\n",
        "    def forward(self, x):\n",
        "        # Must return a dict of feature maps\n",
        "        return {\"0\": self.body(x)}\n",
        "\n",
        "# Create Mask R-CNN with your backbone\n",
        "backbone = MyBackbone()\n",
        "model = MaskRCNN(backbone, num_classes=2)  # 1 class + background\n",
        "print(model)\n"
      ],
      "metadata": {
        "id": "Zkg_iZiIP_VW"
      },
      "execution_count": null,
      "outputs": []
    },
    {
      "cell_type": "code",
      "source": [
        "params = [p for p in model.parameters() if p.requires_grad]\n",
        "optimizer = optim.SGD(params, lr=0.005, momentum=0.9, weight_decay=0.0005)\n",
        "# or\n",
        "# optimizer = optim.AdamW(params, lr=0.0001, weight_decay=0.0005)"
      ],
      "metadata": {
        "id": "0H89-wYTQHX-"
      },
      "execution_count": null,
      "outputs": []
    },
    {
      "cell_type": "markdown",
      "source": [
        "#### Example Custom Dataset"
      ],
      "metadata": {
        "id": "bCiGMxmzQsG9"
      }
    },
    {
      "cell_type": "code",
      "source": [
        "import torch\n",
        "import torchvision\n",
        "from torch.utils.data import Dataset, DataLoader\n",
        "from PIL import Image\n",
        "import numpy as np\n",
        "import os\n",
        "\n",
        "class MyDataset(Dataset):\n",
        "    def __init__(self, image_dir, transform=None):\n",
        "        self.image_dir = image_dir\n",
        "        self.transform = transform\n",
        "        self.images = list(sorted(os.listdir(image_dir)))  # e.g., img1.png, img2.png, ...\n",
        "\n",
        "    def __len__(self):\n",
        "        return len(self.images)\n",
        "\n",
        "    def __getitem__(self, idx):\n",
        "        # 1. Load image\n",
        "        img_path = os.path.join(self.image_dir, self.images[idx])\n",
        "        img = Image.open(img_path).convert(\"RGB\")\n",
        "        img = torchvision.transforms.functional.to_tensor(img)  # [C,H,W] float32\n",
        "\n",
        "        # 2. Dummy annotations (for demo)\n",
        "        # Let's pretend each image has 1 box & 1 mask\n",
        "        boxes = torch.tensor([[50, 50, 150, 150]], dtype=torch.float32)  # [xmin, ymin, xmax, ymax]\n",
        "        labels = torch.tensor([1], dtype=torch.int64)                    # class index = 1\n",
        "        mask = torch.zeros((img.shape[1], img.shape[2]), dtype=torch.uint8)\n",
        "        mask[50:150, 50:150] = 1                                         # simple square mask\n",
        "        masks = mask.unsqueeze(0)                                        # [N,H,W]\n",
        "\n",
        "        target = {\n",
        "            \"boxes\": boxes,\n",
        "            \"labels\": labels,\n",
        "            \"masks\": masks,\n",
        "            \"image_id\": torch.tensor([idx]),\n",
        "            \"area\": torch.tensor([10000.0]),\n",
        "            \"iscrowd\": torch.zeros((1,), dtype=torch.int64),\n",
        "        }\n",
        "\n",
        "        if self.transform:\n",
        "            img = self.transform(img)\n",
        "\n",
        "        return img, target\n",
        "\n",
        "# Collate Function\n",
        "def collate_fn(batch):\n",
        "    return tuple(zip(*batch))"
      ],
      "metadata": {
        "id": "trP6A0VWQrR8"
      },
      "execution_count": null,
      "outputs": []
    },
    {
      "cell_type": "code",
      "source": [
        "# Usage\n",
        "dataset = MyDataset(\"path/to/images\")\n",
        "dataloader = DataLoader(dataset, batch_size=2, shuffle=True, collate_fn=collate_fn)\n",
        "\n",
        "# Test it\n",
        "for images, targets in dataloader:\n",
        "    print(len(images), len(targets))\n",
        "    print(images[0].shape)   # torch.Size([3,H,W])\n",
        "    print(targets[0])        # dict with boxes, labels, masks, etc.\n",
        "    break"
      ],
      "metadata": {
        "id": "ezK8jFzJRE5Q"
      },
      "execution_count": null,
      "outputs": []
    },
    {
      "cell_type": "code",
      "source": [
        "num_epochs = 2\n",
        "\n",
        "for epoch in range(num_epochs):\n",
        "    model.train()\n",
        "\n",
        "    for images, targets in dataloader:   # from your custom DataLoader\n",
        "        # move data to GPU if available\n",
        "        images = list(img.to(device) for img in images)\n",
        "        targets = [{k: v.to(device) for k, v in t.items()} for t in targets]\n",
        "\n",
        "        # forward pass → returns dict of losses\n",
        "        loss_dict = model(images, targets)\n",
        "        losses = sum(loss for loss in loss_dict.values())\n",
        "\n",
        "        # backward + optimize\n",
        "        optimizer.zero_grad()\n",
        "        losses.backward()\n",
        "        optimizer.step()\n",
        "\n",
        "    print(f\"Epoch [{epoch+1}/{num_epochs}], Loss: {losses.item():.4f}\")"
      ],
      "metadata": {
        "id": "u01obRUdQclZ"
      },
      "execution_count": null,
      "outputs": []
    },
    {
      "cell_type": "code",
      "source": [
        "model.eval()   # switch to evaluation mode\n",
        "\n",
        "with torch.no_grad():\n",
        "    for images, targets in dataloader:   # same DataLoader, but targets optional in eval\n",
        "        images = list(img.to(device) for img in images)\n",
        "\n",
        "        # forward pass (NO targets here)\n",
        "        outputs = model(images)\n",
        "\n",
        "        # Each element in outputs is a dict with keys:\n",
        "        # 'boxes', 'labels', 'scores', 'masks'\n",
        "        for i, output in enumerate(outputs):\n",
        "            print(f\"Image {i}:\")\n",
        "            print(\"Boxes:\", output[\"boxes\"])     # [N,4] tensor\n",
        "            print(\"Labels:\", output[\"labels\"])   # [N]\n",
        "            print(\"Scores:\", output[\"scores\"])   # confidence scores\n",
        "            print(\"Masks:\", output[\"masks\"].shape)  # [N,1,H,W]"
      ],
      "metadata": {
        "id": "t3R5aly4Qcoz"
      },
      "execution_count": null,
      "outputs": []
    },
    {
      "cell_type": "markdown",
      "source": [
        "#### Visualizing Predictions"
      ],
      "metadata": {
        "id": "ILcG014_R4f3"
      }
    },
    {
      "cell_type": "code",
      "source": [
        "import matplotlib.pyplot as plt\n",
        "import torchvision.transforms.functional as F\n",
        "\n",
        "img = images[0].cpu()\n",
        "plt.imshow(F.to_pil_image(img))\n",
        "\n",
        "# plot first predicted box\n",
        "box = boxes[0].cpu().numpy()\n",
        "plt.gca().add_patch(\n",
        "    plt.Rectangle((box[0], box[1]), box[2]-box[0], box[3]-box[1],\n",
        "                  fill=False, color=\"red\", linewidth=2)\n",
        ")\n",
        "plt.show()\n"
      ],
      "metadata": {
        "id": "-B6z7rCnQcsJ"
      },
      "execution_count": null,
      "outputs": []
    },
    {
      "cell_type": "markdown",
      "source": [],
      "metadata": {
        "id": "0rBQP4W2R8d4"
      }
    },
    {
      "cell_type": "markdown",
      "source": [],
      "metadata": {
        "id": "siqoyF5-R8hg"
      }
    }
  ]
}